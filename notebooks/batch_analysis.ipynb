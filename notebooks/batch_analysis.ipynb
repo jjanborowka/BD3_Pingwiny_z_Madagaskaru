{
 "cells": [
  {
   "cell_type": "code",
   "execution_count": 1,
   "id": "d38d8d7f",
   "metadata": {},
   "outputs": [
    {
     "name": "stdout",
     "output_type": "stream",
     "text": [
      "Requirement already satisfied: happybase in c:\\users\\piotr\\anaconda3\\lib\\site-packages (1.2.0)\n",
      "Requirement already satisfied: thriftpy2>=0.4 in c:\\users\\piotr\\anaconda3\\lib\\site-packages (from happybase) (0.4.14)\n",
      "Requirement already satisfied: six in c:\\users\\piotr\\anaconda3\\lib\\site-packages (from happybase) (1.15.0)\n",
      "Requirement already satisfied: ply<4.0,>=3.4 in c:\\users\\piotr\\anaconda3\\lib\\site-packages (from thriftpy2>=0.4->happybase) (3.11)\n"
     ]
    }
   ],
   "source": [
    "!pip install happybase"
   ]
  },
  {
   "cell_type": "code",
   "execution_count": 2,
   "id": "749df2a0",
   "metadata": {},
   "outputs": [],
   "source": [
    "import happybase\n",
    "import pandas as pd"
   ]
  },
  {
   "cell_type": "code",
   "execution_count": 4,
   "id": "aca1667c",
   "metadata": {},
   "outputs": [],
   "source": [
    "con = happybase.Connection(\"localhost\", 9090)"
   ]
  },
  {
   "cell_type": "code",
   "execution_count": 21,
   "id": "523e7de6",
   "metadata": {},
   "outputs": [],
   "source": [
    "t = con.table(\"test_dummy\")"
   ]
  },
  {
   "cell_type": "code",
   "execution_count": 23,
   "id": "b9c6e55e",
   "metadata": {},
   "outputs": [],
   "source": [
    "def read_df(analysis_name, partition_key, table = \"test_dummy\"):\n",
    "    \"\"\"Reads from HBase spark analysis output table\"\"\"\n",
    "    count = 0\n",
    "    while count<10:\n",
    "        try:\n",
    "            con = happybase.Connection(\"localhost\", 9090)\n",
    "            t = con.table(table)\n",
    "            break\n",
    "        except:\n",
    "            count += 1\n",
    "            if count == 9:\n",
    "                print(\"Connection failure!\")\n",
    "            pass\n",
    "    \n",
    "    df = pd.read_json(t.row(str.encode(partition_key))[str.encode(f'df:{analysis_name}')].decode(\"utf-8\"), lines=True)\n",
    "    return df"
   ]
  },
  {
   "cell_type": "code",
   "execution_count": 24,
   "id": "364eab4f",
   "metadata": {},
   "outputs": [],
   "source": [
    "res = read_df(\"dummy\", \"2022-01-15-13\")"
   ]
  },
  {
   "cell_type": "code",
   "execution_count": 25,
   "id": "a3f89b42",
   "metadata": {},
   "outputs": [
    {
     "data": {
      "text/html": [
       "<div>\n",
       "<style scoped>\n",
       "    .dataframe tbody tr th:only-of-type {\n",
       "        vertical-align: middle;\n",
       "    }\n",
       "\n",
       "    .dataframe tbody tr th {\n",
       "        vertical-align: top;\n",
       "    }\n",
       "\n",
       "    .dataframe thead th {\n",
       "        text-align: right;\n",
       "    }\n",
       "</style>\n",
       "<table border=\"1\" class=\"dataframe\">\n",
       "  <thead>\n",
       "    <tr style=\"text-align: right;\">\n",
       "      <th></th>\n",
       "      <th>VehicleNumber</th>\n",
       "      <th>count</th>\n",
       "    </tr>\n",
       "  </thead>\n",
       "  <tbody>\n",
       "    <tr>\n",
       "      <th>0</th>\n",
       "      <td>7253</td>\n",
       "      <td>243</td>\n",
       "    </tr>\n",
       "    <tr>\n",
       "      <th>1</th>\n",
       "      <td>9427</td>\n",
       "      <td>243</td>\n",
       "    </tr>\n",
       "    <tr>\n",
       "      <th>2</th>\n",
       "      <td>9852</td>\n",
       "      <td>243</td>\n",
       "    </tr>\n",
       "    <tr>\n",
       "      <th>3</th>\n",
       "      <td>1025</td>\n",
       "      <td>243</td>\n",
       "    </tr>\n",
       "    <tr>\n",
       "      <th>4</th>\n",
       "      <td>1507</td>\n",
       "      <td>243</td>\n",
       "    </tr>\n",
       "  </tbody>\n",
       "</table>\n",
       "</div>"
      ],
      "text/plain": [
       "   VehicleNumber  count\n",
       "0           7253    243\n",
       "1           9427    243\n",
       "2           9852    243\n",
       "3           1025    243\n",
       "4           1507    243"
      ]
     },
     "execution_count": 25,
     "metadata": {},
     "output_type": "execute_result"
    }
   ],
   "source": [
    "res.head()"
   ]
  }
 ],
 "metadata": {
  "kernelspec": {
   "display_name": "Python 3",
   "language": "python",
   "name": "python3"
  },
  "language_info": {
   "codemirror_mode": {
    "name": "ipython",
    "version": 3
   },
   "file_extension": ".py",
   "mimetype": "text/x-python",
   "name": "python",
   "nbconvert_exporter": "python",
   "pygments_lexer": "ipython3",
   "version": "3.8.8"
  }
 },
 "nbformat": 4,
 "nbformat_minor": 5
}
