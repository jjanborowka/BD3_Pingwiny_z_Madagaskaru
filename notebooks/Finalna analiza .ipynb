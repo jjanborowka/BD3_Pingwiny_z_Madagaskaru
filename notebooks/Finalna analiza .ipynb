{
 "cells": [
  {
   "cell_type": "code",
   "execution_count": 1,
   "id": "339551b0",
   "metadata": {},
   "outputs": [],
   "source": [
    "import happybase\n",
    "import pandas as pd\n",
    "import plotly.express as px"
   ]
  },
  {
   "cell_type": "code",
   "execution_count": 2,
   "id": "0b223285",
   "metadata": {},
   "outputs": [
    {
     "ename": "TTransportException",
     "evalue": "TTransportException(type=1, message=\"Could not connect to ('localhost', 9090)\")",
     "output_type": "error",
     "traceback": [
      "\u001b[1;31m---------------------------------------------------------------------------\u001b[0m",
      "\u001b[1;31mConnectionRefusedError\u001b[0m                    Traceback (most recent call last)",
      "\u001b[1;32m~\\anaconda3\\lib\\site-packages\\thriftpy2\\transport\\socket.py\u001b[0m in \u001b[0;36mopen\u001b[1;34m(self)\u001b[0m\n\u001b[0;32m     95\u001b[0m \u001b[1;33m\u001b[0m\u001b[0m\n\u001b[1;32m---> 96\u001b[1;33m             \u001b[0mself\u001b[0m\u001b[1;33m.\u001b[0m\u001b[0msock\u001b[0m\u001b[1;33m.\u001b[0m\u001b[0mconnect\u001b[0m\u001b[1;33m(\u001b[0m\u001b[0maddr\u001b[0m\u001b[1;33m)\u001b[0m\u001b[1;33m\u001b[0m\u001b[1;33m\u001b[0m\u001b[0m\n\u001b[0m\u001b[0;32m     97\u001b[0m \u001b[1;33m\u001b[0m\u001b[0m\n",
      "\u001b[1;31mConnectionRefusedError\u001b[0m: [WinError 10061] Nie można nawiązać połączenia, ponieważ komputer docelowy aktywnie go odmawia",
      "\nDuring handling of the above exception, another exception occurred:\n",
      "\u001b[1;31mTTransportException\u001b[0m                       Traceback (most recent call last)",
      "\u001b[1;32m<ipython-input-2-d77979eadc2d>\u001b[0m in \u001b[0;36m<module>\u001b[1;34m\u001b[0m\n\u001b[1;32m----> 1\u001b[1;33m \u001b[0mcon\u001b[0m \u001b[1;33m=\u001b[0m \u001b[0mhappybase\u001b[0m\u001b[1;33m.\u001b[0m\u001b[0mConnection\u001b[0m\u001b[1;33m(\u001b[0m\u001b[1;34m\"localhost\"\u001b[0m\u001b[1;33m,\u001b[0m \u001b[1;36m9090\u001b[0m\u001b[1;33m)\u001b[0m\u001b[1;33m\u001b[0m\u001b[1;33m\u001b[0m\u001b[0m\n\u001b[0m",
      "\u001b[1;32m~\\anaconda3\\lib\\site-packages\\happybase\\connection.py\u001b[0m in \u001b[0;36m__init__\u001b[1;34m(self, host, port, timeout, autoconnect, table_prefix, table_prefix_separator, compat, transport, protocol)\u001b[0m\n\u001b[0;32m    146\u001b[0m \u001b[1;33m\u001b[0m\u001b[0m\n\u001b[0;32m    147\u001b[0m         \u001b[1;32mif\u001b[0m \u001b[0mautoconnect\u001b[0m\u001b[1;33m:\u001b[0m\u001b[1;33m\u001b[0m\u001b[1;33m\u001b[0m\u001b[0m\n\u001b[1;32m--> 148\u001b[1;33m             \u001b[0mself\u001b[0m\u001b[1;33m.\u001b[0m\u001b[0mopen\u001b[0m\u001b[1;33m(\u001b[0m\u001b[1;33m)\u001b[0m\u001b[1;33m\u001b[0m\u001b[1;33m\u001b[0m\u001b[0m\n\u001b[0m\u001b[0;32m    149\u001b[0m \u001b[1;33m\u001b[0m\u001b[0m\n\u001b[0;32m    150\u001b[0m         \u001b[0mself\u001b[0m\u001b[1;33m.\u001b[0m\u001b[0m_initialized\u001b[0m \u001b[1;33m=\u001b[0m \u001b[1;32mTrue\u001b[0m\u001b[1;33m\u001b[0m\u001b[1;33m\u001b[0m\u001b[0m\n",
      "\u001b[1;32m~\\anaconda3\\lib\\site-packages\\happybase\\connection.py\u001b[0m in \u001b[0;36mopen\u001b[1;34m(self)\u001b[0m\n\u001b[0;32m    174\u001b[0m \u001b[1;33m\u001b[0m\u001b[0m\n\u001b[0;32m    175\u001b[0m         \u001b[0mlogger\u001b[0m\u001b[1;33m.\u001b[0m\u001b[0mdebug\u001b[0m\u001b[1;33m(\u001b[0m\u001b[1;34m\"Opening Thrift transport to %s:%d\"\u001b[0m\u001b[1;33m,\u001b[0m \u001b[0mself\u001b[0m\u001b[1;33m.\u001b[0m\u001b[0mhost\u001b[0m\u001b[1;33m,\u001b[0m \u001b[0mself\u001b[0m\u001b[1;33m.\u001b[0m\u001b[0mport\u001b[0m\u001b[1;33m)\u001b[0m\u001b[1;33m\u001b[0m\u001b[1;33m\u001b[0m\u001b[0m\n\u001b[1;32m--> 176\u001b[1;33m         \u001b[0mself\u001b[0m\u001b[1;33m.\u001b[0m\u001b[0mtransport\u001b[0m\u001b[1;33m.\u001b[0m\u001b[0mopen\u001b[0m\u001b[1;33m(\u001b[0m\u001b[1;33m)\u001b[0m\u001b[1;33m\u001b[0m\u001b[1;33m\u001b[0m\u001b[0m\n\u001b[0m\u001b[0;32m    177\u001b[0m \u001b[1;33m\u001b[0m\u001b[0m\n\u001b[0;32m    178\u001b[0m     \u001b[1;32mdef\u001b[0m \u001b[0mclose\u001b[0m\u001b[1;33m(\u001b[0m\u001b[0mself\u001b[0m\u001b[1;33m)\u001b[0m\u001b[1;33m:\u001b[0m\u001b[1;33m\u001b[0m\u001b[1;33m\u001b[0m\u001b[0m\n",
      "\u001b[1;32m~\\anaconda3\\lib\\site-packages\\thriftpy2\\transport\\buffered\\__init__.py\u001b[0m in \u001b[0;36mopen\u001b[1;34m(self)\u001b[0m\n\u001b[0;32m     27\u001b[0m \u001b[1;33m\u001b[0m\u001b[0m\n\u001b[0;32m     28\u001b[0m     \u001b[1;32mdef\u001b[0m \u001b[0mopen\u001b[0m\u001b[1;33m(\u001b[0m\u001b[0mself\u001b[0m\u001b[1;33m)\u001b[0m\u001b[1;33m:\u001b[0m\u001b[1;33m\u001b[0m\u001b[1;33m\u001b[0m\u001b[0m\n\u001b[1;32m---> 29\u001b[1;33m         \u001b[1;32mreturn\u001b[0m \u001b[0mself\u001b[0m\u001b[1;33m.\u001b[0m\u001b[0m_trans\u001b[0m\u001b[1;33m.\u001b[0m\u001b[0mopen\u001b[0m\u001b[1;33m(\u001b[0m\u001b[1;33m)\u001b[0m\u001b[1;33m\u001b[0m\u001b[1;33m\u001b[0m\u001b[0m\n\u001b[0m\u001b[0;32m     30\u001b[0m \u001b[1;33m\u001b[0m\u001b[0m\n\u001b[0;32m     31\u001b[0m     \u001b[1;32mdef\u001b[0m \u001b[0mclose\u001b[0m\u001b[1;33m(\u001b[0m\u001b[0mself\u001b[0m\u001b[1;33m)\u001b[0m\u001b[1;33m:\u001b[0m\u001b[1;33m\u001b[0m\u001b[1;33m\u001b[0m\u001b[0m\n",
      "\u001b[1;32m~\\anaconda3\\lib\\site-packages\\thriftpy2\\transport\\socket.py\u001b[0m in \u001b[0;36mopen\u001b[1;34m(self)\u001b[0m\n\u001b[0;32m    101\u001b[0m         \u001b[1;32mexcept\u001b[0m \u001b[1;33m(\u001b[0m\u001b[0msocket\u001b[0m\u001b[1;33m.\u001b[0m\u001b[0merror\u001b[0m\u001b[1;33m,\u001b[0m \u001b[0mOSError\u001b[0m\u001b[1;33m)\u001b[0m\u001b[1;33m:\u001b[0m\u001b[1;33m\u001b[0m\u001b[1;33m\u001b[0m\u001b[0m\n\u001b[0;32m    102\u001b[0m             \u001b[0mself\u001b[0m\u001b[1;33m.\u001b[0m\u001b[0mclose\u001b[0m\u001b[1;33m(\u001b[0m\u001b[1;33m)\u001b[0m\u001b[1;33m\u001b[0m\u001b[1;33m\u001b[0m\u001b[0m\n\u001b[1;32m--> 103\u001b[1;33m             raise TTransportException(\n\u001b[0m\u001b[0;32m    104\u001b[0m                 \u001b[0mtype\u001b[0m\u001b[1;33m=\u001b[0m\u001b[0mTTransportException\u001b[0m\u001b[1;33m.\u001b[0m\u001b[0mNOT_OPEN\u001b[0m\u001b[1;33m,\u001b[0m\u001b[1;33m\u001b[0m\u001b[1;33m\u001b[0m\u001b[0m\n\u001b[0;32m    105\u001b[0m                 message=\"Could not connect to %s\" % str(addr))\n",
      "\u001b[1;31mTTransportException\u001b[0m: TTransportException(type=1, message=\"Could not connect to ('localhost', 9090)\")"
     ]
    }
   ],
   "source": [
    "con = happybase.Connection(\"localhost\", 9090)\n"
   ]
  },
  {
   "cell_type": "code",
   "execution_count": 4,
   "id": "6b330390",
   "metadata": {},
   "outputs": [],
   "source": [
    "def read_df(analysis_name, partition_key, table = \"project_analysys\"):\n",
    "    \"\"\"Reads from HBase spark analysis output table\"\"\"\n",
    "    count = 0\n",
    "    while count<10:\n",
    "        try:\n",
    "            con = happybase.Connection(\"localhost\", 9090)\n",
    "            t = con.table(table)\n",
    "            break\n",
    "        except:\n",
    "            count += 1\n",
    "            if count == 9:\n",
    "                print(\"Connection failure!\")\n",
    "            pass\n",
    "    \n",
    "    df = pd.read_json(t.row(str.encode(partition_key))[str.encode(f'df:{analysis_name}')].decode(\"utf-8\"), lines=True)\n",
    "    return df"
   ]
  },
  {
   "cell_type": "markdown",
   "id": "6623adb7",
   "metadata": {},
   "source": [
    "## Ustawienie daty dla której dane chcemy zobaczyc "
   ]
  },
  {
   "cell_type": "code",
   "execution_count": 5,
   "id": "a15d5430",
   "metadata": {},
   "outputs": [],
   "source": [
    "ref_date = '2022-01-16-13'"
   ]
  },
  {
   "cell_type": "markdown",
   "id": "1399dce8",
   "metadata": {},
   "source": [
    "## Ilość jeżdżących pojazdów\n"
   ]
  },
  {
   "cell_type": "code",
   "execution_count": 7,
   "id": "b4c24566",
   "metadata": {},
   "outputs": [
    {
     "name": "stdout",
     "output_type": "stream",
     "text": [
      "Connection failure!\n"
     ]
    },
    {
     "ename": "UnboundLocalError",
     "evalue": "local variable 't' referenced before assignment",
     "output_type": "error",
     "traceback": [
      "\u001b[1;31m---------------------------------------------------------------------------\u001b[0m",
      "\u001b[1;31mUnboundLocalError\u001b[0m                         Traceback (most recent call last)",
      "\u001b[1;32m<ipython-input-7-c786cb8e6bfd>\u001b[0m in \u001b[0;36m<module>\u001b[1;34m\u001b[0m\n\u001b[1;32m----> 1\u001b[1;33m \u001b[0mnumber_vehicles_lines\u001b[0m \u001b[1;33m=\u001b[0m \u001b[0mread_df\u001b[0m\u001b[1;33m(\u001b[0m\u001b[1;34m'number_vehicles_lines'\u001b[0m\u001b[1;33m,\u001b[0m\u001b[0mref_date\u001b[0m\u001b[1;33m)\u001b[0m\u001b[1;33m\u001b[0m\u001b[1;33m\u001b[0m\u001b[0m\n\u001b[0m\u001b[0;32m      2\u001b[0m \u001b[1;33m\u001b[0m\u001b[0m\n\u001b[0;32m      3\u001b[0m \u001b[0mprint\u001b[0m\u001b[1;33m(\u001b[0m\u001b[1;34m'Number of Vehicle :'\u001b[0m\u001b[1;33m+\u001b[0m \u001b[0mnumber_vehicles_lines\u001b[0m\u001b[1;33m.\u001b[0m\u001b[0mcount\u001b[0m\u001b[1;33m[\u001b[0m\u001b[1;36m0\u001b[0m\u001b[1;33m]\u001b[0m\u001b[1;33m)\u001b[0m\u001b[1;33m\u001b[0m\u001b[1;33m\u001b[0m\u001b[0m\n",
      "\u001b[1;32m<ipython-input-4-94d2c8b3792d>\u001b[0m in \u001b[0;36mread_df\u001b[1;34m(analysis_name, partition_key, table)\u001b[0m\n\u001b[0;32m     13\u001b[0m             \u001b[1;32mpass\u001b[0m\u001b[1;33m\u001b[0m\u001b[1;33m\u001b[0m\u001b[0m\n\u001b[0;32m     14\u001b[0m \u001b[1;33m\u001b[0m\u001b[0m\n\u001b[1;32m---> 15\u001b[1;33m     \u001b[0mdf\u001b[0m \u001b[1;33m=\u001b[0m \u001b[0mpd\u001b[0m\u001b[1;33m.\u001b[0m\u001b[0mread_json\u001b[0m\u001b[1;33m(\u001b[0m\u001b[0mt\u001b[0m\u001b[1;33m.\u001b[0m\u001b[0mrow\u001b[0m\u001b[1;33m(\u001b[0m\u001b[0mstr\u001b[0m\u001b[1;33m.\u001b[0m\u001b[0mencode\u001b[0m\u001b[1;33m(\u001b[0m\u001b[0mpartition_key\u001b[0m\u001b[1;33m)\u001b[0m\u001b[1;33m)\u001b[0m\u001b[1;33m[\u001b[0m\u001b[0mstr\u001b[0m\u001b[1;33m.\u001b[0m\u001b[0mencode\u001b[0m\u001b[1;33m(\u001b[0m\u001b[1;34mf'df:{analysis_name}'\u001b[0m\u001b[1;33m)\u001b[0m\u001b[1;33m]\u001b[0m\u001b[1;33m.\u001b[0m\u001b[0mdecode\u001b[0m\u001b[1;33m(\u001b[0m\u001b[1;34m\"utf-8\"\u001b[0m\u001b[1;33m)\u001b[0m\u001b[1;33m,\u001b[0m \u001b[0mlines\u001b[0m\u001b[1;33m=\u001b[0m\u001b[1;32mTrue\u001b[0m\u001b[1;33m)\u001b[0m\u001b[1;33m\u001b[0m\u001b[1;33m\u001b[0m\u001b[0m\n\u001b[0m\u001b[0;32m     16\u001b[0m     \u001b[1;32mreturn\u001b[0m \u001b[0mdf\u001b[0m\u001b[1;33m\u001b[0m\u001b[1;33m\u001b[0m\u001b[0m\n",
      "\u001b[1;31mUnboundLocalError\u001b[0m: local variable 't' referenced before assignment"
     ]
    }
   ],
   "source": [
    "number_vehicles_lines = read_df('number_vehicles_lines',ref_date)\n",
    "\n",
    "print('Number of Vehicle :'+ number_vehicles_lines.count[0])"
   ]
  },
  {
   "cell_type": "markdown",
   "id": "cdb89532",
   "metadata": {},
   "source": [
    "## Ilość rekordów per godzina"
   ]
  },
  {
   "cell_type": "code",
   "execution_count": null,
   "id": "2d1f5e8f",
   "metadata": {},
   "outputs": [],
   "source": [
    "print(read_df('number_of_records',ref_date))"
   ]
  },
  {
   "cell_type": "markdown",
   "id": "744eb478",
   "metadata": {},
   "source": [
    "## Ilość działających autobusów per godzina"
   ]
  },
  {
   "cell_type": "code",
   "execution_count": null,
   "id": "dc132046",
   "metadata": {},
   "outputs": [],
   "source": [
    "print(read_df('number_of_buses_per_hour',ref_date))"
   ]
  },
  {
   "cell_type": "markdown",
   "id": "d8fbfef1",
   "metadata": {},
   "source": [
    "## Ilość wpisów autobusów per update pogody"
   ]
  },
  {
   "cell_type": "code",
   "execution_count": null,
   "id": "c4b2906c",
   "metadata": {},
   "outputs": [],
   "source": [
    "print(read_df('buses_per_weather_update',ref_date))"
   ]
  },
  {
   "cell_type": "markdown",
   "id": "259c83f7",
   "metadata": {},
   "source": [
    "## Ilość autobusów per linia (która linia jest najbardziej oblegana przez autobusy)"
   ]
  },
  {
   "cell_type": "code",
   "execution_count": null,
   "id": "4ae3e651",
   "metadata": {},
   "outputs": [],
   "source": [
    "print(read_df('number_of_buses_per_line',ref_date))"
   ]
  },
  {
   "cell_type": "markdown",
   "id": "e034ff40",
   "metadata": {},
   "source": [
    "## Zachowanie autobusu"
   ]
  },
  {
   "cell_type": "code",
   "execution_count": null,
   "id": "b840b691",
   "metadata": {},
   "outputs": [],
   "source": [
    "## Wybierz autobus do wyboru [7253, 15617, 80635, 7739, 4211]\n",
    "bus_num = 7253 "
   ]
  },
  {
   "cell_type": "code",
   "execution_count": null,
   "id": "fecafeea",
   "metadata": {},
   "outputs": [],
   "source": [
    "bus_data = print(read_df(f'bus_{bus_num}_route',ref_date))\n",
    "\n",
    "\n",
    "px.line(bus_data,x='Time',y='speed')"
   ]
  },
  {
   "cell_type": "code",
   "execution_count": null,
   "id": "4388fb8a",
   "metadata": {},
   "outputs": [],
   "source": [
    "fig = px.scatter_mapbox(bus_data, lat=\"Lat\", lon=\"Lon\",color='speed', hover_name=\"Lines\",color_continuous_scale=px.colors.sequential.matter, size_max=20,\n",
    "                        zoom=5, mapbox_style=\"open-street-map\")\n",
    "fig.update_layout(margin={\"r\":0,\"t\":0,\"l\":0,\"b\":0})\n"
   ]
  },
  {
   "cell_type": "markdown",
   "id": "b8c924d0",
   "metadata": {},
   "source": [
    "## Prędkość autobusów "
   ]
  },
  {
   "cell_type": "code",
   "execution_count": null,
   "id": "45a7e67c",
   "metadata": {},
   "outputs": [],
   "source": [
    "print(read_df('fastest_buses',ref_date))\n"
   ]
  },
  {
   "cell_type": "markdown",
   "id": "75e2b8fc",
   "metadata": {},
   "source": [
    "## Najszybsza linia w mieście"
   ]
  },
  {
   "cell_type": "code",
   "execution_count": null,
   "id": "e3e279e3",
   "metadata": {},
   "outputs": [],
   "source": [
    "print(read_df('fastest_lines',ref_date))"
   ]
  },
  {
   "cell_type": "markdown",
   "id": "663187db",
   "metadata": {},
   "source": [
    "## Opady a srednia predkosc w godzinie"
   ]
  },
  {
   "cell_type": "code",
   "execution_count": null,
   "id": "73a55b2b",
   "metadata": {},
   "outputs": [],
   "source": [
    "print(read_df('speed_precip',ref_date))"
   ]
  },
  {
   "cell_type": "markdown",
   "id": "21778772",
   "metadata": {},
   "source": [
    "## Temperatura a srednia predkosc w godzinie"
   ]
  },
  {
   "cell_type": "code",
   "execution_count": null,
   "id": "795fa7d4",
   "metadata": {},
   "outputs": [],
   "source": [
    "print(read_df('speed_precip',ref_date))"
   ]
  },
  {
   "cell_type": "markdown",
   "id": "df6258c6",
   "metadata": {},
   "source": [
    "## Heatmapa autobusów overall"
   ]
  },
  {
   "cell_type": "code",
   "execution_count": null,
   "id": "c6d352d9",
   "metadata": {},
   "outputs": [],
   "source": [
    "data_to_heatmap = read_df('heatmap',ref_date)\n",
    "\n",
    "fig = px.density_mapbox(data_to_heatmap, lat='agg_Lat', lon='agg_Lon', z='count',mapbox_style=\"open-street-map\",\n",
    "                       radius=10,animation_frame='key')"
   ]
  }
 ],
 "metadata": {
  "kernelspec": {
   "display_name": "Python 3",
   "language": "python",
   "name": "python3"
  },
  "language_info": {
   "codemirror_mode": {
    "name": "ipython",
    "version": 3
   },
   "file_extension": ".py",
   "mimetype": "text/x-python",
   "name": "python",
   "nbconvert_exporter": "python",
   "pygments_lexer": "ipython3",
   "version": "3.8.8"
  }
 },
 "nbformat": 4,
 "nbformat_minor": 5
}
