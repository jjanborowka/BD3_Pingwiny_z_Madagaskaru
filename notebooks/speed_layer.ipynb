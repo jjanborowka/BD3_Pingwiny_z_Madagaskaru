{
 "cells": [
  {
   "cell_type": "code",
   "execution_count": 7,
   "id": "1f1a9547",
   "metadata": {},
   "outputs": [
    {
     "ename": "ModuleNotFoundError",
     "evalue": "No module named 'org'",
     "output_type": "error",
     "traceback": [
      "\u001b[0;31m---------------------------------------------------------------------------\u001b[0m",
      "\u001b[0;31mModuleNotFoundError\u001b[0m                       Traceback (most recent call last)",
      "\u001b[0;32m/tmp/ipykernel_13577/1544268511.py\u001b[0m in \u001b[0;36m<module>\u001b[0;34m\u001b[0m\n\u001b[1;32m      5\u001b[0m \u001b[0;32mfrom\u001b[0m \u001b[0mdatetime\u001b[0m \u001b[0;32mimport\u001b[0m \u001b[0mdatetime\u001b[0m\u001b[0;34m\u001b[0m\u001b[0;34m\u001b[0m\u001b[0m\n\u001b[1;32m      6\u001b[0m \u001b[0;32mimport\u001b[0m \u001b[0mpytz\u001b[0m\u001b[0;34m\u001b[0m\u001b[0;34m\u001b[0m\u001b[0m\n\u001b[0;32m----> 7\u001b[0;31m \u001b[0;32mimport\u001b[0m \u001b[0morg\u001b[0m\u001b[0;34m.\u001b[0m\u001b[0mapache\u001b[0m\u001b[0;34m.\u001b[0m\u001b[0mspark\u001b[0m\u001b[0;34m.\u001b[0m\u001b[0msql\u001b[0m\u001b[0;34m.\u001b[0m\u001b[0mfunctions\u001b[0m\u001b[0;34m.\u001b[0m\u001b[0m_\u001b[0m\u001b[0;34m\u001b[0m\u001b[0;34m\u001b[0m\u001b[0m\n\u001b[0m",
      "\u001b[0;31mModuleNotFoundError\u001b[0m: No module named 'org'"
     ]
    }
   ],
   "source": [
    "import findspark\n",
    "findspark.init()\n",
    "import pandas\n",
    "import plotly.express as px\n",
    "from datetime import datetime\n",
    "import pytz\n",
    "import org.apache.spark.sql.functions._"
   ]
  },
  {
   "cell_type": "code",
   "execution_count": 19,
   "id": "f9469770",
   "metadata": {},
   "outputs": [],
   "source": [
    "import sys\n",
    "from pyspark import SparkContext, SparkConf\n",
    "from pyspark.sql import SQLContext\n",
    "import pyspark.sql.functions as F"
   ]
  },
  {
   "cell_type": "code",
   "execution_count": 20,
   "id": "0b1e3cd6",
   "metadata": {
    "scrolled": true
   },
   "outputs": [
    {
     "ename": "ValueError",
     "evalue": "Cannot run multiple SparkContexts at once; existing SparkContext(app=Dummy, master=local[*]) created by __init__ at /tmp/ipykernel_27900/1097506723.py:2 ",
     "output_type": "error",
     "traceback": [
      "\u001b[0;31m---------------------------------------------------------------------------\u001b[0m",
      "\u001b[0;31mValueError\u001b[0m                                Traceback (most recent call last)",
      "\u001b[0;32m/tmp/ipykernel_27900/1097506723.py\u001b[0m in \u001b[0;36m<module>\u001b[0;34m\u001b[0m\n\u001b[1;32m      1\u001b[0m \u001b[0mconf\u001b[0m \u001b[0;34m=\u001b[0m \u001b[0mSparkConf\u001b[0m\u001b[0;34m(\u001b[0m\u001b[0;34m)\u001b[0m\u001b[0;34m.\u001b[0m\u001b[0msetAppName\u001b[0m\u001b[0;34m(\u001b[0m\u001b[0;34m\"Dummy\"\u001b[0m\u001b[0;34m)\u001b[0m\u001b[0;34m\u001b[0m\u001b[0;34m\u001b[0m\u001b[0m\n\u001b[0;32m----> 2\u001b[0;31m \u001b[0msc\u001b[0m \u001b[0;34m=\u001b[0m \u001b[0mSparkContext\u001b[0m\u001b[0;34m(\u001b[0m\u001b[0mconf\u001b[0m\u001b[0;34m=\u001b[0m\u001b[0mconf\u001b[0m\u001b[0;34m)\u001b[0m\u001b[0;34m\u001b[0m\u001b[0;34m\u001b[0m\u001b[0m\n\u001b[0m",
      "\u001b[0;32m/usr/local/spark/python/pyspark/context.py\u001b[0m in \u001b[0;36m__init__\u001b[0;34m(self, master, appName, sparkHome, pyFiles, environment, batchSize, serializer, conf, gateway, jsc, profiler_cls)\u001b[0m\n\u001b[1;32m    142\u001b[0m                 \" is not allowed as it is a security risk.\")\n\u001b[1;32m    143\u001b[0m \u001b[0;34m\u001b[0m\u001b[0m\n\u001b[0;32m--> 144\u001b[0;31m         \u001b[0mSparkContext\u001b[0m\u001b[0;34m.\u001b[0m\u001b[0m_ensure_initialized\u001b[0m\u001b[0;34m(\u001b[0m\u001b[0mself\u001b[0m\u001b[0;34m,\u001b[0m \u001b[0mgateway\u001b[0m\u001b[0;34m=\u001b[0m\u001b[0mgateway\u001b[0m\u001b[0;34m,\u001b[0m \u001b[0mconf\u001b[0m\u001b[0;34m=\u001b[0m\u001b[0mconf\u001b[0m\u001b[0;34m)\u001b[0m\u001b[0;34m\u001b[0m\u001b[0;34m\u001b[0m\u001b[0m\n\u001b[0m\u001b[1;32m    145\u001b[0m         \u001b[0;32mtry\u001b[0m\u001b[0;34m:\u001b[0m\u001b[0;34m\u001b[0m\u001b[0;34m\u001b[0m\u001b[0m\n\u001b[1;32m    146\u001b[0m             self._do_init(master, appName, sparkHome, pyFiles, environment, batchSize, serializer,\n",
      "\u001b[0;32m/usr/local/spark/python/pyspark/context.py\u001b[0m in \u001b[0;36m_ensure_initialized\u001b[0;34m(cls, instance, gateway, conf)\u001b[0m\n\u001b[1;32m    345\u001b[0m                         \u001b[0;34m\" created by %s at %s:%s \"\u001b[0m\u001b[0;34m\u001b[0m\u001b[0;34m\u001b[0m\u001b[0m\n\u001b[1;32m    346\u001b[0m                         % (currentAppName, currentMaster,\n\u001b[0;32m--> 347\u001b[0;31m                             callsite.function, callsite.file, callsite.linenum))\n\u001b[0m\u001b[1;32m    348\u001b[0m                 \u001b[0;32melse\u001b[0m\u001b[0;34m:\u001b[0m\u001b[0;34m\u001b[0m\u001b[0;34m\u001b[0m\u001b[0m\n\u001b[1;32m    349\u001b[0m                     \u001b[0mSparkContext\u001b[0m\u001b[0;34m.\u001b[0m\u001b[0m_active_spark_context\u001b[0m \u001b[0;34m=\u001b[0m \u001b[0minstance\u001b[0m\u001b[0;34m\u001b[0m\u001b[0;34m\u001b[0m\u001b[0m\n",
      "\u001b[0;31mValueError\u001b[0m: Cannot run multiple SparkContexts at once; existing SparkContext(app=Dummy, master=local[*]) created by __init__ at /tmp/ipykernel_27900/1097506723.py:2 "
     ]
    }
   ],
   "source": [
    "conf = SparkConf().setAppName(\"Dummy\")\n",
    "sc = SparkContext(conf=conf)"
   ]
  },
  {
   "cell_type": "code",
   "execution_count": 21,
   "id": "3adf919d",
   "metadata": {},
   "outputs": [],
   "source": [
    "from pyspark.sql import SQLContext\n",
    "sqlContext = SQLContext(sc)"
   ]
  },
  {
   "cell_type": "code",
   "execution_count": 22,
   "id": "5c65c413",
   "metadata": {},
   "outputs": [
    {
     "name": "stderr",
     "output_type": "stream",
     "text": [
      "                                                                                \r"
     ]
    }
   ],
   "source": [
    "buses = sqlContext.read.format('csv').options(header='true', inferschema='true').load('hdfs://localhost:8020/user/borowskij/projekt/ztm/ztm.csv')\n",
    "\n",
    "buses = buses.withColumn('Time',F.to_timestamp(F.col('Time'), 'yyyy-MM-dd HH:mm:ss').alias('Time'))\n",
    "buses_pom = buses.groupBy('VehicleNumber').agg(F.max('Time').alias('Time'),F.first('Lat').alias('Lat'),\n",
    "                                               F.first('Lon').alias('Lon'), F.first('Lines').alias('Lines'))\n",
    "#buses = buses_pom.join(buses.drop('Time'),['VehicleNumber'],'leftsemi')"
   ]
  },
  {
   "cell_type": "code",
   "execution_count": 22,
   "id": "8e8ece22",
   "metadata": {},
   "outputs": [
    {
     "name": "stderr",
     "output_type": "stream",
     "text": [
      "\r\n",
      "[Stage 6:>                                                          (0 + 1) / 1]\r"
     ]
    },
    {
     "name": "stdout",
     "output_type": "stream",
     "text": [
      "+-----+----------+-------------+-------------------+----------+-------+\n",
      "|Lines|       Lon|VehicleNumber|               Time|       Lat|Brigade|\n",
      "+-----+----------+-------------+-------------------+----------+-------+\n",
      "|  119|21.1670361|         1000|2022-01-15 13:53:21|52.2045151|      2|\n",
      "|  213| 21.219732|         1001|2022-01-15 13:53:21|52.1571818|      4|\n",
      "|  119|21.2055438|         1002|2022-01-15 13:53:22|52.2100788|      1|\n",
      "|  213|21.1020918|         1013|2022-01-15 13:53:18|52.2140873|      1|\n",
      "|  192|21.0685661|         1021|2022-01-15 13:53:22|52.1290812|      1|\n",
      "|  195|21.0320024|         1022|2022-01-15 13:53:23|52.1490574|      2|\n",
      "|  218| 21.023773|         1024|2022-01-15 13:53:23| 52.179863|      1|\n",
      "|  218| 20.992741|         1025|2022-01-15 13:53:22| 52.188499|      2|\n",
      "|  218| 21.013954|         1027|2022-01-15 13:53:23| 52.179901|      4|\n",
      "|  119|21.0003044|         1030|2022-01-15 13:53:22|52.2061002|      4|\n",
      "|  195| 21.024302|         1031|2022-01-15 13:53:23| 52.223282|      1|\n",
      "|  195| 21.046383|         1034|2022-01-15 13:53:22|   52.1903|      4|\n",
      "|  192| 21.058035|         1035|2022-01-15 13:53:23| 52.139267|      2|\n",
      "|  195|  21.04698|         1036|2022-01-15 13:53:22| 52.140141|      3|\n",
      "|  736|21.0304817|         1042|2022-01-15 13:53:18|52.3295183|      1|\n",
      "|  129| 20.920625|         1051|2022-01-15 13:53:12|52.2320967|      2|\n",
      "|  129|  20.92341|         1052|2022-01-15 13:53:15|52.2042833|      4|\n",
      "|  129|  20.93932|         1054|2022-01-15 13:53:15|52.2458983|      1|\n",
      "|  129| 20.891919|         1059|2022-01-15 13:53:20| 52.193141|      3|\n",
      "|  192|21.0388052|         1060|2022-01-15 13:53:22|52.1422382|     52|\n",
      "+-----+----------+-------------+-------------------+----------+-------+\n",
      "only showing top 20 rows\n",
      "\n"
     ]
    },
    {
     "name": "stderr",
     "output_type": "stream",
     "text": [
      "\r\n",
      "                                                                                \r"
     ]
    }
   ],
   "source": [
    "\n",
    "d=datetime.now()\n",
    "from_d=d-timedelta(hours=23)\n",
    "to_d = d+timedelta(hours=1)\n",
    "\n",
    "\n",
    "\n",
    "buses.filter(F.col('Time')>from_d).filter(F.col('Time')<to_d).show()"
   ]
  },
  {
   "cell_type": "code",
   "execution_count": 17,
   "id": "a2d07812",
   "metadata": {},
   "outputs": [],
   "source": [
    "from datetime import datetime,timedelta"
   ]
  },
  {
   "cell_type": "code",
   "execution_count": 18,
   "id": "8749800c",
   "metadata": {},
   "outputs": [],
   "source": [
    "d=datetime.now()"
   ]
  },
  {
   "cell_type": "code",
   "execution_count": 21,
   "id": "b5b854d1",
   "metadata": {},
   "outputs": [
    {
     "data": {
      "text/plain": [
       "datetime.datetime(2022, 1, 15, 13, 51, 20, 958740)"
      ]
     },
     "execution_count": 21,
     "metadata": {},
     "output_type": "execute_result"
    }
   ],
   "source": []
  },
  {
   "cell_type": "code",
   "execution_count": null,
   "id": "e0b36df8",
   "metadata": {},
   "outputs": [],
   "source": []
  },
  {
   "cell_type": "code",
   "execution_count": 87,
   "id": "05e36385",
   "metadata": {},
   "outputs": [],
   "source": [
    "\n",
    "def regen_map(): \n",
    "    buses = sqlContext.read.format('csv').options(header='true', inferschema='true').load('hdfs://localhost:8020/user/borowskij/projekt/ztm/ztm.csv')\n",
    "\n",
    "    buses = buses.withColumn('Time',F.to_timestamp(F.col('Time'), 'yyyy-MM-dd HH:mm:ss').alias('Time'))\n",
    "    buses_pom = buses.groupBy('VehicleNumber').agg(F.max('Time').alias('Time'),F.first('Lat').alias('Lat'),\n",
    "                                               F.first('Lon').alias('Lon'), F.first('Lines').alias('Lines'))\n",
    "    buses = buses_pom.toPandas()\n",
    "    fig = px.scatter_mapbox(buses, lat=\"Lat\", lon=\"Lon\",color='Lines', hover_name=\"VehicleNumber\",color_continuous_scale=px.colors.sequential.matter, size_max=20,\n",
    "                        zoom=10, mapbox_style=\"open-street-map\",title=f'Pozycje autobusów Warszawa {datetime.now(pytz.timezone(\"Europe/Warsaw\")).strftime(\"%Y-%m-%d %H-%M\")}' )\n",
    "    fig.update_layout(margin={\"r\":2,\"t\":22,\"l\":2,\"b\":2},\n",
    "                     title_x=0.5,\n",
    "    title_y=0.99)\n",
    "    fig.update_traces(marker={'size': 10})\n",
    "    fig.show()\n",
    "    "
   ]
  },
  {
   "cell_type": "code",
   "execution_count": 88,
   "id": "8260cebb",
   "metadata": {},
   "outputs": [
    {
     "name": "stderr",
     "output_type": "stream",
     "text": [
      "                                                                                \r"
     ]
    },
    {
     "data": {
      "application/vnd.plotly.v1+json": {
       "config": {
        "plotlyServerURL": "https://plot.ly"
       },
       "data": [
        {
         "hovertemplate": "<b>%{hovertext}</b><br><br>Lines=136<br>Lat=%{lat}<br>Lon=%{lon}<extra></extra>",
         "hovertext": [
          7253,
          8536,
          8531,
          8557,
          8177,
          2254,
          2207,
          8817,
          8515,
          8148,
          8183,
          8882
         ],
         "lat": [
          52.2433611,
          52.1787617,
          52.1462033,
          52.165461,
          52.1453351,
          52.2103286,
          52.195732,
          52.2164124,
          52.18043,
          52.1513641,
          52.237885,
          52.186859
         ],
         "legendgroup": "136",
         "lon": [
          20.9661552,
          21.002055,
          21.053135,
          21.027426,
          21.0518795,
          20.986085,
          20.983131,
          20.9614971,
          21.0020067,
          21.027039,
          20.955615,
          20.9973421
         ],
         "marker": {
          "color": "#636efa",
          "size": 10
         },
         "mode": "markers",
         "name": "136",
         "showlegend": true,
         "subplot": "mapbox",
         "type": "scattermapbox"
        },
        {
         "hovertemplate": "<b>%{hovertext}</b><br><br>Lines=134<br>Lat=%{lat}<br>Lon=%{lon}<extra></extra>",
         "hovertext": [
          9427,
          4425,
          9440,
          4410,
          9437
         ],
         "lat": [
          52.272194,
          52.2646042,
          52.290409,
          52.2653542,
          52.361691
         ],
         "legendgroup": "134",
         "lon": [
          20.969814,
          21.0450052,
          21.003534,
          21.0436572,
          21.061972
         ],
         "marker": {
          "color": "#EF553B",
          "size": 10
         },
         "mode": "markers",
         "name": "134",
         "showlegend": true,
         "subplot": "mapbox",
         "type": "scattermapbox"
        },
        {
         "hovertemplate": "<b>%{hovertext}</b><br><br>Lines=521<br>Lat=%{lat}<br>Lon=%{lon}<extra></extra>",
         "hovertext": [
          9852,
          9833,
          9822,
          9832,
          8337,
          8327,
          9809,
          8362
         ],
         "lat": [
          52.1859509,
          52.219234,
          52.238392,
          52.231621,
          52.233628,
          52.2335851,
          52.1593517,
          52.233653
         ],
         "legendgroup": "521",
         "lon": [
          21.186475,
          20.983418,
          21.117933,
          21.020912,
          21.116276,
          21.1155345,
          21.2047481,
          21.116076
         ],
         "marker": {
          "color": "#00cc96",
          "size": 10
         },
         "mode": "markers",
         "name": "521",
         "showlegend": true,
         "subplot": "mapbox",
         "type": "scattermapbox"
        },
        {
         "hovertemplate": "<b>%{hovertext}</b><br><br>Lines=218<br>Lat=%{lat}<br>Lon=%{lon}<extra></extra>",
         "hovertext": [
          1025,
          1027,
          1024,
          1067
         ],
         "lat": [
          52.183361,
          52.182713,
          52.192562,
          52.1797954
         ],
         "legendgroup": "218",
         "lon": [
          21.002068,
          21.00193,
          21.020763,
          21.0242202
         ],
         "marker": {
          "color": "#ab63fa",
          "size": 10
         },
         "mode": "markers",
         "name": "218",
         "showlegend": true,
         "subplot": "mapbox",
         "type": "scattermapbox"
        },
        {
         "hovertemplate": "<b>%{hovertext}</b><br><br>Lines=156<br>Lat=%{lat}<br>Lon=%{lon}<extra></extra>",
         "hovertext": [
          1507,
          1542,
          1807,
          1801,
          4421
         ],
         "lat": [
          52.2845083,
          52.272113,
          52.28941,
          52.2530335,
          52.2848054
         ],
         "legendgroup": "156",
         "lon": [
          20.943191,
          21.063098,
          20.933067,
          21.0521388,
          21.0475236
         ],
         "marker": {
          "color": "#FFA15A",
          "size": 10
         },
         "mode": "markers",
         "name": "156",
         "showlegend": true,
         "subplot": "mapbox",
         "type": "scattermapbox"
        },
        {
         "hovertemplate": "<b>%{hovertext}</b><br><br>Lines=141<br>Lat=%{lat}<br>Lon=%{lon}<extra></extra>",
         "hovertext": [
          1522,
          8827,
          4240,
          8807,
          4247,
          1211,
          4210,
          4201,
          8833,
          1411,
          1857
         ],
         "lat": [
          52.1963133,
          52.2341448,
          52.2210245,
          52.1755626,
          52.197983,
          52.2151559,
          52.188263,
          52.24295,
          52.233608,
          52.236343,
          52.2024123
         ],
         "legendgroup": "141",
         "lon": [
          21.0159067,
          21.1148821,
          21.0451669,
          20.9444041,
          20.984039,
          21.0459595,
          20.964521,
          21.099674,
          21.117166,
          21.112867,
          21.0489415
         ],
         "marker": {
          "color": "#19d3f3",
          "size": 10
         },
         "mode": "markers",
         "name": "141",
         "showlegend": true,
         "subplot": "mapbox",
         "type": "scattermapbox"
        },
        {
         "hovertemplate": "<b>%{hovertext}</b><br><br>Lines=178<br>Lat=%{lat}<br>Lon=%{lon}<extra></extra>",
         "hovertext": [
          1990,
          9450,
          1994,
          9425,
          9449,
          1995,
          1992,
          1993
         ],
         "lat": [
          52.233501,
          52.217983,
          52.1886827,
          52.216717,
          52.185696,
          52.242401,
          52.255409,
          52.190067
         ],
         "legendgroup": "178",
         "lon": [
          20.998947,
          20.959881,
          20.9057339,
          20.961098,
          20.895842,
          21.015194,
          21.004034,
          20.899544
         ],
         "marker": {
          "color": "#FF6692",
          "size": 10
         },
         "mode": "markers",
         "name": "178",
         "showlegend": true,
         "subplot": "mapbox",
         "type": "scattermapbox"
        },
        {
         "hovertemplate": "<b>%{hovertext}</b><br><br>Lines=523<br>Lat=%{lat}<br>Lon=%{lon}<extra></extra>",
         "hovertext": [
          2235,
          2259,
          7324,
          7222,
          8326,
          7707,
          7231,
          8842,
          7303,
          8572,
          2251,
          5201,
          2234,
          7700,
          8343,
          8319
         ],
         "lat": [
          52.2417185,
          52.2456915,
          52.258312,
          52.21711,
          52.2395316,
          52.2372316,
          52.236771,
          52.23335,
          52.216106,
          52.2491683,
          52.245903,
          52.1956489,
          52.258488,
          52.2480096,
          52.222214,
          52.2256633
         ],
         "legendgroup": "523",
         "lon": [
          20.9128381,
          21.0839059,
          20.898117,
          20.978546,
          20.9129165,
          20.9556264,
          20.956091,
          21.116479,
          20.98196,
          21.1075267,
          21.084566,
          20.9224268,
          20.898335,
          21.1068472,
          21.036645,
          21.0509991
         ],
         "marker": {
          "color": "#B6E880",
          "size": 10
         },
         "mode": "markers",
         "name": "523",
         "showlegend": true,
         "subplot": "mapbox",
         "type": "scattermapbox"
        },
        {
         "hovertemplate": "<b>%{hovertext}</b><br><br>Lines=122<br>Lat=%{lat}<br>Lon=%{lon}<extra></extra>",
         "hovertext": [
          4219,
          1510,
          4426,
          1802,
          4212,
          4223,
          1110,
          1501,
          4205,
          4213,
          4430
         ],
         "lat": [
          52.2611345,
          52.26462,
          52.2523169,
          52.2640781,
          52.2395059,
          52.2658907,
          52.264418,
          52.2899243,
          52.284897,
          52.268501,
          52.2574135
         ],
         "legendgroup": "122",
         "lon": [
          20.9564197,
          21.045141,
          20.9136297,
          21.0483315,
          20.8981939,
          20.9308774,
          21.0454,
          20.976485,
          20.979071,
          20.985184,
          20.8977665
         ],
         "marker": {
          "color": "#FF97FF",
          "size": 10
         },
         "mode": "markers",
         "name": "122",
         "showlegend": true,
         "subplot": "mapbox",
         "type": "scattermapbox"
        },
        {
         "hovertemplate": "<b>%{hovertext}</b><br><br>Lines=504<br>Lat=%{lat}<br>Lon=%{lon}<extra></extra>",
         "hovertext": [
          8803,
          8137,
          2004,
          8194,
          8555,
          8553,
          8560,
          8559
         ],
         "lat": [
          52.2234989,
          52.214668,
          52.1290352,
          52.1526795,
          52.188095,
          52.130586,
          52.186888,
          52.1722717
         ],
         "legendgroup": "504",
         "lon": [
          20.9901445,
          20.988351,
          21.0686805,
          21.0179785,
          20.9966033,
          21.066418,
          20.996673,
          21.004505
         ],
         "marker": {
          "color": "#FECB52",
          "size": 10
         },
         "mode": "markers",
         "name": "504",
         "showlegend": true,
         "subplot": "mapbox",
         "type": "scattermapbox"
        },
        {
         "hovertemplate": "<b>%{hovertext}</b><br><br>Lines=518<br>Lat=%{lat}<br>Lon=%{lon}<extra></extra>",
         "hovertext": [
          5984,
          5967,
          5985,
          5988,
          5989,
          5979,
          5990
         ],
         "lat": [
          52.316383,
          52.3176965,
          52.271389,
          52.27158,
          52.2278,
          52.228344,
          52.3345
         ],
         "legendgroup": "518",
         "lon": [
          20.960999,
          20.9481939,
          20.97443,
          20.972916,
          21.023,
          21.023481,
          20.9421
         ],
         "marker": {
          "color": "#636efa",
          "size": 10
         },
         "mode": "markers",
         "name": "518",
         "showlegend": true,
         "subplot": "mapbox",
         "type": "scattermapbox"
        },
        {
         "hovertemplate": "<b>%{hovertext}</b><br><br>Lines=240<br>Lat=%{lat}<br>Lon=%{lon}<extra></extra>",
         "hovertext": [
          9454,
          1804,
          9439,
          9455,
          9431,
          1502,
          9453
         ],
         "lat": [
          52.291096,
          52.2663205,
          52.290909,
          52.338245,
          52.318653,
          52.2652276,
          52.291393
         ],
         "legendgroup": "240",
         "lon": [
          21.050621,
          21.0430321,
          21.050489,
          21.119072,
          21.015434,
          21.0438073,
          21.000784
         ],
         "marker": {
          "color": "#EF553B",
          "size": 10
         },
         "mode": "markers",
         "name": "240",
         "showlegend": true,
         "subplot": "mapbox",
         "type": "scattermapbox"
        },
        {
         "hovertemplate": "<b>%{hovertext}</b><br><br>Lines=159<br>Lat=%{lat}<br>Lon=%{lon}<extra></extra>",
         "hovertext": [
          9517,
          9508,
          9523,
          9505,
          9518
         ],
         "lat": [
          52.203730833,
          52.223397833,
          52.221285333,
          52.193324,
          52.216807167
         ],
         "legendgroup": "159",
         "lon": [
          21.049195167,
          20.987692,
          21.044895833,
          21.085062667,
          20.961605
         ],
         "marker": {
          "color": "#00cc96",
          "size": 10
         },
         "mode": "markers",
         "name": "159",
         "showlegend": true,
         "subplot": "mapbox",
         "type": "scattermapbox"
        },
        {
         "hovertemplate": "<b>%{hovertext}</b><br><br>Lines=172<br>Lat=%{lat}<br>Lon=%{lon}<extra></extra>",
         "hovertext": [
          2231,
          8155,
          7727,
          8510,
          8533,
          5221,
          8808,
          8188,
          8554
         ],
         "lat": [
          52.1859607,
          52.18809,
          52.210507,
          52.216705,
          52.2013867,
          52.1996239,
          52.195336,
          52.2118026,
          52.1833867
         ],
         "legendgroup": "172",
         "lon": [
          21.0623734,
          20.996633,
          20.9798375,
          20.9613483,
          20.98473,
          21.0236135,
          21.008306,
          20.955132,
          21.0584683
         ],
         "marker": {
          "color": "#ab63fa",
          "size": 10
         },
         "mode": "markers",
         "name": "172",
         "showlegend": true,
         "subplot": "mapbox",
         "type": "scattermapbox"
        },
        {
         "hovertemplate": "<b>%{hovertext}</b><br><br>Lines=154<br>Lat=%{lat}<br>Lon=%{lon}<extra></extra>",
         "hovertext": [
          4239,
          4220,
          4226,
          4244,
          4215,
          4334,
          4337
         ],
         "lat": [
          52.227386,
          52.239475,
          52.217911,
          52.1835434,
          52.1835297,
          52.2582909,
          52.2403216
         ],
         "legendgroup": "154",
         "lon": [
          20.951155,
          20.897478,
          20.972328,
          20.9672677,
          20.9786362,
          20.8983559,
          20.9322944
         ],
         "marker": {
          "color": "#FFA15A",
          "size": 10
         },
         "mode": "markers",
         "name": "154",
         "showlegend": true,
         "subplot": "mapbox",
         "type": "scattermapbox"
        },
        {
         "hovertemplate": "<b>%{hovertext}</b><br><br>Lines=182<br>Lat=%{lat}<br>Lon=%{lon}<extra></extra>",
         "hovertext": [
          5223,
          5912,
          5913,
          5244,
          5944,
          1429
         ],
         "lat": [
          52.2282816,
          52.234211,
          52.234062,
          52.2263838,
          52.218098,
          52.2333439
         ],
         "legendgroup": "182",
         "lon": [
          21.0612727,
          21.117968,
          21.117714,
          21.0546624,
          20.965126,
          21.1174644
         ],
         "marker": {
          "color": "#19d3f3",
          "size": 10
         },
         "mode": "markers",
         "name": "182",
         "showlegend": true,
         "subplot": "mapbox",
         "type": "scattermapbox"
        },
        {
         "hovertemplate": "<b>%{hovertext}</b><br><br>Lines=186<br>Lat=%{lat}<br>Lon=%{lon}<extra></extra>",
         "hovertext": [
          9946,
          9915,
          9937,
          9923,
          9932,
          9947,
          9942,
          9952,
          9928
         ],
         "lat": [
          52.313374,
          52.334198,
          52.328815,
          52.236897,
          52.264637,
          52.207752,
          52.299904,
          52.209797,
          52.213337
         ],
         "legendgroup": "186",
         "lon": [
          20.977251,
          20.94224,
          20.940889,
          20.956165,
          20.955355,
          20.963827,
          20.993122,
          20.980345,
          20.969942
         ],
         "marker": {
          "color": "#FF6692",
          "size": 10
         },
         "mode": "markers",
         "name": "186",
         "showlegend": true,
         "subplot": "mapbox",
         "type": "scattermapbox"
        },
        {
         "hovertemplate": "<b>%{hovertext}</b><br><br>Lines=171<br>Lat=%{lat}<br>Lon=%{lon}<extra></extra>",
         "hovertext": [
          5217,
          2247,
          6234,
          7704,
          8566,
          7706,
          2233,
          7205
         ],
         "lat": [
          52.2559449,
          52.221844,
          52.272526,
          52.2470879,
          52.272465,
          52.2724966,
          52.24411,
          52.2301616
         ],
         "legendgroup": "171",
         "lon": [
          20.922379,
          21.037271,
          20.92593,
          20.911682,
          20.9250817,
          20.9250979,
          21.000158,
          21.011283
         ],
         "marker": {
          "color": "#B6E880",
          "size": 10
         },
         "mode": "markers",
         "name": "171",
         "showlegend": true,
         "subplot": "mapbox",
         "type": "scattermapbox"
        },
        {
         "hovertemplate": "<b>%{hovertext}</b><br><br>Lines=N62<br>Lat=%{lat}<br>Lon=%{lon}<extra></extra>",
         "hovertext": [
          5433
         ],
         "lat": [
          52.2650552
         ],
         "legendgroup": "N62",
         "lon": [
          21.0465036
         ],
         "marker": {
          "color": "#FF97FF",
          "size": 10
         },
         "mode": "markers",
         "name": "N62",
         "showlegend": true,
         "subplot": "mapbox",
         "type": "scattermapbox"
        },
        {
         "hovertemplate": "<b>%{hovertext}</b><br><br>Lines=158<br>Lat=%{lat}<br>Lon=%{lon}<extra></extra>",
         "hovertext": [
          5907,
          5934,
          5947,
          5948,
          8364,
          5939,
          5902,
          5901
         ],
         "lat": [
          52.211617,
          52.2377826,
          52.229996,
          52.238098,
          52.233608,
          52.23188,
          52.23353,
          52.2337
         ],
         "legendgroup": "158",
         "lon": [
          20.949329,
          21.0993316,
          21.013134,
          21.100792,
          21.117689,
          21.020439,
          21.11765,
          21.1175
         ],
         "marker": {
          "color": "#FECB52",
          "size": 10
         },
         "mode": "markers",
         "name": "158",
         "showlegend": true,
         "subplot": "mapbox",
         "type": "scattermapbox"
        },
        {
         "hovertemplate": "<b>%{hovertext}</b><br><br>Lines=139<br>Lat=%{lat}<br>Lon=%{lon}<extra></extra>",
         "hovertext": [
          8501,
          9501,
          9506,
          8502
         ],
         "lat": [
          52.188011,
          52.178467333,
          52.106271667,
          52.185901
         ],
         "legendgroup": "139",
         "lon": [
          20.998463,
          21.026852167,
          21.113457167,
          20.997523
         ],
         "marker": {
          "color": "#636efa",
          "size": 10
         },
         "mode": "markers",
         "name": "139",
         "showlegend": true,
         "subplot": "mapbox",
         "type": "scattermapbox"
        },
        {
         "hovertemplate": "<b>%{hovertext}</b><br><br>Lines=507<br>Lat=%{lat}<br>Lon=%{lon}<extra></extra>",
         "hovertext": [
          8577,
          8845,
          7701,
          7757,
          7737,
          7312
         ],
         "lat": [
          52.226444,
          52.233263,
          52.2296857,
          52.2301707,
          52.2253725,
          52.2220279
         ],
         "legendgroup": "507",
         "lon": [
          21.065933,
          21.11672,
          21.0046599,
          21.0122182,
          21.0695674,
          21.1024442
         ],
         "marker": {
          "color": "#EF553B",
          "size": 10
         },
         "mode": "markers",
         "name": "507",
         "showlegend": true,
         "subplot": "mapbox",
         "type": "scattermapbox"
        },
        {
         "hovertemplate": "<b>%{hovertext}</b><br><br>Lines=107<br>Lat=%{lat}<br>Lon=%{lon}<extra></extra>",
         "hovertext": [
          9206,
          9203,
          9201,
          1049,
          9223
         ],
         "lat": [
          52.245576,
          52.2356776,
          52.2238897,
          52.265219,
          52.2445263
         ],
         "legendgroup": "107",
         "lon": [
          20.985751,
          21.0135048,
          21.0230212,
          21.043751,
          20.9793675
         ],
         "marker": {
          "color": "#00cc96",
          "size": 10
         },
         "mode": "markers",
         "name": "107",
         "showlegend": true,
         "subplot": "mapbox",
         "type": "scattermapbox"
        },
        {
         "hovertemplate": "<b>%{hovertext}</b><br><br>Lines=179<br>Lat=%{lat}<br>Lon=%{lon}<extra></extra>",
         "hovertext": [
          9344,
          9318,
          9313,
          9327,
          9315,
          9347,
          9320
         ],
         "lat": [
          52.153412,
          52.140656,
          52.162052,
          52.151539,
          52.131336,
          52.142647,
          52.162132
         ],
         "legendgroup": "179",
         "lon": [
          21.038347,
          21.060125,
          21.036892,
          21.047977,
          21.064886,
          21.032234,
          21.030424
         ],
         "marker": {
          "color": "#ab63fa",
          "size": 10
         },
         "mode": "markers",
         "name": "179",
         "showlegend": true,
         "subplot": "mapbox",
         "type": "scattermapbox"
        },
        {
         "hovertemplate": "<b>%{hovertext}</b><br><br>Lines=190<br>Lat=%{lat}<br>Lon=%{lon}<extra></extra>",
         "hovertext": [
          9914,
          9926,
          9909,
          9935,
          9814,
          9930,
          9921,
          9927,
          9938,
          9817,
          9819,
          8580,
          9954,
          9835,
          9815,
          9920,
          9922,
          8859,
          5413
         ],
         "lat": [
          52.229893,
          52.286301,
          52.238911,
          52.228371,
          52.281174,
          52.24155,
          52.237816,
          52.240349,
          52.238907,
          52.236805,
          52.239216,
          52.26485,
          52.305103,
          52.263376,
          52.264545,
          52.246784,
          52.239227,
          52.2645633,
          52.2658404
         ],
         "legendgroup": "190",
         "lon": [
          20.897026,
          21.074677,
          20.899078,
          20.908148,
          21.070839,
          20.993111,
          20.960077,
          20.930542,
          20.899632,
          20.970394,
          20.898602,
          21.046746,
          21.085386,
          21.054811,
          21.056511,
          21.014763,
          20.913811,
          21.0473006,
          21.0435737
         ],
         "marker": {
          "color": "#FFA15A",
          "size": 10
         },
         "mode": "markers",
         "name": "190",
         "showlegend": true,
         "subplot": "mapbox",
         "type": "scattermapbox"
        },
        {
         "hovertemplate": "<b>%{hovertext}</b><br><br>Lines=138<br>Lat=%{lat}<br>Lon=%{lon}<extra></extra>",
         "hovertext": [
          7736,
          8895,
          8899,
          8152,
          7748,
          8562,
          2014,
          8153,
          8112,
          7305,
          7708,
          8103
         ],
         "lat": [
          52.1699444,
          52.2606066,
          52.260606,
          52.187831,
          52.2047917,
          52.2165467,
          52.1868852,
          52.188271,
          52.2523016,
          52.2335574,
          52.1826384,
          52.2392431
         ],
         "legendgroup": "138",
         "lon": [
          20.9957592,
          21.1008213,
          21.100536,
          20.998058,
          21.0186042,
          21.01496,
          20.9971132,
          20.997776,
          21.0379455,
          21.1156789,
          21.0019712,
          21.051285
         ],
         "marker": {
          "color": "#19d3f3",
          "size": 10
         },
         "mode": "markers",
         "name": "138",
         "showlegend": true,
         "subplot": "mapbox",
         "type": "scattermapbox"
        },
        {
         "hovertemplate": "<b>%{hovertext}</b><br><br>Lines=160<br>Lat=%{lat}<br>Lon=%{lon}<extra></extra>",
         "hovertext": [
          8450,
          3440,
          5453,
          8581,
          5451,
          3463,
          3414,
          3438,
          8869,
          5403,
          5431
         ],
         "lat": [
          52.301128,
          52.26649,
          52.234215,
          52.265135,
          52.263363,
          52.2657796,
          52.3233466,
          52.2446773,
          52.264918,
          52.2293136,
          52.2763545
         ],
         "legendgroup": "160",
         "lon": [
          21.058397,
          21.0584615,
          20.997662,
          21.046081,
          21.047558,
          21.0444968,
          21.068445,
          21.002196,
          21.046974,
          21.0029662,
          21.0482931
         ],
         "marker": {
          "color": "#FF6692",
          "size": 10
         },
         "mode": "markers",
         "name": "160",
         "showlegend": true,
         "subplot": "mapbox",
         "type": "scattermapbox"
        },
        {
         "hovertemplate": "<b>%{hovertext}</b><br><br>Lines=519<br>Lat=%{lat}<br>Lon=%{lon}<extra></extra>",
         "hovertext": [
          8534,
          2044,
          5887,
          2041,
          5899,
          5893,
          5888,
          2043,
          8506
         ],
         "lat": [
          52.116795,
          52.168053,
          52.218727,
          52.229397,
          52.195694,
          52.1678,
          52.186706,
          52.1711497,
          52.1881283
         ],
         "legendgroup": "519",
         "lon": [
          21.092868,
          21.07622,
          21.015335,
          21.002913,
          21.041405,
          21.084,
          20.997951,
          21.066947,
          20.9966067
         ],
         "marker": {
          "color": "#B6E880",
          "size": 10
         },
         "mode": "markers",
         "name": "519",
         "showlegend": true,
         "subplot": "mapbox",
         "type": "scattermapbox"
        },
        {
         "hovertemplate": "<b>%{hovertext}</b><br><br>Lines=142<br>Lat=%{lat}<br>Lon=%{lon}<extra></extra>",
         "hovertext": [
          9338,
          9324,
          1869,
          9341,
          9311,
          9328,
          9357,
          9305,
          9336
         ],
         "lat": [
          52.169952,
          52.173122,
          52.2333095,
          52.177952,
          52.244709,
          52.244633,
          52.268017,
          52.267658,
          52.268593
         ],
         "legendgroup": "142",
         "lon": [
          21.242138,
          21.154192,
          21.1158625,
          21.151396,
          21.087698,
          21.088236,
          21.077578,
          21.077826,
          21.077429
         ],
         "marker": {
          "color": "#FF97FF",
          "size": 10
         },
         "mode": "markers",
         "name": "142",
         "showlegend": true,
         "subplot": "mapbox",
         "type": "scattermapbox"
        },
        {
         "hovertemplate": "<b>%{hovertext}</b><br><br>Lines=210<br>Lat=%{lat}<br>Lon=%{lon}<extra></extra>",
         "hovertext": [
          5211,
          7208,
          6236,
          6208
         ],
         "lat": [
          52.3078694,
          52.28812,
          52.291069,
          52.290451
         ],
         "legendgroup": "210",
         "lon": [
          20.7673982,
          20.870358,
          20.928307,
          20.857204
         ],
         "marker": {
          "color": "#FECB52",
          "size": 10
         },
         "mode": "markers",
         "name": "210",
         "showlegend": true,
         "subplot": "mapbox",
         "type": "scattermapbox"
        },
        {
         "hovertemplate": "<b>%{hovertext}</b><br><br>Lines=509<br>Lat=%{lat}<br>Lon=%{lon}<extra></extra>",
         "hovertext": [
          5457,
          8328,
          7705,
          8455,
          8563,
          5409,
          8447,
          8565,
          5426,
          8448,
          8332
         ],
         "lat": [
          52.286407,
          52.2220125,
          52.340019,
          52.247681,
          52.26302,
          52.2386027,
          52.264746,
          52.2235167,
          52.316525,
          52.321198,
          52.23348
         ],
         "legendgroup": "509",
         "lon": [
          21.006838,
          21.1028625,
          20.9467155,
          21.047144,
          21.0218483,
          21.0556697,
          21.047646,
          21.1016283,
          20.957027,
          20.946915,
          21.115954
         ],
         "marker": {
          "color": "#636efa",
          "size": 10
         },
         "mode": "markers",
         "name": "509",
         "showlegend": true,
         "subplot": "mapbox",
         "type": "scattermapbox"
        },
        {
         "hovertemplate": "<b>%{hovertext}</b><br><br>Lines=180<br>Lat=%{lat}<br>Lon=%{lon}<extra></extra>",
         "hovertext": [
          5949,
          5926,
          5961,
          5909,
          5959,
          5950,
          5968,
          5971,
          5917,
          5941,
          5942,
          5963,
          5951
         ],
         "lat": [
          52.2334335,
          52.259487,
          52.272518,
          52.2723974,
          52.272404,
          52.249425,
          52.248821,
          52.228081,
          52.253605,
          52.214104,
          52.234103,
          52.167698,
          52.206322
         ],
         "legendgroup": "180",
         "lon": [
          21.1176997,
          20.960625,
          20.924831,
          20.9249935,
          20.924999,
          21.000463,
          20.994345,
          21.023136,
          20.976343,
          21.026524,
          21.1156397,
          21.084043,
          21.048813
         ],
         "marker": {
          "color": "#EF553B",
          "size": 10
         },
         "mode": "markers",
         "name": "180",
         "showlegend": true,
         "subplot": "mapbox",
         "type": "scattermapbox"
        },
        {
         "hovertemplate": "<b>%{hovertext}</b><br><br>Lines=193<br>Lat=%{lat}<br>Lon=%{lon}<extra></extra>",
         "hovertext": [
          9925,
          9906,
          9933,
          9918,
          9912
         ],
         "lat": [
          52.154423,
          52.173374,
          52.162193,
          52.170238,
          52.163185
         ],
         "legendgroup": "193",
         "lon": [
          21.037653,
          21.026941,
          21.036572,
          20.995325,
          21.047398
         ],
         "marker": {
          "color": "#00cc96",
          "size": 10
         },
         "mode": "markers",
         "name": "193",
         "showlegend": true,
         "subplot": "mapbox",
         "type": "scattermapbox"
        },
        {
         "hovertemplate": "<b>%{hovertext}</b><br><br>Lines=147<br>Lat=%{lat}<br>Lon=%{lon}<extra></extra>",
         "hovertext": [
          1533,
          4321,
          4311,
          1422,
          1534
         ],
         "lat": [
          52.1998467,
          52.2473867,
          52.2502811,
          52.2135774,
          52.219215
         ],
         "legendgroup": "147",
         "lon": [
          21.11809,
          21.048578,
          21.0523077,
          21.1027649,
          21.2429767
         ],
         "marker": {
          "color": "#ab63fa",
          "size": 10
         },
         "mode": "markers",
         "name": "147",
         "showlegend": true,
         "subplot": "mapbox",
         "type": "scattermapbox"
        },
        {
         "hovertemplate": "<b>%{hovertext}</b><br><br>Lines=148<br>Lat=%{lat}<br>Lon=%{lon}<extra></extra>",
         "hovertext": [
          5222,
          8846,
          8178,
          8516,
          5231,
          8578,
          8369,
          2009,
          8538,
          7308
         ],
         "lat": [
          52.148038,
          52.2386216,
          52.18692,
          52.2454033,
          52.2447548,
          52.2000267,
          52.1582933,
          52.157608,
          52.1695083,
          52.1873222
         ],
         "legendgroup": "148",
         "lon": [
          21.04249,
          21.0998051,
          20.996314,
          21.0839667,
          21.0871639,
          21.055935,
          21.0553617,
          20.986561,
          20.97827,
          21.0497622
         ],
         "marker": {
          "color": "#FFA15A",
          "size": 10
         },
         "mode": "markers",
         "name": "148",
         "showlegend": true,
         "subplot": "mapbox",
         "type": "scattermapbox"
        },
        {
         "hovertemplate": "<b>%{hovertext}</b><br><br>Lines=166<br>Lat=%{lat}<br>Lon=%{lon}<extra></extra>",
         "hovertext": [
          1212,
          1816,
          8131,
          1811,
          4419,
          1200,
          8143,
          1813
         ],
         "lat": [
          52.259701,
          52.217463,
          52.2299916,
          52.1643161,
          52.129295,
          52.255432,
          52.1569906,
          52.130493
         ],
         "legendgroup": "166",
         "lon": [
          21.027794,
          21.0258683,
          21.0259746,
          21.046039,
          21.06822,
          21.034416,
          21.045692,
          21.066559
         ],
         "marker": {
          "color": "#19d3f3",
          "size": 10
         },
         "mode": "markers",
         "name": "166",
         "showlegend": true,
         "subplot": "mapbox",
         "type": "scattermapbox"
        },
        {
         "hovertemplate": "<b>%{hovertext}</b><br><br>Lines=115<br>Lat=%{lat}<br>Lon=%{lon}<extra></extra>",
         "hovertext": [
          1417,
          1520,
          1421,
          1423,
          1523,
          1859
         ],
         "lat": [
          52.24897,
          52.2015,
          52.1696459,
          52.1699174,
          52.27597,
          52.233075
         ],
         "legendgroup": "115",
         "lon": [
          21.178959,
          21.1718217,
          21.2038891,
          21.2423822,
          21.17106,
          21.1170361
         ],
         "marker": {
          "color": "#FF6692",
          "size": 10
         },
         "mode": "markers",
         "name": "115",
         "showlegend": true,
         "subplot": "mapbox",
         "type": "scattermapbox"
        },
        {
         "hovertemplate": "<b>%{hovertext}</b><br><br>Lines=123<br>Lat=%{lat}<br>Lon=%{lon}<extra></extra>",
         "hovertext": [
          4401,
          4424,
          4317,
          4312,
          1818,
          4308,
          1548,
          1532
         ],
         "lat": [
          52.2502662,
          52.2263037,
          52.2232782,
          52.2478572,
          52.2526863,
          52.2517826,
          52.264326,
          52.233235
         ],
         "legendgroup": "123",
         "lon": [
          21.0445407,
          21.1001511,
          21.1013369,
          21.0465982,
          21.0829668,
          21.0730998,
          21.045564,
          21.115593
         ],
         "marker": {
          "color": "#B6E880",
          "size": 10
         },
         "mode": "markers",
         "name": "123",
         "showlegend": true,
         "subplot": "mapbox",
         "type": "scattermapbox"
        },
        {
         "hovertemplate": "<b>%{hovertext}</b><br><br>Lines=112<br>Lat=%{lat}<br>Lon=%{lon}<extra></extra>",
         "hovertext": [
          7726,
          7218,
          7210,
          7214,
          5420,
          6240,
          5443,
          7201,
          5416,
          5439,
          5414,
          6210
         ],
         "lat": [
          52.3033412,
          52.227242,
          52.30444,
          52.214787,
          52.300949,
          52.273334,
          52.2630152,
          52.214741,
          52.25642,
          52.296307,
          52.247337,
          52.277786
         ],
         "legendgroup": "112",
         "lon": [
          21.0887431,
          20.897148,
          21.082283,
          20.883047,
          21.05827,
          20.967447,
          20.9265784,
          20.882755,
          20.918789,
          21.038288,
          20.911108,
          20.974628
         ],
         "marker": {
          "color": "#FF97FF",
          "size": 10
         },
         "mode": "markers",
         "name": "112",
         "showlegend": true,
         "subplot": "mapbox",
         "type": "scattermapbox"
        },
        {
         "hovertemplate": "<b>%{hovertext}</b><br><br>Lines=145<br>Lat=%{lat}<br>Lon=%{lon}<extra></extra>",
         "hovertext": [
          8350,
          8352,
          8351,
          8465,
          8348,
          5402,
          5458
         ],
         "lat": [
          52.239795,
          52.2691483,
          52.2581117,
          52.285393,
          52.286175,
          52.29137,
          52.24144
         ],
         "legendgroup": "145",
         "lon": [
          21.1137067,
          21.1198067,
          21.1270083,
          21.043196,
          21.0226067,
          21.000229,
          21.106855
         ],
         "marker": {
          "color": "#FECB52",
          "size": 10
         },
         "mode": "markers",
         "name": "145",
         "showlegend": true,
         "subplot": "mapbox",
         "type": "scattermapbox"
        },
        {
         "hovertemplate": "<b>%{hovertext}</b><br><br>Lines=250<br>Lat=%{lat}<br>Lon=%{lon}<extra></extra>",
         "hovertext": [
          744,
          775,
          753
         ],
         "lat": [
          52.310627,
          52.291019,
          52.295624
         ],
         "legendgroup": "250",
         "lon": [
          20.882946,
          20.927681,
          20.893499
         ],
         "marker": {
          "color": "#636efa",
          "size": 10
         },
         "mode": "markers",
         "name": "250",
         "showlegend": true,
         "subplot": "mapbox",
         "type": "scattermapbox"
        },
        {
         "hovertemplate": "<b>%{hovertext}</b><br><br>Lines=702<br>Lat=%{lat}<br>Lon=%{lon}<extra></extra>",
         "hovertext": [
          1525,
          1845
         ],
         "lat": [
          52.1080617,
          52.2446123
         ],
         "legendgroup": "702",
         "lon": [
          21.2629133,
          21.0881676
         ],
         "marker": {
          "color": "#EF553B",
          "size": 10
         },
         "mode": "markers",
         "name": "702",
         "showlegend": true,
         "subplot": "mapbox",
         "type": "scattermapbox"
        },
        {
         "hovertemplate": "<b>%{hovertext}</b><br><br>Lines=146<br>Lat=%{lat}<br>Lon=%{lon}<extra></extra>",
         "hovertext": [
          1863,
          4314,
          1835,
          4324,
          1843
         ],
         "lat": [
          52.1564461,
          52.2303569,
          52.2312418,
          52.1568136,
          52.233088
         ],
         "legendgroup": "146",
         "lon": [
          21.1877286,
          21.0566962,
          21.0561075,
          21.1892491,
          21.1167476
         ],
         "marker": {
          "color": "#00cc96",
          "size": 10
         },
         "mode": "markers",
         "name": "146",
         "showlegend": true,
         "subplot": "mapbox",
         "type": "scattermapbox"
        },
        {
         "hovertemplate": "<b>%{hovertext}</b><br><br>Lines=723<br>Lat=%{lat}<br>Lon=%{lon}<extra></extra>",
         "hovertext": [
          3431,
          3456,
          8867,
          3416,
          5455
         ],
         "lat": [
          52.2654615,
          52.3943895,
          52.265451,
          52.2913561,
          52.3555229
         ],
         "legendgroup": "723",
         "lon": [
          21.044139,
          20.929547,
          21.043379,
          21.0008101,
          20.9417181
         ],
         "marker": {
          "color": "#ab63fa",
          "size": 10
         },
         "mode": "markers",
         "name": "723",
         "showlegend": true,
         "subplot": "mapbox",
         "type": "scattermapbox"
        },
        {
         "hovertemplate": "<b>%{hovertext}</b><br><br>Lines=N11<br>Lat=%{lat}<br>Lon=%{lon}<extra></extra>",
         "hovertext": [
          4418,
          1552
         ],
         "lat": [
          52.264767,
          52.26458
         ],
         "legendgroup": "N11",
         "lon": [
          21.044771,
          21.0463183
         ],
         "marker": {
          "color": "#FFA15A",
          "size": 10
         },
         "mode": "markers",
         "name": "N11",
         "showlegend": true,
         "subplot": "mapbox",
         "type": "scattermapbox"
        },
        {
         "hovertemplate": "<b>%{hovertext}</b><br><br>Lines=191<br>Lat=%{lat}<br>Lon=%{lon}<extra></extra>",
         "hovertext": [
          6213,
          5214,
          5246,
          2232,
          2206,
          6235,
          2204
         ],
         "lat": [
          52.194603,
          52.2145093,
          52.2143469,
          52.205475,
          52.183613,
          52.197109,
          52.183464
         ],
         "legendgroup": "191",
         "lon": [
          20.909941,
          20.96658,
          20.9790522,
          20.916487,
          20.870308,
          20.922388,
          20.870201
         ],
         "marker": {
          "color": "#19d3f3",
          "size": 10
         },
         "mode": "markers",
         "name": "191",
         "showlegend": true,
         "subplot": "mapbox",
         "type": "scattermapbox"
        },
        {
         "hovertemplate": "<b>%{hovertext}</b><br><br>Lines=516<br>Lat=%{lat}<br>Lon=%{lon}<extra></extra>",
         "hovertext": [
          9435,
          9416,
          9418,
          9415,
          9457
         ],
         "lat": [
          52.291111,
          52.335903,
          52.298252,
          52.302715,
          52.334015
         ],
         "legendgroup": "516",
         "lon": [
          21.000719,
          20.937229,
          20.994865,
          20.989864,
          20.936527
         ],
         "marker": {
          "color": "#FF6692",
          "size": 10
         },
         "mode": "markers",
         "name": "516",
         "showlegend": true,
         "subplot": "mapbox",
         "type": "scattermapbox"
        },
        {
         "hovertemplate": "<b>%{hovertext}</b><br><br>Lines=512<br>Lat=%{lat}<br>Lon=%{lon}<extra></extra>",
         "hovertext": [
          1537,
          1800,
          1814,
          1553,
          8863,
          1817
         ],
         "lat": [
          52.283515,
          52.2529461,
          52.284768,
          52.26043,
          52.2651701,
          52.2558608
         ],
         "legendgroup": "512",
         "lon": [
          21.0548333,
          21.0521566,
          21.050993,
          21.047595,
          21.0458091,
          21.0379645
         ],
         "marker": {
          "color": "#B6E880",
          "size": 10
         },
         "mode": "markers",
         "name": "512",
         "showlegend": true,
         "subplot": "mapbox",
         "type": "scattermapbox"
        },
        {
         "hovertemplate": "<b>%{hovertext}</b><br><br>Lines=517<br>Lat=%{lat}<br>Lon=%{lon}<extra></extra>",
         "hovertext": [
          2200,
          5247,
          2203,
          5227,
          5229,
          2248
         ],
         "lat": [
          52.205788,
          52.224127,
          52.192474,
          52.193926,
          52.2317515,
          52.1995862
         ],
         "legendgroup": "517",
         "lon": [
          20.942694,
          20.9883786,
          20.86862,
          20.883545,
          21.0103985,
          20.9148997
         ],
         "marker": {
          "color": "#FF97FF",
          "size": 10
         },
         "mode": "markers",
         "name": "517",
         "showlegend": true,
         "subplot": "mapbox",
         "type": "scattermapbox"
        },
        {
         "hovertemplate": "<b>%{hovertext}</b><br><br>Lines=713<br>Lat=%{lat}<br>Lon=%{lon}<extra></extra>",
         "hovertext": [
          6204,
          7224
         ],
         "lat": [
          52.21138,
          52.2248
         ],
         "legendgroup": "713",
         "lon": [
          20.760622,
          20.930254
         ],
         "marker": {
          "color": "#FECB52",
          "size": 10
         },
         "mode": "markers",
         "name": "713",
         "showlegend": true,
         "subplot": "mapbox",
         "type": "scattermapbox"
        },
        {
         "hovertemplate": "<b>%{hovertext}</b><br><br>Lines=126<br>Lat=%{lat}<br>Lon=%{lon}<extra></extra>",
         "hovertext": [
          8464,
          5447,
          8460,
          5442,
          8876,
          5406,
          1117
         ],
         "lat": [
          52.316025,
          52.2650052,
          52.301891,
          52.2906466,
          52.3292826,
          52.3005424,
          52.266131
         ],
         "legendgroup": "126",
         "lon": [
          20.975979,
          21.0465767,
          21.057007,
          21.0498557,
          20.940945,
          21.0115954,
          21.042441
         ],
         "marker": {
          "color": "#636efa",
          "size": 10
         },
         "mode": "markers",
         "name": "126",
         "showlegend": true,
         "subplot": "mapbox",
         "type": "scattermapbox"
        },
        {
         "hovertemplate": "<b>%{hovertext}</b><br><br>Lines=750<br>Lat=%{lat}<br>Lon=%{lon}<extra></extra>",
         "hovertext": [
          772,
          746,
          779,
          763,
          740,
          741
         ],
         "lat": [
          52.359837667,
          52.35183,
          52.3391394,
          52.359814,
          52.364006,
          52.360104
         ],
         "legendgroup": "750",
         "lon": [
          20.864139667,
          20.8176,
          20.8926909,
          20.864399,
          20.848095,
          20.864704
         ],
         "marker": {
          "color": "#EF553B",
          "size": 10
         },
         "mode": "markers",
         "name": "750",
         "showlegend": true,
         "subplot": "mapbox",
         "type": "scattermapbox"
        },
        {
         "hovertemplate": "<b>%{hovertext}</b><br><br>Lines=189<br>Lat=%{lat}<br>Lon=%{lon}<extra></extra>",
         "hovertext": [
          2003,
          2255,
          5230,
          6219,
          8551,
          2224,
          7247,
          8544,
          8503,
          2201,
          5241,
          2001,
          7243,
          5239,
          2002
         ],
         "lat": [
          52.2285577,
          52.238716,
          52.1811941,
          52.173683,
          52.188409,
          52.183537,
          52.197903,
          52.2285367,
          52.17353,
          52.229057,
          52.1733655,
          52.1812861,
          52.195419,
          52.235729,
          52.1897311
         ],
         "legendgroup": "189",
         "lon": [
          20.9153152,
          20.89875,
          21.0546948,
          21.044083,
          20.998306,
          20.97942,
          20.92156,
          20.9155467,
          21.0369133,
          20.914497,
          21.0260104,
          21.0688885,
          20.931051,
          20.896464,
          20.9589599
         ],
         "marker": {
          "color": "#00cc96",
          "size": 10
         },
         "mode": "markers",
         "name": "189",
         "showlegend": true,
         "subplot": "mapbox",
         "type": "scattermapbox"
        },
        {
         "hovertemplate": "<b>%{hovertext}</b><br><br>Lines=120<br>Lat=%{lat}<br>Lon=%{lon}<extra></extra>",
         "hovertext": [
          4415,
          1551,
          1541,
          1545,
          4402,
          4411,
          1554,
          4407
         ],
         "lat": [
          52.2526141,
          52.2694917,
          52.286934,
          52.264088,
          52.2571726,
          52.3077437,
          52.2737633,
          52.361683
         ],
         "legendgroup": "120",
         "lon": [
          21.0511939,
          21.0592167,
          21.048255,
          21.048271,
          21.0399597,
          21.0614489,
          21.0521483,
          21.057829
         ],
         "marker": {
          "color": "#ab63fa",
          "size": 10
         },
         "mode": "markers",
         "name": "120",
         "showlegend": true,
         "subplot": "mapbox",
         "type": "scattermapbox"
        },
        {
         "hovertemplate": "<b>%{hovertext}</b><br><br>Lines=720<br>Lat=%{lat}<br>Lon=%{lon}<extra></extra>",
         "hovertext": [
          7744,
          8579
         ],
         "lat": [
          52.2333337,
          52.23487
         ],
         "legendgroup": "720",
         "lon": [
          21.1174266,
          21.1253067
         ],
         "marker": {
          "color": "#FFA15A",
          "size": 10
         },
         "mode": "markers",
         "name": "720",
         "showlegend": true,
         "subplot": "mapbox",
         "type": "scattermapbox"
        },
        {
         "hovertemplate": "<b>%{hovertext}</b><br><br>Lines=731<br>Lat=%{lat}<br>Lon=%{lon}<extra></extra>",
         "hovertext": [
          8442,
          3445,
          8872,
          3446,
          8813,
          5435
         ],
         "lat": [
          52.4216674,
          52.3001196,
          52.2661383,
          52.3460978,
          52.265394,
          52.392979
         ],
         "legendgroup": "731",
         "lon": [
          20.9255409,
          20.992804,
          21.0440761,
          20.94935,
          21.045373,
          20.934195
         ],
         "marker": {
          "color": "#19d3f3",
          "size": 10
         },
         "mode": "markers",
         "name": "731",
         "showlegend": true,
         "subplot": "mapbox",
         "type": "scattermapbox"
        },
        {
         "hovertemplate": "<b>%{hovertext}</b><br><br>Lines=522<br>Lat=%{lat}<br>Lon=%{lon}<extra></extra>",
         "hovertext": [
          2007,
          8526,
          8552,
          2012,
          2016,
          2000,
          2021
         ],
         "lat": [
          52.157207,
          52.187208,
          52.1922133,
          52.22893,
          52.182461,
          52.2182669,
          52.157722
         ],
         "legendgroup": "522",
         "lon": [
          21.078487,
          20.995141,
          21.0446283,
          21.0052144,
          21.055389,
          21.0155115,
          21.080097
         ],
         "marker": {
          "color": "#FF6692",
          "size": 10
         },
         "mode": "markers",
         "name": "522",
         "showlegend": true,
         "subplot": "mapbox",
         "type": "scattermapbox"
        },
        {
         "hovertemplate": "<b>%{hovertext}</b><br><br>Lines=409<br>Lat=%{lat}<br>Lon=%{lon}<extra></extra>",
         "hovertext": [
          5452,
          3435,
          3410,
          3422,
          3428,
          3448
         ],
         "lat": [
          52.2988917,
          52.3002608,
          52.2784571,
          52.2800044,
          52.2593633,
          52.30478
         ],
         "legendgroup": "409",
         "lon": [
          20.9352414,
          21.0417803,
          21.0443813,
          20.9231109,
          21.0053733,
          20.8867925
         ],
         "marker": {
          "color": "#B6E880",
          "size": 10
         },
         "mode": "markers",
         "name": "409",
         "showlegend": true,
         "subplot": "mapbox",
         "type": "scattermapbox"
        },
        {
         "hovertemplate": "<b>%{hovertext}</b><br><br>Lines=520<br>Lat=%{lat}<br>Lon=%{lon}<extra></extra>",
         "hovertext": [
          7331,
          8834,
          7317,
          8829,
          8573,
          8309,
          5437,
          3461,
          8814,
          7746,
          7313
         ],
         "lat": [
          52.240398,
          52.2277801,
          52.2415574,
          52.234198,
          52.240695,
          52.233531,
          52.2442276,
          52.265063,
          52.264323,
          52.2243315,
          52.238068
         ],
         "legendgroup": "520",
         "lon": [
          21.155899,
          21.0600265,
          21.1358362,
          21.115024,
          21.134445,
          21.116981,
          21.0013887,
          21.046146,
          21.048385,
          21.0437112,
          21.006588
         ],
         "marker": {
          "color": "#FF97FF",
          "size": 10
         },
         "mode": "markers",
         "name": "520",
         "showlegend": true,
         "subplot": "mapbox",
         "type": "scattermapbox"
        },
        {
         "hovertemplate": "<b>%{hovertext}</b><br><br>Lines=133<br>Lat=%{lat}<br>Lon=%{lon}<extra></extra>",
         "hovertext": [
          9217,
          1045,
          9216,
          1040
         ],
         "lat": [
          52.3354369,
          52.266358,
          52.318819,
          52.264079
         ],
         "legendgroup": "133",
         "lon": [
          20.9624973,
          21.042373,
          20.951727,
          21.048145
         ],
         "marker": {
          "color": "#FECB52",
          "size": 10
         },
         "mode": "markers",
         "name": "133",
         "showlegend": true,
         "subplot": "mapbox",
         "type": "scattermapbox"
        },
        {
         "hovertemplate": "<b>%{hovertext}</b><br><br>Lines=L29<br>Lat=%{lat}<br>Lon=%{lon}<extra></extra>",
         "hovertext": [
          60055
         ],
         "lat": [
          52.2608338
         ],
         "legendgroup": "L29",
         "lon": [
          20.504234
         ],
         "marker": {
          "color": "#636efa",
          "size": 10
         },
         "mode": "markers",
         "name": "L29",
         "showlegend": true,
         "subplot": "mapbox",
         "type": "scattermapbox"
        },
        {
         "hovertemplate": "<b>%{hovertext}</b><br><br>Lines=L32<br>Lat=%{lat}<br>Lon=%{lon}<extra></extra>",
         "hovertext": [
          70573,
          70575
         ],
         "lat": [
          52.074608,
          52.015884
         ],
         "legendgroup": "L32",
         "lon": [
          21.02953,
          20.967491
         ],
         "marker": {
          "color": "#EF553B",
          "size": 10
         },
         "mode": "markers",
         "name": "L32",
         "showlegend": true,
         "subplot": "mapbox",
         "type": "scattermapbox"
        },
        {
         "hovertemplate": "<b>%{hovertext}</b><br><br>Lines=195<br>Lat=%{lat}<br>Lon=%{lon}<extra></extra>",
         "hovertext": [
          1031,
          1034,
          1036,
          1022,
          1063
         ],
         "lat": [
          52.155319,
          52.229122,
          52.170826,
          52.146,
          52.1885267
         ],
         "legendgroup": "195",
         "lon": [
          21.028564,
          21.021582,
          21.040901,
          21.052807,
          20.9960247
         ],
         "marker": {
          "color": "#00cc96",
          "size": 10
         },
         "mode": "markers",
         "name": "195",
         "showlegend": true,
         "subplot": "mapbox",
         "type": "scattermapbox"
        },
        {
         "hovertemplate": "<b>%{hovertext}</b><br><br>Lines=263<br>Lat=%{lat}<br>Lon=%{lon}<extra></extra>",
         "hovertext": [
          1201,
          1210,
          1220,
          1216,
          1205,
          1224
         ],
         "lat": [
          52.1477214,
          52.178322,
          52.179707,
          52.1591426,
          52.159962,
          52.188473
         ],
         "legendgroup": "263",
         "lon": [
          21.0353664,
          21.04891,
          21.101473,
          21.0853779,
          21.088623,
          20.995191
         ],
         "marker": {
          "color": "#ab63fa",
          "size": 10
         },
         "mode": "markers",
         "name": "263",
         "showlegend": true,
         "subplot": "mapbox",
         "type": "scattermapbox"
        },
        {
         "hovertemplate": "<b>%{hovertext}</b><br><br>Lines=168<br>Lat=%{lat}<br>Lon=%{lon}<extra></extra>",
         "hovertext": [
          1426,
          2015,
          1529,
          8556,
          1524,
          1430,
          2017
         ],
         "lat": [
          52.193349,
          52.2064077,
          52.233395,
          52.1878183,
          52.236299,
          52.189487,
          52.206852
         ],
         "legendgroup": "168",
         "lon": [
          21.0015761,
          21.0626247,
          21.1081267,
          20.997,
          21.112793,
          21.002266,
          21.031662
         ],
         "marker": {
          "color": "#FFA15A",
          "size": 10
         },
         "mode": "markers",
         "name": "168",
         "showlegend": true,
         "subplot": "mapbox",
         "type": "scattermapbox"
        },
        {
         "hovertemplate": "<b>%{hovertext}</b><br><br>Lines=Z10<br>Lat=%{lat}<br>Lon=%{lon}<extra></extra>",
         "hovertext": [
          2209,
          8452,
          8451,
          8359,
          8360,
          8443,
          7716,
          5208,
          8358
         ],
         "lat": [
          52.2605834,
          52.2398804,
          52.2607469,
          52.25187,
          52.2470617,
          52.22258,
          52.2247068,
          52.2249396,
          52.2608417
         ],
         "legendgroup": "Z10",
         "lon": [
          20.9246244,
          20.9132707,
          20.9247935,
          20.9132983,
          20.9111683,
          20.926373,
          20.9163358,
          20.9307224,
          20.9249683
         ],
         "marker": {
          "color": "#19d3f3",
          "size": 10
         },
         "mode": "markers",
         "name": "Z10",
         "showlegend": true,
         "subplot": "mapbox",
         "type": "scattermapbox"
        },
        {
         "hovertemplate": "<b>%{hovertext}</b><br><br>Lines=228<br>Lat=%{lat}<br>Lon=%{lon}<extra></extra>",
         "hovertext": [
          4208,
          9205,
          9247,
          9222,
          9220
         ],
         "lat": [
          52.196419,
          52.200389,
          52.197613,
          52.2047515,
          52.200317
         ],
         "legendgroup": "228",
         "lon": [
          20.922394,
          20.893127,
          20.964926,
          20.9235625,
          20.89287
         ],
         "marker": {
          "color": "#FF6692",
          "size": 10
         },
         "mode": "markers",
         "name": "228",
         "showlegend": true,
         "subplot": "mapbox",
         "type": "scattermapbox"
        },
        {
         "hovertemplate": "<b>%{hovertext}</b><br><br>Lines=128<br>Lat=%{lat}<br>Lon=%{lon}<extra></extra>",
         "hovertext": [
          5936,
          5892,
          5879,
          5896,
          5881,
          5878,
          5994,
          8543
         ],
         "lat": [
          52.207684,
          52.240671,
          52.205273,
          52.207008,
          52.2251211,
          52.243183,
          52.2392,
          52.187278
         ],
         "legendgroup": "128",
         "lon": [
          20.963678,
          21.01526,
          20.986443,
          20.96834,
          20.9889509,
          21.012907,
          21.0172,
          20.997368
         ],
         "marker": {
          "color": "#B6E880",
          "size": 10
         },
         "mode": "markers",
         "name": "128",
         "showlegend": true,
         "subplot": "mapbox",
         "type": "scattermapbox"
        },
        {
         "hovertemplate": "<b>%{hovertext}</b><br><br>Lines=N33<br>Lat=%{lat}<br>Lon=%{lon}<extra></extra>",
         "hovertext": [
          8514
         ],
         "lat": [
          52.186871
         ],
         "legendgroup": "N33",
         "lon": [
          20.997144
         ],
         "marker": {
          "color": "#FF97FF",
          "size": 10
         },
         "mode": "markers",
         "name": "N33",
         "showlegend": true,
         "subplot": "mapbox",
         "type": "scattermapbox"
        },
        {
         "hovertemplate": "<b>%{hovertext}</b><br><br>Lines=219<br>Lat=%{lat}<br>Lon=%{lon}<extra></extra>",
         "hovertext": [
          9207,
          9242,
          9245,
          9244
         ],
         "lat": [
          52.2061265,
          52.222801,
          52.214224,
          52.185467
         ],
         "legendgroup": "219",
         "lon": [
          20.8836536,
          21.102308,
          21.139022,
          21.159431
         ],
         "marker": {
          "color": "#FECB52",
          "size": 10
         },
         "mode": "markers",
         "name": "219",
         "showlegend": true,
         "subplot": "mapbox",
         "type": "scattermapbox"
        },
        {
         "hovertemplate": "<b>%{hovertext}</b><br><br>Lines=157<br>Lat=%{lat}<br>Lon=%{lon}<extra></extra>",
         "hovertext": [
          9441,
          9411,
          9414,
          9447,
          9445,
          9428
         ],
         "lat": [
          52.231609,
          52.207958,
          52.232353,
          52.267231,
          52.268349,
          52.289825
         ],
         "legendgroup": "157",
         "lon": [
          20.992929,
          20.963951,
          20.99251,
          20.98786,
          20.986624,
          20.976343
         ],
         "marker": {
          "color": "#636efa",
          "size": 10
         },
         "mode": "markers",
         "name": "157",
         "showlegend": true,
         "subplot": "mapbox",
         "type": "scattermapbox"
        },
        {
         "hovertemplate": "<b>%{hovertext}</b><br><br>Lines=129<br>Lat=%{lat}<br>Lon=%{lon}<extra></extra>",
         "hovertext": [
          1051,
          1050,
          1052,
          1059,
          1054
         ],
         "lat": [
          52.1948767,
          52.19688,
          52.2469217,
          52.1984817,
          52.244446
         ],
         "legendgroup": "129",
         "lon": [
          20.8962683,
          20.918536,
          20.94597,
          20.91293,
          20.947758
         ],
         "marker": {
          "color": "#EF553B",
          "size": 10
         },
         "mode": "markers",
         "name": "129",
         "showlegend": true,
         "subplot": "mapbox",
         "type": "scattermapbox"
        },
        {
         "hovertemplate": "<b>%{hovertext}</b><br><br>Lines=183<br>Lat=%{lat}<br>Lon=%{lon}<extra></extra>",
         "hovertext": [
          1415,
          1840,
          4303
         ],
         "lat": [
          52.244755,
          52.2558616,
          52.2548287
         ],
         "legendgroup": "183",
         "lon": [
          21.087132,
          21.1565883,
          21.1619504
         ],
         "marker": {
          "color": "#00cc96",
          "size": 10
         },
         "mode": "markers",
         "name": "183",
         "showlegend": true,
         "subplot": "mapbox",
         "type": "scattermapbox"
        },
        {
         "hovertemplate": "<b>%{hovertext}</b><br><br>Lines=125<br>Lat=%{lat}<br>Lon=%{lon}<extra></extra>",
         "hovertext": [
          7306,
          8570,
          7309,
          8363,
          7319,
          8569,
          8323,
          8302
         ],
         "lat": [
          52.2334406,
          52.2414983,
          52.208439,
          52.234221,
          52.2061272,
          52.2453767,
          52.233536,
          52.2349205
         ],
         "legendgroup": "125",
         "lon": [
          21.1165806,
          21.0412317,
          21.19644,
          21.117433,
          21.1758499,
          21.0796517,
          21.116691,
          21.1259671
         ],
         "marker": {
          "color": "#ab63fa",
          "size": 10
         },
         "mode": "markers",
         "name": "125",
         "showlegend": true,
         "subplot": "mapbox",
         "type": "scattermapbox"
        },
        {
         "hovertemplate": "<b>%{hovertext}</b><br><br>Lines=165<br>Lat=%{lat}<br>Lon=%{lon}<extra></extra>",
         "hovertext": [
          8123,
          8115,
          8119,
          8816
         ],
         "lat": [
          52.1546043,
          52.1563226,
          52.1797855,
          52.1795845
         ],
         "legendgroup": "165",
         "lon": [
          20.9944135,
          20.9950123,
          21.024546,
          21.0205365
         ],
         "marker": {
          "color": "#FFA15A",
          "size": 10
         },
         "mode": "markers",
         "name": "165",
         "showlegend": true,
         "subplot": "mapbox",
         "type": "scattermapbox"
        },
        {
         "hovertemplate": "<b>%{hovertext}</b><br><br>Lines=N86<br>Lat=%{lat}<br>Lon=%{lon}<extra></extra>",
         "hovertext": [
          8500
         ],
         "lat": [
          52.187545
         ],
         "legendgroup": "N86",
         "lon": [
          20.995638
         ],
         "marker": {
          "color": "#19d3f3",
          "size": 10
         },
         "mode": "markers",
         "name": "N86",
         "showlegend": true,
         "subplot": "mapbox",
         "type": "scattermapbox"
        },
        {
         "hovertemplate": "<b>%{hovertext}</b><br><br>Lines=140<br>Lat=%{lat}<br>Lon=%{lon}<extra></extra>",
         "hovertext": [
          8877,
          8866,
          8820
         ],
         "lat": [
          52.3269643,
          52.33455,
          52.276731
         ],
         "legendgroup": "140",
         "lon": [
          21.108317,
          21.114421,
          21.052813
         ],
         "marker": {
          "color": "#FF6692",
          "size": 10
         },
         "mode": "markers",
         "name": "140",
         "showlegend": true,
         "subplot": "mapbox",
         "type": "scattermapbox"
        },
        {
         "hovertemplate": "<b>%{hovertext}</b><br><br>Lines=204<br>Lat=%{lat}<br>Lon=%{lon}<extra></extra>",
         "hovertext": [
          9081,
          9080,
          9082
         ],
         "lat": [
          52.324284,
          52.277317,
          52.317894
         ],
         "legendgroup": "204",
         "lon": [
          21.056673,
          21.023119,
          21.04126
         ],
         "marker": {
          "color": "#B6E880",
          "size": 10
         },
         "mode": "markers",
         "name": "204",
         "showlegend": true,
         "subplot": "mapbox",
         "type": "scattermapbox"
        },
        {
         "hovertemplate": "<b>%{hovertext}</b><br><br>Lines=L-3<br>Lat=%{lat}<br>Lon=%{lon}<extra></extra>",
         "hovertext": [
          70592,
          70593,
          70581,
          60056,
          60052
         ],
         "lat": [
          52.065716,
          52.068695,
          52.267989,
          52.2193156,
          52.2191853
         ],
         "legendgroup": "L-3",
         "lon": [
          21.019411,
          21.02412,
          21.0781095,
          20.8048796,
          20.8047261
         ],
         "marker": {
          "color": "#FF97FF",
          "size": 10
         },
         "mode": "markers",
         "name": "L-3",
         "showlegend": true,
         "subplot": "mapbox",
         "type": "scattermapbox"
        },
        {
         "hovertemplate": "<b>%{hovertext}</b><br><br>Lines=119<br>Lat=%{lat}<br>Lon=%{lon}<extra></extra>",
         "hovertext": [
          1030,
          1069,
          1002,
          1000,
          1414
         ],
         "lat": [
          52.2060952,
          52.2021092,
          52.2080735,
          52.204671,
          52.2020427
         ],
         "legendgroup": "119",
         "lon": [
          21.0002939,
          21.0459849,
          21.1967456,
          21.1676858,
          21.0375364
         ],
         "marker": {
          "color": "#FECB52",
          "size": 10
         },
         "mode": "markers",
         "name": "119",
         "showlegend": true,
         "subplot": "mapbox",
         "type": "scattermapbox"
        },
        {
         "hovertemplate": "<b>%{hovertext}</b><br><br>Lines=192<br>Lat=%{lat}<br>Lon=%{lon}<extra></extra>",
         "hovertext": [
          1064,
          1077,
          1021,
          1035,
          1060,
          1070
         ],
         "lat": [
          52.128948,
          52.142422,
          52.163124,
          52.155521,
          52.145115,
          52.1882934
         ],
         "legendgroup": "192",
         "lon": [
          21.068707,
          21.055079,
          21.017105,
          21.041634,
          21.052057,
          20.9951672
         ],
         "marker": {
          "color": "#636efa",
          "size": 10
         },
         "mode": "markers",
         "name": "192",
         "showlegend": true,
         "subplot": "mapbox",
         "type": "scattermapbox"
        },
        {
         "hovertemplate": "<b>%{hovertext}</b><br><br>Lines=503<br>Lat=%{lat}<br>Lon=%{lon}<extra></extra>",
         "hovertext": [
          5880,
          5884,
          5930,
          5886,
          5970,
          5921,
          5952,
          5877,
          5883
         ],
         "lat": [
          52.219719,
          52.1866202,
          52.254726,
          52.207199,
          52.238758,
          52.2585092,
          52.148026,
          52.144615,
          52.16798
         ],
         "legendgroup": "503",
         "lon": [
          21.025267,
          20.9981257,
          21.002317,
          21.030479,
          21.017508,
          21.0028555,
          21.042582,
          21.049973,
          21.036839
         ],
         "marker": {
          "color": "#EF553B",
          "size": 10
         },
         "mode": "markers",
         "name": "503",
         "showlegend": true,
         "subplot": "mapbox",
         "type": "scattermapbox"
        },
        {
         "hovertemplate": "<b>%{hovertext}</b><br><br>Lines=127<br>Lat=%{lat}<br>Lon=%{lon}<extra></extra>",
         "hovertext": [
          5895,
          5875,
          5874,
          5969,
          5966,
          8521,
          5955
         ],
         "lat": [
          52.21899,
          52.208908,
          52.242996,
          52.240536,
          52.219036,
          52.23212,
          52.208828
         ],
         "legendgroup": "127",
         "lon": [
          20.968359,
          20.895746,
          21.020634,
          21.026178,
          20.969513,
          21.0368617,
          20.895458
         ],
         "marker": {
          "color": "#00cc96",
          "size": 10
         },
         "mode": "markers",
         "name": "127",
         "showlegend": true,
         "subplot": "mapbox",
         "type": "scattermapbox"
        },
        {
         "hovertemplate": "<b>%{hovertext}</b><br><br>Lines=174<br>Lat=%{lat}<br>Lon=%{lon}<extra></extra>",
         "hovertext": [
          8132,
          8809,
          8133,
          8513,
          2029
         ],
         "lat": [
          52.170147,
          52.2082728,
          52.2102851,
          52.187748,
          52.171024
         ],
         "legendgroup": "174",
         "lon": [
          20.9952355,
          21.0076595,
          21.0073586,
          20.996649,
          21.010616
         ],
         "marker": {
          "color": "#ab63fa",
          "size": 10
         },
         "mode": "markers",
         "name": "174",
         "showlegend": true,
         "subplot": "mapbox",
         "type": "scattermapbox"
        },
        {
         "hovertemplate": "<b>%{hovertext}</b><br><br>Lines=715<br>Lat=%{lat}<br>Lon=%{lon}<extra></extra>",
         "hovertext": [
          9538,
          9527
         ],
         "lat": [
          52.1146295,
          52.156366
         ],
         "legendgroup": "715",
         "lon": [
          20.979077167,
          20.922657833
         ],
         "marker": {
          "color": "#FFA15A",
          "size": 10
         },
         "mode": "markers",
         "name": "715",
         "showlegend": true,
         "subplot": "mapbox",
         "type": "scattermapbox"
        },
        {
         "hovertemplate": "<b>%{hovertext}</b><br><br>Lines=152<br>Lat=%{lat}<br>Lon=%{lon}<extra></extra>",
         "hovertext": [
          9687,
          9677,
          9689,
          9691,
          9676,
          9683
         ],
         "lat": [
          52.328369,
          52.329594,
          52.3169,
          52.326202,
          52.320698,
          52.326386
         ],
         "legendgroup": "152",
         "lon": [
          20.967182,
          20.966505,
          20.9519,
          21.033752,
          20.971169,
          21.038084
         ],
         "marker": {
          "color": "#19d3f3",
          "size": 10
         },
         "mode": "markers",
         "name": "152",
         "showlegend": true,
         "subplot": "mapbox",
         "type": "scattermapbox"
        },
        {
         "hovertemplate": "<b>%{hovertext}</b><br><br>Lines=L-5<br>Lat=%{lat}<br>Lon=%{lon}<extra></extra>",
         "hovertext": [
          39552,
          39556,
          39554
         ],
         "lat": [
          52.07468,
          52.06321,
          52.076836
         ],
         "legendgroup": "L-5",
         "lon": [
          21.02952,
          21.015863,
          21.026062
         ],
         "marker": {
          "color": "#FF6692",
          "size": 10
         },
         "mode": "markers",
         "name": "L-5",
         "showlegend": true,
         "subplot": "mapbox",
         "type": "scattermapbox"
        },
        {
         "hovertemplate": "<b>%{hovertext}</b><br><br>Lines=514<br>Lat=%{lat}<br>Lon=%{lon}<extra></extra>",
         "hovertext": [
          8303,
          8312,
          8340,
          8331,
          8315
         ],
         "lat": [
          52.2191716,
          52.233059,
          52.233783,
          52.2338916,
          52.248705
         ],
         "legendgroup": "514",
         "lon": [
          21.0155983,
          21.075861,
          21.114875,
          21.1070405,
          21.243823
         ],
         "marker": {
          "color": "#B6E880",
          "size": 10
         },
         "mode": "markers",
         "name": "514",
         "showlegend": true,
         "subplot": "mapbox",
         "type": "scattermapbox"
        },
        {
         "hovertemplate": "<b>%{hovertext}</b><br><br>Lines=151<br>Lat=%{lat}<br>Lon=%{lon}<extra></extra>",
         "hovertext": [
          8329,
          8587,
          8850,
          8316
         ],
         "lat": [
          52.23077,
          52.23084,
          52.217419,
          52.233674
         ],
         "legendgroup": "151",
         "lon": [
          21.0823633,
          21.099695,
          21.006463,
          21.115974
         ],
         "marker": {
          "color": "#FF97FF",
          "size": 10
         },
         "mode": "markers",
         "name": "151",
         "showlegend": true,
         "subplot": "mapbox",
         "type": "scattermapbox"
        },
        {
         "hovertemplate": "<b>%{hovertext}</b><br><br>Lines=712<br>Lat=%{lat}<br>Lon=%{lon}<extra></extra>",
         "hovertext": [
          9446,
          9429
         ],
         "lat": [
          52.248154,
          52.290833
         ],
         "legendgroup": "712",
         "lon": [
          20.840523,
          20.927931
         ],
         "marker": {
          "color": "#FECB52",
          "size": 10
         },
         "mode": "markers",
         "name": "712",
         "showlegend": true,
         "subplot": "mapbox",
         "type": "scattermapbox"
        },
        {
         "hovertemplate": "<b>%{hovertext}</b><br><br>Lines=L26<br>Lat=%{lat}<br>Lon=%{lon}<extra></extra>",
         "hovertext": [
          80107
         ],
         "lat": [
          52.2564135
         ],
         "legendgroup": "L26",
         "lon": [
          21.1642973
         ],
         "marker": {
          "color": "#636efa",
          "size": 10
         },
         "mode": "markers",
         "name": "L26",
         "showlegend": true,
         "subplot": "mapbox",
         "type": "scattermapbox"
        },
        {
         "hovertemplate": "<b>%{hovertext}</b><br><br>Lines=132<br>Lat=%{lat}<br>Lon=%{lon}<extra></extra>",
         "hovertext": [
          4408,
          1846,
          5418,
          8456
         ],
         "lat": [
          52.324776,
          52.317293,
          52.265614,
          52.265201
         ],
         "legendgroup": "132",
         "lon": [
          21.052387,
          21.05065,
          21.044501,
          21.045838
         ],
         "marker": {
          "color": "#EF553B",
          "size": 10
         },
         "mode": "markers",
         "name": "132",
         "showlegend": true,
         "subplot": "mapbox",
         "type": "scattermapbox"
        },
        {
         "hovertemplate": "<b>%{hovertext}</b><br><br>Lines=264<br>Lat=%{lat}<br>Lon=%{lon}<extra></extra>",
         "hovertext": [
          9249
         ],
         "lat": [
          52.126236
         ],
         "legendgroup": "264",
         "lon": [
          21.140526
         ],
         "marker": {
          "color": "#00cc96",
          "size": 10
         },
         "mode": "markers",
         "name": "264",
         "showlegend": true,
         "subplot": "mapbox",
         "type": "scattermapbox"
        },
        {
         "hovertemplate": "<b>%{hovertext}</b><br><br>Lines=176<br>Lat=%{lat}<br>Lon=%{lon}<extra></extra>",
         "hovertext": [
          9442,
          9458,
          9412
         ],
         "lat": [
          52.355591,
          52.319656,
          52.281181
         ],
         "legendgroup": "176",
         "lon": [
          20.982252,
          20.997023,
          21.026781
         ],
         "marker": {
          "color": "#ab63fa",
          "size": 10
         },
         "mode": "markers",
         "name": "176",
         "showlegend": true,
         "subplot": "mapbox",
         "type": "scattermapbox"
        },
        {
         "hovertemplate": "<b>%{hovertext}</b><br><br>Lines=198<br>Lat=%{lat}<br>Lon=%{lon}<extra></extra>",
         "hovertext": [
          1418,
          4320
         ],
         "lat": [
          52.218796,
          52.2540271
         ],
         "legendgroup": "198",
         "lon": [
          21.243021,
          21.2199857
         ],
         "marker": {
          "color": "#FFA15A",
          "size": 10
         },
         "mode": "markers",
         "name": "198",
         "showlegend": true,
         "subplot": "mapbox",
         "type": "scattermapbox"
        },
        {
         "hovertemplate": "<b>%{hovertext}</b><br><br>Lines=184<br>Lat=%{lat}<br>Lon=%{lon}<extra></extra>",
         "hovertext": [
          5219,
          5238,
          6227,
          2223,
          6228,
          6238
         ],
         "lat": [
          52.2080529,
          52.277363,
          52.2384212,
          52.29105,
          52.21941,
          52.2536965
         ],
         "legendgroup": "184",
         "lon": [
          20.9639468,
          20.938884,
          20.9483917,
          20.92754,
          20.970472,
          20.9238376
         ],
         "marker": {
          "color": "#19d3f3",
          "size": 10
         },
         "mode": "markers",
         "name": "184",
         "showlegend": true,
         "subplot": "mapbox",
         "type": "scattermapbox"
        },
        {
         "hovertemplate": "<b>%{hovertext}</b><br><br>Lines=131<br>Lat=%{lat}<br>Lon=%{lon}<extra></extra>",
         "hovertext": [
          9842,
          8886,
          9853,
          9807,
          9811,
          9828,
          9821,
          9810
         ],
         "lat": [
          52.184296,
          52.186411,
          52.2190028,
          52.228127,
          52.2111983,
          52.196324,
          52.206116,
          52.1680658
         ],
         "legendgroup": "131",
         "lon": [
          21.06675,
          20.996424,
          21.0155001,
          21.003475,
          21.0221146,
          21.052344,
          20.883423,
          21.0840823
         ],
         "marker": {
          "color": "#FF6692",
          "size": 10
         },
         "mode": "markers",
         "name": "131",
         "showlegend": true,
         "subplot": "mapbox",
         "type": "scattermapbox"
        },
        {
         "hovertemplate": "<b>%{hovertext}</b><br><br>Lines=162<br>Lat=%{lat}<br>Lon=%{lon}<extra></extra>",
         "hovertext": [
          5448,
          8338,
          3415,
          8558,
          8591,
          8529,
          8564,
          3405,
          8356
         ],
         "lat": [
          52.248852,
          52.234216,
          52.2596453,
          52.187361,
          52.193668,
          52.186996,
          52.233453,
          52.2330701,
          52.197911
         ],
         "legendgroup": "162",
         "lon": [
          21.030088,
          21.117641,
          21.0275956,
          20.997945,
          21.085046,
          20.997395,
          21.116803,
          21.030892,
          21.052016
         ],
         "marker": {
          "color": "#B6E880",
          "size": 10
         },
         "mode": "markers",
         "name": "162",
         "showlegend": true,
         "subplot": "mapbox",
         "type": "scattermapbox"
        },
        {
         "hovertemplate": "<b>%{hovertext}</b><br><br>Lines=188<br>Lat=%{lat}<br>Lon=%{lon}<extra></extra>",
         "hovertext": [
          7258,
          8568,
          7212,
          5225,
          7703,
          5205,
          5228
         ],
         "lat": [
          52.2164806,
          52.2500717,
          52.21645,
          52.2484497,
          52.1703394,
          52.196184,
          52.1726117
         ],
         "legendgroup": "188",
         "lon": [
          20.9936622,
          21.084565,
          20.988024,
          21.0969488,
          20.9782324,
          20.922563,
          20.9775853
         ],
         "marker": {
          "color": "#FF97FF",
          "size": 10
         },
         "mode": "markers",
         "name": "188",
         "showlegend": true,
         "subplot": "mapbox",
         "type": "scattermapbox"
        },
        {
         "hovertemplate": "<b>%{hovertext}</b><br><br>Lines=721<br>Lat=%{lat}<br>Lon=%{lon}<extra></extra>",
         "hovertext": [
          4200
         ],
         "lat": [
          52.054974
         ],
         "legendgroup": "721",
         "lon": [
          20.829784
         ],
         "marker": {
          "color": "#FECB52",
          "size": 10
         },
         "mode": "markers",
         "name": "721",
         "showlegend": true,
         "subplot": "mapbox",
         "type": "scattermapbox"
        },
        {
         "hovertemplate": "<b>%{hovertext}</b><br><br>Lines=175<br>Lat=%{lat}<br>Lon=%{lon}<extra></extra>",
         "hovertext": [
          5891,
          5900,
          5933,
          5922,
          5889
         ],
         "lat": [
          52.201534,
          52.228415,
          52.169544,
          52.23217,
          52.197094
         ],
         "legendgroup": "175",
         "lon": [
          20.984669,
          21.0053932,
          20.978125,
          21.02018,
          20.98365
         ],
         "marker": {
          "color": "#636efa",
          "size": 10
         },
         "mode": "markers",
         "name": "175",
         "showlegend": true,
         "subplot": "mapbox",
         "type": "scattermapbox"
        },
        {
         "hovertemplate": "<b>%{hovertext}</b><br><br>Lines=728<br>Lat=%{lat}<br>Lon=%{lon}<extra></extra>",
         "hovertext": [
          7711,
          6209
         ],
         "lat": [
          52.0471854,
          52.158504
         ],
         "legendgroup": "728",
         "lon": [
          20.864458,
          20.925095
         ],
         "marker": {
          "color": "#EF553B",
          "size": 10
         },
         "mode": "markers",
         "name": "728",
         "showlegend": true,
         "subplot": "mapbox",
         "type": "scattermapbox"
        },
        {
         "hovertemplate": "<b>%{hovertext}</b><br><br>Lines=719<br>Lat=%{lat}<br>Lon=%{lon}<extra></extra>",
         "hovertext": [
          9840,
          9841,
          9837
         ],
         "lat": [
          52.2576061,
          52.242844,
          52.236576
         ],
         "legendgroup": "719",
         "lon": [
          20.5864153,
          20.870605,
          20.940327
         ],
         "marker": {
          "color": "#00cc96",
          "size": 10
         },
         "mode": "markers",
         "name": "719",
         "showlegend": true,
         "subplot": "mapbox",
         "type": "scattermapbox"
        },
        {
         "hovertemplate": "<b>%{hovertext}</b><br><br>Lines=716<br>Lat=%{lat}<br>Lon=%{lon}<extra></extra>",
         "hovertext": [
          2236,
          6225,
          7245
         ],
         "lat": [
          52.186058,
          52.196419,
          52.2250749
         ],
         "legendgroup": "716",
         "lon": [
          20.840063,
          20.883694,
          20.9308034
         ],
         "marker": {
          "color": "#ab63fa",
          "size": 10
         },
         "mode": "markers",
         "name": "716",
         "showlegend": true,
         "subplot": "mapbox",
         "type": "scattermapbox"
        },
        {
         "hovertemplate": "<b>%{hovertext}</b><br><br>Lines=709<br>Lat=%{lat}<br>Lon=%{lon}<extra></extra>",
         "hovertext": [
          8184,
          2031,
          8811,
          8894,
          8170,
          1209,
          8550,
          8139,
          8535,
          8542,
          8527
         ],
         "lat": [
          52.1877956,
          52.0678144,
          52.09015,
          52.187764,
          52.1209443,
          52.0816027,
          52.179985,
          52.079292,
          52.0737767,
          52.186463,
          52.1532633
         ],
         "legendgroup": "709",
         "lon": [
          20.996484,
          21.0170864,
          21.018995,
          21.017746,
          21.0184138,
          21.0232199,
          21.024145,
          21.0216096,
          21.015395,
          20.997893,
          21.0173133
         ],
         "marker": {
          "color": "#FFA15A",
          "size": 10
         },
         "mode": "markers",
         "name": "709",
         "showlegend": true,
         "subplot": "mapbox",
         "type": "scattermapbox"
        },
        {
         "hovertemplate": "<b>%{hovertext}</b><br><br>Lines=117<br>Lat=%{lat}<br>Lon=%{lon}<extra></extra>",
         "hovertext": [
          9426,
          9436,
          9423,
          9422,
          1851
         ],
         "lat": [
          52.222157,
          52.229462,
          52.229671,
          52.224892,
          52.2332705
         ],
         "legendgroup": "117",
         "lon": [
          21.102489,
          21.057316,
          21.005064,
          21.067068,
          21.116638
         ],
         "marker": {
          "color": "#19d3f3",
          "size": 10
         },
         "mode": "markers",
         "name": "117",
         "showlegend": true,
         "subplot": "mapbox",
         "type": "scattermapbox"
        },
        {
         "hovertemplate": "<b>%{hovertext}</b><br><br>Lines=500<br>Lat=%{lat}<br>Lon=%{lon}<extra></extra>",
         "hovertext": [
          5422,
          8874,
          5429
         ],
         "lat": [
          52.254063,
          52.2651868,
          52.300331
         ],
         "legendgroup": "500",
         "lon": [
          20.982845,
          21.0457385,
          21.041752
         ],
         "marker": {
          "color": "#FF6692",
          "size": 10
         },
         "mode": "markers",
         "name": "500",
         "showlegend": true,
         "subplot": "mapbox",
         "type": "scattermapbox"
        },
        {
         "hovertemplate": "<b>%{hovertext}</b><br><br>Lines=201<br>Lat=%{lat}<br>Lon=%{lon}<extra></extra>",
         "hovertext": [
          9235,
          9230,
          9211,
          9219
         ],
         "lat": [
          52.260643,
          52.260512,
          52.2395513,
          52.233999
         ],
         "legendgroup": "201",
         "lon": [
          20.924992,
          20.925059,
          20.9458429,
          20.926516
         ],
         "marker": {
          "color": "#B6E880",
          "size": 10
         },
         "mode": "markers",
         "name": "201",
         "showlegend": true,
         "subplot": "mapbox",
         "type": "scattermapbox"
        },
        {
         "hovertemplate": "<b>%{hovertext}</b><br><br>Lines=109<br>Lat=%{lat}<br>Lon=%{lon}<extra></extra>",
         "hovertext": [
          9825,
          9801,
          9804,
          9802,
          9803,
          9818
         ],
         "lat": [
          52.227901,
          52.2230143,
          52.232765,
          52.239472,
          52.238491,
          52.231365
         ],
         "legendgroup": "109",
         "lon": [
          21.00379,
          21.043316,
          20.948557,
          20.9178783,
          20.8987835,
          21.01836
         ],
         "marker": {
          "color": "#FF97FF",
          "size": 10
         },
         "mode": "markers",
         "name": "109",
         "showlegend": true,
         "subplot": "mapbox",
         "type": "scattermapbox"
        },
        {
         "hovertemplate": "<b>%{hovertext}</b><br><br>Lines=N13<br>Lat=%{lat}<br>Lon=%{lon}<extra></extra>",
         "hovertext": [
          8355
         ],
         "lat": [
          52.233593
         ],
         "legendgroup": "N13",
         "lon": [
          21.116968
         ],
         "marker": {
          "color": "#FECB52",
          "size": 10
         },
         "mode": "markers",
         "name": "N13",
         "showlegend": true,
         "subplot": "mapbox",
         "type": "scattermapbox"
        },
        {
         "hovertemplate": "<b>%{hovertext}</b><br><br>Lines=255<br>Lat=%{lat}<br>Lon=%{lon}<extra></extra>",
         "hovertext": [
          4227,
          4245,
          4218
         ],
         "lat": [
          52.196766,
          52.225319,
          52.230549
         ],
         "legendgroup": "255",
         "lon": [
          20.9207322,
          20.931025,
          20.984001
         ],
         "marker": {
          "color": "#636efa",
          "size": 10
         },
         "mode": "markers",
         "name": "255",
         "showlegend": true,
         "subplot": "mapbox",
         "type": "scattermapbox"
        },
        {
         "hovertemplate": "<b>%{hovertext}</b><br><br>Lines=105<br>Lat=%{lat}<br>Lon=%{lon}<extra></extra>",
         "hovertext": [
          7710,
          4203,
          5213,
          6243,
          6207,
          2226,
          6206,
          5226
         ],
         "lat": [
          52.2388044,
          52.196995,
          52.196493,
          52.23748,
          52.231029,
          52.2257672,
          52.1969276,
          52.2278118
         ],
         "legendgroup": "105",
         "lon": [
          20.8988309,
          20.922474,
          20.921143,
          20.896646,
          20.8967325,
          20.9395504,
          20.9226325,
          20.9519238
         ],
         "marker": {
          "color": "#EF553B",
          "size": 10
         },
         "mode": "markers",
         "name": "105",
         "showlegend": true,
         "subplot": "mapbox",
         "type": "scattermapbox"
        },
        {
         "hovertemplate": "<b>%{hovertext}</b><br><br>Lines=177<br>Lat=%{lat}<br>Lon=%{lon}<extra></extra>",
         "hovertext": [
          9226,
          9224,
          9229
         ],
         "lat": [
          52.1937223,
          52.194645,
          52.2003138
         ],
         "legendgroup": "177",
         "lon": [
          20.8906706,
          20.888342,
          20.8928318
         ],
         "marker": {
          "color": "#00cc96",
          "size": 10
         },
         "mode": "markers",
         "name": "177",
         "showlegend": true,
         "subplot": "mapbox",
         "type": "scattermapbox"
        },
        {
         "hovertemplate": "<b>%{hovertext}</b><br><br>Lines=739<br>Lat=%{lat}<br>Lon=%{lon}<extra></extra>",
         "hovertext": [
          1215,
          1206,
          1214,
          1217
         ],
         "lat": [
          52.080563,
          52.1793107,
          52.116222,
          52.119686
         ],
         "legendgroup": "739",
         "lon": [
          21.039822,
          21.0228989,
          21.018471,
          21.01812
         ],
         "marker": {
          "color": "#ab63fa",
          "size": 10
         },
         "mode": "markers",
         "name": "739",
         "showlegend": true,
         "subplot": "mapbox",
         "type": "scattermapbox"
        },
        {
         "hovertemplate": "<b>%{hovertext}</b><br><br>Lines=222<br>Lat=%{lat}<br>Lon=%{lon}<extra></extra>",
         "hovertext": [
          1908,
          1902,
          1910,
          1905,
          1916
         ],
         "lat": [
          52.1889381,
          52.244835,
          52.2231609,
          52.224046,
          52.1914747
         ],
         "legendgroup": "222",
         "lon": [
          20.9962628,
          21.004744,
          21.0243426,
          21.023914,
          20.9954499
         ],
         "marker": {
          "color": "#FFA15A",
          "size": 10
         },
         "mode": "markers",
         "name": "222",
         "showlegend": true,
         "subplot": "mapbox",
         "type": "scattermapbox"
        },
        {
         "hovertemplate": "<b>%{hovertext}</b><br><br>Lines=187<br>Lat=%{lat}<br>Lon=%{lon}<extra></extra>",
         "hovertext": [
          2227,
          2242,
          7203,
          7228,
          2256,
          6223,
          7238,
          5209
         ],
         "lat": [
          52.190163,
          52.2095294,
          52.1990151,
          52.1953341,
          52.1781854,
          52.216789,
          52.1947105,
          52.2075114
         ],
         "legendgroup": "187",
         "lon": [
          20.862513,
          20.9487664,
          21.0514351,
          20.8964044,
          21.0482424,
          20.961605,
          20.8849307,
          21.0482569
         ],
         "marker": {
          "color": "#19d3f3",
          "size": 10
         },
         "mode": "markers",
         "name": "187",
         "showlegend": true,
         "subplot": "mapbox",
         "type": "scattermapbox"
        },
        {
         "hovertemplate": "<b>%{hovertext}</b><br><br>Lines=116<br>Lat=%{lat}<br>Lon=%{lon}<extra></extra>",
         "hovertext": [
          5905,
          5983,
          5982,
          5945,
          5903,
          5978,
          5980,
          5977,
          5906,
          5908,
          5911
         ],
         "lat": [
          52.280521,
          52.168041,
          52.253582,
          52.272305,
          52.277779,
          52.178741,
          52.221146,
          52.208118,
          52.271309,
          52.246449,
          52.1704307
         ],
         "legendgroup": "116",
         "lon": [
          20.926796,
          21.083847,
          20.997929,
          20.924932,
          20.940378,
          21.05883,
          21.024744,
          21.029896,
          20.975208,
          21.011944,
          21.0679007
         ],
         "marker": {
          "color": "#FF6692",
          "size": 10
         },
         "mode": "markers",
         "name": "116",
         "showlegend": true,
         "subplot": "mapbox",
         "type": "scattermapbox"
        },
        {
         "hovertemplate": "<b>%{hovertext}</b><br><br>Lines=196<br>Lat=%{lat}<br>Lon=%{lon}<extra></extra>",
         "hovertext": [
          9078,
          9077
         ],
         "lat": [
          52.261898,
          52.257839
         ],
         "legendgroup": "196",
         "lon": [
          21.171062,
          21.15959
         ],
         "marker": {
          "color": "#B6E880",
          "size": 10
         },
         "mode": "markers",
         "name": "196",
         "showlegend": true,
         "subplot": "mapbox",
         "type": "scattermapbox"
        },
        {
         "hovertemplate": "<b>%{hovertext}</b><br><br>Lines=103<br>Lat=%{lat}<br>Lon=%{lon}<extra></extra>",
         "hovertext": [
          9413,
          9417,
          9420,
          9424,
          9419
         ],
         "lat": [
          52.23769,
          52.263706,
          52.290314,
          52.243465,
          52.281109
         ],
         "legendgroup": "103",
         "lon": [
          20.965427,
          20.950232,
          20.926916,
          20.966496,
          20.95059
         ],
         "marker": {
          "color": "#FF97FF",
          "size": 10
         },
         "mode": "markers",
         "name": "103",
         "showlegend": true,
         "subplot": "mapbox",
         "type": "scattermapbox"
        },
        {
         "hovertemplate": "<b>%{hovertext}</b><br><br>Lines=737<br>Lat=%{lat}<br>Lon=%{lon}<extra></extra>",
         "hovertext": [
          9522,
          9539,
          9543
         ],
         "lat": [
          52.161996667,
          52.0564305,
          52.1111315
         ],
         "legendgroup": "737",
         "lon": [
          21.036801833,
          20.897938833,
          21.017768
         ],
         "marker": {
          "color": "#FECB52",
          "size": 10
         },
         "mode": "markers",
         "name": "737",
         "showlegend": true,
         "subplot": "mapbox",
         "type": "scattermapbox"
        },
        {
         "hovertemplate": "<b>%{hovertext}</b><br><br>Lines=200<br>Lat=%{lat}<br>Lon=%{lon}<extra></extra>",
         "hovertext": [
          1065,
          1071
         ],
         "lat": [
          52.208252,
          52.0817349
         ],
         "legendgroup": "200",
         "lon": [
          21.007692,
          21.1139897
         ],
         "marker": {
          "color": "#636efa",
          "size": 10
         },
         "mode": "markers",
         "name": "200",
         "showlegend": true,
         "subplot": "mapbox",
         "type": "scattermapbox"
        },
        {
         "hovertemplate": "<b>%{hovertext}</b><br><br>Lines=197<br>Lat=%{lat}<br>Lon=%{lon}<extra></extra>",
         "hovertext": [
          1550,
          4338,
          1538,
          4416,
          4333,
          4339,
          4414,
          4232
         ],
         "lat": [
          52.1904333,
          52.2209607,
          52.2565417,
          52.264523,
          52.1902959,
          52.2830292,
          52.218544,
          52.2604695
         ],
         "legendgroup": "197",
         "lon": [
          20.86239,
          20.9194024,
          20.9304717,
          21.045275,
          20.8625668,
          20.9642821,
          20.910204,
          20.9389434
         ],
         "marker": {
          "color": "#EF553B",
          "size": 10
         },
         "mode": "markers",
         "name": "197",
         "showlegend": true,
         "subplot": "mapbox",
         "type": "scattermapbox"
        },
        {
         "hovertemplate": "<b>%{hovertext}</b><br><br>Lines=106<br>Lat=%{lat}<br>Lon=%{lon}<extra></extra>",
         "hovertext": [
          4429,
          1505,
          1516,
          4423,
          1539,
          1408,
          4417,
          1112,
          1101
         ],
         "lat": [
          52.246269,
          52.264828,
          52.229876,
          52.235645,
          52.2432267,
          52.243746,
          52.237423,
          52.265581,
          52.2649505
         ],
         "legendgroup": "106",
         "lon": [
          21.019482,
          21.044576,
          20.9694881,
          20.995468,
          20.966045,
          21.021956,
          21.019985,
          21.043938,
          21.0443363
         ],
         "marker": {
          "color": "#00cc96",
          "size": 10
         },
         "mode": "markers",
         "name": "106",
         "showlegend": true,
         "subplot": "mapbox",
         "type": "scattermapbox"
        },
        {
         "hovertemplate": "<b>%{hovertext}</b><br><br>Lines=502<br>Lat=%{lat}<br>Lon=%{lon}<extra></extra>",
         "hovertext": [
          8851,
          7739,
          8589,
          8330,
          8576,
          8307,
          8575
         ],
         "lat": [
          52.233379,
          52.2188421,
          52.2323467,
          52.2175041,
          52.2164383,
          52.2185145,
          52.2360267
         ],
         "legendgroup": "502",
         "lon": [
          21.115974,
          21.0152025,
          21.1315567,
          21.2428415,
          21.230915,
          21.0152143,
          21.0876383
         ],
         "marker": {
          "color": "#ab63fa",
          "size": 10
         },
         "mode": "markers",
         "name": "502",
         "showlegend": true,
         "subplot": "mapbox",
         "type": "scattermapbox"
        },
        {
         "hovertemplate": "<b>%{hovertext}</b><br><br>Lines=L42<br>Lat=%{lat}<br>Lon=%{lon}<extra></extra>",
         "hovertext": [
          70594,
          70595
         ],
         "lat": [
          52.061535,
          52.061386
         ],
         "legendgroup": "L42",
         "lon": [
          21.153097,
          21.153254
         ],
         "marker": {
          "color": "#FFA15A",
          "size": 10
         },
         "mode": "markers",
         "name": "L42",
         "showlegend": true,
         "subplot": "mapbox",
         "type": "scattermapbox"
        },
        {
         "hovertemplate": "<b>%{hovertext}</b><br><br>Lines=149<br>Lat=%{lat}<br>Lon=%{lon}<extra></extra>",
         "hovertext": [
          9512,
          9519,
          9510,
          9552
         ],
         "lat": [
          52.24583,
          52.240145167,
          52.246596,
          52.240391667
         ],
         "legendgroup": "149",
         "lon": [
          20.942624333,
          20.896408,
          20.940383667,
          20.896910167
         ],
         "marker": {
          "color": "#19d3f3",
          "size": 10
         },
         "mode": "markers",
         "name": "149",
         "showlegend": true,
         "subplot": "mapbox",
         "type": "scattermapbox"
        },
        {
         "hovertemplate": "<b>%{hovertext}</b><br><br>Lines=724<br>Lat=%{lat}<br>Lon=%{lon}<extra></extra>",
         "hovertext": [
          9548
         ],
         "lat": [
          52.084676833
         ],
         "legendgroup": "724",
         "lon": [
          21.086284833
         ],
         "marker": {
          "color": "#FF6692",
          "size": 10
         },
         "mode": "markers",
         "name": "724",
         "showlegend": true,
         "subplot": "mapbox",
         "type": "scattermapbox"
        },
        {
         "hovertemplate": "<b>%{hovertext}</b><br><br>Lines=L20<br>Lat=%{lat}<br>Lon=%{lon}<extra></extra>",
         "hovertext": [
          24512,
          24513,
          24515,
          24514
         ],
         "lat": [
          52.132637,
          52.105022,
          52.132118,
          52.132263
         ],
         "legendgroup": "L20",
         "lon": [
          21.47172,
          21.300175,
          21.471733,
          21.471516
         ],
         "marker": {
          "color": "#B6E880",
          "size": 10
         },
         "mode": "markers",
         "name": "L20",
         "showlegend": true,
         "subplot": "mapbox",
         "type": "scattermapbox"
        },
        {
         "hovertemplate": "<b>%{hovertext}</b><br><br>Lines=124<br>Lat=%{lat}<br>Lon=%{lon}<extra></extra>",
         "hovertext": [
          7236,
          5215
         ],
         "lat": [
          52.1716285,
          52.151773
         ],
         "legendgroup": "124",
         "lon": [
          20.9387647,
          20.964983
         ],
         "marker": {
          "color": "#FF97FF",
          "size": 10
         },
         "mode": "markers",
         "name": "124",
         "showlegend": true,
         "subplot": "mapbox",
         "type": "scattermapbox"
        },
        {
         "hovertemplate": "<b>%{hovertext}</b><br><br>Lines=194<br>Lat=%{lat}<br>Lon=%{lon}<extra></extra>",
         "hovertext": [
          9516,
          9515,
          9524,
          9536,
          9530,
          9554
         ],
         "lat": [
          52.198403,
          52.194446333,
          52.211765167,
          52.220201333,
          52.207012833,
          52.2066105
         ],
         "legendgroup": "194",
         "lon": [
          20.8905385,
          20.868321833,
          20.913602333,
          20.917183667,
          20.858839833,
          20.8832505
         ],
         "marker": {
          "color": "#FECB52",
          "size": 10
         },
         "mode": "markers",
         "name": "194",
         "showlegend": true,
         "subplot": "mapbox",
         "type": "scattermapbox"
        },
        {
         "hovertemplate": "<b>%{hovertext}</b><br><br>Lines=707<br>Lat=%{lat}<br>Lon=%{lon}<extra></extra>",
         "hovertext": [
          9533
         ],
         "lat": [
          52.1756295
         ],
         "legendgroup": "707",
         "lon": [
          20.9441915
         ],
         "marker": {
          "color": "#636efa",
          "size": 10
         },
         "mode": "markers",
         "name": "707",
         "showlegend": true,
         "subplot": "mapbox",
         "type": "scattermapbox"
        },
        {
         "hovertemplate": "<b>%{hovertext}</b><br><br>Lines=153<br>Lat=%{lat}<br>Lon=%{lon}<extra></extra>",
         "hovertext": [
          9340,
          9332,
          9314
         ],
         "lat": [
          52.26952,
          52.256893,
          52.27095
         ],
         "legendgroup": "153",
         "lon": [
          21.151325,
          21.177193,
          21.151247
         ],
         "marker": {
          "color": "#EF553B",
          "size": 10
         },
         "mode": "markers",
         "name": "153",
         "showlegend": true,
         "subplot": "mapbox",
         "type": "scattermapbox"
        },
        {
         "hovertemplate": "<b>%{hovertext}</b><br><br>Lines=118<br>Lat=%{lat}<br>Lon=%{lon}<extra></extra>",
         "hovertext": [
          9678,
          9692,
          9696,
          9699,
          9679
         ],
         "lat": [
          52.274933,
          52.226982,
          52.282921,
          52.300102,
          52.224064
         ],
         "legendgroup": "118",
         "lon": [
          20.994987,
          21.023245,
          20.990843,
          21.041315,
          21.024124
         ],
         "marker": {
          "color": "#00cc96",
          "size": 10
         },
         "mode": "markers",
         "name": "118",
         "showlegend": true,
         "subplot": "mapbox",
         "type": "scattermapbox"
        },
        {
         "hovertemplate": "<b>%{hovertext}</b><br><br>Lines=736<br>Lat=%{lat}<br>Lon=%{lon}<extra></extra>",
         "hovertext": [
          4428,
          1042
         ],
         "lat": [
          52.266144,
          52.3984067
         ],
         "legendgroup": "736",
         "lon": [
          21.043497,
          20.9396917
         ],
         "marker": {
          "color": "#ab63fa",
          "size": 10
         },
         "mode": "markers",
         "name": "736",
         "showlegend": true,
         "subplot": "mapbox",
         "type": "scattermapbox"
        },
        {
         "hovertemplate": "<b>%{hovertext}</b><br><br>Lines=135<br>Lat=%{lat}<br>Lon=%{lon}<extra></extra>",
         "hovertext": [
          9323,
          9312,
          9333,
          9331
         ],
         "lat": [
          52.26107,
          52.248146,
          52.24839,
          52.236408
         ],
         "legendgroup": "135",
         "lon": [
          21.030806,
          21.046896,
          21.107103,
          21.086735
         ],
         "marker": {
          "color": "#FFA15A",
          "size": 10
         },
         "mode": "markers",
         "name": "135",
         "showlegend": true,
         "subplot": "mapbox",
         "type": "scattermapbox"
        },
        {
         "hovertemplate": "<b>%{hovertext}</b><br><br>Lines=L45<br>Lat=%{lat}<br>Lon=%{lon}<extra></extra>",
         "hovertext": [
          80635,
          80641
         ],
         "lat": [
          52.340725,
          52.30492
         ],
         "legendgroup": "L45",
         "lon": [
          21.119743,
          21.08523
         ],
         "marker": {
          "color": "#19d3f3",
          "size": 10
         },
         "mode": "markers",
         "name": "L45",
         "showlegend": true,
         "subplot": "mapbox",
         "type": "scattermapbox"
        },
        {
         "hovertemplate": "<b>%{hovertext}</b><br><br>Lines=Lines<br>Lat=%{lat}<br>Lon=%{lon}<extra></extra>",
         "hovertext": [
          null
         ],
         "lat": [
          null
         ],
         "legendgroup": "Lines",
         "lon": [
          null
         ],
         "marker": {
          "color": "#FF6692",
          "size": 10
         },
         "mode": "markers",
         "name": "Lines",
         "showlegend": true,
         "subplot": "mapbox",
         "type": "scattermapbox"
        },
        {
         "hovertemplate": "<b>%{hovertext}</b><br><br>Lines=L34<br>Lat=%{lat}<br>Lon=%{lon}<extra></extra>",
         "hovertext": [
          15621,
          15618
         ],
         "lat": [
          52.437824,
          52.441414
         ],
         "legendgroup": "L34",
         "lon": [
          20.945114,
          20.863445
         ],
         "marker": {
          "color": "#B6E880",
          "size": 10
         },
         "mode": "markers",
         "name": "L34",
         "showlegend": true,
         "subplot": "mapbox",
         "type": "scattermapbox"
        },
        {
         "hovertemplate": "<b>%{hovertext}</b><br><br>Lines=213<br>Lat=%{lat}<br>Lon=%{lon}<extra></extra>",
         "hovertext": [
          1008,
          1855,
          1001,
          1003,
          1014,
          1004,
          1011,
          1013
         ],
         "lat": [
          52.234613,
          52.1594195,
          52.2141131,
          52.234605,
          52.176454,
          52.234645,
          52.2346108,
          52.2261426
         ],
         "legendgroup": "213",
         "lon": [
          21.115696,
          21.2031713,
          21.1439753,
          21.115079,
          21.232639,
          21.115438,
          21.1153973,
          21.1003301
         ],
         "marker": {
          "color": "#FF97FF",
          "size": 10
         },
         "mode": "markers",
         "name": "213",
         "showlegend": true,
         "subplot": "mapbox",
         "type": "scattermapbox"
        },
        {
         "hovertemplate": "<b>%{hovertext}</b><br><br>Lines=111<br>Lat=%{lat}<br>Lon=%{lon}<extra></extra>",
         "hovertext": [
          5960,
          5914,
          5937,
          5964,
          5972,
          5928,
          5935,
          5991
         ],
         "lat": [
          52.222054,
          52.232201,
          52.235306,
          52.247204,
          52.223717,
          52.225986,
          52.244362,
          52.24054
         ],
         "legendgroup": "111",
         "lon": [
          21.102486,
          21.023325,
          21.059258,
          20.988373,
          21.101881,
          21.083139,
          20.979134,
          21.014324
         ],
         "marker": {
          "color": "#FECB52",
          "size": 10
         },
         "mode": "markers",
         "name": "111",
         "showlegend": true,
         "subplot": "mapbox",
         "type": "scattermapbox"
        },
        {
         "hovertemplate": "<b>%{hovertext}</b><br><br>Lines=167<br>Lat=%{lat}<br>Lon=%{lon}<extra></extra>",
         "hovertext": [
          7720,
          5206,
          8519,
          8805,
          8881,
          8804,
          8162,
          8806
         ],
         "lat": [
          52.2120341,
          52.2235611,
          52.2091783,
          52.2084018,
          52.2341191,
          52.2082135,
          52.1884273,
          52.2262905
         ],
         "legendgroup": "167",
         "lon": [
          21.0737316,
          20.9584061,
          21.0170917,
          21.0126936,
          20.925644,
          21.0827691,
          20.9975516,
          20.943439
         ],
         "marker": {
          "color": "#636efa",
          "size": 10
         },
         "mode": "markers",
         "name": "167",
         "showlegend": true,
         "subplot": "mapbox",
         "type": "scattermapbox"
        },
        {
         "hovertemplate": "<b>%{hovertext}</b><br><br>Lines=161<br>Lat=%{lat}<br>Lon=%{lon}<extra></extra>",
         "hovertext": [
          9076,
          9074,
          9070
         ],
         "lat": [
          52.160267,
          52.182331,
          52.186699
         ],
         "legendgroup": "161",
         "lon": [
          21.207312,
          21.219995,
          21.224789
         ],
         "marker": {
          "color": "#EF553B",
          "size": 10
         },
         "mode": "markers",
         "name": "161",
         "showlegend": true,
         "subplot": "mapbox",
         "type": "scattermapbox"
        },
        {
         "hovertemplate": "<b>%{hovertext}</b><br><br>Lines=211<br>Lat=%{lat}<br>Lon=%{lon}<extra></extra>",
         "hovertext": [
          9088,
          9084,
          9086,
          9083,
          9085
         ],
         "lat": [
          52.312115,
          52.355381,
          52.348587,
          52.291195,
          52.330219
         ],
         "legendgroup": "211",
         "lon": [
          20.966387,
          20.939911,
          20.94239,
          21.000961,
          20.955048
         ],
         "marker": {
          "color": "#00cc96",
          "size": 10
         },
         "mode": "markers",
         "name": "211",
         "showlegend": true,
         "subplot": "mapbox",
         "type": "scattermapbox"
        },
        {
         "hovertemplate": "<b>%{hovertext}</b><br><br>Lines=173<br>Lat=%{lat}<br>Lon=%{lon}<extra></extra>",
         "hovertext": [
          1427,
          1530,
          1412,
          1528,
          4310
         ],
         "lat": [
          52.248913,
          52.250145,
          52.240719,
          52.21436,
          52.2462589
         ],
         "legendgroup": "173",
         "lon": [
          21.061502,
          21.052354,
          21.160074,
          21.2175217,
          21.2219371
         ],
         "marker": {
          "color": "#ab63fa",
          "size": 10
         },
         "mode": "markers",
         "name": "173",
         "showlegend": true,
         "subplot": "mapbox",
         "type": "scattermapbox"
        },
        {
         "hovertemplate": "<b>%{hovertext}</b><br><br>Lines=169<br>Lat=%{lat}<br>Lon=%{lon}<extra></extra>",
         "hovertext": [
          8449,
          3467,
          8858,
          3442,
          8444
         ],
         "lat": [
          52.25293,
          52.3000725,
          52.2875666,
          52.253498,
          52.279835
         ],
         "legendgroup": "169",
         "lon": [
          21.051794,
          21.041893,
          21.0404241,
          21.036006,
          21.045603
         ],
         "marker": {
          "color": "#FFA15A",
          "size": 10
         },
         "mode": "markers",
         "name": "169",
         "showlegend": true,
         "subplot": "mapbox",
         "type": "scattermapbox"
        },
        {
         "hovertemplate": "<b>%{hovertext}</b><br><br>Lines=150<br>Lat=%{lat}<br>Lon=%{lon}<extra></extra>",
         "hovertext": [
          734,
          761,
          739,
          778
         ],
         "lat": [
          52.36039,
          52.341454,
          52.298443,
          52.3247942
         ],
         "legendgroup": "150",
         "lon": [
          20.864891,
          20.847069,
          20.935217,
          20.9093464
         ],
         "marker": {
          "color": "#19d3f3",
          "size": 10
         },
         "mode": "markers",
         "name": "150",
         "showlegend": true,
         "subplot": "mapbox",
         "type": "scattermapbox"
        },
        {
         "hovertemplate": "<b>%{hovertext}</b><br><br>Lines=217<br>Lat=%{lat}<br>Lon=%{lon}<extra></extra>",
         "hovertext": [
          8537,
          2030,
          8812
         ],
         "lat": [
          52.170536,
          52.1797242,
          52.1661635
         ],
         "legendgroup": "217",
         "lon": [
          21.064163,
          21.0239502,
          21.069508
         ],
         "marker": {
          "color": "#FF6692",
          "size": 10
         },
         "mode": "markers",
         "name": "217",
         "showlegend": true,
         "subplot": "mapbox",
         "type": "scattermapbox"
        },
        {
         "hovertemplate": "<b>%{hovertext}</b><br><br>Lines=212<br>Lat=%{lat}<br>Lon=%{lon}<extra></extra>",
         "hovertext": [
          9695,
          9698,
          9697,
          9693
         ],
         "lat": [
          52.279774,
          52.275181,
          52.262062,
          52.3018
         ],
         "legendgroup": "212",
         "lon": [
          21.05584,
          21.0562,
          21.032488,
          21.0567
         ],
         "marker": {
          "color": "#B6E880",
          "size": 10
         },
         "mode": "markers",
         "name": "212",
         "showlegend": true,
         "subplot": "mapbox",
         "type": "scattermapbox"
        },
        {
         "hovertemplate": "<b>%{hovertext}</b><br><br>Lines=114<br>Lat=%{lat}<br>Lon=%{lon}<extra></extra>",
         "hovertext": [
          9907,
          9944,
          9948,
          9941,
          9951,
          9936,
          9950,
          9949,
          9924
         ],
         "lat": [
          52.269588,
          52.30022,
          52.269249,
          52.273899,
          52.300804,
          52.295872,
          52.306496,
          52.275028,
          52.288765
         ],
         "legendgroup": "114",
         "lon": [
          20.953169,
          21.041739,
          20.987347,
          20.9958,
          20.938574,
          21.042322,
          20.932209,
          20.937611,
          21.032305
         ],
         "marker": {
          "color": "#FF97FF",
          "size": 10
         },
         "mode": "markers",
         "name": "114",
         "showlegend": true,
         "subplot": "mapbox",
         "type": "scattermapbox"
        },
        {
         "hovertemplate": "<b>%{hovertext}</b><br><br>Lines=N12<br>Lat=%{lat}<br>Lon=%{lon}<extra></extra>",
         "hovertext": [
          4420
         ],
         "lat": [
          52.264716
         ],
         "legendgroup": "N12",
         "lon": [
          21.044878
         ],
         "marker": {
          "color": "#FECB52",
          "size": 10
         },
         "mode": "markers",
         "name": "N12",
         "showlegend": true,
         "subplot": "mapbox",
         "type": "scattermapbox"
        },
        {
         "hovertemplate": "<b>%{hovertext}</b><br><br>Lines=108<br>Lat=%{lat}<br>Lon=%{lon}<extra></extra>",
         "hovertext": [
          1062,
          1028,
          9210,
          9212,
          9250
         ],
         "lat": [
          52.229729,
          52.1884459,
          52.210423,
          52.1796226,
          52.186131
         ],
         "legendgroup": "108",
         "lon": [
          21.02249,
          20.995085,
          21.07562,
          21.0241867,
          21.062624
         ],
         "marker": {
          "color": "#636efa",
          "size": 10
         },
         "mode": "markers",
         "name": "108",
         "showlegend": true,
         "subplot": "mapbox",
         "type": "scattermapbox"
        },
        {
         "hovertemplate": "<b>%{hovertext}</b><br><br>Lines=727<br>Lat=%{lat}<br>Lon=%{lon}<extra></extra>",
         "hovertext": [
          1218,
          8142,
          1202
         ],
         "lat": [
          52.05637,
          52.18816,
          52.1453521
         ],
         "legendgroup": "727",
         "lon": [
          20.898174,
          20.998456,
          21.0178245
         ],
         "marker": {
          "color": "#EF553B",
          "size": 10
         },
         "mode": "markers",
         "name": "727",
         "showlegend": true,
         "subplot": "mapbox",
         "type": "scattermapbox"
        },
        {
         "hovertemplate": "<b>%{hovertext}</b><br><br>Lines=N32<br>Lat=%{lat}<br>Lon=%{lon}<extra></extra>",
         "hovertext": [
          8546
         ],
         "lat": [
          52.187761
         ],
         "legendgroup": "N32",
         "lon": [
          20.998198
         ],
         "marker": {
          "color": "#00cc96",
          "size": 10
         },
         "mode": "markers",
         "name": "N32",
         "showlegend": true,
         "subplot": "mapbox",
         "type": "scattermapbox"
        },
        {
         "hovertemplate": "<b>%{hovertext}</b><br><br>Lines=900<br>Lat=%{lat}<br>Lon=%{lon}<extra></extra>",
         "hovertext": [
          9090
         ],
         "lat": [
          52.35886
         ],
         "legendgroup": "900",
         "lon": [
          20.953674
         ],
         "marker": {
          "color": "#ab63fa",
          "size": 10
         },
         "mode": "markers",
         "name": "900",
         "showlegend": true,
         "subplot": "mapbox",
         "type": "scattermapbox"
        },
        {
         "hovertemplate": "<b>%{hovertext}</b><br><br>Lines=L13<br>Lat=%{lat}<br>Lon=%{lon}<extra></extra>",
         "hovertext": [
          39557,
          39561,
          39558
         ],
         "lat": [
          52.028809,
          51.982636,
          52.027954
         ],
         "legendgroup": "L13",
         "lon": [
          21.027725,
          21.21739,
          21.030777
         ],
         "marker": {
          "color": "#FFA15A",
          "size": 10
         },
         "mode": "markers",
         "name": "L13",
         "showlegend": true,
         "subplot": "mapbox",
         "type": "scattermapbox"
        },
        {
         "hovertemplate": "<b>%{hovertext}</b><br><br>Lines=735<br>Lat=%{lat}<br>Lon=%{lon}<extra></extra>",
         "hovertext": [
          3439,
          3409,
          3406
         ],
         "lat": [
          52.2743685,
          52.453813,
          52.3202396
         ],
         "legendgroup": "735",
         "lon": [
          20.9683216,
          21.011828,
          21.0121396
         ],
         "marker": {
          "color": "#19d3f3",
          "size": 10
         },
         "mode": "markers",
         "name": "735",
         "showlegend": true,
         "subplot": "mapbox",
         "type": "scattermapbox"
        },
        {
         "hovertemplate": "<b>%{hovertext}</b><br><br>Lines=710<br>Lat=%{lat}<br>Lon=%{lon}<extra></extra>",
         "hovertext": [
          9827,
          9845,
          9836,
          9851
         ],
         "lat": [
          52.076539,
          52.07626,
          52.131706,
          52.132519
         ],
         "legendgroup": "710",
         "lon": [
          21.036164,
          21.054569,
          21.07015,
          21.07608
         ],
         "marker": {
          "color": "#FF6692",
          "size": 10
         },
         "mode": "markers",
         "name": "710",
         "showlegend": true,
         "subplot": "mapbox",
         "type": "scattermapbox"
        },
        {
         "hovertemplate": "<b>%{hovertext}</b><br><br>Lines=L25<br>Lat=%{lat}<br>Lon=%{lon}<extra></extra>",
         "hovertext": [
          39553
         ],
         "lat": [
          51.987343
         ],
         "legendgroup": "L25",
         "lon": [
          21.191395
         ],
         "marker": {
          "color": "#B6E880",
          "size": 10
         },
         "mode": "markers",
         "name": "L25",
         "showlegend": true,
         "subplot": "mapbox",
         "type": "scattermapbox"
        },
        {
         "hovertemplate": "<b>%{hovertext}</b><br><br>Lines=L23<br>Lat=%{lat}<br>Lon=%{lon}<extra></extra>",
         "hovertext": [
          70003
         ],
         "lat": [
          52.0601258
         ],
         "legendgroup": "L23",
         "lon": [
          21.044282
         ],
         "marker": {
          "color": "#FF97FF",
          "size": 10
         },
         "mode": "markers",
         "name": "L23",
         "showlegend": true,
         "subplot": "mapbox",
         "type": "scattermapbox"
        },
        {
         "hovertemplate": "<b>%{hovertext}</b><br><br>Lines=N46<br>Lat=%{lat}<br>Lon=%{lon}<extra></extra>",
         "hovertext": [
          5440
         ],
         "lat": [
          52.264863
         ],
         "legendgroup": "N46",
         "lon": [
          21.046839
         ],
         "marker": {
          "color": "#FECB52",
          "size": 10
         },
         "mode": "markers",
         "name": "N46",
         "showlegend": true,
         "subplot": "mapbox",
         "type": "scattermapbox"
        },
        {
         "hovertemplate": "<b>%{hovertext}</b><br><br>Lines=E-2<br>Lat=%{lat}<br>Lon=%{lon}<extra></extra>",
         "hovertext": [
          8548
         ],
         "lat": [
          52.187668
         ],
         "legendgroup": "E-2",
         "lon": [
          20.997641
         ],
         "marker": {
          "color": "#636efa",
          "size": 10
         },
         "mode": "markers",
         "name": "E-2",
         "showlegend": true,
         "subplot": "mapbox",
         "type": "scattermapbox"
        },
        {
         "hovertemplate": "<b>%{hovertext}</b><br><br>Lines=143<br>Lat=%{lat}<br>Lon=%{lon}<extra></extra>",
         "hovertext": [
          8594,
          7735,
          8844,
          8367,
          8593,
          8590,
          8852,
          8361,
          8346
         ],
         "lat": [
          52.261788,
          52.228662,
          52.2337076,
          52.26008,
          52.2569767,
          52.2150133,
          52.234301,
          52.2401233,
          52.233565
         ],
         "legendgroup": "143",
         "lon": [
          21.171978,
          21.0636871,
          21.1170515,
          21.142018,
          21.1771267,
          21.005485,
          21.116585,
          21.0817067,
          21.1276767
         ],
         "marker": {
          "color": "#EF553B",
          "size": 10
         },
         "mode": "markers",
         "name": "143",
         "showlegend": true,
         "subplot": "mapbox",
         "type": "scattermapbox"
        },
        {
         "hovertemplate": "<b>%{hovertext}</b><br><br>Lines=245<br>Lat=%{lat}<br>Lon=%{lon}<extra></extra>",
         "hovertext": [
          9345,
          9334
         ],
         "lat": [
          52.276539,
          52.27956
         ],
         "legendgroup": "245",
         "lon": [
          21.052925,
          21.128115
         ],
         "marker": {
          "color": "#00cc96",
          "size": 10
         },
         "mode": "markers",
         "name": "245",
         "showlegend": true,
         "subplot": "mapbox",
         "type": "scattermapbox"
        },
        {
         "hovertemplate": "<b>%{hovertext}</b><br><br>Lines=209<br>Lat=%{lat}<br>Lon=%{lon}<extra></extra>",
         "hovertext": [
          9241,
          9253,
          9252
         ],
         "lat": [
          52.143494,
          52.124069,
          52.149116
         ],
         "legendgroup": "209",
         "lon": [
          21.019178,
          20.998505,
          21.032231
         ],
         "marker": {
          "color": "#ab63fa",
          "size": 10
         },
         "mode": "markers",
         "name": "209",
         "showlegend": true,
         "subplot": "mapbox",
         "type": "scattermapbox"
        },
        {
         "hovertemplate": "<b>%{hovertext}</b><br><br>Lines=L39<br>Lat=%{lat}<br>Lon=%{lon}<extra></extra>",
         "hovertext": [
          70574,
          70571,
          70572,
          70004,
          70002
         ],
         "lat": [
          52.1003,
          52.060707,
          52.081032,
          52.1099633,
          52.0830746
         ],
         "legendgroup": "L39",
         "lon": [
          21.053543,
          21.024292,
          21.024479,
          20.9923943,
          21.0348538
         ],
         "marker": {
          "color": "#FFA15A",
          "size": 10
         },
         "mode": "markers",
         "name": "L39",
         "showlegend": true,
         "subplot": "mapbox",
         "type": "scattermapbox"
        },
        {
         "hovertemplate": "<b>%{hovertext}</b><br><br>Lines=365<br>Lat=%{lat}<br>Lon=%{lon}<extra></extra>",
         "hovertext": [
          1029
         ],
         "lat": [
          52.188488
         ],
         "legendgroup": "365",
         "lon": [
          20.995823
         ],
         "marker": {
          "color": "#19d3f3",
          "size": 10
         },
         "mode": "markers",
         "name": "365",
         "showlegend": true,
         "subplot": "mapbox",
         "type": "scattermapbox"
        },
        {
         "hovertemplate": "<b>%{hovertext}</b><br><br>Lines=185<br>Lat=%{lat}<br>Lon=%{lon}<extra></extra>",
         "hovertext": [
          3458,
          8462,
          8504,
          8313,
          8308,
          8180,
          8889,
          3424
         ],
         "lat": [
          52.287573,
          52.177528,
          52.142515,
          52.1872726,
          52.2216733,
          52.242975,
          52.285756,
          52.145343
         ],
         "legendgroup": "185",
         "lon": [
          20.976673,
          21.046738,
          21.025525,
          21.0631865,
          21.044885,
          21.027294,
          20.9719388,
          21.0374605
         ],
         "marker": {
          "color": "#FF6692",
          "size": 10
         },
         "mode": "markers",
         "name": "185",
         "showlegend": true,
         "subplot": "mapbox",
         "type": "scattermapbox"
        },
        {
         "hovertemplate": "<b>%{hovertext}</b><br><br>Lines=401<br>Lat=%{lat}<br>Lon=%{lon}<extra></extra>",
         "hovertext": [
          5203
         ],
         "lat": [
          52.196271
         ],
         "legendgroup": "401",
         "lon": [
          20.922048
         ],
         "marker": {
          "color": "#B6E880",
          "size": 10
         },
         "mode": "markers",
         "name": "401",
         "showlegend": true,
         "subplot": "mapbox",
         "type": "scattermapbox"
        },
        {
         "hovertemplate": "<b>%{hovertext}</b><br><br>Lines=199<br>Lat=%{lat}<br>Lon=%{lon}<extra></extra>",
         "hovertext": [
          9335,
          9352,
          9359
         ],
         "lat": [
          52.287807,
          52.26265,
          52.276421
         ],
         "legendgroup": "199",
         "lon": [
          21.118355,
          21.157785,
          21.052979
         ],
         "marker": {
          "color": "#FF97FF",
          "size": 10
         },
         "mode": "markers",
         "name": "199",
         "showlegend": true,
         "subplot": "mapbox",
         "type": "scattermapbox"
        },
        {
         "hovertemplate": "<b>%{hovertext}</b><br><br>Lines=L17<br>Lat=%{lat}<br>Lon=%{lon}<extra></extra>",
         "hovertext": [
          36443
         ],
         "lat": [
          52.082954
         ],
         "legendgroup": "L17",
         "lon": [
          21.034964
         ],
         "marker": {
          "color": "#FECB52",
          "size": 10
         },
         "mode": "markers",
         "name": "L17",
         "showlegend": true,
         "subplot": "mapbox",
         "type": "scattermapbox"
        },
        {
         "hovertemplate": "<b>%{hovertext}</b><br><br>Lines=L-2<br>Lat=%{lat}<br>Lon=%{lon}<extra></extra>",
         "hovertext": [
          39564,
          39565,
          60053
         ],
         "lat": [
          52.077,
          52.050591,
          52.2191033
         ],
         "legendgroup": "L-2",
         "lon": [
          21.025843,
          20.995167,
          20.8050051
         ],
         "marker": {
          "color": "#636efa",
          "size": 10
         },
         "mode": "markers",
         "name": "L-2",
         "showlegend": true,
         "subplot": "mapbox",
         "type": "scattermapbox"
        },
        {
         "hovertemplate": "<b>%{hovertext}</b><br><br>Lines=L36<br>Lat=%{lat}<br>Lon=%{lon}<extra></extra>",
         "hovertext": [
          80643
         ],
         "lat": [
          52.336781
         ],
         "legendgroup": "L36",
         "lon": [
          21.236525
         ],
         "marker": {
          "color": "#EF553B",
          "size": 10
         },
         "mode": "markers",
         "name": "L36",
         "showlegend": true,
         "subplot": "mapbox",
         "type": "scattermapbox"
        },
        {
         "hovertemplate": "<b>%{hovertext}</b><br><br>Lines=L18<br>Lat=%{lat}<br>Lon=%{lon}<extra></extra>",
         "hovertext": [
          60058,
          60057
         ],
         "lat": [
          52.3127426,
          52.2506991
         ],
         "legendgroup": "L18",
         "lon": [
          20.8129445,
          20.843217
         ],
         "marker": {
          "color": "#00cc96",
          "size": 10
         },
         "mode": "markers",
         "name": "L18",
         "showlegend": true,
         "subplot": "mapbox",
         "type": "scattermapbox"
        },
        {
         "hovertemplate": "<b>%{hovertext}</b><br><br>Lines=N02<br>Lat=%{lat}<br>Lon=%{lon}<extra></extra>",
         "hovertext": [
          4405,
          4404
         ],
         "lat": [
          52.264687,
          52.264256
         ],
         "legendgroup": "N02",
         "lon": [
          21.046423,
          21.045756
         ],
         "marker": {
          "color": "#ab63fa",
          "size": 10
         },
         "mode": "markers",
         "name": "N02",
         "showlegend": true,
         "subplot": "mapbox",
         "type": "scattermapbox"
        },
        {
         "hovertemplate": "<b>%{hovertext}</b><br><br>Lines=729<br>Lat=%{lat}<br>Lon=%{lon}<extra></extra>",
         "hovertext": [
          4249
         ],
         "lat": [
          52.2622452
         ],
         "legendgroup": "729",
         "lon": [
          20.7954941
         ],
         "marker": {
          "color": "#FFA15A",
          "size": 10
         },
         "mode": "markers",
         "name": "729",
         "showlegend": true,
         "subplot": "mapbox",
         "type": "scattermapbox"
        },
        {
         "hovertemplate": "<b>%{hovertext}</b><br><br>Lines=511<br>Lat=%{lat}<br>Lon=%{lon}<extra></extra>",
         "hovertext": [
          5428,
          8862,
          3462,
          8584,
          5454
         ],
         "lat": [
          52.348606,
          52.264764,
          52.266052,
          52.2913017,
          52.3076959
         ],
         "legendgroup": "511",
         "lon": [
          20.9426,
          21.047671,
          21.0420606,
          20.928035,
          20.9536836
         ],
         "marker": {
          "color": "#19d3f3",
          "size": 10
         },
         "mode": "markers",
         "name": "511",
         "showlegend": true,
         "subplot": "mapbox",
         "type": "scattermapbox"
        },
        {
         "hovertemplate": "<b>%{hovertext}</b><br><br>Lines=525<br>Lat=%{lat}<br>Lon=%{lon}<extra></extra>",
         "hovertext": [
          9839,
          9848,
          9830,
          9823,
          9826,
          9843
         ],
         "lat": [
          52.208382,
          52.228233,
          52.2285,
          52.220222,
          52.229568,
          52.2254647
         ],
         "legendgroup": "525",
         "lon": [
          21.196519,
          21.140625,
          21.062025,
          21.029181,
          21.003811,
          21.1616408
         ],
         "marker": {
          "color": "#FF6692",
          "size": 10
         },
         "mode": "markers",
         "name": "525",
         "showlegend": true,
         "subplot": "mapbox",
         "type": "scattermapbox"
        },
        {
         "hovertemplate": "<b>%{hovertext}</b><br><br>Lines=L11<br>Lat=%{lat}<br>Lon=%{lon}<extra></extra>",
         "hovertext": [
          15617,
          15615
         ],
         "lat": [
          52.45108,
          52.424141
         ],
         "legendgroup": "L11",
         "lon": [
          20.968586,
          20.72617
         ],
         "marker": {
          "color": "#B6E880",
          "size": 10
         },
         "mode": "markers",
         "name": "L11",
         "showlegend": true,
         "subplot": "mapbox",
         "type": "scattermapbox"
        },
        {
         "hovertemplate": "<b>%{hovertext}</b><br><br>Lines=102<br>Lat=%{lat}<br>Lon=%{lon}<extra></extra>",
         "hovertext": [
          9325,
          9322,
          9342
         ],
         "lat": [
          52.242092,
          52.250198,
          52.250587
         ],
         "legendgroup": "102",
         "lon": [
          21.041874,
          21.088799,
          21.084761
         ],
         "marker": {
          "color": "#FF97FF",
          "size": 10
         },
         "mode": "markers",
         "name": "102",
         "showlegend": true,
         "subplot": "mapbox",
         "type": "scattermapbox"
        },
        {
         "hovertemplate": "<b>%{hovertext}</b><br><br>Lines=L-8<br>Lat=%{lat}<br>Lon=%{lon}<extra></extra>",
         "hovertext": [
          10606
         ],
         "lat": [
          52.423595
         ],
         "legendgroup": "L-8",
         "lon": [
          21.083366
         ],
         "marker": {
          "color": "#FECB52",
          "size": 10
         },
         "mode": "markers",
         "name": "L-8",
         "showlegend": true,
         "subplot": "mapbox",
         "type": "scattermapbox"
        },
        {
         "hovertemplate": "<b>%{hovertext}</b><br><br>Lines=202<br>Lat=%{lat}<br>Lon=%{lon}<extra></extra>",
         "hovertext": [
          9350,
          9346,
          9326,
          9319
         ],
         "lat": [
          52.247349,
          52.240253,
          52.250195,
          52.242191
         ],
         "legendgroup": "202",
         "lon": [
          21.054525,
          21.128654,
          21.052486,
          21.041988
         ],
         "marker": {
          "color": "#636efa",
          "size": 10
         },
         "mode": "markers",
         "name": "202",
         "showlegend": true,
         "subplot": "mapbox",
         "type": "scattermapbox"
        },
        {
         "hovertemplate": "<b>%{hovertext}</b><br><br>Lines=220<br>Lat=%{lat}<br>Lon=%{lon}<extra></extra>",
         "hovertext": [
          9528,
          9559,
          9549,
          9525
         ],
         "lat": [
          52.2503925,
          52.175291167,
          52.256687667,
          52.193798833
         ],
         "legendgroup": "220",
         "lon": [
          20.8984135,
          20.9184275,
          20.918998333,
          20.9029535
         ],
         "marker": {
          "color": "#EF553B",
          "size": 10
         },
         "mode": "markers",
         "name": "220",
         "showlegend": true,
         "subplot": "mapbox",
         "type": "scattermapbox"
        },
        {
         "hovertemplate": "<b>%{hovertext}</b><br><br>Lines=705<br>Lat=%{lat}<br>Lon=%{lon}<extra></extra>",
         "hovertext": [
          3401,
          8454,
          8461
         ],
         "lat": [
          52.2719976,
          52.464366,
          52.41494
         ],
         "legendgroup": "705",
         "lon": [
          20.968199,
          21.0818855,
          21.037905
         ],
         "marker": {
          "color": "#00cc96",
          "size": 10
         },
         "mode": "markers",
         "name": "705",
         "showlegend": true,
         "subplot": "mapbox",
         "type": "scattermapbox"
        },
        {
         "hovertemplate": "<b>%{hovertext}</b><br><br>Lines=203<br>Lat=%{lat}<br>Lon=%{lon}<extra></extra>",
         "hovertext": [
          9238,
          9237
         ],
         "lat": [
          52.2911823,
          52.274868
         ],
         "legendgroup": "203",
         "lon": [
          20.9283531,
          20.904011
         ],
         "marker": {
          "color": "#ab63fa",
          "size": 10
         },
         "mode": "markers",
         "name": "203",
         "showlegend": true,
         "subplot": "mapbox",
         "type": "scattermapbox"
        },
        {
         "hovertemplate": "<b>%{hovertext}</b><br><br>Lines=L46<br>Lat=%{lat}<br>Lon=%{lon}<extra></extra>",
         "hovertext": [
          80105,
          80106
         ],
         "lat": [
          52.2970673,
          52.3240546
         ],
         "legendgroup": "L46",
         "lon": [
          21.1549565,
          21.1077636
         ],
         "marker": {
          "color": "#FFA15A",
          "size": 10
         },
         "mode": "markers",
         "name": "L46",
         "showlegend": true,
         "subplot": "mapbox",
         "type": "scattermapbox"
        },
        {
         "hovertemplate": "<b>%{hovertext}</b><br><br>Lines=251<br>Lat=%{lat}<br>Lon=%{lon}<extra></extra>",
         "hovertext": [
          1913,
          1914,
          1911,
          1906,
          1915
         ],
         "lat": [
          52.147587,
          52.0894922,
          52.1767724,
          52.1881163,
          52.1865579
         ],
         "legendgroup": "251",
         "lon": [
          21.092939,
          21.1231082,
          21.0380964,
          20.9965963,
          20.9953892
         ],
         "marker": {
          "color": "#19d3f3",
          "size": 10
         },
         "mode": "markers",
         "name": "251",
         "showlegend": true,
         "subplot": "mapbox",
         "type": "scattermapbox"
        },
        {
         "hovertemplate": "<b>%{hovertext}</b><br><br>Lines=733<br>Lat=%{lat}<br>Lon=%{lon}<extra></extra>",
         "hovertext": [
          4211
         ],
         "lat": [
          52.17424
         ],
         "legendgroup": "733",
         "lon": [
          20.942825
         ],
         "marker": {
          "color": "#FF6692",
          "size": 10
         },
         "mode": "markers",
         "name": "733",
         "showlegend": true,
         "subplot": "mapbox",
         "type": "scattermapbox"
        },
        {
         "hovertemplate": "<b>%{hovertext}</b><br><br>Lines=L40<br>Lat=%{lat}<br>Lon=%{lon}<extra></extra>",
         "hovertext": [
          80108
         ],
         "lat": [
          52.359414
         ],
         "legendgroup": "L40",
         "lon": [
          21.1352923
         ],
         "marker": {
          "color": "#B6E880",
          "size": 10
         },
         "mode": "markers",
         "name": "L40",
         "showlegend": true,
         "subplot": "mapbox",
         "type": "scattermapbox"
        },
        {
         "hovertemplate": "<b>%{hovertext}</b><br><br>Lines=414<br>Lat=%{lat}<br>Lon=%{lon}<extra></extra>",
         "hovertext": [
          3420
         ],
         "lat": [
          52.264826
         ],
         "legendgroup": "414",
         "lon": [
          21.047393
         ],
         "marker": {
          "color": "#FF97FF",
          "size": 10
         },
         "mode": "markers",
         "name": "414",
         "showlegend": true,
         "subplot": "mapbox",
         "type": "scattermapbox"
        },
        {
         "hovertemplate": "<b>%{hovertext}</b><br><br>Lines=234<br>Lat=%{lat}<br>Lon=%{lon}<extra></extra>",
         "hovertext": [
          9069,
          9087
         ],
         "lat": [
          52.309834,
          52.341015
         ],
         "legendgroup": "234",
         "lon": [
          21.01494,
          21.057938
         ],
         "marker": {
          "color": "#FECB52",
          "size": 10
         },
         "mode": "markers",
         "name": "234",
         "showlegend": true,
         "subplot": "mapbox",
         "type": "scattermapbox"
        },
        {
         "hovertemplate": "<b>%{hovertext}</b><br><br>Lines=527<br>Lat=%{lat}<br>Lon=%{lon}<extra></extra>",
         "hovertext": [
          3451,
          3427,
          5408,
          3455,
          8871
         ],
         "lat": [
          52.2659396,
          52.3236061,
          52.273991,
          52.265315,
          52.3099375
         ],
         "legendgroup": "527",
         "lon": [
          21.0446933,
          21.0683345,
          21.053625,
          21.043603,
          21.0619413
         ],
         "marker": {
          "color": "#636efa",
          "size": 10
         },
         "mode": "markers",
         "name": "527",
         "showlegend": true,
         "subplot": "mapbox",
         "type": "scattermapbox"
        },
        {
         "hovertemplate": "<b>%{hovertext}</b><br><br>Lines=738<br>Lat=%{lat}<br>Lon=%{lon}<extra></extra>",
         "hovertext": [
          5423,
          3433,
          3468,
          3460
         ],
         "lat": [
          52.4000709,
          52.2911068,
          52.2784836,
          52.3990645
         ],
         "legendgroup": "738",
         "lon": [
          21.1687957,
          21.0787406,
          21.0684835,
          21.1680133
         ],
         "marker": {
          "color": "#EF553B",
          "size": 10
         },
         "mode": "markers",
         "name": "738",
         "showlegend": true,
         "subplot": "mapbox",
         "type": "scattermapbox"
        },
        {
         "hovertemplate": "<b>%{hovertext}</b><br><br>Lines=743<br>Lat=%{lat}<br>Lon=%{lon}<extra></extra>",
         "hovertext": [
          9452
         ],
         "lat": [
          52.231026
         ],
         "legendgroup": "743",
         "lon": [
          20.773285
         ],
         "marker": {
          "color": "#00cc96",
          "size": 10
         },
         "mode": "markers",
         "name": "743",
         "showlegend": true,
         "subplot": "mapbox",
         "type": "scattermapbox"
        },
        {
         "hovertemplate": "<b>%{hovertext}</b><br><br>Lines=164<br>Lat=%{lat}<br>Lon=%{lon}<extra></extra>",
         "hovertext": [
          9233,
          9221,
          9248
         ],
         "lat": [
          52.17569,
          52.1457763,
          52.1750485
         ],
         "legendgroup": "164",
         "lon": [
          21.06209,
          21.1381953,
          21.0630092
         ],
         "marker": {
          "color": "#ab63fa",
          "size": 10
         },
         "mode": "markers",
         "name": "164",
         "showlegend": true,
         "subplot": "mapbox",
         "type": "scattermapbox"
        },
        {
         "hovertemplate": "<b>%{hovertext}</b><br><br>Lines=L10<br>Lat=%{lat}<br>Lon=%{lon}<extra></extra>",
         "hovertext": [
          15620,
          15612
         ],
         "lat": [
          52.474014,
          52.400871
         ],
         "legendgroup": "L10",
         "lon": [
          20.916834,
          20.941513
         ],
         "marker": {
          "color": "#FFA15A",
          "size": 10
         },
         "mode": "markers",
         "name": "L10",
         "showlegend": true,
         "subplot": "mapbox",
         "type": "scattermapbox"
        },
        {
         "hovertemplate": "<b>%{hovertext}</b><br><br>Lines=L-1<br>Lat=%{lat}<br>Lon=%{lon}<extra></extra>",
         "hovertext": [
          60054
         ],
         "lat": [
          52.2190883
         ],
         "legendgroup": "L-1",
         "lon": [
          20.8046986
         ],
         "marker": {
          "color": "#19d3f3",
          "size": 10
         },
         "mode": "markers",
         "name": "L-1",
         "showlegend": true,
         "subplot": "mapbox",
         "type": "scattermapbox"
        },
        {
         "hovertemplate": "<b>%{hovertext}</b><br><br>Lines=110<br>Lat=%{lat}<br>Lon=%{lon}<extra></extra>",
         "hovertext": [
          4409,
          1833,
          4400,
          4406
         ],
         "lat": [
          52.2721825,
          52.2661553,
          52.286739,
          52.2753559
         ],
         "legendgroup": "110",
         "lon": [
          20.9685386,
          21.0422296,
          20.880663,
          20.9620797
         ],
         "marker": {
          "color": "#FF6692",
          "size": 10
         },
         "mode": "markers",
         "name": "110",
         "showlegend": true,
         "subplot": "mapbox",
         "type": "scattermapbox"
        },
        {
         "hovertemplate": "<b>%{hovertext}</b><br><br>Lines=717<br>Lat=%{lat}<br>Lon=%{lon}<extra></extra>",
         "hovertext": [
          9545,
          9544,
          9542
         ],
         "lat": [
          52.192971667,
          52.191224333,
          52.217282167
         ],
         "legendgroup": "717",
         "lon": [
          20.834718167,
          20.921848833,
          20.963386667
         ],
         "marker": {
          "color": "#B6E880",
          "size": 10
         },
         "mode": "markers",
         "name": "717",
         "showlegend": true,
         "subplot": "mapbox",
         "type": "scattermapbox"
        },
        {
         "hovertemplate": "<b>%{hovertext}</b><br><br>Lines=338<br>Lat=%{lat}<br>Lon=%{lon}<extra></extra>",
         "hovertext": [
          1519,
          1104
         ],
         "lat": [
          52.264828,
          52.264738
         ],
         "legendgroup": "338",
         "lon": [
          21.044705,
          21.047063
         ],
         "marker": {
          "color": "#FF97FF",
          "size": 10
         },
         "mode": "markers",
         "name": "338",
         "showlegend": true,
         "subplot": "mapbox",
         "type": "scattermapbox"
        },
        {
         "hovertemplate": "<b>%{hovertext}</b><br><br>Lines=L12<br>Lat=%{lat}<br>Lon=%{lon}<extra></extra>",
         "hovertext": [
          39559,
          39562
         ],
         "lat": [
          52.057068,
          52.083382
         ],
         "legendgroup": "L12",
         "lon": [
          21.008377,
          21.034416
         ],
         "marker": {
          "color": "#FECB52",
          "size": 10
         },
         "mode": "markers",
         "name": "L12",
         "showlegend": true,
         "subplot": "mapbox",
         "type": "scattermapbox"
        },
        {
         "hovertemplate": "<b>%{hovertext}</b><br><br>Lines=340<br>Lat=%{lat}<br>Lon=%{lon}<extra></extra>",
         "hovertext": [
          3423,
          8879
         ],
         "lat": [
          52.265501,
          52.2647836
         ],
         "legendgroup": "340",
         "lon": [
          21.043388,
          21.0465776
         ],
         "marker": {
          "color": "#636efa",
          "size": 10
         },
         "mode": "markers",
         "name": "340",
         "showlegend": true,
         "subplot": "mapbox",
         "type": "scattermapbox"
        },
        {
         "hovertemplate": "<b>%{hovertext}</b><br><br>Lines=E-1<br>Lat=%{lat}<br>Lon=%{lon}<extra></extra>",
         "hovertext": [
          8202
         ],
         "lat": [
          52.2338768
         ],
         "legendgroup": "E-1",
         "lon": [
          21.1174626
         ],
         "marker": {
          "color": "#EF553B",
          "size": 10
         },
         "mode": "markers",
         "name": "E-1",
         "showlegend": true,
         "subplot": "mapbox",
         "type": "scattermapbox"
        },
        {
         "hovertemplate": "<b>%{hovertext}</b><br><br>Lines=269<br>Lat=%{lat}<br>Lon=%{lon}<extra></extra>",
         "hovertext": [
          8868,
          3417,
          3429,
          8875
         ],
         "lat": [
          52.264681,
          52.2754155,
          52.300475,
          52.2929895
         ],
         "legendgroup": "269",
         "lon": [
          21.047873,
          21.0552515,
          21.0416716,
          21.0418998
         ],
         "marker": {
          "color": "#00cc96",
          "size": 10
         },
         "mode": "markers",
         "name": "269",
         "showlegend": true,
         "subplot": "mapbox",
         "type": "scattermapbox"
        },
        {
         "hovertemplate": "<b>%{hovertext}</b><br><br>Lines=742<br>Lat=%{lat}<br>Lon=%{lon}<extra></extra>",
         "hovertext": [
          9831
         ],
         "lat": [
          52.0940023
         ],
         "legendgroup": "742",
         "lon": [
          21.1175241
         ],
         "marker": {
          "color": "#ab63fa",
          "size": 10
         },
         "mode": "markers",
         "name": "742",
         "showlegend": true,
         "subplot": "mapbox",
         "type": "scattermapbox"
        },
        {
         "hovertemplate": "<b>%{hovertext}</b><br><br>Lines=N16<br>Lat=%{lat}<br>Lon=%{lon}<extra></extra>",
         "hovertext": [
          1531
         ],
         "lat": [
          52.233016
         ],
         "legendgroup": "N16",
         "lon": [
          21.117118
         ],
         "marker": {
          "color": "#FFA15A",
          "size": 10
         },
         "mode": "markers",
         "name": "N16",
         "showlegend": true,
         "subplot": "mapbox",
         "type": "scattermapbox"
        },
        {
         "hovertemplate": "<b>%{hovertext}</b><br><br>Lines=221<br>Lat=%{lat}<br>Lon=%{lon}<extra></extra>",
         "hovertext": [
          1549,
          1809,
          1844
         ],
         "lat": [
          52.259538,
          52.2594561,
          52.2661826
         ],
         "legendgroup": "221",
         "lon": [
          20.993559,
          20.994152,
          21.0429713
         ],
         "marker": {
          "color": "#19d3f3",
          "size": 10
         },
         "mode": "markers",
         "name": "221",
         "showlegend": true,
         "subplot": "mapbox",
         "type": "scattermapbox"
        },
        {
         "hovertemplate": "<b>%{hovertext}</b><br><br>Lines=170<br>Lat=%{lat}<br>Lon=%{lon}<extra></extra>",
         "hovertext": [
          1810,
          9339,
          1105,
          1544,
          1839,
          1805
         ],
         "lat": [
          52.2709531,
          52.26807,
          52.263504,
          52.253403,
          52.2696915,
          52.266038
         ],
         "legendgroup": "170",
         "lon": [
          21.0938455,
          21.077478,
          21.0220873,
          21.040308,
          21.0775206,
          21.043158
         ],
         "marker": {
          "color": "#FF6692",
          "size": 10
         },
         "mode": "markers",
         "name": "170",
         "showlegend": true,
         "subplot": "mapbox",
         "type": "scattermapbox"
        },
        {
         "hovertemplate": "<b>%{hovertext}</b><br><br>Lines=N37<br>Lat=%{lat}<br>Lon=%{lon}<extra></extra>",
         "hovertext": [
          8530,
          8545
         ],
         "lat": [
          52.187463,
          52.187743
         ],
         "legendgroup": "N37",
         "lon": [
          20.996005,
          20.996294
         ],
         "marker": {
          "color": "#B6E880",
          "size": 10
         },
         "mode": "markers",
         "name": "N37",
         "showlegend": true,
         "subplot": "mapbox",
         "type": "scattermapbox"
        },
        {
         "hovertemplate": "<b>%{hovertext}</b><br><br>Lines=402<br>Lat=%{lat}<br>Lon=%{lon}<extra></extra>",
         "hovertext": [
          8835
         ],
         "lat": [
          52.233556
         ],
         "legendgroup": "402",
         "lon": [
          21.117225
         ],
         "marker": {
          "color": "#FF97FF",
          "size": 10
         },
         "mode": "markers",
         "name": "402",
         "showlegend": true,
         "subplot": "mapbox",
         "type": "scattermapbox"
        },
        {
         "hovertemplate": "<b>%{hovertext}</b><br><br>Lines=706<br>Lat=%{lat}<br>Lon=%{lon}<extra></extra>",
         "hovertext": [
          6211
         ],
         "lat": [
          52.132191
         ],
         "legendgroup": "706",
         "lon": [
          20.8977627
         ],
         "marker": {
          "color": "#FECB52",
          "size": 10
         },
         "mode": "markers",
         "name": "706",
         "showlegend": true,
         "subplot": "mapbox",
         "type": "scattermapbox"
        },
        {
         "hovertemplate": "<b>%{hovertext}</b><br><br>Lines=N24<br>Lat=%{lat}<br>Lon=%{lon}<extra></extra>",
         "hovertext": [
          8353
         ],
         "lat": [
          52.233413
         ],
         "legendgroup": "N24",
         "lon": [
          21.117126
         ],
         "marker": {
          "color": "#636efa",
          "size": 10
         },
         "mode": "markers",
         "name": "N24",
         "showlegend": true,
         "subplot": "mapbox",
         "type": "scattermapbox"
        },
        {
         "hovertemplate": "<b>%{hovertext}</b><br><br>Lines=N81<br>Lat=%{lat}<br>Lon=%{lon}<extra></extra>",
         "hovertext": [
          8528
         ],
         "lat": [
          52.188168
         ],
         "legendgroup": "N81",
         "lon": [
          20.997623
         ],
         "marker": {
          "color": "#EF553B",
          "size": 10
         },
         "mode": "markers",
         "name": "N81",
         "showlegend": true,
         "subplot": "mapbox",
         "type": "scattermapbox"
        },
        {
         "hovertemplate": "<b>%{hovertext}</b><br><br>Lines=319<br>Lat=%{lat}<br>Lon=%{lon}<extra></extra>",
         "hovertext": [
          8336
         ],
         "lat": [
          52.23355
         ],
         "legendgroup": "319",
         "lon": [
          21.116666
         ],
         "marker": {
          "color": "#00cc96",
          "size": 10
         },
         "mode": "markers",
         "name": "319",
         "showlegend": true,
         "subplot": "mapbox",
         "type": "scattermapbox"
        },
        {
         "hovertemplate": "<b>%{hovertext}</b><br><br>Lines=L-9<br>Lat=%{lat}<br>Lon=%{lon}<extra></extra>",
         "hovertext": [
          15623,
          15611
         ],
         "lat": [
          52.4385303,
          52.43792
         ],
         "legendgroup": "L-9",
         "lon": [
          20.9611345,
          20.945103
         ],
         "marker": {
          "color": "#ab63fa",
          "size": 10
         },
         "mode": "markers",
         "name": "L-9",
         "showlegend": true,
         "subplot": "mapbox",
         "type": "scattermapbox"
        },
        {
         "hovertemplate": "<b>%{hovertext}</b><br><br>Lines=L38<br>Lat=%{lat}<br>Lon=%{lon}<extra></extra>",
         "hovertext": [
          42361,
          80636
         ],
         "lat": [
          52.311806,
          52.345192
         ],
         "legendgroup": "L38",
         "lon": [
          21.176972,
          21.220808
         ],
         "marker": {
          "color": "#FFA15A",
          "size": 10
         },
         "mode": "markers",
         "name": "L38",
         "showlegend": true,
         "subplot": "mapbox",
         "type": "scattermapbox"
        },
        {
         "hovertemplate": "<b>%{hovertext}</b><br><br>Lines=N34<br>Lat=%{lat}<br>Lon=%{lon}<extra></extra>",
         "hovertext": [
          8522
         ],
         "lat": [
          52.187591
         ],
         "legendgroup": "N34",
         "lon": [
          20.997924
         ],
         "marker": {
          "color": "#19d3f3",
          "size": 10
         },
         "mode": "markers",
         "name": "N34",
         "showlegend": true,
         "subplot": "mapbox",
         "type": "scattermapbox"
        },
        {
         "hovertemplate": "<b>%{hovertext}</b><br><br>Lines=L-4<br>Lat=%{lat}<br>Lon=%{lon}<extra></extra>",
         "hovertext": [
          60059
         ],
         "lat": [
          52.2192403
         ],
         "legendgroup": "L-4",
         "lon": [
          20.8045598
         ],
         "marker": {
          "color": "#FF6692",
          "size": 10
         },
         "mode": "markers",
         "name": "L-4",
         "showlegend": true,
         "subplot": "mapbox",
         "type": "scattermapbox"
        },
        {
         "hovertemplate": "<b>%{hovertext}</b><br><br>Lines=121<br>Lat=%{lat}<br>Lon=%{lon}<extra></extra>",
         "hovertext": [
          9213,
          9214,
          9208
         ],
         "lat": [
          52.2879969,
          52.272052,
          52.2719786
         ],
         "legendgroup": "121",
         "lon": [
          20.9765266,
          20.9681185,
          20.9679167
         ],
         "marker": {
          "color": "#B6E880",
          "size": 10
         },
         "mode": "markers",
         "name": "121",
         "showlegend": true,
         "subplot": "mapbox",
         "type": "scattermapbox"
        },
        {
         "hovertemplate": "<b>%{hovertext}</b><br><br>Lines=181<br>Lat=%{lat}<br>Lon=%{lon}<extra></extra>",
         "hovertext": [
          9526,
          9504,
          9541,
          9503
         ],
         "lat": [
          52.281969333,
          52.297188,
          52.30628,
          52.269454167
         ],
         "legendgroup": "181",
         "lon": [
          20.9517585,
          20.899983667,
          20.932604,
          20.986326833
         ],
         "marker": {
          "color": "#FF97FF",
          "size": 10
         },
         "mode": "markers",
         "name": "181",
         "showlegend": true,
         "subplot": "mapbox",
         "type": "scattermapbox"
        },
        {
         "hovertemplate": "<b>%{hovertext}</b><br><br>Lines=714<br>Lat=%{lat}<br>Lon=%{lon}<extra></extra>",
         "hovertext": [
          4216,
          4242
         ],
         "lat": [
          52.2610429,
          52.2392759
         ],
         "legendgroup": "714",
         "lon": [
          20.8316997,
          20.9438502
         ],
         "marker": {
          "color": "#FECB52",
          "size": 10
         },
         "mode": "markers",
         "name": "714",
         "showlegend": true,
         "subplot": "mapbox",
         "type": "scattermapbox"
        },
        {
         "hovertemplate": "<b>%{hovertext}</b><br><br>Lines=208<br>Lat=%{lat}<br>Lon=%{lon}<extra></extra>",
         "hovertext": [
          9227,
          9240
         ],
         "lat": [
          52.2157093,
          52.2102738
         ],
         "legendgroup": "208",
         "lon": [
          20.9622885,
          20.9753896
         ],
         "marker": {
          "color": "#636efa",
          "size": 10
         },
         "mode": "markers",
         "name": "208",
         "showlegend": true,
         "subplot": "mapbox",
         "type": "scattermapbox"
        },
        {
         "hovertemplate": "<b>%{hovertext}</b><br><br>Lines=N43<br>Lat=%{lat}<br>Lon=%{lon}<extra></extra>",
         "hovertext": [
          9929
         ],
         "lat": [
          52.27935
         ],
         "legendgroup": "N43",
         "lon": [
          20.873484
         ],
         "marker": {
          "color": "#EF553B",
          "size": 10
         },
         "mode": "markers",
         "name": "N43",
         "showlegend": true,
         "subplot": "mapbox",
         "type": "scattermapbox"
        },
        {
         "hovertemplate": "<b>%{hovertext}</b><br><br>Lines=N03<br>Lat=%{lat}<br>Lon=%{lon}<extra></extra>",
         "hovertext": [
          4432,
          1535
         ],
         "lat": [
          52.264183,
          52.233176
         ],
         "legendgroup": "N03",
         "lon": [
          21.045925,
          21.116133
         ],
         "marker": {
          "color": "#00cc96",
          "size": 10
         },
         "mode": "markers",
         "name": "N03",
         "showlegend": true,
         "subplot": "mapbox",
         "type": "scattermapbox"
        },
        {
         "hovertemplate": "<b>%{hovertext}</b><br><br>Lines=239<br>Lat=%{lat}<br>Lon=%{lon}<extra></extra>",
         "hovertext": [
          9251
         ],
         "lat": [
          52.15308
         ],
         "legendgroup": "239",
         "lon": [
          21.016607
         ],
         "marker": {
          "color": "#ab63fa",
          "size": 10
         },
         "mode": "markers",
         "name": "239",
         "showlegend": true,
         "subplot": "mapbox",
         "type": "scattermapbox"
        },
        {
         "hovertemplate": "<b>%{hovertext}</b><br><br>Lines=L49<br>Lat=%{lat}<br>Lon=%{lon}<extra></extra>",
         "hovertext": [
          10603
         ],
         "lat": [
          52.408604
         ],
         "legendgroup": "L49",
         "lon": [
          20.886749
         ],
         "marker": {
          "color": "#FFA15A",
          "size": 10
         },
         "mode": "markers",
         "name": "L49",
         "showlegend": true,
         "subplot": "mapbox",
         "type": "scattermapbox"
        },
        {
         "hovertemplate": "<b>%{hovertext}</b><br><br>Lines=104<br>Lat=%{lat}<br>Lon=%{lon}<extra></extra>",
         "hovertext": [
          9089,
          9075
         ],
         "lat": [
          52.291531,
          52.300289
         ],
         "legendgroup": "104",
         "lon": [
          21.00025,
          21.029129
         ],
         "marker": {
          "color": "#19d3f3",
          "size": 10
         },
         "mode": "markers",
         "name": "104",
         "showlegend": true,
         "subplot": "mapbox",
         "type": "scattermapbox"
        },
        {
         "hovertemplate": "<b>%{hovertext}</b><br><br>Lines=730<br>Lat=%{lat}<br>Lon=%{lon}<extra></extra>",
         "hovertext": [
          4309
         ],
         "lat": [
          52.1993919
         ],
         "legendgroup": "730",
         "lon": [
          21.3778491
         ],
         "marker": {
          "color": "#FF6692",
          "size": 10
         },
         "mode": "markers",
         "name": "730",
         "showlegend": true,
         "subplot": "mapbox",
         "type": "scattermapbox"
        },
        {
         "hovertemplate": "<b>%{hovertext}</b><br><br>Lines=L19<br>Lat=%{lat}<br>Lon=%{lon}<extra></extra>",
         "hovertext": [
          36444
         ],
         "lat": [
          52.011845
         ],
         "legendgroup": "L19",
         "lon": [
          21.040222
         ],
         "marker": {
          "color": "#B6E880",
          "size": 10
         },
         "mode": "markers",
         "name": "L19",
         "showlegend": true,
         "subplot": "mapbox",
         "type": "scattermapbox"
        },
        {
         "hovertemplate": "<b>%{hovertext}</b><br><br>Lines=703<br>Lat=%{lat}<br>Lon=%{lon}<extra></extra>",
         "hovertext": [
          2253
         ],
         "lat": [
          52.175163
         ],
         "legendgroup": "703",
         "lon": [
          20.942707
         ],
         "marker": {
          "color": "#FF97FF",
          "size": 10
         },
         "mode": "markers",
         "name": "703",
         "showlegend": true,
         "subplot": "mapbox",
         "type": "scattermapbox"
        },
        {
         "hovertemplate": "<b>%{hovertext}</b><br><br>Lines=N72<br>Lat=%{lat}<br>Lon=%{lon}<extra></extra>",
         "hovertext": [
          8357
         ],
         "lat": [
          52.23335
         ],
         "legendgroup": "N72",
         "lon": [
          21.117448
         ],
         "marker": {
          "color": "#FECB52",
          "size": 10
         },
         "mode": "markers",
         "name": "N72",
         "showlegend": true,
         "subplot": "mapbox",
         "type": "scattermapbox"
        },
        {
         "hovertemplate": "<b>%{hovertext}</b><br><br>Lines=704<br>Lat=%{lat}<br>Lon=%{lon}<extra></extra>",
         "hovertext": [
          8301,
          8586
         ],
         "lat": [
          52.2219556,
          52.2259433
         ],
         "legendgroup": "704",
         "lon": [
          21.2732923,
          21.1618867
         ],
         "marker": {
          "color": "#636efa",
          "size": 10
         },
         "mode": "markers",
         "name": "704",
         "showlegend": true,
         "subplot": "mapbox",
         "type": "scattermapbox"
        },
        {
         "hovertemplate": "<b>%{hovertext}</b><br><br>Lines=L47<br>Lat=%{lat}<br>Lon=%{lon}<extra></extra>",
         "hovertext": [
          80103
         ],
         "lat": [
          52.2445018
         ],
         "legendgroup": "L47",
         "lon": [
          21.304454
         ],
         "marker": {
          "color": "#EF553B",
          "size": 10
         },
         "mode": "markers",
         "name": "L47",
         "showlegend": true,
         "subplot": "mapbox",
         "type": "scattermapbox"
        },
        {
         "hovertemplate": "<b>%{hovertext}</b><br><br>Lines=L35<br>Lat=%{lat}<br>Lon=%{lon}<extra></extra>",
         "hovertext": [
          80637
         ],
         "lat": [
          52.350231
         ],
         "legendgroup": "L35",
         "lon": [
          21.252789
         ],
         "marker": {
          "color": "#00cc96",
          "size": 10
         },
         "mode": "markers",
         "name": "L35",
         "showlegend": true,
         "subplot": "mapbox",
         "type": "scattermapbox"
        },
        {
         "hovertemplate": "<b>%{hovertext}</b><br><br>Lines=L44<br>Lat=%{lat}<br>Lon=%{lon}<extra></extra>",
         "hovertext": [
          17459
         ],
         "lat": [
          52.309299
         ],
         "legendgroup": "L44",
         "lon": [
          21.1584
         ],
         "marker": {
          "color": "#ab63fa",
          "size": 10
         },
         "mode": "markers",
         "name": "L44",
         "showlegend": true,
         "subplot": "mapbox",
         "type": "scattermapbox"
        },
        {
         "hovertemplate": "<b>%{hovertext}</b><br><br>Lines=L41<br>Lat=%{lat}<br>Lon=%{lon}<extra></extra>",
         "hovertext": [
          15622
         ],
         "lat": [
          52.382244
         ],
         "legendgroup": "L41",
         "lon": [
          20.906254
         ],
         "marker": {
          "color": "#FFA15A",
          "size": 10
         },
         "mode": "markers",
         "name": "L41",
         "showlegend": true,
         "subplot": "mapbox",
         "type": "scattermapbox"
        },
        {
         "hovertemplate": "<b>%{hovertext}</b><br><br>Lines=N21<br>Lat=%{lat}<br>Lon=%{lon}<extra></extra>",
         "hovertext": [
          1428
         ],
         "lat": [
          52.233025
         ],
         "legendgroup": "N21",
         "lon": [
          21.117205
         ],
         "marker": {
          "color": "#19d3f3",
          "size": 10
         },
         "mode": "markers",
         "name": "N21",
         "showlegend": true,
         "subplot": "mapbox",
         "type": "scattermapbox"
        },
        {
         "hovertemplate": "<b>%{hovertext}</b><br><br>Lines=311<br>Lat=%{lat}<br>Lon=%{lon}<extra></extra>",
         "hovertext": [
          1012
         ],
         "lat": [
          52.234571
         ],
         "legendgroup": "311",
         "lon": [
          21.115369
         ],
         "marker": {
          "color": "#FF6692",
          "size": 10
         },
         "mode": "markers",
         "name": "311",
         "showlegend": true,
         "subplot": "mapbox",
         "type": "scattermapbox"
        },
        {
         "hovertemplate": "<b>%{hovertext}</b><br><br>Lines=711<br>Lat=%{lat}<br>Lon=%{lon}<extra></extra>",
         "hovertext": [
          4207
         ],
         "lat": [
          52.0909529
         ],
         "legendgroup": "711",
         "lon": [
          20.8000351
         ],
         "marker": {
          "color": "#B6E880",
          "size": 10
         },
         "mode": "markers",
         "name": "711",
         "showlegend": true,
         "subplot": "mapbox",
         "type": "scattermapbox"
        },
        {
         "hovertemplate": "<b>%{hovertext}</b><br><br>Lines=303<br>Lat=%{lat}<br>Lon=%{lon}<extra></extra>",
         "hovertext": [
          1109
         ],
         "lat": [
          52.265998
         ],
         "legendgroup": "303",
         "lon": [
          21.042541
         ],
         "marker": {
          "color": "#FF97FF",
          "size": 10
         },
         "mode": "markers",
         "name": "303",
         "showlegend": true,
         "subplot": "mapbox",
         "type": "scattermapbox"
        },
        {
         "hovertemplate": "<b>%{hovertext}</b><br><br>Lines=722<br>Lat=%{lat}<br>Lon=%{lon}<extra></extra>",
         "hovertext": [
          1416
         ],
         "lat": [
          52.1767054
         ],
         "legendgroup": "722",
         "lon": [
          21.2924142
         ],
         "marker": {
          "color": "#FECB52",
          "size": 10
         },
         "mode": "markers",
         "name": "722",
         "showlegend": true,
         "subplot": "mapbox",
         "type": "scattermapbox"
        }
       ],
       "layout": {
        "legend": {
         "title": {
          "text": "Lines"
         },
         "tracegroupgap": 0
        },
        "mapbox": {
         "center": {
          "lat": 52.23086974173084,
          "lon": 21.01843917528736
         },
         "domain": {
          "x": [
           0,
           1
          ],
          "y": [
           0,
           1
          ]
         },
         "style": "open-street-map",
         "zoom": 10
        },
        "margin": {
         "b": 2,
         "l": 2,
         "r": 2,
         "t": 22
        },
        "template": {
         "data": {
          "bar": [
           {
            "error_x": {
             "color": "#2a3f5f"
            },
            "error_y": {
             "color": "#2a3f5f"
            },
            "marker": {
             "line": {
              "color": "#E5ECF6",
              "width": 0.5
             },
             "pattern": {
              "fillmode": "overlay",
              "size": 10,
              "solidity": 0.2
             }
            },
            "type": "bar"
           }
          ],
          "barpolar": [
           {
            "marker": {
             "line": {
              "color": "#E5ECF6",
              "width": 0.5
             },
             "pattern": {
              "fillmode": "overlay",
              "size": 10,
              "solidity": 0.2
             }
            },
            "type": "barpolar"
           }
          ],
          "carpet": [
           {
            "aaxis": {
             "endlinecolor": "#2a3f5f",
             "gridcolor": "white",
             "linecolor": "white",
             "minorgridcolor": "white",
             "startlinecolor": "#2a3f5f"
            },
            "baxis": {
             "endlinecolor": "#2a3f5f",
             "gridcolor": "white",
             "linecolor": "white",
             "minorgridcolor": "white",
             "startlinecolor": "#2a3f5f"
            },
            "type": "carpet"
           }
          ],
          "choropleth": [
           {
            "colorbar": {
             "outlinewidth": 0,
             "ticks": ""
            },
            "type": "choropleth"
           }
          ],
          "contour": [
           {
            "colorbar": {
             "outlinewidth": 0,
             "ticks": ""
            },
            "colorscale": [
             [
              0,
              "#0d0887"
             ],
             [
              0.1111111111111111,
              "#46039f"
             ],
             [
              0.2222222222222222,
              "#7201a8"
             ],
             [
              0.3333333333333333,
              "#9c179e"
             ],
             [
              0.4444444444444444,
              "#bd3786"
             ],
             [
              0.5555555555555556,
              "#d8576b"
             ],
             [
              0.6666666666666666,
              "#ed7953"
             ],
             [
              0.7777777777777778,
              "#fb9f3a"
             ],
             [
              0.8888888888888888,
              "#fdca26"
             ],
             [
              1,
              "#f0f921"
             ]
            ],
            "type": "contour"
           }
          ],
          "contourcarpet": [
           {
            "colorbar": {
             "outlinewidth": 0,
             "ticks": ""
            },
            "type": "contourcarpet"
           }
          ],
          "heatmap": [
           {
            "colorbar": {
             "outlinewidth": 0,
             "ticks": ""
            },
            "colorscale": [
             [
              0,
              "#0d0887"
             ],
             [
              0.1111111111111111,
              "#46039f"
             ],
             [
              0.2222222222222222,
              "#7201a8"
             ],
             [
              0.3333333333333333,
              "#9c179e"
             ],
             [
              0.4444444444444444,
              "#bd3786"
             ],
             [
              0.5555555555555556,
              "#d8576b"
             ],
             [
              0.6666666666666666,
              "#ed7953"
             ],
             [
              0.7777777777777778,
              "#fb9f3a"
             ],
             [
              0.8888888888888888,
              "#fdca26"
             ],
             [
              1,
              "#f0f921"
             ]
            ],
            "type": "heatmap"
           }
          ],
          "heatmapgl": [
           {
            "colorbar": {
             "outlinewidth": 0,
             "ticks": ""
            },
            "colorscale": [
             [
              0,
              "#0d0887"
             ],
             [
              0.1111111111111111,
              "#46039f"
             ],
             [
              0.2222222222222222,
              "#7201a8"
             ],
             [
              0.3333333333333333,
              "#9c179e"
             ],
             [
              0.4444444444444444,
              "#bd3786"
             ],
             [
              0.5555555555555556,
              "#d8576b"
             ],
             [
              0.6666666666666666,
              "#ed7953"
             ],
             [
              0.7777777777777778,
              "#fb9f3a"
             ],
             [
              0.8888888888888888,
              "#fdca26"
             ],
             [
              1,
              "#f0f921"
             ]
            ],
            "type": "heatmapgl"
           }
          ],
          "histogram": [
           {
            "marker": {
             "pattern": {
              "fillmode": "overlay",
              "size": 10,
              "solidity": 0.2
             }
            },
            "type": "histogram"
           }
          ],
          "histogram2d": [
           {
            "colorbar": {
             "outlinewidth": 0,
             "ticks": ""
            },
            "colorscale": [
             [
              0,
              "#0d0887"
             ],
             [
              0.1111111111111111,
              "#46039f"
             ],
             [
              0.2222222222222222,
              "#7201a8"
             ],
             [
              0.3333333333333333,
              "#9c179e"
             ],
             [
              0.4444444444444444,
              "#bd3786"
             ],
             [
              0.5555555555555556,
              "#d8576b"
             ],
             [
              0.6666666666666666,
              "#ed7953"
             ],
             [
              0.7777777777777778,
              "#fb9f3a"
             ],
             [
              0.8888888888888888,
              "#fdca26"
             ],
             [
              1,
              "#f0f921"
             ]
            ],
            "type": "histogram2d"
           }
          ],
          "histogram2dcontour": [
           {
            "colorbar": {
             "outlinewidth": 0,
             "ticks": ""
            },
            "colorscale": [
             [
              0,
              "#0d0887"
             ],
             [
              0.1111111111111111,
              "#46039f"
             ],
             [
              0.2222222222222222,
              "#7201a8"
             ],
             [
              0.3333333333333333,
              "#9c179e"
             ],
             [
              0.4444444444444444,
              "#bd3786"
             ],
             [
              0.5555555555555556,
              "#d8576b"
             ],
             [
              0.6666666666666666,
              "#ed7953"
             ],
             [
              0.7777777777777778,
              "#fb9f3a"
             ],
             [
              0.8888888888888888,
              "#fdca26"
             ],
             [
              1,
              "#f0f921"
             ]
            ],
            "type": "histogram2dcontour"
           }
          ],
          "mesh3d": [
           {
            "colorbar": {
             "outlinewidth": 0,
             "ticks": ""
            },
            "type": "mesh3d"
           }
          ],
          "parcoords": [
           {
            "line": {
             "colorbar": {
              "outlinewidth": 0,
              "ticks": ""
             }
            },
            "type": "parcoords"
           }
          ],
          "pie": [
           {
            "automargin": true,
            "type": "pie"
           }
          ],
          "scatter": [
           {
            "marker": {
             "colorbar": {
              "outlinewidth": 0,
              "ticks": ""
             }
            },
            "type": "scatter"
           }
          ],
          "scatter3d": [
           {
            "line": {
             "colorbar": {
              "outlinewidth": 0,
              "ticks": ""
             }
            },
            "marker": {
             "colorbar": {
              "outlinewidth": 0,
              "ticks": ""
             }
            },
            "type": "scatter3d"
           }
          ],
          "scattercarpet": [
           {
            "marker": {
             "colorbar": {
              "outlinewidth": 0,
              "ticks": ""
             }
            },
            "type": "scattercarpet"
           }
          ],
          "scattergeo": [
           {
            "marker": {
             "colorbar": {
              "outlinewidth": 0,
              "ticks": ""
             }
            },
            "type": "scattergeo"
           }
          ],
          "scattergl": [
           {
            "marker": {
             "colorbar": {
              "outlinewidth": 0,
              "ticks": ""
             }
            },
            "type": "scattergl"
           }
          ],
          "scattermapbox": [
           {
            "marker": {
             "colorbar": {
              "outlinewidth": 0,
              "ticks": ""
             }
            },
            "type": "scattermapbox"
           }
          ],
          "scatterpolar": [
           {
            "marker": {
             "colorbar": {
              "outlinewidth": 0,
              "ticks": ""
             }
            },
            "type": "scatterpolar"
           }
          ],
          "scatterpolargl": [
           {
            "marker": {
             "colorbar": {
              "outlinewidth": 0,
              "ticks": ""
             }
            },
            "type": "scatterpolargl"
           }
          ],
          "scatterternary": [
           {
            "marker": {
             "colorbar": {
              "outlinewidth": 0,
              "ticks": ""
             }
            },
            "type": "scatterternary"
           }
          ],
          "surface": [
           {
            "colorbar": {
             "outlinewidth": 0,
             "ticks": ""
            },
            "colorscale": [
             [
              0,
              "#0d0887"
             ],
             [
              0.1111111111111111,
              "#46039f"
             ],
             [
              0.2222222222222222,
              "#7201a8"
             ],
             [
              0.3333333333333333,
              "#9c179e"
             ],
             [
              0.4444444444444444,
              "#bd3786"
             ],
             [
              0.5555555555555556,
              "#d8576b"
             ],
             [
              0.6666666666666666,
              "#ed7953"
             ],
             [
              0.7777777777777778,
              "#fb9f3a"
             ],
             [
              0.8888888888888888,
              "#fdca26"
             ],
             [
              1,
              "#f0f921"
             ]
            ],
            "type": "surface"
           }
          ],
          "table": [
           {
            "cells": {
             "fill": {
              "color": "#EBF0F8"
             },
             "line": {
              "color": "white"
             }
            },
            "header": {
             "fill": {
              "color": "#C8D4E3"
             },
             "line": {
              "color": "white"
             }
            },
            "type": "table"
           }
          ]
         },
         "layout": {
          "annotationdefaults": {
           "arrowcolor": "#2a3f5f",
           "arrowhead": 0,
           "arrowwidth": 1
          },
          "autotypenumbers": "strict",
          "coloraxis": {
           "colorbar": {
            "outlinewidth": 0,
            "ticks": ""
           }
          },
          "colorscale": {
           "diverging": [
            [
             0,
             "#8e0152"
            ],
            [
             0.1,
             "#c51b7d"
            ],
            [
             0.2,
             "#de77ae"
            ],
            [
             0.3,
             "#f1b6da"
            ],
            [
             0.4,
             "#fde0ef"
            ],
            [
             0.5,
             "#f7f7f7"
            ],
            [
             0.6,
             "#e6f5d0"
            ],
            [
             0.7,
             "#b8e186"
            ],
            [
             0.8,
             "#7fbc41"
            ],
            [
             0.9,
             "#4d9221"
            ],
            [
             1,
             "#276419"
            ]
           ],
           "sequential": [
            [
             0,
             "#0d0887"
            ],
            [
             0.1111111111111111,
             "#46039f"
            ],
            [
             0.2222222222222222,
             "#7201a8"
            ],
            [
             0.3333333333333333,
             "#9c179e"
            ],
            [
             0.4444444444444444,
             "#bd3786"
            ],
            [
             0.5555555555555556,
             "#d8576b"
            ],
            [
             0.6666666666666666,
             "#ed7953"
            ],
            [
             0.7777777777777778,
             "#fb9f3a"
            ],
            [
             0.8888888888888888,
             "#fdca26"
            ],
            [
             1,
             "#f0f921"
            ]
           ],
           "sequentialminus": [
            [
             0,
             "#0d0887"
            ],
            [
             0.1111111111111111,
             "#46039f"
            ],
            [
             0.2222222222222222,
             "#7201a8"
            ],
            [
             0.3333333333333333,
             "#9c179e"
            ],
            [
             0.4444444444444444,
             "#bd3786"
            ],
            [
             0.5555555555555556,
             "#d8576b"
            ],
            [
             0.6666666666666666,
             "#ed7953"
            ],
            [
             0.7777777777777778,
             "#fb9f3a"
            ],
            [
             0.8888888888888888,
             "#fdca26"
            ],
            [
             1,
             "#f0f921"
            ]
           ]
          },
          "colorway": [
           "#636efa",
           "#EF553B",
           "#00cc96",
           "#ab63fa",
           "#FFA15A",
           "#19d3f3",
           "#FF6692",
           "#B6E880",
           "#FF97FF",
           "#FECB52"
          ],
          "font": {
           "color": "#2a3f5f"
          },
          "geo": {
           "bgcolor": "white",
           "lakecolor": "white",
           "landcolor": "#E5ECF6",
           "showlakes": true,
           "showland": true,
           "subunitcolor": "white"
          },
          "hoverlabel": {
           "align": "left"
          },
          "hovermode": "closest",
          "mapbox": {
           "style": "light"
          },
          "paper_bgcolor": "white",
          "plot_bgcolor": "#E5ECF6",
          "polar": {
           "angularaxis": {
            "gridcolor": "white",
            "linecolor": "white",
            "ticks": ""
           },
           "bgcolor": "#E5ECF6",
           "radialaxis": {
            "gridcolor": "white",
            "linecolor": "white",
            "ticks": ""
           }
          },
          "scene": {
           "xaxis": {
            "backgroundcolor": "#E5ECF6",
            "gridcolor": "white",
            "gridwidth": 2,
            "linecolor": "white",
            "showbackground": true,
            "ticks": "",
            "zerolinecolor": "white"
           },
           "yaxis": {
            "backgroundcolor": "#E5ECF6",
            "gridcolor": "white",
            "gridwidth": 2,
            "linecolor": "white",
            "showbackground": true,
            "ticks": "",
            "zerolinecolor": "white"
           },
           "zaxis": {
            "backgroundcolor": "#E5ECF6",
            "gridcolor": "white",
            "gridwidth": 2,
            "linecolor": "white",
            "showbackground": true,
            "ticks": "",
            "zerolinecolor": "white"
           }
          },
          "shapedefaults": {
           "line": {
            "color": "#2a3f5f"
           }
          },
          "ternary": {
           "aaxis": {
            "gridcolor": "white",
            "linecolor": "white",
            "ticks": ""
           },
           "baxis": {
            "gridcolor": "white",
            "linecolor": "white",
            "ticks": ""
           },
           "bgcolor": "#E5ECF6",
           "caxis": {
            "gridcolor": "white",
            "linecolor": "white",
            "ticks": ""
           }
          },
          "title": {
           "x": 0.05
          },
          "xaxis": {
           "automargin": true,
           "gridcolor": "white",
           "linecolor": "white",
           "ticks": "",
           "title": {
            "standoff": 15
           },
           "zerolinecolor": "white",
           "zerolinewidth": 2
          },
          "yaxis": {
           "automargin": true,
           "gridcolor": "white",
           "linecolor": "white",
           "ticks": "",
           "title": {
            "standoff": 15
           },
           "zerolinecolor": "white",
           "zerolinewidth": 2
          }
         }
        },
        "title": {
         "text": "Pozycje autobusów Warszawa 2022-01-15 17-22",
         "x": 0.5,
         "y": 0.99
        }
       }
      },
      "text/html": [
       "<div>                            <div id=\"adb2a229-7658-4293-9673-a6ea6fd63512\" class=\"plotly-graph-div\" style=\"height:525px; width:100%;\"></div>            <script type=\"text/javascript\">                require([\"plotly\"], function(Plotly) {                    window.PLOTLYENV=window.PLOTLYENV || {};                                    if (document.getElementById(\"adb2a229-7658-4293-9673-a6ea6fd63512\")) {                    Plotly.newPlot(                        \"adb2a229-7658-4293-9673-a6ea6fd63512\",                        [{\"hovertemplate\":\"<b>%{hovertext}</b><br><br>Lines=136<br>Lat=%{lat}<br>Lon=%{lon}<extra></extra>\",\"hovertext\":[7253.0,8536.0,8531.0,8557.0,8177.0,2254.0,2207.0,8817.0,8515.0,8148.0,8183.0,8882.0],\"lat\":[52.2433611,52.1787617,52.1462033,52.165461,52.1453351,52.2103286,52.195732,52.2164124,52.18043,52.1513641,52.237885,52.186859],\"legendgroup\":\"136\",\"lon\":[20.9661552,21.002055,21.053135,21.027426,21.0518795,20.986085,20.983131,20.9614971,21.0020067,21.027039,20.955615,20.9973421],\"marker\":{\"color\":\"#636efa\",\"size\":10},\"mode\":\"markers\",\"name\":\"136\",\"showlegend\":true,\"subplot\":\"mapbox\",\"type\":\"scattermapbox\"},{\"hovertemplate\":\"<b>%{hovertext}</b><br><br>Lines=134<br>Lat=%{lat}<br>Lon=%{lon}<extra></extra>\",\"hovertext\":[9427.0,4425.0,9440.0,4410.0,9437.0],\"lat\":[52.272194,52.2646042,52.290409,52.2653542,52.361691],\"legendgroup\":\"134\",\"lon\":[20.969814,21.0450052,21.003534,21.0436572,21.061972],\"marker\":{\"color\":\"#EF553B\",\"size\":10},\"mode\":\"markers\",\"name\":\"134\",\"showlegend\":true,\"subplot\":\"mapbox\",\"type\":\"scattermapbox\"},{\"hovertemplate\":\"<b>%{hovertext}</b><br><br>Lines=521<br>Lat=%{lat}<br>Lon=%{lon}<extra></extra>\",\"hovertext\":[9852.0,9833.0,9822.0,9832.0,8337.0,8327.0,9809.0,8362.0],\"lat\":[52.1859509,52.219234,52.238392,52.231621,52.233628,52.2335851,52.1593517,52.233653],\"legendgroup\":\"521\",\"lon\":[21.186475,20.983418,21.117933,21.020912,21.116276,21.1155345,21.2047481,21.116076],\"marker\":{\"color\":\"#00cc96\",\"size\":10},\"mode\":\"markers\",\"name\":\"521\",\"showlegend\":true,\"subplot\":\"mapbox\",\"type\":\"scattermapbox\"},{\"hovertemplate\":\"<b>%{hovertext}</b><br><br>Lines=218<br>Lat=%{lat}<br>Lon=%{lon}<extra></extra>\",\"hovertext\":[1025.0,1027.0,1024.0,1067.0],\"lat\":[52.183361,52.182713,52.192562,52.1797954],\"legendgroup\":\"218\",\"lon\":[21.002068,21.00193,21.020763,21.0242202],\"marker\":{\"color\":\"#ab63fa\",\"size\":10},\"mode\":\"markers\",\"name\":\"218\",\"showlegend\":true,\"subplot\":\"mapbox\",\"type\":\"scattermapbox\"},{\"hovertemplate\":\"<b>%{hovertext}</b><br><br>Lines=156<br>Lat=%{lat}<br>Lon=%{lon}<extra></extra>\",\"hovertext\":[1507.0,1542.0,1807.0,1801.0,4421.0],\"lat\":[52.2845083,52.272113,52.28941,52.2530335,52.2848054],\"legendgroup\":\"156\",\"lon\":[20.943191,21.063098,20.933067,21.0521388,21.0475236],\"marker\":{\"color\":\"#FFA15A\",\"size\":10},\"mode\":\"markers\",\"name\":\"156\",\"showlegend\":true,\"subplot\":\"mapbox\",\"type\":\"scattermapbox\"},{\"hovertemplate\":\"<b>%{hovertext}</b><br><br>Lines=141<br>Lat=%{lat}<br>Lon=%{lon}<extra></extra>\",\"hovertext\":[1522.0,8827.0,4240.0,8807.0,4247.0,1211.0,4210.0,4201.0,8833.0,1411.0,1857.0],\"lat\":[52.1963133,52.2341448,52.2210245,52.1755626,52.197983,52.2151559,52.188263,52.24295,52.233608,52.236343,52.2024123],\"legendgroup\":\"141\",\"lon\":[21.0159067,21.1148821,21.0451669,20.9444041,20.984039,21.0459595,20.964521,21.099674,21.117166,21.112867,21.0489415],\"marker\":{\"color\":\"#19d3f3\",\"size\":10},\"mode\":\"markers\",\"name\":\"141\",\"showlegend\":true,\"subplot\":\"mapbox\",\"type\":\"scattermapbox\"},{\"hovertemplate\":\"<b>%{hovertext}</b><br><br>Lines=178<br>Lat=%{lat}<br>Lon=%{lon}<extra></extra>\",\"hovertext\":[1990.0,9450.0,1994.0,9425.0,9449.0,1995.0,1992.0,1993.0],\"lat\":[52.233501,52.217983,52.1886827,52.216717,52.185696,52.242401,52.255409,52.190067],\"legendgroup\":\"178\",\"lon\":[20.998947,20.959881,20.9057339,20.961098,20.895842,21.015194,21.004034,20.899544],\"marker\":{\"color\":\"#FF6692\",\"size\":10},\"mode\":\"markers\",\"name\":\"178\",\"showlegend\":true,\"subplot\":\"mapbox\",\"type\":\"scattermapbox\"},{\"hovertemplate\":\"<b>%{hovertext}</b><br><br>Lines=523<br>Lat=%{lat}<br>Lon=%{lon}<extra></extra>\",\"hovertext\":[2235.0,2259.0,7324.0,7222.0,8326.0,7707.0,7231.0,8842.0,7303.0,8572.0,2251.0,5201.0,2234.0,7700.0,8343.0,8319.0],\"lat\":[52.2417185,52.2456915,52.258312,52.21711,52.2395316,52.2372316,52.236771,52.23335,52.216106,52.2491683,52.245903,52.1956489,52.258488,52.2480096,52.222214,52.2256633],\"legendgroup\":\"523\",\"lon\":[20.9128381,21.0839059,20.898117,20.978546,20.9129165,20.9556264,20.956091,21.116479,20.98196,21.1075267,21.084566,20.9224268,20.898335,21.1068472,21.036645,21.0509991],\"marker\":{\"color\":\"#B6E880\",\"size\":10},\"mode\":\"markers\",\"name\":\"523\",\"showlegend\":true,\"subplot\":\"mapbox\",\"type\":\"scattermapbox\"},{\"hovertemplate\":\"<b>%{hovertext}</b><br><br>Lines=122<br>Lat=%{lat}<br>Lon=%{lon}<extra></extra>\",\"hovertext\":[4219.0,1510.0,4426.0,1802.0,4212.0,4223.0,1110.0,1501.0,4205.0,4213.0,4430.0],\"lat\":[52.2611345,52.26462,52.2523169,52.2640781,52.2395059,52.2658907,52.264418,52.2899243,52.284897,52.268501,52.2574135],\"legendgroup\":\"122\",\"lon\":[20.9564197,21.045141,20.9136297,21.0483315,20.8981939,20.9308774,21.0454,20.976485,20.979071,20.985184,20.8977665],\"marker\":{\"color\":\"#FF97FF\",\"size\":10},\"mode\":\"markers\",\"name\":\"122\",\"showlegend\":true,\"subplot\":\"mapbox\",\"type\":\"scattermapbox\"},{\"hovertemplate\":\"<b>%{hovertext}</b><br><br>Lines=504<br>Lat=%{lat}<br>Lon=%{lon}<extra></extra>\",\"hovertext\":[8803.0,8137.0,2004.0,8194.0,8555.0,8553.0,8560.0,8559.0],\"lat\":[52.2234989,52.214668,52.1290352,52.1526795,52.188095,52.130586,52.186888,52.1722717],\"legendgroup\":\"504\",\"lon\":[20.9901445,20.988351,21.0686805,21.0179785,20.9966033,21.066418,20.996673,21.004505],\"marker\":{\"color\":\"#FECB52\",\"size\":10},\"mode\":\"markers\",\"name\":\"504\",\"showlegend\":true,\"subplot\":\"mapbox\",\"type\":\"scattermapbox\"},{\"hovertemplate\":\"<b>%{hovertext}</b><br><br>Lines=518<br>Lat=%{lat}<br>Lon=%{lon}<extra></extra>\",\"hovertext\":[5984.0,5967.0,5985.0,5988.0,5989.0,5979.0,5990.0],\"lat\":[52.316383,52.3176965,52.271389,52.27158,52.2278,52.228344,52.3345],\"legendgroup\":\"518\",\"lon\":[20.960999,20.9481939,20.97443,20.972916,21.023,21.023481,20.9421],\"marker\":{\"color\":\"#636efa\",\"size\":10},\"mode\":\"markers\",\"name\":\"518\",\"showlegend\":true,\"subplot\":\"mapbox\",\"type\":\"scattermapbox\"},{\"hovertemplate\":\"<b>%{hovertext}</b><br><br>Lines=240<br>Lat=%{lat}<br>Lon=%{lon}<extra></extra>\",\"hovertext\":[9454.0,1804.0,9439.0,9455.0,9431.0,1502.0,9453.0],\"lat\":[52.291096,52.2663205,52.290909,52.338245,52.318653,52.2652276,52.291393],\"legendgroup\":\"240\",\"lon\":[21.050621,21.0430321,21.050489,21.119072,21.015434,21.0438073,21.000784],\"marker\":{\"color\":\"#EF553B\",\"size\":10},\"mode\":\"markers\",\"name\":\"240\",\"showlegend\":true,\"subplot\":\"mapbox\",\"type\":\"scattermapbox\"},{\"hovertemplate\":\"<b>%{hovertext}</b><br><br>Lines=159<br>Lat=%{lat}<br>Lon=%{lon}<extra></extra>\",\"hovertext\":[9517.0,9508.0,9523.0,9505.0,9518.0],\"lat\":[52.203730833,52.223397833,52.221285333,52.193324,52.216807167],\"legendgroup\":\"159\",\"lon\":[21.049195167,20.987692,21.044895833,21.085062667,20.961605],\"marker\":{\"color\":\"#00cc96\",\"size\":10},\"mode\":\"markers\",\"name\":\"159\",\"showlegend\":true,\"subplot\":\"mapbox\",\"type\":\"scattermapbox\"},{\"hovertemplate\":\"<b>%{hovertext}</b><br><br>Lines=172<br>Lat=%{lat}<br>Lon=%{lon}<extra></extra>\",\"hovertext\":[2231.0,8155.0,7727.0,8510.0,8533.0,5221.0,8808.0,8188.0,8554.0],\"lat\":[52.1859607,52.18809,52.210507,52.216705,52.2013867,52.1996239,52.195336,52.2118026,52.1833867],\"legendgroup\":\"172\",\"lon\":[21.0623734,20.996633,20.9798375,20.9613483,20.98473,21.0236135,21.008306,20.955132,21.0584683],\"marker\":{\"color\":\"#ab63fa\",\"size\":10},\"mode\":\"markers\",\"name\":\"172\",\"showlegend\":true,\"subplot\":\"mapbox\",\"type\":\"scattermapbox\"},{\"hovertemplate\":\"<b>%{hovertext}</b><br><br>Lines=154<br>Lat=%{lat}<br>Lon=%{lon}<extra></extra>\",\"hovertext\":[4239.0,4220.0,4226.0,4244.0,4215.0,4334.0,4337.0],\"lat\":[52.227386,52.239475,52.217911,52.1835434,52.1835297,52.2582909,52.2403216],\"legendgroup\":\"154\",\"lon\":[20.951155,20.897478,20.972328,20.9672677,20.9786362,20.8983559,20.9322944],\"marker\":{\"color\":\"#FFA15A\",\"size\":10},\"mode\":\"markers\",\"name\":\"154\",\"showlegend\":true,\"subplot\":\"mapbox\",\"type\":\"scattermapbox\"},{\"hovertemplate\":\"<b>%{hovertext}</b><br><br>Lines=182<br>Lat=%{lat}<br>Lon=%{lon}<extra></extra>\",\"hovertext\":[5223.0,5912.0,5913.0,5244.0,5944.0,1429.0],\"lat\":[52.2282816,52.234211,52.234062,52.2263838,52.218098,52.2333439],\"legendgroup\":\"182\",\"lon\":[21.0612727,21.117968,21.117714,21.0546624,20.965126,21.1174644],\"marker\":{\"color\":\"#19d3f3\",\"size\":10},\"mode\":\"markers\",\"name\":\"182\",\"showlegend\":true,\"subplot\":\"mapbox\",\"type\":\"scattermapbox\"},{\"hovertemplate\":\"<b>%{hovertext}</b><br><br>Lines=186<br>Lat=%{lat}<br>Lon=%{lon}<extra></extra>\",\"hovertext\":[9946.0,9915.0,9937.0,9923.0,9932.0,9947.0,9942.0,9952.0,9928.0],\"lat\":[52.313374,52.334198,52.328815,52.236897,52.264637,52.207752,52.299904,52.209797,52.213337],\"legendgroup\":\"186\",\"lon\":[20.977251,20.94224,20.940889,20.956165,20.955355,20.963827,20.993122,20.980345,20.969942],\"marker\":{\"color\":\"#FF6692\",\"size\":10},\"mode\":\"markers\",\"name\":\"186\",\"showlegend\":true,\"subplot\":\"mapbox\",\"type\":\"scattermapbox\"},{\"hovertemplate\":\"<b>%{hovertext}</b><br><br>Lines=171<br>Lat=%{lat}<br>Lon=%{lon}<extra></extra>\",\"hovertext\":[5217.0,2247.0,6234.0,7704.0,8566.0,7706.0,2233.0,7205.0],\"lat\":[52.2559449,52.221844,52.272526,52.2470879,52.272465,52.2724966,52.24411,52.2301616],\"legendgroup\":\"171\",\"lon\":[20.922379,21.037271,20.92593,20.911682,20.9250817,20.9250979,21.000158,21.011283],\"marker\":{\"color\":\"#B6E880\",\"size\":10},\"mode\":\"markers\",\"name\":\"171\",\"showlegend\":true,\"subplot\":\"mapbox\",\"type\":\"scattermapbox\"},{\"hovertemplate\":\"<b>%{hovertext}</b><br><br>Lines=N62<br>Lat=%{lat}<br>Lon=%{lon}<extra></extra>\",\"hovertext\":[5433.0],\"lat\":[52.2650552],\"legendgroup\":\"N62\",\"lon\":[21.0465036],\"marker\":{\"color\":\"#FF97FF\",\"size\":10},\"mode\":\"markers\",\"name\":\"N62\",\"showlegend\":true,\"subplot\":\"mapbox\",\"type\":\"scattermapbox\"},{\"hovertemplate\":\"<b>%{hovertext}</b><br><br>Lines=158<br>Lat=%{lat}<br>Lon=%{lon}<extra></extra>\",\"hovertext\":[5907.0,5934.0,5947.0,5948.0,8364.0,5939.0,5902.0,5901.0],\"lat\":[52.211617,52.2377826,52.229996,52.238098,52.233608,52.23188,52.23353,52.2337],\"legendgroup\":\"158\",\"lon\":[20.949329,21.0993316,21.013134,21.100792,21.117689,21.020439,21.11765,21.1175],\"marker\":{\"color\":\"#FECB52\",\"size\":10},\"mode\":\"markers\",\"name\":\"158\",\"showlegend\":true,\"subplot\":\"mapbox\",\"type\":\"scattermapbox\"},{\"hovertemplate\":\"<b>%{hovertext}</b><br><br>Lines=139<br>Lat=%{lat}<br>Lon=%{lon}<extra></extra>\",\"hovertext\":[8501.0,9501.0,9506.0,8502.0],\"lat\":[52.188011,52.178467333,52.106271667,52.185901],\"legendgroup\":\"139\",\"lon\":[20.998463,21.026852167,21.113457167,20.997523],\"marker\":{\"color\":\"#636efa\",\"size\":10},\"mode\":\"markers\",\"name\":\"139\",\"showlegend\":true,\"subplot\":\"mapbox\",\"type\":\"scattermapbox\"},{\"hovertemplate\":\"<b>%{hovertext}</b><br><br>Lines=507<br>Lat=%{lat}<br>Lon=%{lon}<extra></extra>\",\"hovertext\":[8577.0,8845.0,7701.0,7757.0,7737.0,7312.0],\"lat\":[52.226444,52.233263,52.2296857,52.2301707,52.2253725,52.2220279],\"legendgroup\":\"507\",\"lon\":[21.065933,21.11672,21.0046599,21.0122182,21.0695674,21.1024442],\"marker\":{\"color\":\"#EF553B\",\"size\":10},\"mode\":\"markers\",\"name\":\"507\",\"showlegend\":true,\"subplot\":\"mapbox\",\"type\":\"scattermapbox\"},{\"hovertemplate\":\"<b>%{hovertext}</b><br><br>Lines=107<br>Lat=%{lat}<br>Lon=%{lon}<extra></extra>\",\"hovertext\":[9206.0,9203.0,9201.0,1049.0,9223.0],\"lat\":[52.245576,52.2356776,52.2238897,52.265219,52.2445263],\"legendgroup\":\"107\",\"lon\":[20.985751,21.0135048,21.0230212,21.043751,20.9793675],\"marker\":{\"color\":\"#00cc96\",\"size\":10},\"mode\":\"markers\",\"name\":\"107\",\"showlegend\":true,\"subplot\":\"mapbox\",\"type\":\"scattermapbox\"},{\"hovertemplate\":\"<b>%{hovertext}</b><br><br>Lines=179<br>Lat=%{lat}<br>Lon=%{lon}<extra></extra>\",\"hovertext\":[9344.0,9318.0,9313.0,9327.0,9315.0,9347.0,9320.0],\"lat\":[52.153412,52.140656,52.162052,52.151539,52.131336,52.142647,52.162132],\"legendgroup\":\"179\",\"lon\":[21.038347,21.060125,21.036892,21.047977,21.064886,21.032234,21.030424],\"marker\":{\"color\":\"#ab63fa\",\"size\":10},\"mode\":\"markers\",\"name\":\"179\",\"showlegend\":true,\"subplot\":\"mapbox\",\"type\":\"scattermapbox\"},{\"hovertemplate\":\"<b>%{hovertext}</b><br><br>Lines=190<br>Lat=%{lat}<br>Lon=%{lon}<extra></extra>\",\"hovertext\":[9914.0,9926.0,9909.0,9935.0,9814.0,9930.0,9921.0,9927.0,9938.0,9817.0,9819.0,8580.0,9954.0,9835.0,9815.0,9920.0,9922.0,8859.0,5413.0],\"lat\":[52.229893,52.286301,52.238911,52.228371,52.281174,52.24155,52.237816,52.240349,52.238907,52.236805,52.239216,52.26485,52.305103,52.263376,52.264545,52.246784,52.239227,52.2645633,52.2658404],\"legendgroup\":\"190\",\"lon\":[20.897026,21.074677,20.899078,20.908148,21.070839,20.993111,20.960077,20.930542,20.899632,20.970394,20.898602,21.046746,21.085386,21.054811,21.056511,21.014763,20.913811,21.0473006,21.0435737],\"marker\":{\"color\":\"#FFA15A\",\"size\":10},\"mode\":\"markers\",\"name\":\"190\",\"showlegend\":true,\"subplot\":\"mapbox\",\"type\":\"scattermapbox\"},{\"hovertemplate\":\"<b>%{hovertext}</b><br><br>Lines=138<br>Lat=%{lat}<br>Lon=%{lon}<extra></extra>\",\"hovertext\":[7736.0,8895.0,8899.0,8152.0,7748.0,8562.0,2014.0,8153.0,8112.0,7305.0,7708.0,8103.0],\"lat\":[52.1699444,52.2606066,52.260606,52.187831,52.2047917,52.2165467,52.1868852,52.188271,52.2523016,52.2335574,52.1826384,52.2392431],\"legendgroup\":\"138\",\"lon\":[20.9957592,21.1008213,21.100536,20.998058,21.0186042,21.01496,20.9971132,20.997776,21.0379455,21.1156789,21.0019712,21.051285],\"marker\":{\"color\":\"#19d3f3\",\"size\":10},\"mode\":\"markers\",\"name\":\"138\",\"showlegend\":true,\"subplot\":\"mapbox\",\"type\":\"scattermapbox\"},{\"hovertemplate\":\"<b>%{hovertext}</b><br><br>Lines=160<br>Lat=%{lat}<br>Lon=%{lon}<extra></extra>\",\"hovertext\":[8450.0,3440.0,5453.0,8581.0,5451.0,3463.0,3414.0,3438.0,8869.0,5403.0,5431.0],\"lat\":[52.301128,52.26649,52.234215,52.265135,52.263363,52.2657796,52.3233466,52.2446773,52.264918,52.2293136,52.2763545],\"legendgroup\":\"160\",\"lon\":[21.058397,21.0584615,20.997662,21.046081,21.047558,21.0444968,21.068445,21.002196,21.046974,21.0029662,21.0482931],\"marker\":{\"color\":\"#FF6692\",\"size\":10},\"mode\":\"markers\",\"name\":\"160\",\"showlegend\":true,\"subplot\":\"mapbox\",\"type\":\"scattermapbox\"},{\"hovertemplate\":\"<b>%{hovertext}</b><br><br>Lines=519<br>Lat=%{lat}<br>Lon=%{lon}<extra></extra>\",\"hovertext\":[8534.0,2044.0,5887.0,2041.0,5899.0,5893.0,5888.0,2043.0,8506.0],\"lat\":[52.116795,52.168053,52.218727,52.229397,52.195694,52.1678,52.186706,52.1711497,52.1881283],\"legendgroup\":\"519\",\"lon\":[21.092868,21.07622,21.015335,21.002913,21.041405,21.084,20.997951,21.066947,20.9966067],\"marker\":{\"color\":\"#B6E880\",\"size\":10},\"mode\":\"markers\",\"name\":\"519\",\"showlegend\":true,\"subplot\":\"mapbox\",\"type\":\"scattermapbox\"},{\"hovertemplate\":\"<b>%{hovertext}</b><br><br>Lines=142<br>Lat=%{lat}<br>Lon=%{lon}<extra></extra>\",\"hovertext\":[9338.0,9324.0,1869.0,9341.0,9311.0,9328.0,9357.0,9305.0,9336.0],\"lat\":[52.169952,52.173122,52.2333095,52.177952,52.244709,52.244633,52.268017,52.267658,52.268593],\"legendgroup\":\"142\",\"lon\":[21.242138,21.154192,21.1158625,21.151396,21.087698,21.088236,21.077578,21.077826,21.077429],\"marker\":{\"color\":\"#FF97FF\",\"size\":10},\"mode\":\"markers\",\"name\":\"142\",\"showlegend\":true,\"subplot\":\"mapbox\",\"type\":\"scattermapbox\"},{\"hovertemplate\":\"<b>%{hovertext}</b><br><br>Lines=210<br>Lat=%{lat}<br>Lon=%{lon}<extra></extra>\",\"hovertext\":[5211.0,7208.0,6236.0,6208.0],\"lat\":[52.3078694,52.28812,52.291069,52.290451],\"legendgroup\":\"210\",\"lon\":[20.7673982,20.870358,20.928307,20.857204],\"marker\":{\"color\":\"#FECB52\",\"size\":10},\"mode\":\"markers\",\"name\":\"210\",\"showlegend\":true,\"subplot\":\"mapbox\",\"type\":\"scattermapbox\"},{\"hovertemplate\":\"<b>%{hovertext}</b><br><br>Lines=509<br>Lat=%{lat}<br>Lon=%{lon}<extra></extra>\",\"hovertext\":[5457.0,8328.0,7705.0,8455.0,8563.0,5409.0,8447.0,8565.0,5426.0,8448.0,8332.0],\"lat\":[52.286407,52.2220125,52.340019,52.247681,52.26302,52.2386027,52.264746,52.2235167,52.316525,52.321198,52.23348],\"legendgroup\":\"509\",\"lon\":[21.006838,21.1028625,20.9467155,21.047144,21.0218483,21.0556697,21.047646,21.1016283,20.957027,20.946915,21.115954],\"marker\":{\"color\":\"#636efa\",\"size\":10},\"mode\":\"markers\",\"name\":\"509\",\"showlegend\":true,\"subplot\":\"mapbox\",\"type\":\"scattermapbox\"},{\"hovertemplate\":\"<b>%{hovertext}</b><br><br>Lines=180<br>Lat=%{lat}<br>Lon=%{lon}<extra></extra>\",\"hovertext\":[5949.0,5926.0,5961.0,5909.0,5959.0,5950.0,5968.0,5971.0,5917.0,5941.0,5942.0,5963.0,5951.0],\"lat\":[52.2334335,52.259487,52.272518,52.2723974,52.272404,52.249425,52.248821,52.228081,52.253605,52.214104,52.234103,52.167698,52.206322],\"legendgroup\":\"180\",\"lon\":[21.1176997,20.960625,20.924831,20.9249935,20.924999,21.000463,20.994345,21.023136,20.976343,21.026524,21.1156397,21.084043,21.048813],\"marker\":{\"color\":\"#EF553B\",\"size\":10},\"mode\":\"markers\",\"name\":\"180\",\"showlegend\":true,\"subplot\":\"mapbox\",\"type\":\"scattermapbox\"},{\"hovertemplate\":\"<b>%{hovertext}</b><br><br>Lines=193<br>Lat=%{lat}<br>Lon=%{lon}<extra></extra>\",\"hovertext\":[9925.0,9906.0,9933.0,9918.0,9912.0],\"lat\":[52.154423,52.173374,52.162193,52.170238,52.163185],\"legendgroup\":\"193\",\"lon\":[21.037653,21.026941,21.036572,20.995325,21.047398],\"marker\":{\"color\":\"#00cc96\",\"size\":10},\"mode\":\"markers\",\"name\":\"193\",\"showlegend\":true,\"subplot\":\"mapbox\",\"type\":\"scattermapbox\"},{\"hovertemplate\":\"<b>%{hovertext}</b><br><br>Lines=147<br>Lat=%{lat}<br>Lon=%{lon}<extra></extra>\",\"hovertext\":[1533.0,4321.0,4311.0,1422.0,1534.0],\"lat\":[52.1998467,52.2473867,52.2502811,52.2135774,52.219215],\"legendgroup\":\"147\",\"lon\":[21.11809,21.048578,21.0523077,21.1027649,21.2429767],\"marker\":{\"color\":\"#ab63fa\",\"size\":10},\"mode\":\"markers\",\"name\":\"147\",\"showlegend\":true,\"subplot\":\"mapbox\",\"type\":\"scattermapbox\"},{\"hovertemplate\":\"<b>%{hovertext}</b><br><br>Lines=148<br>Lat=%{lat}<br>Lon=%{lon}<extra></extra>\",\"hovertext\":[5222.0,8846.0,8178.0,8516.0,5231.0,8578.0,8369.0,2009.0,8538.0,7308.0],\"lat\":[52.148038,52.2386216,52.18692,52.2454033,52.2447548,52.2000267,52.1582933,52.157608,52.1695083,52.1873222],\"legendgroup\":\"148\",\"lon\":[21.04249,21.0998051,20.996314,21.0839667,21.0871639,21.055935,21.0553617,20.986561,20.97827,21.0497622],\"marker\":{\"color\":\"#FFA15A\",\"size\":10},\"mode\":\"markers\",\"name\":\"148\",\"showlegend\":true,\"subplot\":\"mapbox\",\"type\":\"scattermapbox\"},{\"hovertemplate\":\"<b>%{hovertext}</b><br><br>Lines=166<br>Lat=%{lat}<br>Lon=%{lon}<extra></extra>\",\"hovertext\":[1212.0,1816.0,8131.0,1811.0,4419.0,1200.0,8143.0,1813.0],\"lat\":[52.259701,52.217463,52.2299916,52.1643161,52.129295,52.255432,52.1569906,52.130493],\"legendgroup\":\"166\",\"lon\":[21.027794,21.0258683,21.0259746,21.046039,21.06822,21.034416,21.045692,21.066559],\"marker\":{\"color\":\"#19d3f3\",\"size\":10},\"mode\":\"markers\",\"name\":\"166\",\"showlegend\":true,\"subplot\":\"mapbox\",\"type\":\"scattermapbox\"},{\"hovertemplate\":\"<b>%{hovertext}</b><br><br>Lines=115<br>Lat=%{lat}<br>Lon=%{lon}<extra></extra>\",\"hovertext\":[1417.0,1520.0,1421.0,1423.0,1523.0,1859.0],\"lat\":[52.24897,52.2015,52.1696459,52.1699174,52.27597,52.233075],\"legendgroup\":\"115\",\"lon\":[21.178959,21.1718217,21.2038891,21.2423822,21.17106,21.1170361],\"marker\":{\"color\":\"#FF6692\",\"size\":10},\"mode\":\"markers\",\"name\":\"115\",\"showlegend\":true,\"subplot\":\"mapbox\",\"type\":\"scattermapbox\"},{\"hovertemplate\":\"<b>%{hovertext}</b><br><br>Lines=123<br>Lat=%{lat}<br>Lon=%{lon}<extra></extra>\",\"hovertext\":[4401.0,4424.0,4317.0,4312.0,1818.0,4308.0,1548.0,1532.0],\"lat\":[52.2502662,52.2263037,52.2232782,52.2478572,52.2526863,52.2517826,52.264326,52.233235],\"legendgroup\":\"123\",\"lon\":[21.0445407,21.1001511,21.1013369,21.0465982,21.0829668,21.0730998,21.045564,21.115593],\"marker\":{\"color\":\"#B6E880\",\"size\":10},\"mode\":\"markers\",\"name\":\"123\",\"showlegend\":true,\"subplot\":\"mapbox\",\"type\":\"scattermapbox\"},{\"hovertemplate\":\"<b>%{hovertext}</b><br><br>Lines=112<br>Lat=%{lat}<br>Lon=%{lon}<extra></extra>\",\"hovertext\":[7726.0,7218.0,7210.0,7214.0,5420.0,6240.0,5443.0,7201.0,5416.0,5439.0,5414.0,6210.0],\"lat\":[52.3033412,52.227242,52.30444,52.214787,52.300949,52.273334,52.2630152,52.214741,52.25642,52.296307,52.247337,52.277786],\"legendgroup\":\"112\",\"lon\":[21.0887431,20.897148,21.082283,20.883047,21.05827,20.967447,20.9265784,20.882755,20.918789,21.038288,20.911108,20.974628],\"marker\":{\"color\":\"#FF97FF\",\"size\":10},\"mode\":\"markers\",\"name\":\"112\",\"showlegend\":true,\"subplot\":\"mapbox\",\"type\":\"scattermapbox\"},{\"hovertemplate\":\"<b>%{hovertext}</b><br><br>Lines=145<br>Lat=%{lat}<br>Lon=%{lon}<extra></extra>\",\"hovertext\":[8350.0,8352.0,8351.0,8465.0,8348.0,5402.0,5458.0],\"lat\":[52.239795,52.2691483,52.2581117,52.285393,52.286175,52.29137,52.24144],\"legendgroup\":\"145\",\"lon\":[21.1137067,21.1198067,21.1270083,21.043196,21.0226067,21.000229,21.106855],\"marker\":{\"color\":\"#FECB52\",\"size\":10},\"mode\":\"markers\",\"name\":\"145\",\"showlegend\":true,\"subplot\":\"mapbox\",\"type\":\"scattermapbox\"},{\"hovertemplate\":\"<b>%{hovertext}</b><br><br>Lines=250<br>Lat=%{lat}<br>Lon=%{lon}<extra></extra>\",\"hovertext\":[744.0,775.0,753.0],\"lat\":[52.310627,52.291019,52.295624],\"legendgroup\":\"250\",\"lon\":[20.882946,20.927681,20.893499],\"marker\":{\"color\":\"#636efa\",\"size\":10},\"mode\":\"markers\",\"name\":\"250\",\"showlegend\":true,\"subplot\":\"mapbox\",\"type\":\"scattermapbox\"},{\"hovertemplate\":\"<b>%{hovertext}</b><br><br>Lines=702<br>Lat=%{lat}<br>Lon=%{lon}<extra></extra>\",\"hovertext\":[1525.0,1845.0],\"lat\":[52.1080617,52.2446123],\"legendgroup\":\"702\",\"lon\":[21.2629133,21.0881676],\"marker\":{\"color\":\"#EF553B\",\"size\":10},\"mode\":\"markers\",\"name\":\"702\",\"showlegend\":true,\"subplot\":\"mapbox\",\"type\":\"scattermapbox\"},{\"hovertemplate\":\"<b>%{hovertext}</b><br><br>Lines=146<br>Lat=%{lat}<br>Lon=%{lon}<extra></extra>\",\"hovertext\":[1863.0,4314.0,1835.0,4324.0,1843.0],\"lat\":[52.1564461,52.2303569,52.2312418,52.1568136,52.233088],\"legendgroup\":\"146\",\"lon\":[21.1877286,21.0566962,21.0561075,21.1892491,21.1167476],\"marker\":{\"color\":\"#00cc96\",\"size\":10},\"mode\":\"markers\",\"name\":\"146\",\"showlegend\":true,\"subplot\":\"mapbox\",\"type\":\"scattermapbox\"},{\"hovertemplate\":\"<b>%{hovertext}</b><br><br>Lines=723<br>Lat=%{lat}<br>Lon=%{lon}<extra></extra>\",\"hovertext\":[3431.0,3456.0,8867.0,3416.0,5455.0],\"lat\":[52.2654615,52.3943895,52.265451,52.2913561,52.3555229],\"legendgroup\":\"723\",\"lon\":[21.044139,20.929547,21.043379,21.0008101,20.9417181],\"marker\":{\"color\":\"#ab63fa\",\"size\":10},\"mode\":\"markers\",\"name\":\"723\",\"showlegend\":true,\"subplot\":\"mapbox\",\"type\":\"scattermapbox\"},{\"hovertemplate\":\"<b>%{hovertext}</b><br><br>Lines=N11<br>Lat=%{lat}<br>Lon=%{lon}<extra></extra>\",\"hovertext\":[4418.0,1552.0],\"lat\":[52.264767,52.26458],\"legendgroup\":\"N11\",\"lon\":[21.044771,21.0463183],\"marker\":{\"color\":\"#FFA15A\",\"size\":10},\"mode\":\"markers\",\"name\":\"N11\",\"showlegend\":true,\"subplot\":\"mapbox\",\"type\":\"scattermapbox\"},{\"hovertemplate\":\"<b>%{hovertext}</b><br><br>Lines=191<br>Lat=%{lat}<br>Lon=%{lon}<extra></extra>\",\"hovertext\":[6213.0,5214.0,5246.0,2232.0,2206.0,6235.0,2204.0],\"lat\":[52.194603,52.2145093,52.2143469,52.205475,52.183613,52.197109,52.183464],\"legendgroup\":\"191\",\"lon\":[20.909941,20.96658,20.9790522,20.916487,20.870308,20.922388,20.870201],\"marker\":{\"color\":\"#19d3f3\",\"size\":10},\"mode\":\"markers\",\"name\":\"191\",\"showlegend\":true,\"subplot\":\"mapbox\",\"type\":\"scattermapbox\"},{\"hovertemplate\":\"<b>%{hovertext}</b><br><br>Lines=516<br>Lat=%{lat}<br>Lon=%{lon}<extra></extra>\",\"hovertext\":[9435.0,9416.0,9418.0,9415.0,9457.0],\"lat\":[52.291111,52.335903,52.298252,52.302715,52.334015],\"legendgroup\":\"516\",\"lon\":[21.000719,20.937229,20.994865,20.989864,20.936527],\"marker\":{\"color\":\"#FF6692\",\"size\":10},\"mode\":\"markers\",\"name\":\"516\",\"showlegend\":true,\"subplot\":\"mapbox\",\"type\":\"scattermapbox\"},{\"hovertemplate\":\"<b>%{hovertext}</b><br><br>Lines=512<br>Lat=%{lat}<br>Lon=%{lon}<extra></extra>\",\"hovertext\":[1537.0,1800.0,1814.0,1553.0,8863.0,1817.0],\"lat\":[52.283515,52.2529461,52.284768,52.26043,52.2651701,52.2558608],\"legendgroup\":\"512\",\"lon\":[21.0548333,21.0521566,21.050993,21.047595,21.0458091,21.0379645],\"marker\":{\"color\":\"#B6E880\",\"size\":10},\"mode\":\"markers\",\"name\":\"512\",\"showlegend\":true,\"subplot\":\"mapbox\",\"type\":\"scattermapbox\"},{\"hovertemplate\":\"<b>%{hovertext}</b><br><br>Lines=517<br>Lat=%{lat}<br>Lon=%{lon}<extra></extra>\",\"hovertext\":[2200.0,5247.0,2203.0,5227.0,5229.0,2248.0],\"lat\":[52.205788,52.224127,52.192474,52.193926,52.2317515,52.1995862],\"legendgroup\":\"517\",\"lon\":[20.942694,20.9883786,20.86862,20.883545,21.0103985,20.9148997],\"marker\":{\"color\":\"#FF97FF\",\"size\":10},\"mode\":\"markers\",\"name\":\"517\",\"showlegend\":true,\"subplot\":\"mapbox\",\"type\":\"scattermapbox\"},{\"hovertemplate\":\"<b>%{hovertext}</b><br><br>Lines=713<br>Lat=%{lat}<br>Lon=%{lon}<extra></extra>\",\"hovertext\":[6204.0,7224.0],\"lat\":[52.21138,52.2248],\"legendgroup\":\"713\",\"lon\":[20.760622,20.930254],\"marker\":{\"color\":\"#FECB52\",\"size\":10},\"mode\":\"markers\",\"name\":\"713\",\"showlegend\":true,\"subplot\":\"mapbox\",\"type\":\"scattermapbox\"},{\"hovertemplate\":\"<b>%{hovertext}</b><br><br>Lines=126<br>Lat=%{lat}<br>Lon=%{lon}<extra></extra>\",\"hovertext\":[8464.0,5447.0,8460.0,5442.0,8876.0,5406.0,1117.0],\"lat\":[52.316025,52.2650052,52.301891,52.2906466,52.3292826,52.3005424,52.266131],\"legendgroup\":\"126\",\"lon\":[20.975979,21.0465767,21.057007,21.0498557,20.940945,21.0115954,21.042441],\"marker\":{\"color\":\"#636efa\",\"size\":10},\"mode\":\"markers\",\"name\":\"126\",\"showlegend\":true,\"subplot\":\"mapbox\",\"type\":\"scattermapbox\"},{\"hovertemplate\":\"<b>%{hovertext}</b><br><br>Lines=750<br>Lat=%{lat}<br>Lon=%{lon}<extra></extra>\",\"hovertext\":[772.0,746.0,779.0,763.0,740.0,741.0],\"lat\":[52.359837667,52.35183,52.3391394,52.359814,52.364006,52.360104],\"legendgroup\":\"750\",\"lon\":[20.864139667,20.8176,20.8926909,20.864399,20.848095,20.864704],\"marker\":{\"color\":\"#EF553B\",\"size\":10},\"mode\":\"markers\",\"name\":\"750\",\"showlegend\":true,\"subplot\":\"mapbox\",\"type\":\"scattermapbox\"},{\"hovertemplate\":\"<b>%{hovertext}</b><br><br>Lines=189<br>Lat=%{lat}<br>Lon=%{lon}<extra></extra>\",\"hovertext\":[2003.0,2255.0,5230.0,6219.0,8551.0,2224.0,7247.0,8544.0,8503.0,2201.0,5241.0,2001.0,7243.0,5239.0,2002.0],\"lat\":[52.2285577,52.238716,52.1811941,52.173683,52.188409,52.183537,52.197903,52.2285367,52.17353,52.229057,52.1733655,52.1812861,52.195419,52.235729,52.1897311],\"legendgroup\":\"189\",\"lon\":[20.9153152,20.89875,21.0546948,21.044083,20.998306,20.97942,20.92156,20.9155467,21.0369133,20.914497,21.0260104,21.0688885,20.931051,20.896464,20.9589599],\"marker\":{\"color\":\"#00cc96\",\"size\":10},\"mode\":\"markers\",\"name\":\"189\",\"showlegend\":true,\"subplot\":\"mapbox\",\"type\":\"scattermapbox\"},{\"hovertemplate\":\"<b>%{hovertext}</b><br><br>Lines=120<br>Lat=%{lat}<br>Lon=%{lon}<extra></extra>\",\"hovertext\":[4415.0,1551.0,1541.0,1545.0,4402.0,4411.0,1554.0,4407.0],\"lat\":[52.2526141,52.2694917,52.286934,52.264088,52.2571726,52.3077437,52.2737633,52.361683],\"legendgroup\":\"120\",\"lon\":[21.0511939,21.0592167,21.048255,21.048271,21.0399597,21.0614489,21.0521483,21.057829],\"marker\":{\"color\":\"#ab63fa\",\"size\":10},\"mode\":\"markers\",\"name\":\"120\",\"showlegend\":true,\"subplot\":\"mapbox\",\"type\":\"scattermapbox\"},{\"hovertemplate\":\"<b>%{hovertext}</b><br><br>Lines=720<br>Lat=%{lat}<br>Lon=%{lon}<extra></extra>\",\"hovertext\":[7744.0,8579.0],\"lat\":[52.2333337,52.23487],\"legendgroup\":\"720\",\"lon\":[21.1174266,21.1253067],\"marker\":{\"color\":\"#FFA15A\",\"size\":10},\"mode\":\"markers\",\"name\":\"720\",\"showlegend\":true,\"subplot\":\"mapbox\",\"type\":\"scattermapbox\"},{\"hovertemplate\":\"<b>%{hovertext}</b><br><br>Lines=731<br>Lat=%{lat}<br>Lon=%{lon}<extra></extra>\",\"hovertext\":[8442.0,3445.0,8872.0,3446.0,8813.0,5435.0],\"lat\":[52.4216674,52.3001196,52.2661383,52.3460978,52.265394,52.392979],\"legendgroup\":\"731\",\"lon\":[20.9255409,20.992804,21.0440761,20.94935,21.045373,20.934195],\"marker\":{\"color\":\"#19d3f3\",\"size\":10},\"mode\":\"markers\",\"name\":\"731\",\"showlegend\":true,\"subplot\":\"mapbox\",\"type\":\"scattermapbox\"},{\"hovertemplate\":\"<b>%{hovertext}</b><br><br>Lines=522<br>Lat=%{lat}<br>Lon=%{lon}<extra></extra>\",\"hovertext\":[2007.0,8526.0,8552.0,2012.0,2016.0,2000.0,2021.0],\"lat\":[52.157207,52.187208,52.1922133,52.22893,52.182461,52.2182669,52.157722],\"legendgroup\":\"522\",\"lon\":[21.078487,20.995141,21.0446283,21.0052144,21.055389,21.0155115,21.080097],\"marker\":{\"color\":\"#FF6692\",\"size\":10},\"mode\":\"markers\",\"name\":\"522\",\"showlegend\":true,\"subplot\":\"mapbox\",\"type\":\"scattermapbox\"},{\"hovertemplate\":\"<b>%{hovertext}</b><br><br>Lines=409<br>Lat=%{lat}<br>Lon=%{lon}<extra></extra>\",\"hovertext\":[5452.0,3435.0,3410.0,3422.0,3428.0,3448.0],\"lat\":[52.2988917,52.3002608,52.2784571,52.2800044,52.2593633,52.30478],\"legendgroup\":\"409\",\"lon\":[20.9352414,21.0417803,21.0443813,20.9231109,21.0053733,20.8867925],\"marker\":{\"color\":\"#B6E880\",\"size\":10},\"mode\":\"markers\",\"name\":\"409\",\"showlegend\":true,\"subplot\":\"mapbox\",\"type\":\"scattermapbox\"},{\"hovertemplate\":\"<b>%{hovertext}</b><br><br>Lines=520<br>Lat=%{lat}<br>Lon=%{lon}<extra></extra>\",\"hovertext\":[7331.0,8834.0,7317.0,8829.0,8573.0,8309.0,5437.0,3461.0,8814.0,7746.0,7313.0],\"lat\":[52.240398,52.2277801,52.2415574,52.234198,52.240695,52.233531,52.2442276,52.265063,52.264323,52.2243315,52.238068],\"legendgroup\":\"520\",\"lon\":[21.155899,21.0600265,21.1358362,21.115024,21.134445,21.116981,21.0013887,21.046146,21.048385,21.0437112,21.006588],\"marker\":{\"color\":\"#FF97FF\",\"size\":10},\"mode\":\"markers\",\"name\":\"520\",\"showlegend\":true,\"subplot\":\"mapbox\",\"type\":\"scattermapbox\"},{\"hovertemplate\":\"<b>%{hovertext}</b><br><br>Lines=133<br>Lat=%{lat}<br>Lon=%{lon}<extra></extra>\",\"hovertext\":[9217.0,1045.0,9216.0,1040.0],\"lat\":[52.3354369,52.266358,52.318819,52.264079],\"legendgroup\":\"133\",\"lon\":[20.9624973,21.042373,20.951727,21.048145],\"marker\":{\"color\":\"#FECB52\",\"size\":10},\"mode\":\"markers\",\"name\":\"133\",\"showlegend\":true,\"subplot\":\"mapbox\",\"type\":\"scattermapbox\"},{\"hovertemplate\":\"<b>%{hovertext}</b><br><br>Lines=L29<br>Lat=%{lat}<br>Lon=%{lon}<extra></extra>\",\"hovertext\":[60055.0],\"lat\":[52.2608338],\"legendgroup\":\"L29\",\"lon\":[20.504234],\"marker\":{\"color\":\"#636efa\",\"size\":10},\"mode\":\"markers\",\"name\":\"L29\",\"showlegend\":true,\"subplot\":\"mapbox\",\"type\":\"scattermapbox\"},{\"hovertemplate\":\"<b>%{hovertext}</b><br><br>Lines=L32<br>Lat=%{lat}<br>Lon=%{lon}<extra></extra>\",\"hovertext\":[70573.0,70575.0],\"lat\":[52.074608,52.015884],\"legendgroup\":\"L32\",\"lon\":[21.02953,20.967491],\"marker\":{\"color\":\"#EF553B\",\"size\":10},\"mode\":\"markers\",\"name\":\"L32\",\"showlegend\":true,\"subplot\":\"mapbox\",\"type\":\"scattermapbox\"},{\"hovertemplate\":\"<b>%{hovertext}</b><br><br>Lines=195<br>Lat=%{lat}<br>Lon=%{lon}<extra></extra>\",\"hovertext\":[1031.0,1034.0,1036.0,1022.0,1063.0],\"lat\":[52.155319,52.229122,52.170826,52.146,52.1885267],\"legendgroup\":\"195\",\"lon\":[21.028564,21.021582,21.040901,21.052807,20.9960247],\"marker\":{\"color\":\"#00cc96\",\"size\":10},\"mode\":\"markers\",\"name\":\"195\",\"showlegend\":true,\"subplot\":\"mapbox\",\"type\":\"scattermapbox\"},{\"hovertemplate\":\"<b>%{hovertext}</b><br><br>Lines=263<br>Lat=%{lat}<br>Lon=%{lon}<extra></extra>\",\"hovertext\":[1201.0,1210.0,1220.0,1216.0,1205.0,1224.0],\"lat\":[52.1477214,52.178322,52.179707,52.1591426,52.159962,52.188473],\"legendgroup\":\"263\",\"lon\":[21.0353664,21.04891,21.101473,21.0853779,21.088623,20.995191],\"marker\":{\"color\":\"#ab63fa\",\"size\":10},\"mode\":\"markers\",\"name\":\"263\",\"showlegend\":true,\"subplot\":\"mapbox\",\"type\":\"scattermapbox\"},{\"hovertemplate\":\"<b>%{hovertext}</b><br><br>Lines=168<br>Lat=%{lat}<br>Lon=%{lon}<extra></extra>\",\"hovertext\":[1426.0,2015.0,1529.0,8556.0,1524.0,1430.0,2017.0],\"lat\":[52.193349,52.2064077,52.233395,52.1878183,52.236299,52.189487,52.206852],\"legendgroup\":\"168\",\"lon\":[21.0015761,21.0626247,21.1081267,20.997,21.112793,21.002266,21.031662],\"marker\":{\"color\":\"#FFA15A\",\"size\":10},\"mode\":\"markers\",\"name\":\"168\",\"showlegend\":true,\"subplot\":\"mapbox\",\"type\":\"scattermapbox\"},{\"hovertemplate\":\"<b>%{hovertext}</b><br><br>Lines=Z10<br>Lat=%{lat}<br>Lon=%{lon}<extra></extra>\",\"hovertext\":[2209.0,8452.0,8451.0,8359.0,8360.0,8443.0,7716.0,5208.0,8358.0],\"lat\":[52.2605834,52.2398804,52.2607469,52.25187,52.2470617,52.22258,52.2247068,52.2249396,52.2608417],\"legendgroup\":\"Z10\",\"lon\":[20.9246244,20.9132707,20.9247935,20.9132983,20.9111683,20.926373,20.9163358,20.9307224,20.9249683],\"marker\":{\"color\":\"#19d3f3\",\"size\":10},\"mode\":\"markers\",\"name\":\"Z10\",\"showlegend\":true,\"subplot\":\"mapbox\",\"type\":\"scattermapbox\"},{\"hovertemplate\":\"<b>%{hovertext}</b><br><br>Lines=228<br>Lat=%{lat}<br>Lon=%{lon}<extra></extra>\",\"hovertext\":[4208.0,9205.0,9247.0,9222.0,9220.0],\"lat\":[52.196419,52.200389,52.197613,52.2047515,52.200317],\"legendgroup\":\"228\",\"lon\":[20.922394,20.893127,20.964926,20.9235625,20.89287],\"marker\":{\"color\":\"#FF6692\",\"size\":10},\"mode\":\"markers\",\"name\":\"228\",\"showlegend\":true,\"subplot\":\"mapbox\",\"type\":\"scattermapbox\"},{\"hovertemplate\":\"<b>%{hovertext}</b><br><br>Lines=128<br>Lat=%{lat}<br>Lon=%{lon}<extra></extra>\",\"hovertext\":[5936.0,5892.0,5879.0,5896.0,5881.0,5878.0,5994.0,8543.0],\"lat\":[52.207684,52.240671,52.205273,52.207008,52.2251211,52.243183,52.2392,52.187278],\"legendgroup\":\"128\",\"lon\":[20.963678,21.01526,20.986443,20.96834,20.9889509,21.012907,21.0172,20.997368],\"marker\":{\"color\":\"#B6E880\",\"size\":10},\"mode\":\"markers\",\"name\":\"128\",\"showlegend\":true,\"subplot\":\"mapbox\",\"type\":\"scattermapbox\"},{\"hovertemplate\":\"<b>%{hovertext}</b><br><br>Lines=N33<br>Lat=%{lat}<br>Lon=%{lon}<extra></extra>\",\"hovertext\":[8514.0],\"lat\":[52.186871],\"legendgroup\":\"N33\",\"lon\":[20.997144],\"marker\":{\"color\":\"#FF97FF\",\"size\":10},\"mode\":\"markers\",\"name\":\"N33\",\"showlegend\":true,\"subplot\":\"mapbox\",\"type\":\"scattermapbox\"},{\"hovertemplate\":\"<b>%{hovertext}</b><br><br>Lines=219<br>Lat=%{lat}<br>Lon=%{lon}<extra></extra>\",\"hovertext\":[9207.0,9242.0,9245.0,9244.0],\"lat\":[52.2061265,52.222801,52.214224,52.185467],\"legendgroup\":\"219\",\"lon\":[20.8836536,21.102308,21.139022,21.159431],\"marker\":{\"color\":\"#FECB52\",\"size\":10},\"mode\":\"markers\",\"name\":\"219\",\"showlegend\":true,\"subplot\":\"mapbox\",\"type\":\"scattermapbox\"},{\"hovertemplate\":\"<b>%{hovertext}</b><br><br>Lines=157<br>Lat=%{lat}<br>Lon=%{lon}<extra></extra>\",\"hovertext\":[9441.0,9411.0,9414.0,9447.0,9445.0,9428.0],\"lat\":[52.231609,52.207958,52.232353,52.267231,52.268349,52.289825],\"legendgroup\":\"157\",\"lon\":[20.992929,20.963951,20.99251,20.98786,20.986624,20.976343],\"marker\":{\"color\":\"#636efa\",\"size\":10},\"mode\":\"markers\",\"name\":\"157\",\"showlegend\":true,\"subplot\":\"mapbox\",\"type\":\"scattermapbox\"},{\"hovertemplate\":\"<b>%{hovertext}</b><br><br>Lines=129<br>Lat=%{lat}<br>Lon=%{lon}<extra></extra>\",\"hovertext\":[1051.0,1050.0,1052.0,1059.0,1054.0],\"lat\":[52.1948767,52.19688,52.2469217,52.1984817,52.244446],\"legendgroup\":\"129\",\"lon\":[20.8962683,20.918536,20.94597,20.91293,20.947758],\"marker\":{\"color\":\"#EF553B\",\"size\":10},\"mode\":\"markers\",\"name\":\"129\",\"showlegend\":true,\"subplot\":\"mapbox\",\"type\":\"scattermapbox\"},{\"hovertemplate\":\"<b>%{hovertext}</b><br><br>Lines=183<br>Lat=%{lat}<br>Lon=%{lon}<extra></extra>\",\"hovertext\":[1415.0,1840.0,4303.0],\"lat\":[52.244755,52.2558616,52.2548287],\"legendgroup\":\"183\",\"lon\":[21.087132,21.1565883,21.1619504],\"marker\":{\"color\":\"#00cc96\",\"size\":10},\"mode\":\"markers\",\"name\":\"183\",\"showlegend\":true,\"subplot\":\"mapbox\",\"type\":\"scattermapbox\"},{\"hovertemplate\":\"<b>%{hovertext}</b><br><br>Lines=125<br>Lat=%{lat}<br>Lon=%{lon}<extra></extra>\",\"hovertext\":[7306.0,8570.0,7309.0,8363.0,7319.0,8569.0,8323.0,8302.0],\"lat\":[52.2334406,52.2414983,52.208439,52.234221,52.2061272,52.2453767,52.233536,52.2349205],\"legendgroup\":\"125\",\"lon\":[21.1165806,21.0412317,21.19644,21.117433,21.1758499,21.0796517,21.116691,21.1259671],\"marker\":{\"color\":\"#ab63fa\",\"size\":10},\"mode\":\"markers\",\"name\":\"125\",\"showlegend\":true,\"subplot\":\"mapbox\",\"type\":\"scattermapbox\"},{\"hovertemplate\":\"<b>%{hovertext}</b><br><br>Lines=165<br>Lat=%{lat}<br>Lon=%{lon}<extra></extra>\",\"hovertext\":[8123.0,8115.0,8119.0,8816.0],\"lat\":[52.1546043,52.1563226,52.1797855,52.1795845],\"legendgroup\":\"165\",\"lon\":[20.9944135,20.9950123,21.024546,21.0205365],\"marker\":{\"color\":\"#FFA15A\",\"size\":10},\"mode\":\"markers\",\"name\":\"165\",\"showlegend\":true,\"subplot\":\"mapbox\",\"type\":\"scattermapbox\"},{\"hovertemplate\":\"<b>%{hovertext}</b><br><br>Lines=N86<br>Lat=%{lat}<br>Lon=%{lon}<extra></extra>\",\"hovertext\":[8500.0],\"lat\":[52.187545],\"legendgroup\":\"N86\",\"lon\":[20.995638],\"marker\":{\"color\":\"#19d3f3\",\"size\":10},\"mode\":\"markers\",\"name\":\"N86\",\"showlegend\":true,\"subplot\":\"mapbox\",\"type\":\"scattermapbox\"},{\"hovertemplate\":\"<b>%{hovertext}</b><br><br>Lines=140<br>Lat=%{lat}<br>Lon=%{lon}<extra></extra>\",\"hovertext\":[8877.0,8866.0,8820.0],\"lat\":[52.3269643,52.33455,52.276731],\"legendgroup\":\"140\",\"lon\":[21.108317,21.114421,21.052813],\"marker\":{\"color\":\"#FF6692\",\"size\":10},\"mode\":\"markers\",\"name\":\"140\",\"showlegend\":true,\"subplot\":\"mapbox\",\"type\":\"scattermapbox\"},{\"hovertemplate\":\"<b>%{hovertext}</b><br><br>Lines=204<br>Lat=%{lat}<br>Lon=%{lon}<extra></extra>\",\"hovertext\":[9081.0,9080.0,9082.0],\"lat\":[52.324284,52.277317,52.317894],\"legendgroup\":\"204\",\"lon\":[21.056673,21.023119,21.04126],\"marker\":{\"color\":\"#B6E880\",\"size\":10},\"mode\":\"markers\",\"name\":\"204\",\"showlegend\":true,\"subplot\":\"mapbox\",\"type\":\"scattermapbox\"},{\"hovertemplate\":\"<b>%{hovertext}</b><br><br>Lines=L-3<br>Lat=%{lat}<br>Lon=%{lon}<extra></extra>\",\"hovertext\":[70592.0,70593.0,70581.0,60056.0,60052.0],\"lat\":[52.065716,52.068695,52.267989,52.2193156,52.2191853],\"legendgroup\":\"L-3\",\"lon\":[21.019411,21.02412,21.0781095,20.8048796,20.8047261],\"marker\":{\"color\":\"#FF97FF\",\"size\":10},\"mode\":\"markers\",\"name\":\"L-3\",\"showlegend\":true,\"subplot\":\"mapbox\",\"type\":\"scattermapbox\"},{\"hovertemplate\":\"<b>%{hovertext}</b><br><br>Lines=119<br>Lat=%{lat}<br>Lon=%{lon}<extra></extra>\",\"hovertext\":[1030.0,1069.0,1002.0,1000.0,1414.0],\"lat\":[52.2060952,52.2021092,52.2080735,52.204671,52.2020427],\"legendgroup\":\"119\",\"lon\":[21.0002939,21.0459849,21.1967456,21.1676858,21.0375364],\"marker\":{\"color\":\"#FECB52\",\"size\":10},\"mode\":\"markers\",\"name\":\"119\",\"showlegend\":true,\"subplot\":\"mapbox\",\"type\":\"scattermapbox\"},{\"hovertemplate\":\"<b>%{hovertext}</b><br><br>Lines=192<br>Lat=%{lat}<br>Lon=%{lon}<extra></extra>\",\"hovertext\":[1064.0,1077.0,1021.0,1035.0,1060.0,1070.0],\"lat\":[52.128948,52.142422,52.163124,52.155521,52.145115,52.1882934],\"legendgroup\":\"192\",\"lon\":[21.068707,21.055079,21.017105,21.041634,21.052057,20.9951672],\"marker\":{\"color\":\"#636efa\",\"size\":10},\"mode\":\"markers\",\"name\":\"192\",\"showlegend\":true,\"subplot\":\"mapbox\",\"type\":\"scattermapbox\"},{\"hovertemplate\":\"<b>%{hovertext}</b><br><br>Lines=503<br>Lat=%{lat}<br>Lon=%{lon}<extra></extra>\",\"hovertext\":[5880.0,5884.0,5930.0,5886.0,5970.0,5921.0,5952.0,5877.0,5883.0],\"lat\":[52.219719,52.1866202,52.254726,52.207199,52.238758,52.2585092,52.148026,52.144615,52.16798],\"legendgroup\":\"503\",\"lon\":[21.025267,20.9981257,21.002317,21.030479,21.017508,21.0028555,21.042582,21.049973,21.036839],\"marker\":{\"color\":\"#EF553B\",\"size\":10},\"mode\":\"markers\",\"name\":\"503\",\"showlegend\":true,\"subplot\":\"mapbox\",\"type\":\"scattermapbox\"},{\"hovertemplate\":\"<b>%{hovertext}</b><br><br>Lines=127<br>Lat=%{lat}<br>Lon=%{lon}<extra></extra>\",\"hovertext\":[5895.0,5875.0,5874.0,5969.0,5966.0,8521.0,5955.0],\"lat\":[52.21899,52.208908,52.242996,52.240536,52.219036,52.23212,52.208828],\"legendgroup\":\"127\",\"lon\":[20.968359,20.895746,21.020634,21.026178,20.969513,21.0368617,20.895458],\"marker\":{\"color\":\"#00cc96\",\"size\":10},\"mode\":\"markers\",\"name\":\"127\",\"showlegend\":true,\"subplot\":\"mapbox\",\"type\":\"scattermapbox\"},{\"hovertemplate\":\"<b>%{hovertext}</b><br><br>Lines=174<br>Lat=%{lat}<br>Lon=%{lon}<extra></extra>\",\"hovertext\":[8132.0,8809.0,8133.0,8513.0,2029.0],\"lat\":[52.170147,52.2082728,52.2102851,52.187748,52.171024],\"legendgroup\":\"174\",\"lon\":[20.9952355,21.0076595,21.0073586,20.996649,21.010616],\"marker\":{\"color\":\"#ab63fa\",\"size\":10},\"mode\":\"markers\",\"name\":\"174\",\"showlegend\":true,\"subplot\":\"mapbox\",\"type\":\"scattermapbox\"},{\"hovertemplate\":\"<b>%{hovertext}</b><br><br>Lines=715<br>Lat=%{lat}<br>Lon=%{lon}<extra></extra>\",\"hovertext\":[9538.0,9527.0],\"lat\":[52.1146295,52.156366],\"legendgroup\":\"715\",\"lon\":[20.979077167,20.922657833],\"marker\":{\"color\":\"#FFA15A\",\"size\":10},\"mode\":\"markers\",\"name\":\"715\",\"showlegend\":true,\"subplot\":\"mapbox\",\"type\":\"scattermapbox\"},{\"hovertemplate\":\"<b>%{hovertext}</b><br><br>Lines=152<br>Lat=%{lat}<br>Lon=%{lon}<extra></extra>\",\"hovertext\":[9687.0,9677.0,9689.0,9691.0,9676.0,9683.0],\"lat\":[52.328369,52.329594,52.3169,52.326202,52.320698,52.326386],\"legendgroup\":\"152\",\"lon\":[20.967182,20.966505,20.9519,21.033752,20.971169,21.038084],\"marker\":{\"color\":\"#19d3f3\",\"size\":10},\"mode\":\"markers\",\"name\":\"152\",\"showlegend\":true,\"subplot\":\"mapbox\",\"type\":\"scattermapbox\"},{\"hovertemplate\":\"<b>%{hovertext}</b><br><br>Lines=L-5<br>Lat=%{lat}<br>Lon=%{lon}<extra></extra>\",\"hovertext\":[39552.0,39556.0,39554.0],\"lat\":[52.07468,52.06321,52.076836],\"legendgroup\":\"L-5\",\"lon\":[21.02952,21.015863,21.026062],\"marker\":{\"color\":\"#FF6692\",\"size\":10},\"mode\":\"markers\",\"name\":\"L-5\",\"showlegend\":true,\"subplot\":\"mapbox\",\"type\":\"scattermapbox\"},{\"hovertemplate\":\"<b>%{hovertext}</b><br><br>Lines=514<br>Lat=%{lat}<br>Lon=%{lon}<extra></extra>\",\"hovertext\":[8303.0,8312.0,8340.0,8331.0,8315.0],\"lat\":[52.2191716,52.233059,52.233783,52.2338916,52.248705],\"legendgroup\":\"514\",\"lon\":[21.0155983,21.075861,21.114875,21.1070405,21.243823],\"marker\":{\"color\":\"#B6E880\",\"size\":10},\"mode\":\"markers\",\"name\":\"514\",\"showlegend\":true,\"subplot\":\"mapbox\",\"type\":\"scattermapbox\"},{\"hovertemplate\":\"<b>%{hovertext}</b><br><br>Lines=151<br>Lat=%{lat}<br>Lon=%{lon}<extra></extra>\",\"hovertext\":[8329.0,8587.0,8850.0,8316.0],\"lat\":[52.23077,52.23084,52.217419,52.233674],\"legendgroup\":\"151\",\"lon\":[21.0823633,21.099695,21.006463,21.115974],\"marker\":{\"color\":\"#FF97FF\",\"size\":10},\"mode\":\"markers\",\"name\":\"151\",\"showlegend\":true,\"subplot\":\"mapbox\",\"type\":\"scattermapbox\"},{\"hovertemplate\":\"<b>%{hovertext}</b><br><br>Lines=712<br>Lat=%{lat}<br>Lon=%{lon}<extra></extra>\",\"hovertext\":[9446.0,9429.0],\"lat\":[52.248154,52.290833],\"legendgroup\":\"712\",\"lon\":[20.840523,20.927931],\"marker\":{\"color\":\"#FECB52\",\"size\":10},\"mode\":\"markers\",\"name\":\"712\",\"showlegend\":true,\"subplot\":\"mapbox\",\"type\":\"scattermapbox\"},{\"hovertemplate\":\"<b>%{hovertext}</b><br><br>Lines=L26<br>Lat=%{lat}<br>Lon=%{lon}<extra></extra>\",\"hovertext\":[80107.0],\"lat\":[52.2564135],\"legendgroup\":\"L26\",\"lon\":[21.1642973],\"marker\":{\"color\":\"#636efa\",\"size\":10},\"mode\":\"markers\",\"name\":\"L26\",\"showlegend\":true,\"subplot\":\"mapbox\",\"type\":\"scattermapbox\"},{\"hovertemplate\":\"<b>%{hovertext}</b><br><br>Lines=132<br>Lat=%{lat}<br>Lon=%{lon}<extra></extra>\",\"hovertext\":[4408.0,1846.0,5418.0,8456.0],\"lat\":[52.324776,52.317293,52.265614,52.265201],\"legendgroup\":\"132\",\"lon\":[21.052387,21.05065,21.044501,21.045838],\"marker\":{\"color\":\"#EF553B\",\"size\":10},\"mode\":\"markers\",\"name\":\"132\",\"showlegend\":true,\"subplot\":\"mapbox\",\"type\":\"scattermapbox\"},{\"hovertemplate\":\"<b>%{hovertext}</b><br><br>Lines=264<br>Lat=%{lat}<br>Lon=%{lon}<extra></extra>\",\"hovertext\":[9249.0],\"lat\":[52.126236],\"legendgroup\":\"264\",\"lon\":[21.140526],\"marker\":{\"color\":\"#00cc96\",\"size\":10},\"mode\":\"markers\",\"name\":\"264\",\"showlegend\":true,\"subplot\":\"mapbox\",\"type\":\"scattermapbox\"},{\"hovertemplate\":\"<b>%{hovertext}</b><br><br>Lines=176<br>Lat=%{lat}<br>Lon=%{lon}<extra></extra>\",\"hovertext\":[9442.0,9458.0,9412.0],\"lat\":[52.355591,52.319656,52.281181],\"legendgroup\":\"176\",\"lon\":[20.982252,20.997023,21.026781],\"marker\":{\"color\":\"#ab63fa\",\"size\":10},\"mode\":\"markers\",\"name\":\"176\",\"showlegend\":true,\"subplot\":\"mapbox\",\"type\":\"scattermapbox\"},{\"hovertemplate\":\"<b>%{hovertext}</b><br><br>Lines=198<br>Lat=%{lat}<br>Lon=%{lon}<extra></extra>\",\"hovertext\":[1418.0,4320.0],\"lat\":[52.218796,52.2540271],\"legendgroup\":\"198\",\"lon\":[21.243021,21.2199857],\"marker\":{\"color\":\"#FFA15A\",\"size\":10},\"mode\":\"markers\",\"name\":\"198\",\"showlegend\":true,\"subplot\":\"mapbox\",\"type\":\"scattermapbox\"},{\"hovertemplate\":\"<b>%{hovertext}</b><br><br>Lines=184<br>Lat=%{lat}<br>Lon=%{lon}<extra></extra>\",\"hovertext\":[5219.0,5238.0,6227.0,2223.0,6228.0,6238.0],\"lat\":[52.2080529,52.277363,52.2384212,52.29105,52.21941,52.2536965],\"legendgroup\":\"184\",\"lon\":[20.9639468,20.938884,20.9483917,20.92754,20.970472,20.9238376],\"marker\":{\"color\":\"#19d3f3\",\"size\":10},\"mode\":\"markers\",\"name\":\"184\",\"showlegend\":true,\"subplot\":\"mapbox\",\"type\":\"scattermapbox\"},{\"hovertemplate\":\"<b>%{hovertext}</b><br><br>Lines=131<br>Lat=%{lat}<br>Lon=%{lon}<extra></extra>\",\"hovertext\":[9842.0,8886.0,9853.0,9807.0,9811.0,9828.0,9821.0,9810.0],\"lat\":[52.184296,52.186411,52.2190028,52.228127,52.2111983,52.196324,52.206116,52.1680658],\"legendgroup\":\"131\",\"lon\":[21.06675,20.996424,21.0155001,21.003475,21.0221146,21.052344,20.883423,21.0840823],\"marker\":{\"color\":\"#FF6692\",\"size\":10},\"mode\":\"markers\",\"name\":\"131\",\"showlegend\":true,\"subplot\":\"mapbox\",\"type\":\"scattermapbox\"},{\"hovertemplate\":\"<b>%{hovertext}</b><br><br>Lines=162<br>Lat=%{lat}<br>Lon=%{lon}<extra></extra>\",\"hovertext\":[5448.0,8338.0,3415.0,8558.0,8591.0,8529.0,8564.0,3405.0,8356.0],\"lat\":[52.248852,52.234216,52.2596453,52.187361,52.193668,52.186996,52.233453,52.2330701,52.197911],\"legendgroup\":\"162\",\"lon\":[21.030088,21.117641,21.0275956,20.997945,21.085046,20.997395,21.116803,21.030892,21.052016],\"marker\":{\"color\":\"#B6E880\",\"size\":10},\"mode\":\"markers\",\"name\":\"162\",\"showlegend\":true,\"subplot\":\"mapbox\",\"type\":\"scattermapbox\"},{\"hovertemplate\":\"<b>%{hovertext}</b><br><br>Lines=188<br>Lat=%{lat}<br>Lon=%{lon}<extra></extra>\",\"hovertext\":[7258.0,8568.0,7212.0,5225.0,7703.0,5205.0,5228.0],\"lat\":[52.2164806,52.2500717,52.21645,52.2484497,52.1703394,52.196184,52.1726117],\"legendgroup\":\"188\",\"lon\":[20.9936622,21.084565,20.988024,21.0969488,20.9782324,20.922563,20.9775853],\"marker\":{\"color\":\"#FF97FF\",\"size\":10},\"mode\":\"markers\",\"name\":\"188\",\"showlegend\":true,\"subplot\":\"mapbox\",\"type\":\"scattermapbox\"},{\"hovertemplate\":\"<b>%{hovertext}</b><br><br>Lines=721<br>Lat=%{lat}<br>Lon=%{lon}<extra></extra>\",\"hovertext\":[4200.0],\"lat\":[52.054974],\"legendgroup\":\"721\",\"lon\":[20.829784],\"marker\":{\"color\":\"#FECB52\",\"size\":10},\"mode\":\"markers\",\"name\":\"721\",\"showlegend\":true,\"subplot\":\"mapbox\",\"type\":\"scattermapbox\"},{\"hovertemplate\":\"<b>%{hovertext}</b><br><br>Lines=175<br>Lat=%{lat}<br>Lon=%{lon}<extra></extra>\",\"hovertext\":[5891.0,5900.0,5933.0,5922.0,5889.0],\"lat\":[52.201534,52.228415,52.169544,52.23217,52.197094],\"legendgroup\":\"175\",\"lon\":[20.984669,21.0053932,20.978125,21.02018,20.98365],\"marker\":{\"color\":\"#636efa\",\"size\":10},\"mode\":\"markers\",\"name\":\"175\",\"showlegend\":true,\"subplot\":\"mapbox\",\"type\":\"scattermapbox\"},{\"hovertemplate\":\"<b>%{hovertext}</b><br><br>Lines=728<br>Lat=%{lat}<br>Lon=%{lon}<extra></extra>\",\"hovertext\":[7711.0,6209.0],\"lat\":[52.0471854,52.158504],\"legendgroup\":\"728\",\"lon\":[20.864458,20.925095],\"marker\":{\"color\":\"#EF553B\",\"size\":10},\"mode\":\"markers\",\"name\":\"728\",\"showlegend\":true,\"subplot\":\"mapbox\",\"type\":\"scattermapbox\"},{\"hovertemplate\":\"<b>%{hovertext}</b><br><br>Lines=719<br>Lat=%{lat}<br>Lon=%{lon}<extra></extra>\",\"hovertext\":[9840.0,9841.0,9837.0],\"lat\":[52.2576061,52.242844,52.236576],\"legendgroup\":\"719\",\"lon\":[20.5864153,20.870605,20.940327],\"marker\":{\"color\":\"#00cc96\",\"size\":10},\"mode\":\"markers\",\"name\":\"719\",\"showlegend\":true,\"subplot\":\"mapbox\",\"type\":\"scattermapbox\"},{\"hovertemplate\":\"<b>%{hovertext}</b><br><br>Lines=716<br>Lat=%{lat}<br>Lon=%{lon}<extra></extra>\",\"hovertext\":[2236.0,6225.0,7245.0],\"lat\":[52.186058,52.196419,52.2250749],\"legendgroup\":\"716\",\"lon\":[20.840063,20.883694,20.9308034],\"marker\":{\"color\":\"#ab63fa\",\"size\":10},\"mode\":\"markers\",\"name\":\"716\",\"showlegend\":true,\"subplot\":\"mapbox\",\"type\":\"scattermapbox\"},{\"hovertemplate\":\"<b>%{hovertext}</b><br><br>Lines=709<br>Lat=%{lat}<br>Lon=%{lon}<extra></extra>\",\"hovertext\":[8184.0,2031.0,8811.0,8894.0,8170.0,1209.0,8550.0,8139.0,8535.0,8542.0,8527.0],\"lat\":[52.1877956,52.0678144,52.09015,52.187764,52.1209443,52.0816027,52.179985,52.079292,52.0737767,52.186463,52.1532633],\"legendgroup\":\"709\",\"lon\":[20.996484,21.0170864,21.018995,21.017746,21.0184138,21.0232199,21.024145,21.0216096,21.015395,20.997893,21.0173133],\"marker\":{\"color\":\"#FFA15A\",\"size\":10},\"mode\":\"markers\",\"name\":\"709\",\"showlegend\":true,\"subplot\":\"mapbox\",\"type\":\"scattermapbox\"},{\"hovertemplate\":\"<b>%{hovertext}</b><br><br>Lines=117<br>Lat=%{lat}<br>Lon=%{lon}<extra></extra>\",\"hovertext\":[9426.0,9436.0,9423.0,9422.0,1851.0],\"lat\":[52.222157,52.229462,52.229671,52.224892,52.2332705],\"legendgroup\":\"117\",\"lon\":[21.102489,21.057316,21.005064,21.067068,21.116638],\"marker\":{\"color\":\"#19d3f3\",\"size\":10},\"mode\":\"markers\",\"name\":\"117\",\"showlegend\":true,\"subplot\":\"mapbox\",\"type\":\"scattermapbox\"},{\"hovertemplate\":\"<b>%{hovertext}</b><br><br>Lines=500<br>Lat=%{lat}<br>Lon=%{lon}<extra></extra>\",\"hovertext\":[5422.0,8874.0,5429.0],\"lat\":[52.254063,52.2651868,52.300331],\"legendgroup\":\"500\",\"lon\":[20.982845,21.0457385,21.041752],\"marker\":{\"color\":\"#FF6692\",\"size\":10},\"mode\":\"markers\",\"name\":\"500\",\"showlegend\":true,\"subplot\":\"mapbox\",\"type\":\"scattermapbox\"},{\"hovertemplate\":\"<b>%{hovertext}</b><br><br>Lines=201<br>Lat=%{lat}<br>Lon=%{lon}<extra></extra>\",\"hovertext\":[9235.0,9230.0,9211.0,9219.0],\"lat\":[52.260643,52.260512,52.2395513,52.233999],\"legendgroup\":\"201\",\"lon\":[20.924992,20.925059,20.9458429,20.926516],\"marker\":{\"color\":\"#B6E880\",\"size\":10},\"mode\":\"markers\",\"name\":\"201\",\"showlegend\":true,\"subplot\":\"mapbox\",\"type\":\"scattermapbox\"},{\"hovertemplate\":\"<b>%{hovertext}</b><br><br>Lines=109<br>Lat=%{lat}<br>Lon=%{lon}<extra></extra>\",\"hovertext\":[9825.0,9801.0,9804.0,9802.0,9803.0,9818.0],\"lat\":[52.227901,52.2230143,52.232765,52.239472,52.238491,52.231365],\"legendgroup\":\"109\",\"lon\":[21.00379,21.043316,20.948557,20.9178783,20.8987835,21.01836],\"marker\":{\"color\":\"#FF97FF\",\"size\":10},\"mode\":\"markers\",\"name\":\"109\",\"showlegend\":true,\"subplot\":\"mapbox\",\"type\":\"scattermapbox\"},{\"hovertemplate\":\"<b>%{hovertext}</b><br><br>Lines=N13<br>Lat=%{lat}<br>Lon=%{lon}<extra></extra>\",\"hovertext\":[8355.0],\"lat\":[52.233593],\"legendgroup\":\"N13\",\"lon\":[21.116968],\"marker\":{\"color\":\"#FECB52\",\"size\":10},\"mode\":\"markers\",\"name\":\"N13\",\"showlegend\":true,\"subplot\":\"mapbox\",\"type\":\"scattermapbox\"},{\"hovertemplate\":\"<b>%{hovertext}</b><br><br>Lines=255<br>Lat=%{lat}<br>Lon=%{lon}<extra></extra>\",\"hovertext\":[4227.0,4245.0,4218.0],\"lat\":[52.196766,52.225319,52.230549],\"legendgroup\":\"255\",\"lon\":[20.9207322,20.931025,20.984001],\"marker\":{\"color\":\"#636efa\",\"size\":10},\"mode\":\"markers\",\"name\":\"255\",\"showlegend\":true,\"subplot\":\"mapbox\",\"type\":\"scattermapbox\"},{\"hovertemplate\":\"<b>%{hovertext}</b><br><br>Lines=105<br>Lat=%{lat}<br>Lon=%{lon}<extra></extra>\",\"hovertext\":[7710.0,4203.0,5213.0,6243.0,6207.0,2226.0,6206.0,5226.0],\"lat\":[52.2388044,52.196995,52.196493,52.23748,52.231029,52.2257672,52.1969276,52.2278118],\"legendgroup\":\"105\",\"lon\":[20.8988309,20.922474,20.921143,20.896646,20.8967325,20.9395504,20.9226325,20.9519238],\"marker\":{\"color\":\"#EF553B\",\"size\":10},\"mode\":\"markers\",\"name\":\"105\",\"showlegend\":true,\"subplot\":\"mapbox\",\"type\":\"scattermapbox\"},{\"hovertemplate\":\"<b>%{hovertext}</b><br><br>Lines=177<br>Lat=%{lat}<br>Lon=%{lon}<extra></extra>\",\"hovertext\":[9226.0,9224.0,9229.0],\"lat\":[52.1937223,52.194645,52.2003138],\"legendgroup\":\"177\",\"lon\":[20.8906706,20.888342,20.8928318],\"marker\":{\"color\":\"#00cc96\",\"size\":10},\"mode\":\"markers\",\"name\":\"177\",\"showlegend\":true,\"subplot\":\"mapbox\",\"type\":\"scattermapbox\"},{\"hovertemplate\":\"<b>%{hovertext}</b><br><br>Lines=739<br>Lat=%{lat}<br>Lon=%{lon}<extra></extra>\",\"hovertext\":[1215.0,1206.0,1214.0,1217.0],\"lat\":[52.080563,52.1793107,52.116222,52.119686],\"legendgroup\":\"739\",\"lon\":[21.039822,21.0228989,21.018471,21.01812],\"marker\":{\"color\":\"#ab63fa\",\"size\":10},\"mode\":\"markers\",\"name\":\"739\",\"showlegend\":true,\"subplot\":\"mapbox\",\"type\":\"scattermapbox\"},{\"hovertemplate\":\"<b>%{hovertext}</b><br><br>Lines=222<br>Lat=%{lat}<br>Lon=%{lon}<extra></extra>\",\"hovertext\":[1908.0,1902.0,1910.0,1905.0,1916.0],\"lat\":[52.1889381,52.244835,52.2231609,52.224046,52.1914747],\"legendgroup\":\"222\",\"lon\":[20.9962628,21.004744,21.0243426,21.023914,20.9954499],\"marker\":{\"color\":\"#FFA15A\",\"size\":10},\"mode\":\"markers\",\"name\":\"222\",\"showlegend\":true,\"subplot\":\"mapbox\",\"type\":\"scattermapbox\"},{\"hovertemplate\":\"<b>%{hovertext}</b><br><br>Lines=187<br>Lat=%{lat}<br>Lon=%{lon}<extra></extra>\",\"hovertext\":[2227.0,2242.0,7203.0,7228.0,2256.0,6223.0,7238.0,5209.0],\"lat\":[52.190163,52.2095294,52.1990151,52.1953341,52.1781854,52.216789,52.1947105,52.2075114],\"legendgroup\":\"187\",\"lon\":[20.862513,20.9487664,21.0514351,20.8964044,21.0482424,20.961605,20.8849307,21.0482569],\"marker\":{\"color\":\"#19d3f3\",\"size\":10},\"mode\":\"markers\",\"name\":\"187\",\"showlegend\":true,\"subplot\":\"mapbox\",\"type\":\"scattermapbox\"},{\"hovertemplate\":\"<b>%{hovertext}</b><br><br>Lines=116<br>Lat=%{lat}<br>Lon=%{lon}<extra></extra>\",\"hovertext\":[5905.0,5983.0,5982.0,5945.0,5903.0,5978.0,5980.0,5977.0,5906.0,5908.0,5911.0],\"lat\":[52.280521,52.168041,52.253582,52.272305,52.277779,52.178741,52.221146,52.208118,52.271309,52.246449,52.1704307],\"legendgroup\":\"116\",\"lon\":[20.926796,21.083847,20.997929,20.924932,20.940378,21.05883,21.024744,21.029896,20.975208,21.011944,21.0679007],\"marker\":{\"color\":\"#FF6692\",\"size\":10},\"mode\":\"markers\",\"name\":\"116\",\"showlegend\":true,\"subplot\":\"mapbox\",\"type\":\"scattermapbox\"},{\"hovertemplate\":\"<b>%{hovertext}</b><br><br>Lines=196<br>Lat=%{lat}<br>Lon=%{lon}<extra></extra>\",\"hovertext\":[9078.0,9077.0],\"lat\":[52.261898,52.257839],\"legendgroup\":\"196\",\"lon\":[21.171062,21.15959],\"marker\":{\"color\":\"#B6E880\",\"size\":10},\"mode\":\"markers\",\"name\":\"196\",\"showlegend\":true,\"subplot\":\"mapbox\",\"type\":\"scattermapbox\"},{\"hovertemplate\":\"<b>%{hovertext}</b><br><br>Lines=103<br>Lat=%{lat}<br>Lon=%{lon}<extra></extra>\",\"hovertext\":[9413.0,9417.0,9420.0,9424.0,9419.0],\"lat\":[52.23769,52.263706,52.290314,52.243465,52.281109],\"legendgroup\":\"103\",\"lon\":[20.965427,20.950232,20.926916,20.966496,20.95059],\"marker\":{\"color\":\"#FF97FF\",\"size\":10},\"mode\":\"markers\",\"name\":\"103\",\"showlegend\":true,\"subplot\":\"mapbox\",\"type\":\"scattermapbox\"},{\"hovertemplate\":\"<b>%{hovertext}</b><br><br>Lines=737<br>Lat=%{lat}<br>Lon=%{lon}<extra></extra>\",\"hovertext\":[9522.0,9539.0,9543.0],\"lat\":[52.161996667,52.0564305,52.1111315],\"legendgroup\":\"737\",\"lon\":[21.036801833,20.897938833,21.017768],\"marker\":{\"color\":\"#FECB52\",\"size\":10},\"mode\":\"markers\",\"name\":\"737\",\"showlegend\":true,\"subplot\":\"mapbox\",\"type\":\"scattermapbox\"},{\"hovertemplate\":\"<b>%{hovertext}</b><br><br>Lines=200<br>Lat=%{lat}<br>Lon=%{lon}<extra></extra>\",\"hovertext\":[1065.0,1071.0],\"lat\":[52.208252,52.0817349],\"legendgroup\":\"200\",\"lon\":[21.007692,21.1139897],\"marker\":{\"color\":\"#636efa\",\"size\":10},\"mode\":\"markers\",\"name\":\"200\",\"showlegend\":true,\"subplot\":\"mapbox\",\"type\":\"scattermapbox\"},{\"hovertemplate\":\"<b>%{hovertext}</b><br><br>Lines=197<br>Lat=%{lat}<br>Lon=%{lon}<extra></extra>\",\"hovertext\":[1550.0,4338.0,1538.0,4416.0,4333.0,4339.0,4414.0,4232.0],\"lat\":[52.1904333,52.2209607,52.2565417,52.264523,52.1902959,52.2830292,52.218544,52.2604695],\"legendgroup\":\"197\",\"lon\":[20.86239,20.9194024,20.9304717,21.045275,20.8625668,20.9642821,20.910204,20.9389434],\"marker\":{\"color\":\"#EF553B\",\"size\":10},\"mode\":\"markers\",\"name\":\"197\",\"showlegend\":true,\"subplot\":\"mapbox\",\"type\":\"scattermapbox\"},{\"hovertemplate\":\"<b>%{hovertext}</b><br><br>Lines=106<br>Lat=%{lat}<br>Lon=%{lon}<extra></extra>\",\"hovertext\":[4429.0,1505.0,1516.0,4423.0,1539.0,1408.0,4417.0,1112.0,1101.0],\"lat\":[52.246269,52.264828,52.229876,52.235645,52.2432267,52.243746,52.237423,52.265581,52.2649505],\"legendgroup\":\"106\",\"lon\":[21.019482,21.044576,20.9694881,20.995468,20.966045,21.021956,21.019985,21.043938,21.0443363],\"marker\":{\"color\":\"#00cc96\",\"size\":10},\"mode\":\"markers\",\"name\":\"106\",\"showlegend\":true,\"subplot\":\"mapbox\",\"type\":\"scattermapbox\"},{\"hovertemplate\":\"<b>%{hovertext}</b><br><br>Lines=502<br>Lat=%{lat}<br>Lon=%{lon}<extra></extra>\",\"hovertext\":[8851.0,7739.0,8589.0,8330.0,8576.0,8307.0,8575.0],\"lat\":[52.233379,52.2188421,52.2323467,52.2175041,52.2164383,52.2185145,52.2360267],\"legendgroup\":\"502\",\"lon\":[21.115974,21.0152025,21.1315567,21.2428415,21.230915,21.0152143,21.0876383],\"marker\":{\"color\":\"#ab63fa\",\"size\":10},\"mode\":\"markers\",\"name\":\"502\",\"showlegend\":true,\"subplot\":\"mapbox\",\"type\":\"scattermapbox\"},{\"hovertemplate\":\"<b>%{hovertext}</b><br><br>Lines=L42<br>Lat=%{lat}<br>Lon=%{lon}<extra></extra>\",\"hovertext\":[70594.0,70595.0],\"lat\":[52.061535,52.061386],\"legendgroup\":\"L42\",\"lon\":[21.153097,21.153254],\"marker\":{\"color\":\"#FFA15A\",\"size\":10},\"mode\":\"markers\",\"name\":\"L42\",\"showlegend\":true,\"subplot\":\"mapbox\",\"type\":\"scattermapbox\"},{\"hovertemplate\":\"<b>%{hovertext}</b><br><br>Lines=149<br>Lat=%{lat}<br>Lon=%{lon}<extra></extra>\",\"hovertext\":[9512.0,9519.0,9510.0,9552.0],\"lat\":[52.24583,52.240145167,52.246596,52.240391667],\"legendgroup\":\"149\",\"lon\":[20.942624333,20.896408,20.940383667,20.896910167],\"marker\":{\"color\":\"#19d3f3\",\"size\":10},\"mode\":\"markers\",\"name\":\"149\",\"showlegend\":true,\"subplot\":\"mapbox\",\"type\":\"scattermapbox\"},{\"hovertemplate\":\"<b>%{hovertext}</b><br><br>Lines=724<br>Lat=%{lat}<br>Lon=%{lon}<extra></extra>\",\"hovertext\":[9548.0],\"lat\":[52.084676833],\"legendgroup\":\"724\",\"lon\":[21.086284833],\"marker\":{\"color\":\"#FF6692\",\"size\":10},\"mode\":\"markers\",\"name\":\"724\",\"showlegend\":true,\"subplot\":\"mapbox\",\"type\":\"scattermapbox\"},{\"hovertemplate\":\"<b>%{hovertext}</b><br><br>Lines=L20<br>Lat=%{lat}<br>Lon=%{lon}<extra></extra>\",\"hovertext\":[24512.0,24513.0,24515.0,24514.0],\"lat\":[52.132637,52.105022,52.132118,52.132263],\"legendgroup\":\"L20\",\"lon\":[21.47172,21.300175,21.471733,21.471516],\"marker\":{\"color\":\"#B6E880\",\"size\":10},\"mode\":\"markers\",\"name\":\"L20\",\"showlegend\":true,\"subplot\":\"mapbox\",\"type\":\"scattermapbox\"},{\"hovertemplate\":\"<b>%{hovertext}</b><br><br>Lines=124<br>Lat=%{lat}<br>Lon=%{lon}<extra></extra>\",\"hovertext\":[7236.0,5215.0],\"lat\":[52.1716285,52.151773],\"legendgroup\":\"124\",\"lon\":[20.9387647,20.964983],\"marker\":{\"color\":\"#FF97FF\",\"size\":10},\"mode\":\"markers\",\"name\":\"124\",\"showlegend\":true,\"subplot\":\"mapbox\",\"type\":\"scattermapbox\"},{\"hovertemplate\":\"<b>%{hovertext}</b><br><br>Lines=194<br>Lat=%{lat}<br>Lon=%{lon}<extra></extra>\",\"hovertext\":[9516.0,9515.0,9524.0,9536.0,9530.0,9554.0],\"lat\":[52.198403,52.194446333,52.211765167,52.220201333,52.207012833,52.2066105],\"legendgroup\":\"194\",\"lon\":[20.8905385,20.868321833,20.913602333,20.917183667,20.858839833,20.8832505],\"marker\":{\"color\":\"#FECB52\",\"size\":10},\"mode\":\"markers\",\"name\":\"194\",\"showlegend\":true,\"subplot\":\"mapbox\",\"type\":\"scattermapbox\"},{\"hovertemplate\":\"<b>%{hovertext}</b><br><br>Lines=707<br>Lat=%{lat}<br>Lon=%{lon}<extra></extra>\",\"hovertext\":[9533.0],\"lat\":[52.1756295],\"legendgroup\":\"707\",\"lon\":[20.9441915],\"marker\":{\"color\":\"#636efa\",\"size\":10},\"mode\":\"markers\",\"name\":\"707\",\"showlegend\":true,\"subplot\":\"mapbox\",\"type\":\"scattermapbox\"},{\"hovertemplate\":\"<b>%{hovertext}</b><br><br>Lines=153<br>Lat=%{lat}<br>Lon=%{lon}<extra></extra>\",\"hovertext\":[9340.0,9332.0,9314.0],\"lat\":[52.26952,52.256893,52.27095],\"legendgroup\":\"153\",\"lon\":[21.151325,21.177193,21.151247],\"marker\":{\"color\":\"#EF553B\",\"size\":10},\"mode\":\"markers\",\"name\":\"153\",\"showlegend\":true,\"subplot\":\"mapbox\",\"type\":\"scattermapbox\"},{\"hovertemplate\":\"<b>%{hovertext}</b><br><br>Lines=118<br>Lat=%{lat}<br>Lon=%{lon}<extra></extra>\",\"hovertext\":[9678.0,9692.0,9696.0,9699.0,9679.0],\"lat\":[52.274933,52.226982,52.282921,52.300102,52.224064],\"legendgroup\":\"118\",\"lon\":[20.994987,21.023245,20.990843,21.041315,21.024124],\"marker\":{\"color\":\"#00cc96\",\"size\":10},\"mode\":\"markers\",\"name\":\"118\",\"showlegend\":true,\"subplot\":\"mapbox\",\"type\":\"scattermapbox\"},{\"hovertemplate\":\"<b>%{hovertext}</b><br><br>Lines=736<br>Lat=%{lat}<br>Lon=%{lon}<extra></extra>\",\"hovertext\":[4428.0,1042.0],\"lat\":[52.266144,52.3984067],\"legendgroup\":\"736\",\"lon\":[21.043497,20.9396917],\"marker\":{\"color\":\"#ab63fa\",\"size\":10},\"mode\":\"markers\",\"name\":\"736\",\"showlegend\":true,\"subplot\":\"mapbox\",\"type\":\"scattermapbox\"},{\"hovertemplate\":\"<b>%{hovertext}</b><br><br>Lines=135<br>Lat=%{lat}<br>Lon=%{lon}<extra></extra>\",\"hovertext\":[9323.0,9312.0,9333.0,9331.0],\"lat\":[52.26107,52.248146,52.24839,52.236408],\"legendgroup\":\"135\",\"lon\":[21.030806,21.046896,21.107103,21.086735],\"marker\":{\"color\":\"#FFA15A\",\"size\":10},\"mode\":\"markers\",\"name\":\"135\",\"showlegend\":true,\"subplot\":\"mapbox\",\"type\":\"scattermapbox\"},{\"hovertemplate\":\"<b>%{hovertext}</b><br><br>Lines=L45<br>Lat=%{lat}<br>Lon=%{lon}<extra></extra>\",\"hovertext\":[80635.0,80641.0],\"lat\":[52.340725,52.30492],\"legendgroup\":\"L45\",\"lon\":[21.119743,21.08523],\"marker\":{\"color\":\"#19d3f3\",\"size\":10},\"mode\":\"markers\",\"name\":\"L45\",\"showlegend\":true,\"subplot\":\"mapbox\",\"type\":\"scattermapbox\"},{\"hovertemplate\":\"<b>%{hovertext}</b><br><br>Lines=Lines<br>Lat=%{lat}<br>Lon=%{lon}<extra></extra>\",\"hovertext\":[null],\"lat\":[null],\"legendgroup\":\"Lines\",\"lon\":[null],\"marker\":{\"color\":\"#FF6692\",\"size\":10},\"mode\":\"markers\",\"name\":\"Lines\",\"showlegend\":true,\"subplot\":\"mapbox\",\"type\":\"scattermapbox\"},{\"hovertemplate\":\"<b>%{hovertext}</b><br><br>Lines=L34<br>Lat=%{lat}<br>Lon=%{lon}<extra></extra>\",\"hovertext\":[15621.0,15618.0],\"lat\":[52.437824,52.441414],\"legendgroup\":\"L34\",\"lon\":[20.945114,20.863445],\"marker\":{\"color\":\"#B6E880\",\"size\":10},\"mode\":\"markers\",\"name\":\"L34\",\"showlegend\":true,\"subplot\":\"mapbox\",\"type\":\"scattermapbox\"},{\"hovertemplate\":\"<b>%{hovertext}</b><br><br>Lines=213<br>Lat=%{lat}<br>Lon=%{lon}<extra></extra>\",\"hovertext\":[1008.0,1855.0,1001.0,1003.0,1014.0,1004.0,1011.0,1013.0],\"lat\":[52.234613,52.1594195,52.2141131,52.234605,52.176454,52.234645,52.2346108,52.2261426],\"legendgroup\":\"213\",\"lon\":[21.115696,21.2031713,21.1439753,21.115079,21.232639,21.115438,21.1153973,21.1003301],\"marker\":{\"color\":\"#FF97FF\",\"size\":10},\"mode\":\"markers\",\"name\":\"213\",\"showlegend\":true,\"subplot\":\"mapbox\",\"type\":\"scattermapbox\"},{\"hovertemplate\":\"<b>%{hovertext}</b><br><br>Lines=111<br>Lat=%{lat}<br>Lon=%{lon}<extra></extra>\",\"hovertext\":[5960.0,5914.0,5937.0,5964.0,5972.0,5928.0,5935.0,5991.0],\"lat\":[52.222054,52.232201,52.235306,52.247204,52.223717,52.225986,52.244362,52.24054],\"legendgroup\":\"111\",\"lon\":[21.102486,21.023325,21.059258,20.988373,21.101881,21.083139,20.979134,21.014324],\"marker\":{\"color\":\"#FECB52\",\"size\":10},\"mode\":\"markers\",\"name\":\"111\",\"showlegend\":true,\"subplot\":\"mapbox\",\"type\":\"scattermapbox\"},{\"hovertemplate\":\"<b>%{hovertext}</b><br><br>Lines=167<br>Lat=%{lat}<br>Lon=%{lon}<extra></extra>\",\"hovertext\":[7720.0,5206.0,8519.0,8805.0,8881.0,8804.0,8162.0,8806.0],\"lat\":[52.2120341,52.2235611,52.2091783,52.2084018,52.2341191,52.2082135,52.1884273,52.2262905],\"legendgroup\":\"167\",\"lon\":[21.0737316,20.9584061,21.0170917,21.0126936,20.925644,21.0827691,20.9975516,20.943439],\"marker\":{\"color\":\"#636efa\",\"size\":10},\"mode\":\"markers\",\"name\":\"167\",\"showlegend\":true,\"subplot\":\"mapbox\",\"type\":\"scattermapbox\"},{\"hovertemplate\":\"<b>%{hovertext}</b><br><br>Lines=161<br>Lat=%{lat}<br>Lon=%{lon}<extra></extra>\",\"hovertext\":[9076.0,9074.0,9070.0],\"lat\":[52.160267,52.182331,52.186699],\"legendgroup\":\"161\",\"lon\":[21.207312,21.219995,21.224789],\"marker\":{\"color\":\"#EF553B\",\"size\":10},\"mode\":\"markers\",\"name\":\"161\",\"showlegend\":true,\"subplot\":\"mapbox\",\"type\":\"scattermapbox\"},{\"hovertemplate\":\"<b>%{hovertext}</b><br><br>Lines=211<br>Lat=%{lat}<br>Lon=%{lon}<extra></extra>\",\"hovertext\":[9088.0,9084.0,9086.0,9083.0,9085.0],\"lat\":[52.312115,52.355381,52.348587,52.291195,52.330219],\"legendgroup\":\"211\",\"lon\":[20.966387,20.939911,20.94239,21.000961,20.955048],\"marker\":{\"color\":\"#00cc96\",\"size\":10},\"mode\":\"markers\",\"name\":\"211\",\"showlegend\":true,\"subplot\":\"mapbox\",\"type\":\"scattermapbox\"},{\"hovertemplate\":\"<b>%{hovertext}</b><br><br>Lines=173<br>Lat=%{lat}<br>Lon=%{lon}<extra></extra>\",\"hovertext\":[1427.0,1530.0,1412.0,1528.0,4310.0],\"lat\":[52.248913,52.250145,52.240719,52.21436,52.2462589],\"legendgroup\":\"173\",\"lon\":[21.061502,21.052354,21.160074,21.2175217,21.2219371],\"marker\":{\"color\":\"#ab63fa\",\"size\":10},\"mode\":\"markers\",\"name\":\"173\",\"showlegend\":true,\"subplot\":\"mapbox\",\"type\":\"scattermapbox\"},{\"hovertemplate\":\"<b>%{hovertext}</b><br><br>Lines=169<br>Lat=%{lat}<br>Lon=%{lon}<extra></extra>\",\"hovertext\":[8449.0,3467.0,8858.0,3442.0,8444.0],\"lat\":[52.25293,52.3000725,52.2875666,52.253498,52.279835],\"legendgroup\":\"169\",\"lon\":[21.051794,21.041893,21.0404241,21.036006,21.045603],\"marker\":{\"color\":\"#FFA15A\",\"size\":10},\"mode\":\"markers\",\"name\":\"169\",\"showlegend\":true,\"subplot\":\"mapbox\",\"type\":\"scattermapbox\"},{\"hovertemplate\":\"<b>%{hovertext}</b><br><br>Lines=150<br>Lat=%{lat}<br>Lon=%{lon}<extra></extra>\",\"hovertext\":[734.0,761.0,739.0,778.0],\"lat\":[52.36039,52.341454,52.298443,52.3247942],\"legendgroup\":\"150\",\"lon\":[20.864891,20.847069,20.935217,20.9093464],\"marker\":{\"color\":\"#19d3f3\",\"size\":10},\"mode\":\"markers\",\"name\":\"150\",\"showlegend\":true,\"subplot\":\"mapbox\",\"type\":\"scattermapbox\"},{\"hovertemplate\":\"<b>%{hovertext}</b><br><br>Lines=217<br>Lat=%{lat}<br>Lon=%{lon}<extra></extra>\",\"hovertext\":[8537.0,2030.0,8812.0],\"lat\":[52.170536,52.1797242,52.1661635],\"legendgroup\":\"217\",\"lon\":[21.064163,21.0239502,21.069508],\"marker\":{\"color\":\"#FF6692\",\"size\":10},\"mode\":\"markers\",\"name\":\"217\",\"showlegend\":true,\"subplot\":\"mapbox\",\"type\":\"scattermapbox\"},{\"hovertemplate\":\"<b>%{hovertext}</b><br><br>Lines=212<br>Lat=%{lat}<br>Lon=%{lon}<extra></extra>\",\"hovertext\":[9695.0,9698.0,9697.0,9693.0],\"lat\":[52.279774,52.275181,52.262062,52.3018],\"legendgroup\":\"212\",\"lon\":[21.05584,21.0562,21.032488,21.0567],\"marker\":{\"color\":\"#B6E880\",\"size\":10},\"mode\":\"markers\",\"name\":\"212\",\"showlegend\":true,\"subplot\":\"mapbox\",\"type\":\"scattermapbox\"},{\"hovertemplate\":\"<b>%{hovertext}</b><br><br>Lines=114<br>Lat=%{lat}<br>Lon=%{lon}<extra></extra>\",\"hovertext\":[9907.0,9944.0,9948.0,9941.0,9951.0,9936.0,9950.0,9949.0,9924.0],\"lat\":[52.269588,52.30022,52.269249,52.273899,52.300804,52.295872,52.306496,52.275028,52.288765],\"legendgroup\":\"114\",\"lon\":[20.953169,21.041739,20.987347,20.9958,20.938574,21.042322,20.932209,20.937611,21.032305],\"marker\":{\"color\":\"#FF97FF\",\"size\":10},\"mode\":\"markers\",\"name\":\"114\",\"showlegend\":true,\"subplot\":\"mapbox\",\"type\":\"scattermapbox\"},{\"hovertemplate\":\"<b>%{hovertext}</b><br><br>Lines=N12<br>Lat=%{lat}<br>Lon=%{lon}<extra></extra>\",\"hovertext\":[4420.0],\"lat\":[52.264716],\"legendgroup\":\"N12\",\"lon\":[21.044878],\"marker\":{\"color\":\"#FECB52\",\"size\":10},\"mode\":\"markers\",\"name\":\"N12\",\"showlegend\":true,\"subplot\":\"mapbox\",\"type\":\"scattermapbox\"},{\"hovertemplate\":\"<b>%{hovertext}</b><br><br>Lines=108<br>Lat=%{lat}<br>Lon=%{lon}<extra></extra>\",\"hovertext\":[1062.0,1028.0,9210.0,9212.0,9250.0],\"lat\":[52.229729,52.1884459,52.210423,52.1796226,52.186131],\"legendgroup\":\"108\",\"lon\":[21.02249,20.995085,21.07562,21.0241867,21.062624],\"marker\":{\"color\":\"#636efa\",\"size\":10},\"mode\":\"markers\",\"name\":\"108\",\"showlegend\":true,\"subplot\":\"mapbox\",\"type\":\"scattermapbox\"},{\"hovertemplate\":\"<b>%{hovertext}</b><br><br>Lines=727<br>Lat=%{lat}<br>Lon=%{lon}<extra></extra>\",\"hovertext\":[1218.0,8142.0,1202.0],\"lat\":[52.05637,52.18816,52.1453521],\"legendgroup\":\"727\",\"lon\":[20.898174,20.998456,21.0178245],\"marker\":{\"color\":\"#EF553B\",\"size\":10},\"mode\":\"markers\",\"name\":\"727\",\"showlegend\":true,\"subplot\":\"mapbox\",\"type\":\"scattermapbox\"},{\"hovertemplate\":\"<b>%{hovertext}</b><br><br>Lines=N32<br>Lat=%{lat}<br>Lon=%{lon}<extra></extra>\",\"hovertext\":[8546.0],\"lat\":[52.187761],\"legendgroup\":\"N32\",\"lon\":[20.998198],\"marker\":{\"color\":\"#00cc96\",\"size\":10},\"mode\":\"markers\",\"name\":\"N32\",\"showlegend\":true,\"subplot\":\"mapbox\",\"type\":\"scattermapbox\"},{\"hovertemplate\":\"<b>%{hovertext}</b><br><br>Lines=900<br>Lat=%{lat}<br>Lon=%{lon}<extra></extra>\",\"hovertext\":[9090.0],\"lat\":[52.35886],\"legendgroup\":\"900\",\"lon\":[20.953674],\"marker\":{\"color\":\"#ab63fa\",\"size\":10},\"mode\":\"markers\",\"name\":\"900\",\"showlegend\":true,\"subplot\":\"mapbox\",\"type\":\"scattermapbox\"},{\"hovertemplate\":\"<b>%{hovertext}</b><br><br>Lines=L13<br>Lat=%{lat}<br>Lon=%{lon}<extra></extra>\",\"hovertext\":[39557.0,39561.0,39558.0],\"lat\":[52.028809,51.982636,52.027954],\"legendgroup\":\"L13\",\"lon\":[21.027725,21.21739,21.030777],\"marker\":{\"color\":\"#FFA15A\",\"size\":10},\"mode\":\"markers\",\"name\":\"L13\",\"showlegend\":true,\"subplot\":\"mapbox\",\"type\":\"scattermapbox\"},{\"hovertemplate\":\"<b>%{hovertext}</b><br><br>Lines=735<br>Lat=%{lat}<br>Lon=%{lon}<extra></extra>\",\"hovertext\":[3439.0,3409.0,3406.0],\"lat\":[52.2743685,52.453813,52.3202396],\"legendgroup\":\"735\",\"lon\":[20.9683216,21.011828,21.0121396],\"marker\":{\"color\":\"#19d3f3\",\"size\":10},\"mode\":\"markers\",\"name\":\"735\",\"showlegend\":true,\"subplot\":\"mapbox\",\"type\":\"scattermapbox\"},{\"hovertemplate\":\"<b>%{hovertext}</b><br><br>Lines=710<br>Lat=%{lat}<br>Lon=%{lon}<extra></extra>\",\"hovertext\":[9827.0,9845.0,9836.0,9851.0],\"lat\":[52.076539,52.07626,52.131706,52.132519],\"legendgroup\":\"710\",\"lon\":[21.036164,21.054569,21.07015,21.07608],\"marker\":{\"color\":\"#FF6692\",\"size\":10},\"mode\":\"markers\",\"name\":\"710\",\"showlegend\":true,\"subplot\":\"mapbox\",\"type\":\"scattermapbox\"},{\"hovertemplate\":\"<b>%{hovertext}</b><br><br>Lines=L25<br>Lat=%{lat}<br>Lon=%{lon}<extra></extra>\",\"hovertext\":[39553.0],\"lat\":[51.987343],\"legendgroup\":\"L25\",\"lon\":[21.191395],\"marker\":{\"color\":\"#B6E880\",\"size\":10},\"mode\":\"markers\",\"name\":\"L25\",\"showlegend\":true,\"subplot\":\"mapbox\",\"type\":\"scattermapbox\"},{\"hovertemplate\":\"<b>%{hovertext}</b><br><br>Lines=L23<br>Lat=%{lat}<br>Lon=%{lon}<extra></extra>\",\"hovertext\":[70003.0],\"lat\":[52.0601258],\"legendgroup\":\"L23\",\"lon\":[21.044282],\"marker\":{\"color\":\"#FF97FF\",\"size\":10},\"mode\":\"markers\",\"name\":\"L23\",\"showlegend\":true,\"subplot\":\"mapbox\",\"type\":\"scattermapbox\"},{\"hovertemplate\":\"<b>%{hovertext}</b><br><br>Lines=N46<br>Lat=%{lat}<br>Lon=%{lon}<extra></extra>\",\"hovertext\":[5440.0],\"lat\":[52.264863],\"legendgroup\":\"N46\",\"lon\":[21.046839],\"marker\":{\"color\":\"#FECB52\",\"size\":10},\"mode\":\"markers\",\"name\":\"N46\",\"showlegend\":true,\"subplot\":\"mapbox\",\"type\":\"scattermapbox\"},{\"hovertemplate\":\"<b>%{hovertext}</b><br><br>Lines=E-2<br>Lat=%{lat}<br>Lon=%{lon}<extra></extra>\",\"hovertext\":[8548.0],\"lat\":[52.187668],\"legendgroup\":\"E-2\",\"lon\":[20.997641],\"marker\":{\"color\":\"#636efa\",\"size\":10},\"mode\":\"markers\",\"name\":\"E-2\",\"showlegend\":true,\"subplot\":\"mapbox\",\"type\":\"scattermapbox\"},{\"hovertemplate\":\"<b>%{hovertext}</b><br><br>Lines=143<br>Lat=%{lat}<br>Lon=%{lon}<extra></extra>\",\"hovertext\":[8594.0,7735.0,8844.0,8367.0,8593.0,8590.0,8852.0,8361.0,8346.0],\"lat\":[52.261788,52.228662,52.2337076,52.26008,52.2569767,52.2150133,52.234301,52.2401233,52.233565],\"legendgroup\":\"143\",\"lon\":[21.171978,21.0636871,21.1170515,21.142018,21.1771267,21.005485,21.116585,21.0817067,21.1276767],\"marker\":{\"color\":\"#EF553B\",\"size\":10},\"mode\":\"markers\",\"name\":\"143\",\"showlegend\":true,\"subplot\":\"mapbox\",\"type\":\"scattermapbox\"},{\"hovertemplate\":\"<b>%{hovertext}</b><br><br>Lines=245<br>Lat=%{lat}<br>Lon=%{lon}<extra></extra>\",\"hovertext\":[9345.0,9334.0],\"lat\":[52.276539,52.27956],\"legendgroup\":\"245\",\"lon\":[21.052925,21.128115],\"marker\":{\"color\":\"#00cc96\",\"size\":10},\"mode\":\"markers\",\"name\":\"245\",\"showlegend\":true,\"subplot\":\"mapbox\",\"type\":\"scattermapbox\"},{\"hovertemplate\":\"<b>%{hovertext}</b><br><br>Lines=209<br>Lat=%{lat}<br>Lon=%{lon}<extra></extra>\",\"hovertext\":[9241.0,9253.0,9252.0],\"lat\":[52.143494,52.124069,52.149116],\"legendgroup\":\"209\",\"lon\":[21.019178,20.998505,21.032231],\"marker\":{\"color\":\"#ab63fa\",\"size\":10},\"mode\":\"markers\",\"name\":\"209\",\"showlegend\":true,\"subplot\":\"mapbox\",\"type\":\"scattermapbox\"},{\"hovertemplate\":\"<b>%{hovertext}</b><br><br>Lines=L39<br>Lat=%{lat}<br>Lon=%{lon}<extra></extra>\",\"hovertext\":[70574.0,70571.0,70572.0,70004.0,70002.0],\"lat\":[52.1003,52.060707,52.081032,52.1099633,52.0830746],\"legendgroup\":\"L39\",\"lon\":[21.053543,21.024292,21.024479,20.9923943,21.0348538],\"marker\":{\"color\":\"#FFA15A\",\"size\":10},\"mode\":\"markers\",\"name\":\"L39\",\"showlegend\":true,\"subplot\":\"mapbox\",\"type\":\"scattermapbox\"},{\"hovertemplate\":\"<b>%{hovertext}</b><br><br>Lines=365<br>Lat=%{lat}<br>Lon=%{lon}<extra></extra>\",\"hovertext\":[1029.0],\"lat\":[52.188488],\"legendgroup\":\"365\",\"lon\":[20.995823],\"marker\":{\"color\":\"#19d3f3\",\"size\":10},\"mode\":\"markers\",\"name\":\"365\",\"showlegend\":true,\"subplot\":\"mapbox\",\"type\":\"scattermapbox\"},{\"hovertemplate\":\"<b>%{hovertext}</b><br><br>Lines=185<br>Lat=%{lat}<br>Lon=%{lon}<extra></extra>\",\"hovertext\":[3458.0,8462.0,8504.0,8313.0,8308.0,8180.0,8889.0,3424.0],\"lat\":[52.287573,52.177528,52.142515,52.1872726,52.2216733,52.242975,52.285756,52.145343],\"legendgroup\":\"185\",\"lon\":[20.976673,21.046738,21.025525,21.0631865,21.044885,21.027294,20.9719388,21.0374605],\"marker\":{\"color\":\"#FF6692\",\"size\":10},\"mode\":\"markers\",\"name\":\"185\",\"showlegend\":true,\"subplot\":\"mapbox\",\"type\":\"scattermapbox\"},{\"hovertemplate\":\"<b>%{hovertext}</b><br><br>Lines=401<br>Lat=%{lat}<br>Lon=%{lon}<extra></extra>\",\"hovertext\":[5203.0],\"lat\":[52.196271],\"legendgroup\":\"401\",\"lon\":[20.922048],\"marker\":{\"color\":\"#B6E880\",\"size\":10},\"mode\":\"markers\",\"name\":\"401\",\"showlegend\":true,\"subplot\":\"mapbox\",\"type\":\"scattermapbox\"},{\"hovertemplate\":\"<b>%{hovertext}</b><br><br>Lines=199<br>Lat=%{lat}<br>Lon=%{lon}<extra></extra>\",\"hovertext\":[9335.0,9352.0,9359.0],\"lat\":[52.287807,52.26265,52.276421],\"legendgroup\":\"199\",\"lon\":[21.118355,21.157785,21.052979],\"marker\":{\"color\":\"#FF97FF\",\"size\":10},\"mode\":\"markers\",\"name\":\"199\",\"showlegend\":true,\"subplot\":\"mapbox\",\"type\":\"scattermapbox\"},{\"hovertemplate\":\"<b>%{hovertext}</b><br><br>Lines=L17<br>Lat=%{lat}<br>Lon=%{lon}<extra></extra>\",\"hovertext\":[36443.0],\"lat\":[52.082954],\"legendgroup\":\"L17\",\"lon\":[21.034964],\"marker\":{\"color\":\"#FECB52\",\"size\":10},\"mode\":\"markers\",\"name\":\"L17\",\"showlegend\":true,\"subplot\":\"mapbox\",\"type\":\"scattermapbox\"},{\"hovertemplate\":\"<b>%{hovertext}</b><br><br>Lines=L-2<br>Lat=%{lat}<br>Lon=%{lon}<extra></extra>\",\"hovertext\":[39564.0,39565.0,60053.0],\"lat\":[52.077,52.050591,52.2191033],\"legendgroup\":\"L-2\",\"lon\":[21.025843,20.995167,20.8050051],\"marker\":{\"color\":\"#636efa\",\"size\":10},\"mode\":\"markers\",\"name\":\"L-2\",\"showlegend\":true,\"subplot\":\"mapbox\",\"type\":\"scattermapbox\"},{\"hovertemplate\":\"<b>%{hovertext}</b><br><br>Lines=L36<br>Lat=%{lat}<br>Lon=%{lon}<extra></extra>\",\"hovertext\":[80643.0],\"lat\":[52.336781],\"legendgroup\":\"L36\",\"lon\":[21.236525],\"marker\":{\"color\":\"#EF553B\",\"size\":10},\"mode\":\"markers\",\"name\":\"L36\",\"showlegend\":true,\"subplot\":\"mapbox\",\"type\":\"scattermapbox\"},{\"hovertemplate\":\"<b>%{hovertext}</b><br><br>Lines=L18<br>Lat=%{lat}<br>Lon=%{lon}<extra></extra>\",\"hovertext\":[60058.0,60057.0],\"lat\":[52.3127426,52.2506991],\"legendgroup\":\"L18\",\"lon\":[20.8129445,20.843217],\"marker\":{\"color\":\"#00cc96\",\"size\":10},\"mode\":\"markers\",\"name\":\"L18\",\"showlegend\":true,\"subplot\":\"mapbox\",\"type\":\"scattermapbox\"},{\"hovertemplate\":\"<b>%{hovertext}</b><br><br>Lines=N02<br>Lat=%{lat}<br>Lon=%{lon}<extra></extra>\",\"hovertext\":[4405.0,4404.0],\"lat\":[52.264687,52.264256],\"legendgroup\":\"N02\",\"lon\":[21.046423,21.045756],\"marker\":{\"color\":\"#ab63fa\",\"size\":10},\"mode\":\"markers\",\"name\":\"N02\",\"showlegend\":true,\"subplot\":\"mapbox\",\"type\":\"scattermapbox\"},{\"hovertemplate\":\"<b>%{hovertext}</b><br><br>Lines=729<br>Lat=%{lat}<br>Lon=%{lon}<extra></extra>\",\"hovertext\":[4249.0],\"lat\":[52.2622452],\"legendgroup\":\"729\",\"lon\":[20.7954941],\"marker\":{\"color\":\"#FFA15A\",\"size\":10},\"mode\":\"markers\",\"name\":\"729\",\"showlegend\":true,\"subplot\":\"mapbox\",\"type\":\"scattermapbox\"},{\"hovertemplate\":\"<b>%{hovertext}</b><br><br>Lines=511<br>Lat=%{lat}<br>Lon=%{lon}<extra></extra>\",\"hovertext\":[5428.0,8862.0,3462.0,8584.0,5454.0],\"lat\":[52.348606,52.264764,52.266052,52.2913017,52.3076959],\"legendgroup\":\"511\",\"lon\":[20.9426,21.047671,21.0420606,20.928035,20.9536836],\"marker\":{\"color\":\"#19d3f3\",\"size\":10},\"mode\":\"markers\",\"name\":\"511\",\"showlegend\":true,\"subplot\":\"mapbox\",\"type\":\"scattermapbox\"},{\"hovertemplate\":\"<b>%{hovertext}</b><br><br>Lines=525<br>Lat=%{lat}<br>Lon=%{lon}<extra></extra>\",\"hovertext\":[9839.0,9848.0,9830.0,9823.0,9826.0,9843.0],\"lat\":[52.208382,52.228233,52.2285,52.220222,52.229568,52.2254647],\"legendgroup\":\"525\",\"lon\":[21.196519,21.140625,21.062025,21.029181,21.003811,21.1616408],\"marker\":{\"color\":\"#FF6692\",\"size\":10},\"mode\":\"markers\",\"name\":\"525\",\"showlegend\":true,\"subplot\":\"mapbox\",\"type\":\"scattermapbox\"},{\"hovertemplate\":\"<b>%{hovertext}</b><br><br>Lines=L11<br>Lat=%{lat}<br>Lon=%{lon}<extra></extra>\",\"hovertext\":[15617.0,15615.0],\"lat\":[52.45108,52.424141],\"legendgroup\":\"L11\",\"lon\":[20.968586,20.72617],\"marker\":{\"color\":\"#B6E880\",\"size\":10},\"mode\":\"markers\",\"name\":\"L11\",\"showlegend\":true,\"subplot\":\"mapbox\",\"type\":\"scattermapbox\"},{\"hovertemplate\":\"<b>%{hovertext}</b><br><br>Lines=102<br>Lat=%{lat}<br>Lon=%{lon}<extra></extra>\",\"hovertext\":[9325.0,9322.0,9342.0],\"lat\":[52.242092,52.250198,52.250587],\"legendgroup\":\"102\",\"lon\":[21.041874,21.088799,21.084761],\"marker\":{\"color\":\"#FF97FF\",\"size\":10},\"mode\":\"markers\",\"name\":\"102\",\"showlegend\":true,\"subplot\":\"mapbox\",\"type\":\"scattermapbox\"},{\"hovertemplate\":\"<b>%{hovertext}</b><br><br>Lines=L-8<br>Lat=%{lat}<br>Lon=%{lon}<extra></extra>\",\"hovertext\":[10606.0],\"lat\":[52.423595],\"legendgroup\":\"L-8\",\"lon\":[21.083366],\"marker\":{\"color\":\"#FECB52\",\"size\":10},\"mode\":\"markers\",\"name\":\"L-8\",\"showlegend\":true,\"subplot\":\"mapbox\",\"type\":\"scattermapbox\"},{\"hovertemplate\":\"<b>%{hovertext}</b><br><br>Lines=202<br>Lat=%{lat}<br>Lon=%{lon}<extra></extra>\",\"hovertext\":[9350.0,9346.0,9326.0,9319.0],\"lat\":[52.247349,52.240253,52.250195,52.242191],\"legendgroup\":\"202\",\"lon\":[21.054525,21.128654,21.052486,21.041988],\"marker\":{\"color\":\"#636efa\",\"size\":10},\"mode\":\"markers\",\"name\":\"202\",\"showlegend\":true,\"subplot\":\"mapbox\",\"type\":\"scattermapbox\"},{\"hovertemplate\":\"<b>%{hovertext}</b><br><br>Lines=220<br>Lat=%{lat}<br>Lon=%{lon}<extra></extra>\",\"hovertext\":[9528.0,9559.0,9549.0,9525.0],\"lat\":[52.2503925,52.175291167,52.256687667,52.193798833],\"legendgroup\":\"220\",\"lon\":[20.8984135,20.9184275,20.918998333,20.9029535],\"marker\":{\"color\":\"#EF553B\",\"size\":10},\"mode\":\"markers\",\"name\":\"220\",\"showlegend\":true,\"subplot\":\"mapbox\",\"type\":\"scattermapbox\"},{\"hovertemplate\":\"<b>%{hovertext}</b><br><br>Lines=705<br>Lat=%{lat}<br>Lon=%{lon}<extra></extra>\",\"hovertext\":[3401.0,8454.0,8461.0],\"lat\":[52.2719976,52.464366,52.41494],\"legendgroup\":\"705\",\"lon\":[20.968199,21.0818855,21.037905],\"marker\":{\"color\":\"#00cc96\",\"size\":10},\"mode\":\"markers\",\"name\":\"705\",\"showlegend\":true,\"subplot\":\"mapbox\",\"type\":\"scattermapbox\"},{\"hovertemplate\":\"<b>%{hovertext}</b><br><br>Lines=203<br>Lat=%{lat}<br>Lon=%{lon}<extra></extra>\",\"hovertext\":[9238.0,9237.0],\"lat\":[52.2911823,52.274868],\"legendgroup\":\"203\",\"lon\":[20.9283531,20.904011],\"marker\":{\"color\":\"#ab63fa\",\"size\":10},\"mode\":\"markers\",\"name\":\"203\",\"showlegend\":true,\"subplot\":\"mapbox\",\"type\":\"scattermapbox\"},{\"hovertemplate\":\"<b>%{hovertext}</b><br><br>Lines=L46<br>Lat=%{lat}<br>Lon=%{lon}<extra></extra>\",\"hovertext\":[80105.0,80106.0],\"lat\":[52.2970673,52.3240546],\"legendgroup\":\"L46\",\"lon\":[21.1549565,21.1077636],\"marker\":{\"color\":\"#FFA15A\",\"size\":10},\"mode\":\"markers\",\"name\":\"L46\",\"showlegend\":true,\"subplot\":\"mapbox\",\"type\":\"scattermapbox\"},{\"hovertemplate\":\"<b>%{hovertext}</b><br><br>Lines=251<br>Lat=%{lat}<br>Lon=%{lon}<extra></extra>\",\"hovertext\":[1913.0,1914.0,1911.0,1906.0,1915.0],\"lat\":[52.147587,52.0894922,52.1767724,52.1881163,52.1865579],\"legendgroup\":\"251\",\"lon\":[21.092939,21.1231082,21.0380964,20.9965963,20.9953892],\"marker\":{\"color\":\"#19d3f3\",\"size\":10},\"mode\":\"markers\",\"name\":\"251\",\"showlegend\":true,\"subplot\":\"mapbox\",\"type\":\"scattermapbox\"},{\"hovertemplate\":\"<b>%{hovertext}</b><br><br>Lines=733<br>Lat=%{lat}<br>Lon=%{lon}<extra></extra>\",\"hovertext\":[4211.0],\"lat\":[52.17424],\"legendgroup\":\"733\",\"lon\":[20.942825],\"marker\":{\"color\":\"#FF6692\",\"size\":10},\"mode\":\"markers\",\"name\":\"733\",\"showlegend\":true,\"subplot\":\"mapbox\",\"type\":\"scattermapbox\"},{\"hovertemplate\":\"<b>%{hovertext}</b><br><br>Lines=L40<br>Lat=%{lat}<br>Lon=%{lon}<extra></extra>\",\"hovertext\":[80108.0],\"lat\":[52.359414],\"legendgroup\":\"L40\",\"lon\":[21.1352923],\"marker\":{\"color\":\"#B6E880\",\"size\":10},\"mode\":\"markers\",\"name\":\"L40\",\"showlegend\":true,\"subplot\":\"mapbox\",\"type\":\"scattermapbox\"},{\"hovertemplate\":\"<b>%{hovertext}</b><br><br>Lines=414<br>Lat=%{lat}<br>Lon=%{lon}<extra></extra>\",\"hovertext\":[3420.0],\"lat\":[52.264826],\"legendgroup\":\"414\",\"lon\":[21.047393],\"marker\":{\"color\":\"#FF97FF\",\"size\":10},\"mode\":\"markers\",\"name\":\"414\",\"showlegend\":true,\"subplot\":\"mapbox\",\"type\":\"scattermapbox\"},{\"hovertemplate\":\"<b>%{hovertext}</b><br><br>Lines=234<br>Lat=%{lat}<br>Lon=%{lon}<extra></extra>\",\"hovertext\":[9069.0,9087.0],\"lat\":[52.309834,52.341015],\"legendgroup\":\"234\",\"lon\":[21.01494,21.057938],\"marker\":{\"color\":\"#FECB52\",\"size\":10},\"mode\":\"markers\",\"name\":\"234\",\"showlegend\":true,\"subplot\":\"mapbox\",\"type\":\"scattermapbox\"},{\"hovertemplate\":\"<b>%{hovertext}</b><br><br>Lines=527<br>Lat=%{lat}<br>Lon=%{lon}<extra></extra>\",\"hovertext\":[3451.0,3427.0,5408.0,3455.0,8871.0],\"lat\":[52.2659396,52.3236061,52.273991,52.265315,52.3099375],\"legendgroup\":\"527\",\"lon\":[21.0446933,21.0683345,21.053625,21.043603,21.0619413],\"marker\":{\"color\":\"#636efa\",\"size\":10},\"mode\":\"markers\",\"name\":\"527\",\"showlegend\":true,\"subplot\":\"mapbox\",\"type\":\"scattermapbox\"},{\"hovertemplate\":\"<b>%{hovertext}</b><br><br>Lines=738<br>Lat=%{lat}<br>Lon=%{lon}<extra></extra>\",\"hovertext\":[5423.0,3433.0,3468.0,3460.0],\"lat\":[52.4000709,52.2911068,52.2784836,52.3990645],\"legendgroup\":\"738\",\"lon\":[21.1687957,21.0787406,21.0684835,21.1680133],\"marker\":{\"color\":\"#EF553B\",\"size\":10},\"mode\":\"markers\",\"name\":\"738\",\"showlegend\":true,\"subplot\":\"mapbox\",\"type\":\"scattermapbox\"},{\"hovertemplate\":\"<b>%{hovertext}</b><br><br>Lines=743<br>Lat=%{lat}<br>Lon=%{lon}<extra></extra>\",\"hovertext\":[9452.0],\"lat\":[52.231026],\"legendgroup\":\"743\",\"lon\":[20.773285],\"marker\":{\"color\":\"#00cc96\",\"size\":10},\"mode\":\"markers\",\"name\":\"743\",\"showlegend\":true,\"subplot\":\"mapbox\",\"type\":\"scattermapbox\"},{\"hovertemplate\":\"<b>%{hovertext}</b><br><br>Lines=164<br>Lat=%{lat}<br>Lon=%{lon}<extra></extra>\",\"hovertext\":[9233.0,9221.0,9248.0],\"lat\":[52.17569,52.1457763,52.1750485],\"legendgroup\":\"164\",\"lon\":[21.06209,21.1381953,21.0630092],\"marker\":{\"color\":\"#ab63fa\",\"size\":10},\"mode\":\"markers\",\"name\":\"164\",\"showlegend\":true,\"subplot\":\"mapbox\",\"type\":\"scattermapbox\"},{\"hovertemplate\":\"<b>%{hovertext}</b><br><br>Lines=L10<br>Lat=%{lat}<br>Lon=%{lon}<extra></extra>\",\"hovertext\":[15620.0,15612.0],\"lat\":[52.474014,52.400871],\"legendgroup\":\"L10\",\"lon\":[20.916834,20.941513],\"marker\":{\"color\":\"#FFA15A\",\"size\":10},\"mode\":\"markers\",\"name\":\"L10\",\"showlegend\":true,\"subplot\":\"mapbox\",\"type\":\"scattermapbox\"},{\"hovertemplate\":\"<b>%{hovertext}</b><br><br>Lines=L-1<br>Lat=%{lat}<br>Lon=%{lon}<extra></extra>\",\"hovertext\":[60054.0],\"lat\":[52.2190883],\"legendgroup\":\"L-1\",\"lon\":[20.8046986],\"marker\":{\"color\":\"#19d3f3\",\"size\":10},\"mode\":\"markers\",\"name\":\"L-1\",\"showlegend\":true,\"subplot\":\"mapbox\",\"type\":\"scattermapbox\"},{\"hovertemplate\":\"<b>%{hovertext}</b><br><br>Lines=110<br>Lat=%{lat}<br>Lon=%{lon}<extra></extra>\",\"hovertext\":[4409.0,1833.0,4400.0,4406.0],\"lat\":[52.2721825,52.2661553,52.286739,52.2753559],\"legendgroup\":\"110\",\"lon\":[20.9685386,21.0422296,20.880663,20.9620797],\"marker\":{\"color\":\"#FF6692\",\"size\":10},\"mode\":\"markers\",\"name\":\"110\",\"showlegend\":true,\"subplot\":\"mapbox\",\"type\":\"scattermapbox\"},{\"hovertemplate\":\"<b>%{hovertext}</b><br><br>Lines=717<br>Lat=%{lat}<br>Lon=%{lon}<extra></extra>\",\"hovertext\":[9545.0,9544.0,9542.0],\"lat\":[52.192971667,52.191224333,52.217282167],\"legendgroup\":\"717\",\"lon\":[20.834718167,20.921848833,20.963386667],\"marker\":{\"color\":\"#B6E880\",\"size\":10},\"mode\":\"markers\",\"name\":\"717\",\"showlegend\":true,\"subplot\":\"mapbox\",\"type\":\"scattermapbox\"},{\"hovertemplate\":\"<b>%{hovertext}</b><br><br>Lines=338<br>Lat=%{lat}<br>Lon=%{lon}<extra></extra>\",\"hovertext\":[1519.0,1104.0],\"lat\":[52.264828,52.264738],\"legendgroup\":\"338\",\"lon\":[21.044705,21.047063],\"marker\":{\"color\":\"#FF97FF\",\"size\":10},\"mode\":\"markers\",\"name\":\"338\",\"showlegend\":true,\"subplot\":\"mapbox\",\"type\":\"scattermapbox\"},{\"hovertemplate\":\"<b>%{hovertext}</b><br><br>Lines=L12<br>Lat=%{lat}<br>Lon=%{lon}<extra></extra>\",\"hovertext\":[39559.0,39562.0],\"lat\":[52.057068,52.083382],\"legendgroup\":\"L12\",\"lon\":[21.008377,21.034416],\"marker\":{\"color\":\"#FECB52\",\"size\":10},\"mode\":\"markers\",\"name\":\"L12\",\"showlegend\":true,\"subplot\":\"mapbox\",\"type\":\"scattermapbox\"},{\"hovertemplate\":\"<b>%{hovertext}</b><br><br>Lines=340<br>Lat=%{lat}<br>Lon=%{lon}<extra></extra>\",\"hovertext\":[3423.0,8879.0],\"lat\":[52.265501,52.2647836],\"legendgroup\":\"340\",\"lon\":[21.043388,21.0465776],\"marker\":{\"color\":\"#636efa\",\"size\":10},\"mode\":\"markers\",\"name\":\"340\",\"showlegend\":true,\"subplot\":\"mapbox\",\"type\":\"scattermapbox\"},{\"hovertemplate\":\"<b>%{hovertext}</b><br><br>Lines=E-1<br>Lat=%{lat}<br>Lon=%{lon}<extra></extra>\",\"hovertext\":[8202.0],\"lat\":[52.2338768],\"legendgroup\":\"E-1\",\"lon\":[21.1174626],\"marker\":{\"color\":\"#EF553B\",\"size\":10},\"mode\":\"markers\",\"name\":\"E-1\",\"showlegend\":true,\"subplot\":\"mapbox\",\"type\":\"scattermapbox\"},{\"hovertemplate\":\"<b>%{hovertext}</b><br><br>Lines=269<br>Lat=%{lat}<br>Lon=%{lon}<extra></extra>\",\"hovertext\":[8868.0,3417.0,3429.0,8875.0],\"lat\":[52.264681,52.2754155,52.300475,52.2929895],\"legendgroup\":\"269\",\"lon\":[21.047873,21.0552515,21.0416716,21.0418998],\"marker\":{\"color\":\"#00cc96\",\"size\":10},\"mode\":\"markers\",\"name\":\"269\",\"showlegend\":true,\"subplot\":\"mapbox\",\"type\":\"scattermapbox\"},{\"hovertemplate\":\"<b>%{hovertext}</b><br><br>Lines=742<br>Lat=%{lat}<br>Lon=%{lon}<extra></extra>\",\"hovertext\":[9831.0],\"lat\":[52.0940023],\"legendgroup\":\"742\",\"lon\":[21.1175241],\"marker\":{\"color\":\"#ab63fa\",\"size\":10},\"mode\":\"markers\",\"name\":\"742\",\"showlegend\":true,\"subplot\":\"mapbox\",\"type\":\"scattermapbox\"},{\"hovertemplate\":\"<b>%{hovertext}</b><br><br>Lines=N16<br>Lat=%{lat}<br>Lon=%{lon}<extra></extra>\",\"hovertext\":[1531.0],\"lat\":[52.233016],\"legendgroup\":\"N16\",\"lon\":[21.117118],\"marker\":{\"color\":\"#FFA15A\",\"size\":10},\"mode\":\"markers\",\"name\":\"N16\",\"showlegend\":true,\"subplot\":\"mapbox\",\"type\":\"scattermapbox\"},{\"hovertemplate\":\"<b>%{hovertext}</b><br><br>Lines=221<br>Lat=%{lat}<br>Lon=%{lon}<extra></extra>\",\"hovertext\":[1549.0,1809.0,1844.0],\"lat\":[52.259538,52.2594561,52.2661826],\"legendgroup\":\"221\",\"lon\":[20.993559,20.994152,21.0429713],\"marker\":{\"color\":\"#19d3f3\",\"size\":10},\"mode\":\"markers\",\"name\":\"221\",\"showlegend\":true,\"subplot\":\"mapbox\",\"type\":\"scattermapbox\"},{\"hovertemplate\":\"<b>%{hovertext}</b><br><br>Lines=170<br>Lat=%{lat}<br>Lon=%{lon}<extra></extra>\",\"hovertext\":[1810.0,9339.0,1105.0,1544.0,1839.0,1805.0],\"lat\":[52.2709531,52.26807,52.263504,52.253403,52.2696915,52.266038],\"legendgroup\":\"170\",\"lon\":[21.0938455,21.077478,21.0220873,21.040308,21.0775206,21.043158],\"marker\":{\"color\":\"#FF6692\",\"size\":10},\"mode\":\"markers\",\"name\":\"170\",\"showlegend\":true,\"subplot\":\"mapbox\",\"type\":\"scattermapbox\"},{\"hovertemplate\":\"<b>%{hovertext}</b><br><br>Lines=N37<br>Lat=%{lat}<br>Lon=%{lon}<extra></extra>\",\"hovertext\":[8530.0,8545.0],\"lat\":[52.187463,52.187743],\"legendgroup\":\"N37\",\"lon\":[20.996005,20.996294],\"marker\":{\"color\":\"#B6E880\",\"size\":10},\"mode\":\"markers\",\"name\":\"N37\",\"showlegend\":true,\"subplot\":\"mapbox\",\"type\":\"scattermapbox\"},{\"hovertemplate\":\"<b>%{hovertext}</b><br><br>Lines=402<br>Lat=%{lat}<br>Lon=%{lon}<extra></extra>\",\"hovertext\":[8835.0],\"lat\":[52.233556],\"legendgroup\":\"402\",\"lon\":[21.117225],\"marker\":{\"color\":\"#FF97FF\",\"size\":10},\"mode\":\"markers\",\"name\":\"402\",\"showlegend\":true,\"subplot\":\"mapbox\",\"type\":\"scattermapbox\"},{\"hovertemplate\":\"<b>%{hovertext}</b><br><br>Lines=706<br>Lat=%{lat}<br>Lon=%{lon}<extra></extra>\",\"hovertext\":[6211.0],\"lat\":[52.132191],\"legendgroup\":\"706\",\"lon\":[20.8977627],\"marker\":{\"color\":\"#FECB52\",\"size\":10},\"mode\":\"markers\",\"name\":\"706\",\"showlegend\":true,\"subplot\":\"mapbox\",\"type\":\"scattermapbox\"},{\"hovertemplate\":\"<b>%{hovertext}</b><br><br>Lines=N24<br>Lat=%{lat}<br>Lon=%{lon}<extra></extra>\",\"hovertext\":[8353.0],\"lat\":[52.233413],\"legendgroup\":\"N24\",\"lon\":[21.117126],\"marker\":{\"color\":\"#636efa\",\"size\":10},\"mode\":\"markers\",\"name\":\"N24\",\"showlegend\":true,\"subplot\":\"mapbox\",\"type\":\"scattermapbox\"},{\"hovertemplate\":\"<b>%{hovertext}</b><br><br>Lines=N81<br>Lat=%{lat}<br>Lon=%{lon}<extra></extra>\",\"hovertext\":[8528.0],\"lat\":[52.188168],\"legendgroup\":\"N81\",\"lon\":[20.997623],\"marker\":{\"color\":\"#EF553B\",\"size\":10},\"mode\":\"markers\",\"name\":\"N81\",\"showlegend\":true,\"subplot\":\"mapbox\",\"type\":\"scattermapbox\"},{\"hovertemplate\":\"<b>%{hovertext}</b><br><br>Lines=319<br>Lat=%{lat}<br>Lon=%{lon}<extra></extra>\",\"hovertext\":[8336.0],\"lat\":[52.23355],\"legendgroup\":\"319\",\"lon\":[21.116666],\"marker\":{\"color\":\"#00cc96\",\"size\":10},\"mode\":\"markers\",\"name\":\"319\",\"showlegend\":true,\"subplot\":\"mapbox\",\"type\":\"scattermapbox\"},{\"hovertemplate\":\"<b>%{hovertext}</b><br><br>Lines=L-9<br>Lat=%{lat}<br>Lon=%{lon}<extra></extra>\",\"hovertext\":[15623.0,15611.0],\"lat\":[52.4385303,52.43792],\"legendgroup\":\"L-9\",\"lon\":[20.9611345,20.945103],\"marker\":{\"color\":\"#ab63fa\",\"size\":10},\"mode\":\"markers\",\"name\":\"L-9\",\"showlegend\":true,\"subplot\":\"mapbox\",\"type\":\"scattermapbox\"},{\"hovertemplate\":\"<b>%{hovertext}</b><br><br>Lines=L38<br>Lat=%{lat}<br>Lon=%{lon}<extra></extra>\",\"hovertext\":[42361.0,80636.0],\"lat\":[52.311806,52.345192],\"legendgroup\":\"L38\",\"lon\":[21.176972,21.220808],\"marker\":{\"color\":\"#FFA15A\",\"size\":10},\"mode\":\"markers\",\"name\":\"L38\",\"showlegend\":true,\"subplot\":\"mapbox\",\"type\":\"scattermapbox\"},{\"hovertemplate\":\"<b>%{hovertext}</b><br><br>Lines=N34<br>Lat=%{lat}<br>Lon=%{lon}<extra></extra>\",\"hovertext\":[8522.0],\"lat\":[52.187591],\"legendgroup\":\"N34\",\"lon\":[20.997924],\"marker\":{\"color\":\"#19d3f3\",\"size\":10},\"mode\":\"markers\",\"name\":\"N34\",\"showlegend\":true,\"subplot\":\"mapbox\",\"type\":\"scattermapbox\"},{\"hovertemplate\":\"<b>%{hovertext}</b><br><br>Lines=L-4<br>Lat=%{lat}<br>Lon=%{lon}<extra></extra>\",\"hovertext\":[60059.0],\"lat\":[52.2192403],\"legendgroup\":\"L-4\",\"lon\":[20.8045598],\"marker\":{\"color\":\"#FF6692\",\"size\":10},\"mode\":\"markers\",\"name\":\"L-4\",\"showlegend\":true,\"subplot\":\"mapbox\",\"type\":\"scattermapbox\"},{\"hovertemplate\":\"<b>%{hovertext}</b><br><br>Lines=121<br>Lat=%{lat}<br>Lon=%{lon}<extra></extra>\",\"hovertext\":[9213.0,9214.0,9208.0],\"lat\":[52.2879969,52.272052,52.2719786],\"legendgroup\":\"121\",\"lon\":[20.9765266,20.9681185,20.9679167],\"marker\":{\"color\":\"#B6E880\",\"size\":10},\"mode\":\"markers\",\"name\":\"121\",\"showlegend\":true,\"subplot\":\"mapbox\",\"type\":\"scattermapbox\"},{\"hovertemplate\":\"<b>%{hovertext}</b><br><br>Lines=181<br>Lat=%{lat}<br>Lon=%{lon}<extra></extra>\",\"hovertext\":[9526.0,9504.0,9541.0,9503.0],\"lat\":[52.281969333,52.297188,52.30628,52.269454167],\"legendgroup\":\"181\",\"lon\":[20.9517585,20.899983667,20.932604,20.986326833],\"marker\":{\"color\":\"#FF97FF\",\"size\":10},\"mode\":\"markers\",\"name\":\"181\",\"showlegend\":true,\"subplot\":\"mapbox\",\"type\":\"scattermapbox\"},{\"hovertemplate\":\"<b>%{hovertext}</b><br><br>Lines=714<br>Lat=%{lat}<br>Lon=%{lon}<extra></extra>\",\"hovertext\":[4216.0,4242.0],\"lat\":[52.2610429,52.2392759],\"legendgroup\":\"714\",\"lon\":[20.8316997,20.9438502],\"marker\":{\"color\":\"#FECB52\",\"size\":10},\"mode\":\"markers\",\"name\":\"714\",\"showlegend\":true,\"subplot\":\"mapbox\",\"type\":\"scattermapbox\"},{\"hovertemplate\":\"<b>%{hovertext}</b><br><br>Lines=208<br>Lat=%{lat}<br>Lon=%{lon}<extra></extra>\",\"hovertext\":[9227.0,9240.0],\"lat\":[52.2157093,52.2102738],\"legendgroup\":\"208\",\"lon\":[20.9622885,20.9753896],\"marker\":{\"color\":\"#636efa\",\"size\":10},\"mode\":\"markers\",\"name\":\"208\",\"showlegend\":true,\"subplot\":\"mapbox\",\"type\":\"scattermapbox\"},{\"hovertemplate\":\"<b>%{hovertext}</b><br><br>Lines=N43<br>Lat=%{lat}<br>Lon=%{lon}<extra></extra>\",\"hovertext\":[9929.0],\"lat\":[52.27935],\"legendgroup\":\"N43\",\"lon\":[20.873484],\"marker\":{\"color\":\"#EF553B\",\"size\":10},\"mode\":\"markers\",\"name\":\"N43\",\"showlegend\":true,\"subplot\":\"mapbox\",\"type\":\"scattermapbox\"},{\"hovertemplate\":\"<b>%{hovertext}</b><br><br>Lines=N03<br>Lat=%{lat}<br>Lon=%{lon}<extra></extra>\",\"hovertext\":[4432.0,1535.0],\"lat\":[52.264183,52.233176],\"legendgroup\":\"N03\",\"lon\":[21.045925,21.116133],\"marker\":{\"color\":\"#00cc96\",\"size\":10},\"mode\":\"markers\",\"name\":\"N03\",\"showlegend\":true,\"subplot\":\"mapbox\",\"type\":\"scattermapbox\"},{\"hovertemplate\":\"<b>%{hovertext}</b><br><br>Lines=239<br>Lat=%{lat}<br>Lon=%{lon}<extra></extra>\",\"hovertext\":[9251.0],\"lat\":[52.15308],\"legendgroup\":\"239\",\"lon\":[21.016607],\"marker\":{\"color\":\"#ab63fa\",\"size\":10},\"mode\":\"markers\",\"name\":\"239\",\"showlegend\":true,\"subplot\":\"mapbox\",\"type\":\"scattermapbox\"},{\"hovertemplate\":\"<b>%{hovertext}</b><br><br>Lines=L49<br>Lat=%{lat}<br>Lon=%{lon}<extra></extra>\",\"hovertext\":[10603.0],\"lat\":[52.408604],\"legendgroup\":\"L49\",\"lon\":[20.886749],\"marker\":{\"color\":\"#FFA15A\",\"size\":10},\"mode\":\"markers\",\"name\":\"L49\",\"showlegend\":true,\"subplot\":\"mapbox\",\"type\":\"scattermapbox\"},{\"hovertemplate\":\"<b>%{hovertext}</b><br><br>Lines=104<br>Lat=%{lat}<br>Lon=%{lon}<extra></extra>\",\"hovertext\":[9089.0,9075.0],\"lat\":[52.291531,52.300289],\"legendgroup\":\"104\",\"lon\":[21.00025,21.029129],\"marker\":{\"color\":\"#19d3f3\",\"size\":10},\"mode\":\"markers\",\"name\":\"104\",\"showlegend\":true,\"subplot\":\"mapbox\",\"type\":\"scattermapbox\"},{\"hovertemplate\":\"<b>%{hovertext}</b><br><br>Lines=730<br>Lat=%{lat}<br>Lon=%{lon}<extra></extra>\",\"hovertext\":[4309.0],\"lat\":[52.1993919],\"legendgroup\":\"730\",\"lon\":[21.3778491],\"marker\":{\"color\":\"#FF6692\",\"size\":10},\"mode\":\"markers\",\"name\":\"730\",\"showlegend\":true,\"subplot\":\"mapbox\",\"type\":\"scattermapbox\"},{\"hovertemplate\":\"<b>%{hovertext}</b><br><br>Lines=L19<br>Lat=%{lat}<br>Lon=%{lon}<extra></extra>\",\"hovertext\":[36444.0],\"lat\":[52.011845],\"legendgroup\":\"L19\",\"lon\":[21.040222],\"marker\":{\"color\":\"#B6E880\",\"size\":10},\"mode\":\"markers\",\"name\":\"L19\",\"showlegend\":true,\"subplot\":\"mapbox\",\"type\":\"scattermapbox\"},{\"hovertemplate\":\"<b>%{hovertext}</b><br><br>Lines=703<br>Lat=%{lat}<br>Lon=%{lon}<extra></extra>\",\"hovertext\":[2253.0],\"lat\":[52.175163],\"legendgroup\":\"703\",\"lon\":[20.942707],\"marker\":{\"color\":\"#FF97FF\",\"size\":10},\"mode\":\"markers\",\"name\":\"703\",\"showlegend\":true,\"subplot\":\"mapbox\",\"type\":\"scattermapbox\"},{\"hovertemplate\":\"<b>%{hovertext}</b><br><br>Lines=N72<br>Lat=%{lat}<br>Lon=%{lon}<extra></extra>\",\"hovertext\":[8357.0],\"lat\":[52.23335],\"legendgroup\":\"N72\",\"lon\":[21.117448],\"marker\":{\"color\":\"#FECB52\",\"size\":10},\"mode\":\"markers\",\"name\":\"N72\",\"showlegend\":true,\"subplot\":\"mapbox\",\"type\":\"scattermapbox\"},{\"hovertemplate\":\"<b>%{hovertext}</b><br><br>Lines=704<br>Lat=%{lat}<br>Lon=%{lon}<extra></extra>\",\"hovertext\":[8301.0,8586.0],\"lat\":[52.2219556,52.2259433],\"legendgroup\":\"704\",\"lon\":[21.2732923,21.1618867],\"marker\":{\"color\":\"#636efa\",\"size\":10},\"mode\":\"markers\",\"name\":\"704\",\"showlegend\":true,\"subplot\":\"mapbox\",\"type\":\"scattermapbox\"},{\"hovertemplate\":\"<b>%{hovertext}</b><br><br>Lines=L47<br>Lat=%{lat}<br>Lon=%{lon}<extra></extra>\",\"hovertext\":[80103.0],\"lat\":[52.2445018],\"legendgroup\":\"L47\",\"lon\":[21.304454],\"marker\":{\"color\":\"#EF553B\",\"size\":10},\"mode\":\"markers\",\"name\":\"L47\",\"showlegend\":true,\"subplot\":\"mapbox\",\"type\":\"scattermapbox\"},{\"hovertemplate\":\"<b>%{hovertext}</b><br><br>Lines=L35<br>Lat=%{lat}<br>Lon=%{lon}<extra></extra>\",\"hovertext\":[80637.0],\"lat\":[52.350231],\"legendgroup\":\"L35\",\"lon\":[21.252789],\"marker\":{\"color\":\"#00cc96\",\"size\":10},\"mode\":\"markers\",\"name\":\"L35\",\"showlegend\":true,\"subplot\":\"mapbox\",\"type\":\"scattermapbox\"},{\"hovertemplate\":\"<b>%{hovertext}</b><br><br>Lines=L44<br>Lat=%{lat}<br>Lon=%{lon}<extra></extra>\",\"hovertext\":[17459.0],\"lat\":[52.309299],\"legendgroup\":\"L44\",\"lon\":[21.1584],\"marker\":{\"color\":\"#ab63fa\",\"size\":10},\"mode\":\"markers\",\"name\":\"L44\",\"showlegend\":true,\"subplot\":\"mapbox\",\"type\":\"scattermapbox\"},{\"hovertemplate\":\"<b>%{hovertext}</b><br><br>Lines=L41<br>Lat=%{lat}<br>Lon=%{lon}<extra></extra>\",\"hovertext\":[15622.0],\"lat\":[52.382244],\"legendgroup\":\"L41\",\"lon\":[20.906254],\"marker\":{\"color\":\"#FFA15A\",\"size\":10},\"mode\":\"markers\",\"name\":\"L41\",\"showlegend\":true,\"subplot\":\"mapbox\",\"type\":\"scattermapbox\"},{\"hovertemplate\":\"<b>%{hovertext}</b><br><br>Lines=N21<br>Lat=%{lat}<br>Lon=%{lon}<extra></extra>\",\"hovertext\":[1428.0],\"lat\":[52.233025],\"legendgroup\":\"N21\",\"lon\":[21.117205],\"marker\":{\"color\":\"#19d3f3\",\"size\":10},\"mode\":\"markers\",\"name\":\"N21\",\"showlegend\":true,\"subplot\":\"mapbox\",\"type\":\"scattermapbox\"},{\"hovertemplate\":\"<b>%{hovertext}</b><br><br>Lines=311<br>Lat=%{lat}<br>Lon=%{lon}<extra></extra>\",\"hovertext\":[1012.0],\"lat\":[52.234571],\"legendgroup\":\"311\",\"lon\":[21.115369],\"marker\":{\"color\":\"#FF6692\",\"size\":10},\"mode\":\"markers\",\"name\":\"311\",\"showlegend\":true,\"subplot\":\"mapbox\",\"type\":\"scattermapbox\"},{\"hovertemplate\":\"<b>%{hovertext}</b><br><br>Lines=711<br>Lat=%{lat}<br>Lon=%{lon}<extra></extra>\",\"hovertext\":[4207.0],\"lat\":[52.0909529],\"legendgroup\":\"711\",\"lon\":[20.8000351],\"marker\":{\"color\":\"#B6E880\",\"size\":10},\"mode\":\"markers\",\"name\":\"711\",\"showlegend\":true,\"subplot\":\"mapbox\",\"type\":\"scattermapbox\"},{\"hovertemplate\":\"<b>%{hovertext}</b><br><br>Lines=303<br>Lat=%{lat}<br>Lon=%{lon}<extra></extra>\",\"hovertext\":[1109.0],\"lat\":[52.265998],\"legendgroup\":\"303\",\"lon\":[21.042541],\"marker\":{\"color\":\"#FF97FF\",\"size\":10},\"mode\":\"markers\",\"name\":\"303\",\"showlegend\":true,\"subplot\":\"mapbox\",\"type\":\"scattermapbox\"},{\"hovertemplate\":\"<b>%{hovertext}</b><br><br>Lines=722<br>Lat=%{lat}<br>Lon=%{lon}<extra></extra>\",\"hovertext\":[1416.0],\"lat\":[52.1767054],\"legendgroup\":\"722\",\"lon\":[21.2924142],\"marker\":{\"color\":\"#FECB52\",\"size\":10},\"mode\":\"markers\",\"name\":\"722\",\"showlegend\":true,\"subplot\":\"mapbox\",\"type\":\"scattermapbox\"}],                        {\"template\":{\"data\":{\"bar\":[{\"error_x\":{\"color\":\"#2a3f5f\"},\"error_y\":{\"color\":\"#2a3f5f\"},\"marker\":{\"line\":{\"color\":\"#E5ECF6\",\"width\":0.5},\"pattern\":{\"fillmode\":\"overlay\",\"size\":10,\"solidity\":0.2}},\"type\":\"bar\"}],\"barpolar\":[{\"marker\":{\"line\":{\"color\":\"#E5ECF6\",\"width\":0.5},\"pattern\":{\"fillmode\":\"overlay\",\"size\":10,\"solidity\":0.2}},\"type\":\"barpolar\"}],\"carpet\":[{\"aaxis\":{\"endlinecolor\":\"#2a3f5f\",\"gridcolor\":\"white\",\"linecolor\":\"white\",\"minorgridcolor\":\"white\",\"startlinecolor\":\"#2a3f5f\"},\"baxis\":{\"endlinecolor\":\"#2a3f5f\",\"gridcolor\":\"white\",\"linecolor\":\"white\",\"minorgridcolor\":\"white\",\"startlinecolor\":\"#2a3f5f\"},\"type\":\"carpet\"}],\"choropleth\":[{\"colorbar\":{\"outlinewidth\":0,\"ticks\":\"\"},\"type\":\"choropleth\"}],\"contour\":[{\"colorbar\":{\"outlinewidth\":0,\"ticks\":\"\"},\"colorscale\":[[0.0,\"#0d0887\"],[0.1111111111111111,\"#46039f\"],[0.2222222222222222,\"#7201a8\"],[0.3333333333333333,\"#9c179e\"],[0.4444444444444444,\"#bd3786\"],[0.5555555555555556,\"#d8576b\"],[0.6666666666666666,\"#ed7953\"],[0.7777777777777778,\"#fb9f3a\"],[0.8888888888888888,\"#fdca26\"],[1.0,\"#f0f921\"]],\"type\":\"contour\"}],\"contourcarpet\":[{\"colorbar\":{\"outlinewidth\":0,\"ticks\":\"\"},\"type\":\"contourcarpet\"}],\"heatmap\":[{\"colorbar\":{\"outlinewidth\":0,\"ticks\":\"\"},\"colorscale\":[[0.0,\"#0d0887\"],[0.1111111111111111,\"#46039f\"],[0.2222222222222222,\"#7201a8\"],[0.3333333333333333,\"#9c179e\"],[0.4444444444444444,\"#bd3786\"],[0.5555555555555556,\"#d8576b\"],[0.6666666666666666,\"#ed7953\"],[0.7777777777777778,\"#fb9f3a\"],[0.8888888888888888,\"#fdca26\"],[1.0,\"#f0f921\"]],\"type\":\"heatmap\"}],\"heatmapgl\":[{\"colorbar\":{\"outlinewidth\":0,\"ticks\":\"\"},\"colorscale\":[[0.0,\"#0d0887\"],[0.1111111111111111,\"#46039f\"],[0.2222222222222222,\"#7201a8\"],[0.3333333333333333,\"#9c179e\"],[0.4444444444444444,\"#bd3786\"],[0.5555555555555556,\"#d8576b\"],[0.6666666666666666,\"#ed7953\"],[0.7777777777777778,\"#fb9f3a\"],[0.8888888888888888,\"#fdca26\"],[1.0,\"#f0f921\"]],\"type\":\"heatmapgl\"}],\"histogram\":[{\"marker\":{\"pattern\":{\"fillmode\":\"overlay\",\"size\":10,\"solidity\":0.2}},\"type\":\"histogram\"}],\"histogram2d\":[{\"colorbar\":{\"outlinewidth\":0,\"ticks\":\"\"},\"colorscale\":[[0.0,\"#0d0887\"],[0.1111111111111111,\"#46039f\"],[0.2222222222222222,\"#7201a8\"],[0.3333333333333333,\"#9c179e\"],[0.4444444444444444,\"#bd3786\"],[0.5555555555555556,\"#d8576b\"],[0.6666666666666666,\"#ed7953\"],[0.7777777777777778,\"#fb9f3a\"],[0.8888888888888888,\"#fdca26\"],[1.0,\"#f0f921\"]],\"type\":\"histogram2d\"}],\"histogram2dcontour\":[{\"colorbar\":{\"outlinewidth\":0,\"ticks\":\"\"},\"colorscale\":[[0.0,\"#0d0887\"],[0.1111111111111111,\"#46039f\"],[0.2222222222222222,\"#7201a8\"],[0.3333333333333333,\"#9c179e\"],[0.4444444444444444,\"#bd3786\"],[0.5555555555555556,\"#d8576b\"],[0.6666666666666666,\"#ed7953\"],[0.7777777777777778,\"#fb9f3a\"],[0.8888888888888888,\"#fdca26\"],[1.0,\"#f0f921\"]],\"type\":\"histogram2dcontour\"}],\"mesh3d\":[{\"colorbar\":{\"outlinewidth\":0,\"ticks\":\"\"},\"type\":\"mesh3d\"}],\"parcoords\":[{\"line\":{\"colorbar\":{\"outlinewidth\":0,\"ticks\":\"\"}},\"type\":\"parcoords\"}],\"pie\":[{\"automargin\":true,\"type\":\"pie\"}],\"scatter\":[{\"marker\":{\"colorbar\":{\"outlinewidth\":0,\"ticks\":\"\"}},\"type\":\"scatter\"}],\"scatter3d\":[{\"line\":{\"colorbar\":{\"outlinewidth\":0,\"ticks\":\"\"}},\"marker\":{\"colorbar\":{\"outlinewidth\":0,\"ticks\":\"\"}},\"type\":\"scatter3d\"}],\"scattercarpet\":[{\"marker\":{\"colorbar\":{\"outlinewidth\":0,\"ticks\":\"\"}},\"type\":\"scattercarpet\"}],\"scattergeo\":[{\"marker\":{\"colorbar\":{\"outlinewidth\":0,\"ticks\":\"\"}},\"type\":\"scattergeo\"}],\"scattergl\":[{\"marker\":{\"colorbar\":{\"outlinewidth\":0,\"ticks\":\"\"}},\"type\":\"scattergl\"}],\"scattermapbox\":[{\"marker\":{\"colorbar\":{\"outlinewidth\":0,\"ticks\":\"\"}},\"type\":\"scattermapbox\"}],\"scatterpolar\":[{\"marker\":{\"colorbar\":{\"outlinewidth\":0,\"ticks\":\"\"}},\"type\":\"scatterpolar\"}],\"scatterpolargl\":[{\"marker\":{\"colorbar\":{\"outlinewidth\":0,\"ticks\":\"\"}},\"type\":\"scatterpolargl\"}],\"scatterternary\":[{\"marker\":{\"colorbar\":{\"outlinewidth\":0,\"ticks\":\"\"}},\"type\":\"scatterternary\"}],\"surface\":[{\"colorbar\":{\"outlinewidth\":0,\"ticks\":\"\"},\"colorscale\":[[0.0,\"#0d0887\"],[0.1111111111111111,\"#46039f\"],[0.2222222222222222,\"#7201a8\"],[0.3333333333333333,\"#9c179e\"],[0.4444444444444444,\"#bd3786\"],[0.5555555555555556,\"#d8576b\"],[0.6666666666666666,\"#ed7953\"],[0.7777777777777778,\"#fb9f3a\"],[0.8888888888888888,\"#fdca26\"],[1.0,\"#f0f921\"]],\"type\":\"surface\"}],\"table\":[{\"cells\":{\"fill\":{\"color\":\"#EBF0F8\"},\"line\":{\"color\":\"white\"}},\"header\":{\"fill\":{\"color\":\"#C8D4E3\"},\"line\":{\"color\":\"white\"}},\"type\":\"table\"}]},\"layout\":{\"annotationdefaults\":{\"arrowcolor\":\"#2a3f5f\",\"arrowhead\":0,\"arrowwidth\":1},\"autotypenumbers\":\"strict\",\"coloraxis\":{\"colorbar\":{\"outlinewidth\":0,\"ticks\":\"\"}},\"colorscale\":{\"diverging\":[[0,\"#8e0152\"],[0.1,\"#c51b7d\"],[0.2,\"#de77ae\"],[0.3,\"#f1b6da\"],[0.4,\"#fde0ef\"],[0.5,\"#f7f7f7\"],[0.6,\"#e6f5d0\"],[0.7,\"#b8e186\"],[0.8,\"#7fbc41\"],[0.9,\"#4d9221\"],[1,\"#276419\"]],\"sequential\":[[0.0,\"#0d0887\"],[0.1111111111111111,\"#46039f\"],[0.2222222222222222,\"#7201a8\"],[0.3333333333333333,\"#9c179e\"],[0.4444444444444444,\"#bd3786\"],[0.5555555555555556,\"#d8576b\"],[0.6666666666666666,\"#ed7953\"],[0.7777777777777778,\"#fb9f3a\"],[0.8888888888888888,\"#fdca26\"],[1.0,\"#f0f921\"]],\"sequentialminus\":[[0.0,\"#0d0887\"],[0.1111111111111111,\"#46039f\"],[0.2222222222222222,\"#7201a8\"],[0.3333333333333333,\"#9c179e\"],[0.4444444444444444,\"#bd3786\"],[0.5555555555555556,\"#d8576b\"],[0.6666666666666666,\"#ed7953\"],[0.7777777777777778,\"#fb9f3a\"],[0.8888888888888888,\"#fdca26\"],[1.0,\"#f0f921\"]]},\"colorway\":[\"#636efa\",\"#EF553B\",\"#00cc96\",\"#ab63fa\",\"#FFA15A\",\"#19d3f3\",\"#FF6692\",\"#B6E880\",\"#FF97FF\",\"#FECB52\"],\"font\":{\"color\":\"#2a3f5f\"},\"geo\":{\"bgcolor\":\"white\",\"lakecolor\":\"white\",\"landcolor\":\"#E5ECF6\",\"showlakes\":true,\"showland\":true,\"subunitcolor\":\"white\"},\"hoverlabel\":{\"align\":\"left\"},\"hovermode\":\"closest\",\"mapbox\":{\"style\":\"light\"},\"paper_bgcolor\":\"white\",\"plot_bgcolor\":\"#E5ECF6\",\"polar\":{\"angularaxis\":{\"gridcolor\":\"white\",\"linecolor\":\"white\",\"ticks\":\"\"},\"bgcolor\":\"#E5ECF6\",\"radialaxis\":{\"gridcolor\":\"white\",\"linecolor\":\"white\",\"ticks\":\"\"}},\"scene\":{\"xaxis\":{\"backgroundcolor\":\"#E5ECF6\",\"gridcolor\":\"white\",\"gridwidth\":2,\"linecolor\":\"white\",\"showbackground\":true,\"ticks\":\"\",\"zerolinecolor\":\"white\"},\"yaxis\":{\"backgroundcolor\":\"#E5ECF6\",\"gridcolor\":\"white\",\"gridwidth\":2,\"linecolor\":\"white\",\"showbackground\":true,\"ticks\":\"\",\"zerolinecolor\":\"white\"},\"zaxis\":{\"backgroundcolor\":\"#E5ECF6\",\"gridcolor\":\"white\",\"gridwidth\":2,\"linecolor\":\"white\",\"showbackground\":true,\"ticks\":\"\",\"zerolinecolor\":\"white\"}},\"shapedefaults\":{\"line\":{\"color\":\"#2a3f5f\"}},\"ternary\":{\"aaxis\":{\"gridcolor\":\"white\",\"linecolor\":\"white\",\"ticks\":\"\"},\"baxis\":{\"gridcolor\":\"white\",\"linecolor\":\"white\",\"ticks\":\"\"},\"bgcolor\":\"#E5ECF6\",\"caxis\":{\"gridcolor\":\"white\",\"linecolor\":\"white\",\"ticks\":\"\"}},\"title\":{\"x\":0.05},\"xaxis\":{\"automargin\":true,\"gridcolor\":\"white\",\"linecolor\":\"white\",\"ticks\":\"\",\"title\":{\"standoff\":15},\"zerolinecolor\":\"white\",\"zerolinewidth\":2},\"yaxis\":{\"automargin\":true,\"gridcolor\":\"white\",\"linecolor\":\"white\",\"ticks\":\"\",\"title\":{\"standoff\":15},\"zerolinecolor\":\"white\",\"zerolinewidth\":2}}},\"mapbox\":{\"domain\":{\"x\":[0.0,1.0],\"y\":[0.0,1.0]},\"center\":{\"lat\":52.23086974173084,\"lon\":21.01843917528736},\"zoom\":10,\"style\":\"open-street-map\"},\"legend\":{\"title\":{\"text\":\"Lines\"},\"tracegroupgap\":0},\"title\":{\"text\":\"Pozycje autobus\\u00f3w Warszawa 2022-01-15 17-22\",\"x\":0.5,\"y\":0.99},\"margin\":{\"r\":2,\"t\":22,\"l\":2,\"b\":2}},                        {\"responsive\": true}                    ).then(function(){\n",
       "                            \n",
       "var gd = document.getElementById('adb2a229-7658-4293-9673-a6ea6fd63512');\n",
       "var x = new MutationObserver(function (mutations, observer) {{\n",
       "        var display = window.getComputedStyle(gd).display;\n",
       "        if (!display || display === 'none') {{\n",
       "            console.log([gd, 'removed!']);\n",
       "            Plotly.purge(gd);\n",
       "            observer.disconnect();\n",
       "        }}\n",
       "}});\n",
       "\n",
       "// Listen for the removal of the full notebook cells\n",
       "var notebookContainer = gd.closest('#notebook-container');\n",
       "if (notebookContainer) {{\n",
       "    x.observe(notebookContainer, {childList: true});\n",
       "}}\n",
       "\n",
       "// Listen for the clearing of the current output cell\n",
       "var outputEl = gd.closest('.output');\n",
       "if (outputEl) {{\n",
       "    x.observe(outputEl, {childList: true});\n",
       "}}\n",
       "\n",
       "                        })                };                });            </script>        </div>"
      ]
     },
     "metadata": {},
     "output_type": "display_data"
    }
   ],
   "source": [
    "regen_map()"
   ]
  }
 ],
 "metadata": {
  "kernelspec": {
   "display_name": "Python 3 (ipykernel)",
   "language": "python",
   "name": "python3"
  },
  "language_info": {
   "codemirror_mode": {
    "name": "ipython",
    "version": 3
   },
   "file_extension": ".py",
   "mimetype": "text/x-python",
   "name": "python",
   "nbconvert_exporter": "python",
   "pygments_lexer": "ipython3",
   "version": "3.7.10"
  }
 },
 "nbformat": 4,
 "nbformat_minor": 5
}
