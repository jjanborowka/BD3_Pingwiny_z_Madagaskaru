{
 "cells": [
  {
   "cell_type": "code",
   "execution_count": null,
   "metadata": {},
   "outputs": [],
   "source": [
    "!pip install plotly-express"
   ]
  },
  {
   "cell_type": "code",
   "execution_count": 217,
   "metadata": {},
   "outputs": [],
   "source": [
    "from pyspark import SparkConf, SparkContext\n",
    "from pyspark.sql import SparkSession, SQLContext\n",
    "import pyspark.sql.functions as F\n",
    "from pyspark.sql.types import IntegerType,DoubleType,DateType\n",
    "import pandas as pd\n",
    "from pyspark.sql.functions import acos, cos, sin, lit, toRadians\n",
    "\n",
    "from pyspark.sql.window import Window\n",
    "from pyspark.sql.functions import lag\n",
    "from datetime import datetime\n",
    "import plotly.express as px"
   ]
  },
  {
   "cell_type": "code",
   "execution_count": 229,
   "metadata": {},
   "outputs": [],
   "source": [
    "spark = SparkSession.builder.master(\"local\").appName(\"regr\").getOrCreate()\n",
    "sc = spark.sparkContext\n",
    "sql = SQLContext(sc)\n",
    "\n",
    "df = spark.read.parquet('./data/masterdf.parquet')\n",
    "df = df.drop('Condition')\n",
    "df = df.withColumn('Time',F.to_timestamp(F.col('Time'), 'yyyy-MM-dd HH:mm:ss').alias('Time'))\n",
    "df = df.dropDuplicates(['Time','VehicleNumber'])\n",
    "df = df.withColumn('last_updated_epoch',F.from_unixtime(F.col('last_updated_epoch').cast('string')))\n",
    "\n",
    "time_limit = datetime.now()\n",
    "time_limit = time_limit.replace(minute=0, second=0, microsecond=0)\n",
    "df = df.filter(F.col('Time') < F.to_timestamp(F.lit(time_limit)))\n",
    "\n",
    "\n",
    "def dist(long_x, lat_x, long_y, lat_y):\n",
    "    return acos(\n",
    "        sin(toRadians(lat_x)) * sin(toRadians(lat_y)) + \n",
    "        cos(toRadians(lat_x)) * cos(toRadians(lat_y)) * \n",
    "            cos(toRadians(long_x) - toRadians(long_y))\n",
    "    ) * lit(6371000.0)\n",
    "\n",
    "w = Window().partitionBy(\"VehicleNumber\").orderBy(\"time\")\n",
    "\n",
    "\n",
    "\n",
    "df = df.withColumn(\"dist\", dist(\n",
    "    \"Lon\", \"Lat\",\n",
    "    F.lag(\"Lon\", 1).over(w), F.lag(\"Lat\", 1).over(w)\n",
    ").alias(\"dist\"))\n",
    "df = df.withColumn('timedelta',F.col('time').cast('long') - F.lag('time',1).over(w).cast('long'))\n",
    "\n",
    "df = df.withColumn('speed',3.6*(F.col('dist')/ F.col('timedelta')))\n",
    "df = df.dropna()"
   ]
  },
  {
   "cell_type": "code",
   "execution_count": 230,
   "metadata": {},
   "outputs": [
    {
     "name": "stdout",
     "output_type": "stream",
     "text": [
      "+-----+----------+-------------+-------------------+----------+-------+-------------------+----------------+------+------+------+--------+--------+-----------+--------+-----------+-----------+---------+---------+--------+-----+-----------+-----------+------+---------+---+--------+--------+-------------+------------------+---------+--------------------+\n",
      "|Lines|       Lon|VehicleNumber|               Time|       Lat|Brigade| last_updated_epoch|    last_updated|temp_c|temp_f|is_day|wind_mph|wind_kph|wind_degree|wind_dir|pressure_mb|pressure_in|precip_mm|precip_in|humidity|cloud|feelslike_c|feelslike_f|vis_km|vis_miles| uv|gust_mph|gust_kph|          key|              dist|timedelta|               speed|\n",
      "+-----+----------+-------------+-------------------+----------+-------+-------------------+----------------+------+------+------+--------+--------+-----------+--------+-----------+-----------+---------+---------+--------+-----+-----------+-----------+------+---------+---+--------+--------+-------------+------------------+---------+--------------------+\n",
      "|  136| 20.979858|         7253|2022-01-15 11:55:10| 52.210625|      6|2022-01-15 10:45:00|2022-01-15 11:45|   1.0|  33.8|     1|    16.1|    25.9|        290|     WNW|     1023.0|      30.21|      0.0|      0.0|      80|   75|       -3.7|       25.3|  10.0|      6.0|2.0|    15.4|    24.8|2022-01-15-11|1.2912596555226097|       24| 0.19368894832839145|\n",
      "|  136| 20.983824|         7253|2022-01-15 11:55:42| 52.210541|      6|2022-01-15 10:45:00|2022-01-15 11:45|   1.0|  33.8|     1|    16.1|    25.9|        290|     WNW|     1023.0|      30.21|      0.0|      0.0|      80|   75|       -3.7|       25.3|  10.0|      6.0|2.0|    15.4|    24.8|2022-01-15-11|270.38842859202674|       32|   30.41869821660301|\n",
      "|  136| 20.985197|         7253|2022-01-15 11:56:14| 52.210445|      6|2022-01-15 10:45:00|2022-01-15 11:45|   1.0|  33.8|     1|    16.1|    25.9|        290|     WNW|     1023.0|      30.21|      0.0|      0.0|      80|   75|       -3.7|       25.3|  10.0|      6.0|2.0|    15.4|    24.8|2022-01-15-11| 94.15786995359525|       32|  10.592760369779466|\n",
      "|  136|20.9870259|         7253|2022-01-15 11:56:47|52.2103207|      6|2022-01-15 10:45:00|2022-01-15 11:45|   1.0|  33.8|     1|    16.1|    25.9|        290|     WNW|     1023.0|      30.21|      0.0|      0.0|      80|   75|       -3.7|       25.3|  10.0|      6.0|2.0|    15.4|    24.8|2022-01-15-11|125.37855044127522|       33|  13.677660048139115|\n",
      "|  136|20.9870374|         7253|2022-01-15 11:57:11|52.2103034|      6|2022-01-15 10:45:00|2022-01-15 11:45|   1.0|  33.8|     1|    16.1|    25.9|        290|     WNW|     1023.0|      30.21|      0.0|      0.0|      80|   75|       -3.7|       25.3|  10.0|      6.0|2.0|    15.4|    24.8|2022-01-15-11|2.0799281679781845|       24| 0.31198922519672767|\n",
      "|  136|20.9874414|         7253|2022-01-15 11:57:44|52.2096832|      6|2022-01-15 10:45:00|2022-01-15 11:45|   1.0|  33.8|     1|    16.1|    25.9|        290|     WNW|     1023.0|      30.21|      0.0|      0.0|      80|   75|       -3.7|       25.3|  10.0|      6.0|2.0|    15.4|    24.8|2022-01-15-11| 74.25403034556089|       33|   8.100439674061189|\n",
      "|  136|20.9870612|         7253|2022-01-15 11:58:16|52.2084305|      6|2022-01-15 10:45:00|2022-01-15 11:45|   1.0|  33.8|     1|    16.1|    25.9|        290|     WNW|     1023.0|      30.21|      0.0|      0.0|      80|   75|       -3.7|       25.3|  10.0|      6.0|2.0|    15.4|    24.8|2022-01-15-11|141.68243231117995|       32|  15.939273635007744|\n",
      "|  136|20.9861296|         7253|2022-01-15 11:58:51| 52.205777|      6|2022-01-15 10:45:00|2022-01-15 11:45|   1.0|  33.8|     1|    16.1|    25.9|        290|     WNW|     1023.0|      30.21|      0.0|      0.0|      80|   75|       -3.7|       25.3|  10.0|      6.0|2.0|    15.4|    24.8|2022-01-15-11|301.80730057800497|       35|  31.043036630880515|\n",
      "|  136|20.9859784|         7253|2022-01-15 11:59:13|52.2053566|      6|2022-01-15 10:45:00|2022-01-15 11:45|   1.0|  33.8|     1|    16.1|    25.9|        290|     WNW|     1023.0|      30.21|      0.0|      0.0|      80|   75|       -3.7|       25.3|  10.0|      6.0|2.0|    15.4|    24.8|2022-01-15-11|47.868199837088014|       22|   7.832978155159857|\n",
      "|  136| 20.984701|         7253|2022-01-15 12:00:16| 52.201614|      6|2022-01-15 11:00:00|2022-01-15 12:00|   2.0|  35.6|     1|    15.0|    24.1|        300|     WNW|     1024.0|      30.24|      0.0|      0.0|      80|   75|       -2.5|       27.4|  10.0|      6.0|2.0|    13.4|    21.6|2022-01-15-12|328.55270138536025|       30|   39.42632416624323|\n",
      "|  136|  20.98472|         7253|2022-01-15 12:00:50| 52.201607|      6|2022-01-15 11:00:00|2022-01-15 12:00|   2.0|  35.6|     1|    15.0|    24.1|        300|     WNW|     1024.0|      30.24|      0.0|      0.0|      80|   75|       -2.5|       27.4|  10.0|      6.0|2.0|    13.4|    21.6|2022-01-15-12|1.5070511343591702|       34|   0.159570120108618|\n",
      "|  136| 20.984661|         7253|2022-01-15 12:01:13| 52.201508|      6|2022-01-15 11:00:00|2022-01-15 12:00|   2.0|  35.6|     1|    15.0|    24.1|        300|     WNW|     1024.0|      30.24|      0.0|      0.0|      80|   75|       -2.5|       27.4|  10.0|      6.0|2.0|    13.4|    21.6|2022-01-15-12|11.719800023482527|       23|  1.8344034819363957|\n",
      "|  136| 20.984354|         7253|2022-01-15 12:01:47| 52.200691|      6|2022-01-15 11:00:00|2022-01-15 12:00|   2.0|  35.6|     1|    15.0|    24.1|        300|     WNW|     1024.0|      30.24|      0.0|      0.0|      80|   75|       -2.5|       27.4|  10.0|      6.0|2.0|    13.4|    21.6|2022-01-15-12| 93.22438405796797|       34|   9.870817135549549|\n",
      "|  136| 20.983414|         7253|2022-01-15 12:02:20| 52.197952|      6|2022-01-15 11:00:00|2022-01-15 12:00|   2.0|  35.6|     1|    15.0|    24.1|        300|     WNW|     1024.0|      30.24|      0.0|      0.0|      80|   75|       -2.5|       27.4|  10.0|      6.0|2.0|    13.4|    21.6|2022-01-15-12| 311.2278223978408|       33|   33.95212607976445|\n",
      "|  136| 20.983343|         7253|2022-01-15 12:02:42| 52.197601|      6|2022-01-15 11:00:00|2022-01-15 12:00|   2.0|  35.6|     1|    15.0|    24.1|        300|     WNW|     1024.0|      30.24|      0.0|      0.0|      80|   75|       -2.5|       27.4|  10.0|      6.0|2.0|    13.4|    21.6|2022-01-15-12|39.328315040549285|       22|   6.435542461180792|\n",
      "|  136| 20.982677|         7253|2022-01-15 12:03:15| 52.195663|      6|2022-01-15 11:00:00|2022-01-15 12:00|   2.0|  35.6|     1|    15.0|    24.1|        300|     WNW|     1024.0|      30.24|      0.0|      0.0|      80|   75|       -2.5|       27.4|  10.0|      6.0|2.0|    13.4|    21.6|2022-01-15-12|220.22472381613724|       33|  24.024515325396788|\n",
      "|  136|20.9824501|         7253|2022-01-15 12:03:49|52.1945524|      6|2022-01-15 11:00:00|2022-01-15 12:00|   2.0|  35.6|     1|    15.0|    24.1|        300|     WNW|     1024.0|      30.24|      0.0|      0.0|      80|   75|       -2.5|       27.4|  10.0|      6.0|2.0|    13.4|    21.6|2022-01-15-12|124.45774972886728|       34|  13.177879383056537|\n",
      "|  136|20.9824562|         7253|2022-01-15 12:04:21|52.1945529|      6|2022-01-15 11:00:00|2022-01-15 12:00|   2.0|  35.6|     1|    15.0|    24.1|        300|     WNW|     1024.0|      30.24|      0.0|      0.0|      80|   75|       -2.5|       27.4|  10.0|      6.0|2.0|    13.4|    21.6|2022-01-15-12|0.4245635594323624|       32|0.047763400436140774|\n",
      "|  136|20.9824437|         7253|2022-01-15 12:04:44|52.1945612|      6|2022-01-15 11:00:00|2022-01-15 12:00|   2.0|  35.6|     1|    15.0|    24.1|        300|     WNW|     1024.0|      30.24|      0.0|      0.0|      80|   75|       -2.5|       27.4|  10.0|      6.0|2.0|    13.4|    21.6|2022-01-15-12|1.2558759452993076|       23|  0.1965718870903264|\n",
      "|  136|20.9825101|         7253|2022-01-15 12:05:16|52.1945482|      6|2022-01-15 11:00:00|2022-01-15 12:00|   2.0|  35.6|     1|    15.0|    24.1|        300|     WNW|     1024.0|      30.24|      0.0|      0.0|      80|   75|       -2.5|       27.4|  10.0|      6.0|2.0|    13.4|    21.6|2022-01-15-12| 4.750560792468112|       32|  0.5344380891526626|\n",
      "+-----+----------+-------------+-------------------+----------+-------+-------------------+----------------+------+------+------+--------+--------+-----------+--------+-----------+-----------+---------+---------+--------+-----+-----------+-----------+------+---------+---+--------+--------+-------------+------------------+---------+--------------------+\n",
      "only showing top 20 rows\n",
      "\n"
     ]
    }
   ],
   "source": [
    "df.show()"
   ]
  },
  {
   "cell_type": "code",
   "execution_count": 231,
   "metadata": {},
   "outputs": [
    {
     "data": {
      "text/plain": [
       "103888"
      ]
     },
     "execution_count": 231,
     "metadata": {},
     "output_type": "execute_result"
    }
   ],
   "source": [
    "df.count()"
   ]
  },
  {
   "cell_type": "code",
   "execution_count": 232,
   "metadata": {},
   "outputs": [
    {
     "data": {
      "text/plain": [
       "['Lines',\n",
       " 'Lon',\n",
       " 'VehicleNumber',\n",
       " 'Time',\n",
       " 'Lat',\n",
       " 'Brigade',\n",
       " 'last_updated_epoch',\n",
       " 'last_updated',\n",
       " 'temp_c',\n",
       " 'temp_f',\n",
       " 'is_day',\n",
       " 'wind_mph',\n",
       " 'wind_kph',\n",
       " 'wind_degree',\n",
       " 'wind_dir',\n",
       " 'pressure_mb',\n",
       " 'pressure_in',\n",
       " 'precip_mm',\n",
       " 'precip_in',\n",
       " 'humidity',\n",
       " 'cloud',\n",
       " 'feelslike_c',\n",
       " 'feelslike_f',\n",
       " 'vis_km',\n",
       " 'vis_miles',\n",
       " 'uv',\n",
       " 'gust_mph',\n",
       " 'gust_kph',\n",
       " 'key',\n",
       " 'dist',\n",
       " 'timedelta',\n",
       " 'speed']"
      ]
     },
     "execution_count": 232,
     "metadata": {},
     "output_type": "execute_result"
    }
   ],
   "source": [
    "df.columns"
   ]
  },
  {
   "cell_type": "markdown",
   "metadata": {},
   "source": [
    "## Ilość jeżdżących pojazdów oraz ilość linii"
   ]
  },
  {
   "cell_type": "code",
   "execution_count": 57,
   "metadata": {},
   "outputs": [
    {
     "data": {
      "text/plain": [
       "860"
      ]
     },
     "execution_count": 57,
     "metadata": {},
     "output_type": "execute_result"
    }
   ],
   "source": [
    "df.select('VehicleNumber').distinct().count()"
   ]
  },
  {
   "cell_type": "code",
   "execution_count": 58,
   "metadata": {},
   "outputs": [
    {
     "data": {
      "text/plain": [
       "208"
      ]
     },
     "execution_count": 58,
     "metadata": {},
     "output_type": "execute_result"
    }
   ],
   "source": [
    "df.select('Lines').distinct().count()"
   ]
  },
  {
   "cell_type": "markdown",
   "metadata": {},
   "source": [
    "# Ilość rekordów per godzina"
   ]
  },
  {
   "cell_type": "code",
   "execution_count": 48,
   "metadata": {},
   "outputs": [
    {
     "name": "stdout",
     "output_type": "stream",
     "text": [
      "+----+------+\n",
      "|hour| count|\n",
      "+----+------+\n",
      "|  11| 10464|\n",
      "|  12|178499|\n",
      "|  13| 15133|\n",
      "+----+------+\n",
      "\n"
     ]
    }
   ],
   "source": [
    "df.withColumn('hour',F.hour('Time')).groupBy('hour').count().orderBy(F.asc('hour')).show()"
   ]
  },
  {
   "cell_type": "markdown",
   "metadata": {},
   "source": [
    "# Ilość działających autobusów per godzina"
   ]
  },
  {
   "cell_type": "code",
   "execution_count": 61,
   "metadata": {},
   "outputs": [
    {
     "name": "stdout",
     "output_type": "stream",
     "text": [
      "+----+--------------------+\n",
      "|hour|count(VehicleNumber)|\n",
      "+----+--------------------+\n",
      "|  11|                 841|\n",
      "|  12|                 856|\n",
      "|  13|                 847|\n",
      "+----+--------------------+\n",
      "\n"
     ]
    }
   ],
   "source": [
    "df.withColumn('hour',F.hour('Time')).groupBy('hour').agg(F.countDistinct('VehicleNumber')).orderBy(F.asc('hour',)).show()"
   ]
  },
  {
   "cell_type": "markdown",
   "metadata": {},
   "source": [
    "# Ilość wpisów autobusów per update pogody"
   ]
  },
  {
   "cell_type": "code",
   "execution_count": 80,
   "metadata": {},
   "outputs": [
    {
     "name": "stdout",
     "output_type": "stream",
     "text": [
      "+-------------------+-----+\n",
      "| last_updated_epoch|count|\n",
      "+-------------------+-----+\n",
      "|2022-01-15 10:45:00| 8330|\n",
      "|               null|15906|\n",
      "|2022-01-15 11:30:00|80746|\n",
      "|2022-01-15 11:00:00|96678|\n",
      "+-------------------+-----+\n",
      "\n"
     ]
    }
   ],
   "source": [
    "df.groupBy('last_updated_epoch').count().orderBy('count').show()"
   ]
  },
  {
   "cell_type": "markdown",
   "metadata": {},
   "source": [
    "# Ilość autobusów per linia (która linia jest najbardziej oblegana przez autobusy)"
   ]
  },
  {
   "cell_type": "code",
   "execution_count": 94,
   "metadata": {},
   "outputs": [
    {
     "name": "stdout",
     "output_type": "stream",
     "text": [
      "+-----+--------------------+\n",
      "|Lines|count(VehicleNumber)|\n",
      "+-----+--------------------+\n",
      "|  190|                  16|\n",
      "|  189|                  14|\n",
      "|  523|                  14|\n",
      "|  112|                  12|\n",
      "|  116|                  11|\n",
      "|  180|                  11|\n",
      "|  136|                  11|\n",
      "|  114|                  10|\n",
      "|  175|                  10|\n",
      "|  141|                   9|\n",
      "|  Z10|                   9|\n",
      "|  509|                   9|\n",
      "|  142|                   9|\n",
      "|  148|                   9|\n",
      "|  186|                   9|\n",
      "|  709|                   9|\n",
      "|  128|                   9|\n",
      "|  166|                   8|\n",
      "|  185|                   8|\n",
      "|  138|                   8|\n",
      "+-----+--------------------+\n",
      "only showing top 20 rows\n",
      "\n"
     ]
    }
   ],
   "source": [
    "df.select(['Lines','VehicleNumber']).groupBy('Lines').agg(F.countDistinct('VehicleNumber')).orderBy(F.desc('count(VehicleNumber)')).show()\n"
   ]
  },
  {
   "cell_type": "markdown",
   "metadata": {},
   "source": [
    "# Zachowanie autobusu numer 7253"
   ]
  },
  {
   "cell_type": "code",
   "execution_count": 233,
   "metadata": {},
   "outputs": [],
   "source": [
    "bus_7253 = df.filter(F.col('VehicleNumber') == 7253)\n",
    "px.line(bus_7253.toPandas(),x='Time',y='speed').write_html('./data/7253.html')"
   ]
  },
  {
   "cell_type": "code",
   "execution_count": null,
   "metadata": {},
   "outputs": [],
   "source": [
    "fig = px.scatter_mapbox(bus_7253.toPandas(), lat=\"Lat\", lon=\"Lon\",color='speed', hover_name=\"Lines\",color_continuous_scale=px.colors.sequential.matter, size_max=20,\n",
    "                        zoom=5, mapbox_style=\"open-street-map\")\n",
    "fig.update_layout(margin={\"r\":0,\"t\":0,\"l\":0,\"b\":0})\n",
    "fig.write_html('./data/7253_speed.html')"
   ]
  },
  {
   "cell_type": "markdown",
   "metadata": {},
   "source": [
    "#  Najszybszy skurwol w mieście"
   ]
  },
  {
   "cell_type": "code",
   "execution_count": 172,
   "metadata": {},
   "outputs": [
    {
     "name": "stdout",
     "output_type": "stream",
     "text": [
      "+-------------+------------------+\n",
      "|VehicleNumber|        avg(speed)|\n",
      "+-------------+------------------+\n",
      "|         8579|  30.0140541957777|\n",
      "|         4211| 29.52764125354322|\n",
      "|        70592|29.437048011807498|\n",
      "|        15612|28.914658016997645|\n",
      "|        15617|28.409983410756315|\n",
      "|         8454|28.023488626870968|\n",
      "|         4309|27.919873112611803|\n",
      "|        36444|27.590029497614438|\n",
      "|         2253|26.217234356043342|\n",
      "|         9427|25.560525039033415|\n",
      "|         7739|25.482615178708212|\n",
      "|         9429| 25.41201766789583|\n",
      "|         9452| 25.34812520942227|\n",
      "|        80635| 25.02675430775333|\n",
      "|         1013| 24.82675371481225|\n",
      "|         8307|24.384459433954664|\n",
      "|         3468|24.314326077427662|\n",
      "|         3439| 24.25214511824165|\n",
      "|         1530| 24.19056609232398|\n",
      "|        80637|24.150769935558085|\n",
      "+-------------+------------------+\n",
      "only showing top 20 rows\n",
      "\n"
     ]
    }
   ],
   "source": [
    "df.dropna().groupBy('VehicleNumber').agg(F.avg('speed')).orderBy(F.desc('avg(speed)')).show()"
   ]
  },
  {
   "cell_type": "markdown",
   "metadata": {},
   "source": [
    "# Najszybsza linia w mieście"
   ]
  },
  {
   "cell_type": "code",
   "execution_count": 173,
   "metadata": {},
   "outputs": [
    {
     "name": "stdout",
     "output_type": "stream",
     "text": [
      "+-----+------------------+\n",
      "|Lines|        avg(speed)|\n",
      "+-----+------------------+\n",
      "|  720|  30.0140541957777|\n",
      "|  733| 29.52764125354322|\n",
      "|  L-3|28.611063425229794|\n",
      "|  730|27.919873112611803|\n",
      "|  L17|27.590029497614438|\n",
      "|  L32|26.614515302129913|\n",
      "|  703|26.217234356043342|\n",
      "|  743| 25.34812520942227|\n",
      "|  L24| 25.34229690846931|\n",
      "|  L15| 25.04329680926244|\n",
      "|  L45| 25.02675430775333|\n",
      "|  L35|24.150769935558085|\n",
      "|  L-8|24.010461700740578|\n",
      "|  736|23.911772572772804|\n",
      "|  707| 23.27967726927678|\n",
      "|  L11|23.188986760109017|\n",
      "|  L40|  23.0896330442291|\n",
      "|  L10| 22.29460142116601|\n",
      "|  722| 21.96020988551708|\n",
      "|  132| 21.72192964021085|\n",
      "+-----+------------------+\n",
      "only showing top 20 rows\n",
      "\n"
     ]
    }
   ],
   "source": [
    "df.dropna().groupBy('Lines').agg(F.avg('speed')).orderBy(F.desc('avg(speed)')).show()"
   ]
  },
  {
   "cell_type": "markdown",
   "metadata": {},
   "source": [
    "# Opady a srednia predkosc w godzinie"
   ]
  },
  {
   "cell_type": "code",
   "execution_count": 177,
   "metadata": {},
   "outputs": [
    {
     "name": "stdout",
     "output_type": "stream",
     "text": [
      "+----+------------------+--------------+\n",
      "|hour|        avg(speed)|sum(precip_mm)|\n",
      "+----+------------------+--------------+\n",
      "|  12|15.509879980460525|           0.0|\n",
      "|  11|15.298592977767958|           0.0|\n",
      "+----+------------------+--------------+\n",
      "\n"
     ]
    }
   ],
   "source": [
    "df.withColumn('hour',F.hour('Time')).dropna().groupBy('hour').agg(F.avg('speed'),F.avg('precip_mm')).orderBy(F.desc('hour')).show()"
   ]
  },
  {
   "cell_type": "markdown",
   "metadata": {},
   "source": [
    "# Temperatura a srednia predkosc w godzinie"
   ]
  },
  {
   "cell_type": "code",
   "execution_count": 235,
   "metadata": {},
   "outputs": [
    {
     "name": "stdout",
     "output_type": "stream",
     "text": [
      "+----+------------------+-----------+\n",
      "|hour|        avg(speed)|avg(temp_c)|\n",
      "+----+------------------+-----------+\n",
      "|  12|15.509879980460525|        2.0|\n",
      "|  11|15.298592977767958|        1.0|\n",
      "+----+------------------+-----------+\n",
      "\n"
     ]
    }
   ],
   "source": [
    "df.withColumn('hour',F.hour('Time')).groupBy('hour').agg(F.avg('speed'),F.avg('temp_c')).orderBy(F.desc('hour')).show()"
   ]
  },
  {
   "cell_type": "markdown",
   "metadata": {},
   "source": [
    "# Heatmapa autobusów overall"
   ]
  },
  {
   "cell_type": "code",
   "execution_count": 240,
   "metadata": {},
   "outputs": [
    {
     "data": {
      "image/png": "[encoded data removed]",
      "text/plain": [
       "<Figure size 432x288 with 1 Axes>"
      ]
     },
     "metadata": {},
     "output_type": "display_data"
    }
   ],
   "source": [
    "import matplotlib.pyplot as plt\n",
    "%matplotlib inline\n",
    "import seaborn as sns\n",
    "\n",
    "df_pan = df.toPandas()\n",
    "\n",
    "fig = plt.figure(facecolor = '0.1')\n",
    "ax = plt.Axes(fig, [0., 0., 1., 1.], )\n",
    "ax.set_aspect('equal')\n",
    "ax.set_axis_off()\n",
    "fig.add_axes(ax)\n",
    "plt.plot(df_pan['Lon'], df_pan['Lat'], color = 'deepskyblue', lw = 0.3, alpha = 0.9)\n",
    "plt.show()"
   ]
  }
 ],
 "metadata": {
  "interpreter": {
   "hash": "7a9c4203af45d3dae336b3958712b4a3b35ce04d733740e07b5096a7b0301daf"
  },
  "kernelspec": {
   "display_name": "Python 3",
   "language": "python",
   "name": "python3"
  },
  "language_info": {
   "codemirror_mode": {
    "name": "ipython",
    "version": 3
   },
   "file_extension": ".py",
   "mimetype": "text/x-python",
   "name": "python",
   "nbconvert_exporter": "python",
   "pygments_lexer": "ipython3",
   "version": "3.8.8"
  }
 },
 "nbformat": 4,
 "nbformat_minor": 4
}
