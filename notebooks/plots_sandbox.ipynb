{
 "cells": [
  {
   "cell_type": "code",
   "execution_count": null,
   "metadata": {},
   "outputs": [],
   "source": [
    "!pip install plotly-express"
   ]
  },
  {
   "cell_type": "code",
   "execution_count": 30,
   "metadata": {},
   "outputs": [],
   "source": [
    "from pyspark import SparkConf, SparkContext\n",
    "from pyspark.sql import SparkSession, SQLContext\n",
    "import pyspark.sql.functions as F\n",
    "from pyspark.sql.types import IntegerType,DoubleType,DateType\n",
    "import pandas as pd\n",
    "from pyspark.sql.functions import acos, cos, sin, lit, toRadians\n",
    "\n",
    "from pyspark.sql.window import Window\n",
    "from pyspark.sql.functions import lag\n",
    "from datetime import datetime,timedelta\n",
    "import plotly.express as px"
   ]
  },
  {
   "cell_type": "code",
   "execution_count": 43,
   "metadata": {},
   "outputs": [],
   "source": [
    "spark = SparkSession.builder.master(\"local\").appName(\"regr\").getOrCreate()\n",
    "sc = spark.sparkContext\n",
    "sql = SQLContext(sc)\n",
    "\n",
    "df = spark.read.parquet('./data/masterdf.parquet')\n",
    "df = df.drop('Condition')\n",
    "df = df.withColumn('Time',F.to_timestamp(F.col('Time'), 'yyyy-MM-dd HH:mm:ss').alias('Time'))\n",
    "df = df.dropDuplicates(['Time','VehicleNumber'])\n",
    "df = df.withColumn('last_updated_epoch',F.from_unixtime(F.col('last_updated_epoch').cast('string')))\n",
    "\n",
    "time_limit = datetime.now()\n",
    "time_limit = time_limit.replace(minute=0, second=0, microsecond=0)\n",
    "df = df.filter(F.col('Time') < F.to_timestamp(F.lit(time_limit)))\n",
    "\n",
    "\n",
    "def dist(long_x, lat_x, long_y, lat_y):\n",
    "    return acos(\n",
    "        sin(toRadians(lat_x)) * sin(toRadians(lat_y)) + \n",
    "        cos(toRadians(lat_x)) * cos(toRadians(lat_y)) * \n",
    "            cos(toRadians(long_x) - toRadians(long_y))\n",
    "    ) * lit(6371000.0)\n",
    "\n",
    "\n",
    "\n",
    "w = Window().partitionBy(\"VehicleNumber\").orderBy(\"time\")\n",
    "\n",
    "df = df.withColumn(\"dist\", dist(\n",
    "    \"Lon\", \"Lat\",\n",
    "    F.lag(\"Lon\", 1).over(w), F.lag(\"Lat\", 1).over(w)\n",
    ").alias(\"dist\"))\n",
    "df = df.withColumn('timedelta',F.col('time').cast('long') - F.lag('time',1).over(w).cast('long'))\n",
    "\n",
    "df = df.withColumn('speed',3.6*(F.col('dist')/ F.col('timedelta')))\n",
    "current_time  = str(datetime.now() - timedelta(minutes = 15)).split('.')[0]\n",
    "\n",
    "#dodatkowa ramka do analiz danych tylko z teraz\n",
    "df_current = df.filter(F.col('Time') > F.to_timestamp(F.lit(current_time)))"
   ]
  },
  {
   "cell_type": "code",
   "execution_count": 34,
   "metadata": {},
   "outputs": [
    {
     "name": "stdout",
     "output_type": "stream",
     "text": [
      "120907\n",
      "0\n"
     ]
    }
   ],
   "source": [
    "print(df.count())\n",
    "print(df_current.count())"
   ]
  },
  {
   "cell_type": "code",
   "execution_count": 67,
   "metadata": {},
   "outputs": [
    {
     "data": {
      "text/plain": [
       "datetime.datetime(2022, 1, 16, 13, 19, 55, 726508)"
      ]
     },
     "execution_count": 67,
     "metadata": {},
     "output_type": "execute_result"
    }
   ],
   "source": [
    "time_limit = datetime.now() + timedelta(hours=1)\n",
    "time_limit"
   ]
  },
  {
   "cell_type": "markdown",
   "metadata": {},
   "source": [
    "## Ilość jeżdżących pojazdów oraz ilość linii"
   ]
  },
  {
   "cell_type": "code",
   "execution_count": 57,
   "metadata": {},
   "outputs": [
    {
     "data": {
      "text/plain": [
       "{'count': 860}"
      ]
     },
     "execution_count": 57,
     "metadata": {},
     "output_type": "execute_result"
    }
   ],
   "source": [
    "df.select('VehicleNumber').distinct().groupBy().count().show()"
   ]
  },
  {
   "cell_type": "code",
   "execution_count": 63,
   "metadata": {},
   "outputs": [],
   "source": [
    "df.select('Lines').distinct().groupBy().count().show()"
   ]
  },
  {
   "cell_type": "markdown",
   "metadata": {},
   "source": [
    "# Ilość rekordów per godzina"
   ]
  },
  {
   "cell_type": "code",
   "execution_count": 10,
   "metadata": {},
   "outputs": [
    {
     "name": "stdout",
     "output_type": "stream",
     "text": [
      "+----+-----+\n",
      "|hour|count|\n",
      "+----+-----+\n",
      "|  11| 9165|\n",
      "|  12|96678|\n",
      "|  13|15064|\n",
      "+----+-----+\n",
      "\n"
     ]
    }
   ],
   "source": [
    "df.withColumn('hour',F.hour('Time')).groupBy('hour').count().orderBy(F.asc('hour')).show()"
   ]
  },
  {
   "cell_type": "markdown",
   "metadata": {},
   "source": [
    "# Ilość działających autobusów per godzina"
   ]
  },
  {
   "cell_type": "code",
   "execution_count": 11,
   "metadata": {},
   "outputs": [
    {
     "name": "stdout",
     "output_type": "stream",
     "text": [
      "+----+--------------------+\n",
      "|hour|count(VehicleNumber)|\n",
      "+----+--------------------+\n",
      "|  11|                 841|\n",
      "|  12|                 856|\n",
      "|  13|                 847|\n",
      "+----+--------------------+\n",
      "\n"
     ]
    }
   ],
   "source": [
    "df.withColumn('hour',F.hour('Time')).groupBy('hour').agg(F.countDistinct('VehicleNumber')).orderBy(F.asc('hour',)).show()"
   ]
  },
  {
   "cell_type": "markdown",
   "metadata": {},
   "source": [
    "# Ilość wpisów autobusów per update pogody"
   ]
  },
  {
   "cell_type": "code",
   "execution_count": 12,
   "metadata": {},
   "outputs": [
    {
     "name": "stdout",
     "output_type": "stream",
     "text": [
      "+-------------------+-----+\n",
      "| last_updated_epoch|count|\n",
      "+-------------------+-----+\n",
      "|2022-01-15 10:45:00| 8330|\n",
      "|               null|15899|\n",
      "|2022-01-15 11:00:00|96678|\n",
      "+-------------------+-----+\n",
      "\n"
     ]
    }
   ],
   "source": [
    "df.groupBy('last_updated_epoch').count().orderBy('count').show()"
   ]
  },
  {
   "cell_type": "markdown",
   "metadata": {},
   "source": [
    "# Ilość autobusów per linia (która linia jest najbardziej oblegana przez autobusy)"
   ]
  },
  {
   "cell_type": "code",
   "execution_count": 13,
   "metadata": {},
   "outputs": [
    {
     "name": "stdout",
     "output_type": "stream",
     "text": [
      "+-----+--------------------+\n",
      "|Lines|count(VehicleNumber)|\n",
      "+-----+--------------------+\n",
      "|  190|                  16|\n",
      "|  189|                  14|\n",
      "|  523|                  14|\n",
      "|  112|                  12|\n",
      "|  116|                  11|\n",
      "|  180|                  11|\n",
      "|  136|                  11|\n",
      "|  114|                  10|\n",
      "|  175|                  10|\n",
      "|  141|                   9|\n",
      "|  Z10|                   9|\n",
      "|  509|                   9|\n",
      "|  142|                   9|\n",
      "|  148|                   9|\n",
      "|  186|                   9|\n",
      "|  709|                   9|\n",
      "|  128|                   9|\n",
      "|  166|                   8|\n",
      "|  185|                   8|\n",
      "|  138|                   8|\n",
      "+-----+--------------------+\n",
      "only showing top 20 rows\n",
      "\n"
     ]
    }
   ],
   "source": [
    "df.select(['Lines','VehicleNumber']).groupBy('Lines').agg(F.countDistinct('VehicleNumber')).orderBy(F.desc('count(VehicleNumber)')).show()\n"
   ]
  },
  {
   "cell_type": "markdown",
   "metadata": {},
   "source": [
    "# Zachowanie autobusu numer 7253"
   ]
  },
  {
   "cell_type": "code",
   "execution_count": 14,
   "metadata": {},
   "outputs": [],
   "source": [
    "bus_7253 = df.filter(F.col('VehicleNumber') == 7253)\n",
    "px.line(bus_7253.toPandas(),x='Time',y='speed').write_html('./data/7253.html')"
   ]
  },
  {
   "cell_type": "code",
   "execution_count": 15,
   "metadata": {},
   "outputs": [],
   "source": [
    "fig = px.scatter_mapbox(bus_7253.toPandas(), lat=\"Lat\", lon=\"Lon\",color='speed', hover_name=\"Lines\",color_continuous_scale=px.colors.sequential.matter, size_max=20,\n",
    "                        zoom=5, mapbox_style=\"open-street-map\")\n",
    "fig.update_layout(margin={\"r\":0,\"t\":0,\"l\":0,\"b\":0})\n",
    "fig.write_html('./data/7253_speed.html')"
   ]
  },
  {
   "cell_type": "markdown",
   "metadata": {},
   "source": [
    "#  Najszybszy autobus w mieście"
   ]
  },
  {
   "cell_type": "code",
   "execution_count": 16,
   "metadata": {
    "scrolled": true
   },
   "outputs": [
    {
     "name": "stdout",
     "output_type": "stream",
     "text": [
      "+-------------+------------------+\n",
      "|VehicleNumber|        avg(speed)|\n",
      "+-------------+------------------+\n",
      "|        15617| 51.86956723609473|\n",
      "|         8579| 50.31605979301619|\n",
      "|         4309|   48.650863470269|\n",
      "|         4211|48.446310464583334|\n",
      "|        15612|  48.2953005303818|\n",
      "|        70592| 47.28042408753447|\n",
      "|         2253| 45.00745488520253|\n",
      "|         7739| 44.01722652103087|\n",
      "|        80637| 43.71927448565875|\n",
      "|        36444| 43.20944089590878|\n",
      "|         8454| 43.07651311049613|\n",
      "|        10606|42.600096419883144|\n",
      "|         1013| 42.42508980624884|\n",
      "|        80635|41.899731572224646|\n",
      "|         8303| 41.84570231382412|\n",
      "|         8307| 41.79034561998278|\n",
      "|          779|41.613024943668876|\n",
      "|         9429| 41.32905990932134|\n",
      "|         9840| 41.25620760054722|\n",
      "|        70575|41.234897692200214|\n",
      "+-------------+------------------+\n",
      "only showing top 20 rows\n",
      "\n"
     ]
    }
   ],
   "source": [
    "df.dropna().groupBy('VehicleNumber').agg(F.avg('speed')).orderBy(F.desc('avg(speed)')).show()"
   ]
  },
  {
   "cell_type": "markdown",
   "metadata": {},
   "source": [
    "# Najszybsza linia w mieście"
   ]
  },
  {
   "cell_type": "code",
   "execution_count": 17,
   "metadata": {},
   "outputs": [
    {
     "name": "stdout",
     "output_type": "stream",
     "text": [
      "+-----+------------------+\n",
      "|Lines|        avg(speed)|\n",
      "+-----+------------------+\n",
      "|  720| 50.31605979301619|\n",
      "|  730|   48.650863470269|\n",
      "|  733|48.446310464583334|\n",
      "|  L-3| 45.95295750392964|\n",
      "|  L32| 45.31395785070558|\n",
      "|  703| 45.00745488520253|\n",
      "|  L24| 43.96219311781683|\n",
      "|  L35| 43.71927448565875|\n",
      "|  L17| 43.20944089590878|\n",
      "|  L-8|42.600096419883144|\n",
      "|  L45|41.899731572224646|\n",
      "|  743| 40.65928391689126|\n",
      "|  L40| 40.23596005015094|\n",
      "|  L11| 39.85383681633742|\n",
      "|  707|39.580786228085906|\n",
      "|  736| 39.30709021951786|\n",
      "|  L15| 38.83315617771096|\n",
      "|  722| 38.12256454021867|\n",
      "|  L10|37.058266056779395|\n",
      "|  132| 37.01687410306165|\n",
      "+-----+------------------+\n",
      "only showing top 20 rows\n",
      "\n"
     ]
    }
   ],
   "source": [
    "df.dropna().groupBy('Lines').agg(F.avg('speed')).orderBy(F.desc('avg(speed)')).show()"
   ]
  },
  {
   "cell_type": "markdown",
   "metadata": {},
   "source": [
    "# Opady a srednia predkosc w godzinie"
   ]
  },
  {
   "cell_type": "code",
   "execution_count": 18,
   "metadata": {},
   "outputs": [
    {
     "name": "stdout",
     "output_type": "stream",
     "text": [
      "+----+------------------+--------------+\n",
      "|hour|        avg(speed)|avg(precip_mm)|\n",
      "+----+------------------+--------------+\n",
      "|  12|25.806656873043682|           0.0|\n",
      "|  11|25.458257580251736|           0.0|\n",
      "+----+------------------+--------------+\n",
      "\n"
     ]
    }
   ],
   "source": [
    "df.withColumn('hour',F.hour('Time')).dropna().groupBy('hour').agg(F.avg('speed'),F.avg('precip_mm')).orderBy(F.desc('hour')).show()"
   ]
  },
  {
   "cell_type": "markdown",
   "metadata": {},
   "source": [
    "# Temperatura a srednia predkosc w godzinie"
   ]
  },
  {
   "cell_type": "code",
   "execution_count": 19,
   "metadata": {},
   "outputs": [
    {
     "name": "stdout",
     "output_type": "stream",
     "text": [
      "+----+------------------+-----------+\n",
      "|hour|        avg(speed)|avg(temp_c)|\n",
      "+----+------------------+-----------+\n",
      "|  12|25.806656873043682|        2.0|\n",
      "|  11|25.458257580251736|        1.0|\n",
      "+----+------------------+-----------+\n",
      "\n"
     ]
    }
   ],
   "source": [
    "df.withColumn('hour',F.hour('Time')).dropna().groupBy('hour').agg(F.avg('speed'),F.avg('temp_c')).orderBy(F.desc('hour')).show()"
   ]
  },
  {
   "cell_type": "markdown",
   "metadata": {},
   "source": [
    "# Heatmapa autobusów overall"
   ]
  },
  {
   "cell_type": "code",
   "execution_count": 35,
   "metadata": {},
   "outputs": [
    {
     "name": "stdout",
     "output_type": "stream",
     "text": [
      "Help on function density_mapbox in module plotly.express._chart_types:\n",
      "\n",
      "density_mapbox(data_frame=None, lat=None, lon=None, z=None, hover_name=None, hover_data=None, custom_data=None, animation_frame=None, animation_group=None, category_orders=None, labels=None, color_continuous_scale=None, range_color=None, color_continuous_midpoint=None, opacity=None, zoom=8, center=None, mapbox_style=None, radius=None, title=None, template=None, width=None, height=None)\n",
      "        In a Mapbox density map, each row of `data_frame` contributes to the intensity of\n",
      "        the color of the region around the corresponding point on the map\n",
      "        \n",
      "    Parameters\n",
      "    ----------\n",
      "    data_frame: DataFrame or array-like or dict\n",
      "        This argument needs to be passed for column names (and not keyword\n",
      "        names) to be used. Array-like and dict are tranformed internally to a\n",
      "        pandas DataFrame. Optional: if missing, a DataFrame gets constructed\n",
      "        under the hood using the other arguments.\n",
      "    lat: str or int or Series or array-like\n",
      "        Either a name of a column in `data_frame`, or a pandas Series or\n",
      "        array_like object. Values from this column or array_like are used to\n",
      "        position marks according to latitude on a map.\n",
      "    lon: str or int or Series or array-like\n",
      "        Either a name of a column in `data_frame`, or a pandas Series or\n",
      "        array_like object. Values from this column or array_like are used to\n",
      "        position marks according to longitude on a map.\n",
      "    z: str or int or Series or array-like\n",
      "        Either a name of a column in `data_frame`, or a pandas Series or\n",
      "        array_like object. Values from this column or array_like are used to\n",
      "        position marks along the z axis in cartesian coordinates.\n",
      "    hover_name: str or int or Series or array-like\n",
      "        Either a name of a column in `data_frame`, or a pandas Series or\n",
      "        array_like object. Values from this column or array_like appear in bold\n",
      "        in the hover tooltip.\n",
      "    hover_data: list of str or int, or Series or array-like, or dict\n",
      "        Either a list of names of columns in `data_frame`, or pandas Series, or\n",
      "        array_like objects or a dict with column names as keys, with values\n",
      "        True (for default formatting) False (in order to remove this column\n",
      "        from hover information), or a formatting string, for example ':.3f' or\n",
      "        '|%a' or list-like data to appear in the hover tooltip or tuples with a\n",
      "        bool or formatting string as first element, and list-like data to\n",
      "        appear in hover as second element Values from these columns appear as\n",
      "        extra data in the hover tooltip.\n",
      "    custom_data: list of str or int, or Series or array-like\n",
      "        Either names of columns in `data_frame`, or pandas Series, or\n",
      "        array_like objects Values from these columns are extra data, to be used\n",
      "        in widgets or Dash callbacks for example. This data is not user-visible\n",
      "        but is included in events emitted by the figure (lasso selection etc.)\n",
      "    animation_frame: str or int or Series or array-like\n",
      "        Either a name of a column in `data_frame`, or a pandas Series or\n",
      "        array_like object. Values from this column or array_like are used to\n",
      "        assign marks to animation frames.\n",
      "    animation_group: str or int or Series or array-like\n",
      "        Either a name of a column in `data_frame`, or a pandas Series or\n",
      "        array_like object. Values from this column or array_like are used to\n",
      "        provide object-constancy across animation frames: rows with matching\n",
      "        `animation_group`s will be treated as if they describe the same object\n",
      "        in each frame.\n",
      "    category_orders: dict with str keys and list of str values (default `{}`)\n",
      "        By default, in Python 3.6+, the order of categorical values in axes,\n",
      "        legends and facets depends on the order in which these values are first\n",
      "        encountered in `data_frame` (and no order is guaranteed by default in\n",
      "        Python below 3.6). This parameter is used to force a specific ordering\n",
      "        of values per column. The keys of this dict should correspond to column\n",
      "        names, and the values should be lists of strings corresponding to the\n",
      "        specific display order desired.\n",
      "    labels: dict with str keys and str values (default `{}`)\n",
      "        By default, column names are used in the figure for axis titles, legend\n",
      "        entries and hovers. This parameter allows this to be overridden. The\n",
      "        keys of this dict should correspond to column names, and the values\n",
      "        should correspond to the desired label to be displayed.\n",
      "    color_continuous_scale: list of str\n",
      "        Strings should define valid CSS-colors This list is used to build a\n",
      "        continuous color scale when the column denoted by `color` contains\n",
      "        numeric data. Various useful color scales are available in the\n",
      "        `plotly.express.colors` submodules, specifically\n",
      "        `plotly.express.colors.sequential`, `plotly.express.colors.diverging`\n",
      "        and `plotly.express.colors.cyclical`.\n",
      "    range_color: list of two numbers\n",
      "        If provided, overrides auto-scaling on the continuous color scale.\n",
      "    color_continuous_midpoint: number (default `None`)\n",
      "        If set, computes the bounds of the continuous color scale to have the\n",
      "        desired midpoint. Setting this value is recommended when using\n",
      "        `plotly.express.colors.diverging` color scales as the inputs to\n",
      "        `color_continuous_scale`.\n",
      "    opacity: float\n",
      "        Value between 0 and 1. Sets the opacity for markers.\n",
      "    zoom: int (default `8`)\n",
      "        Between 0 and 20. Sets map zoom level.\n",
      "    center: dict\n",
      "        Dict keys are `'lat'` and `'lon'` Sets the center point of the map.\n",
      "    mapbox_style: str (default `'basic'`, needs Mapbox API token)\n",
      "        Identifier of base map style, some of which require a Mapbox API token\n",
      "        to be set using `plotly.express.set_mapbox_access_token()`. Allowed\n",
      "        values which do not require a Mapbox API token are `'open-street-map'`,\n",
      "        `'white-bg'`, `'carto-positron'`, `'carto-darkmatter'`, `'stamen-\n",
      "        terrain'`, `'stamen-toner'`, `'stamen-watercolor'`. Allowed values\n",
      "        which do require a Mapbox API token are `'basic'`, `'streets'`,\n",
      "        `'outdoors'`, `'light'`, `'dark'`, `'satellite'`, `'satellite-\n",
      "        streets'`.\n",
      "    radius: int (default is 30)\n",
      "        Sets the radius of influence of each point.\n",
      "    title: str\n",
      "        The figure title.\n",
      "    template: str or dict or plotly.graph_objects.layout.Template instance\n",
      "        The figure template name (must be a key in plotly.io.templates) or\n",
      "        definition.\n",
      "    width: int (default `None`)\n",
      "        The figure width in pixels.\n",
      "    height: int (default `None`)\n",
      "        The figure height in pixels.\n",
      "    \n",
      "    Returns\n",
      "    -------\n",
      "        plotly.graph_objects.Figure\n",
      "\n"
     ]
    }
   ],
   "source": [
    "help(px.density_mapbox)"
   ]
  },
  {
   "cell_type": "code",
   "execution_count": 41,
   "metadata": {},
   "outputs": [],
   "source": [
    "df = df.withColumn('agg_Lat',F.round(F.col('Lat'),4))\n",
    "df = df.withColumn('agg_Lon',F.round(F.col('Lon'),4))\n",
    "heat_map = df.groupBy(['agg_Lat','agg_Lon','key']).count().orderBy(F.col('key'))\n",
    "fig = px.density_mapbox(heat_map.toPandas(), lat='agg_Lat', lon='agg_Lon', z='count',mapbox_style=\"open-street-map\",\n",
    "                       radius=10,animation_frame='key')\n",
    "fig.write_html('./data/heatmap.html')"
   ]
  }
 ],
 "metadata": {
  "interpreter": {
   "hash": "7a9c4203af45d3dae336b3958712b4a3b35ce04d733740e07b5096a7b0301daf"
  },
  "kernelspec": {
   "display_name": "Python 3",
   "language": "python",
   "name": "python3"
  },
  "language_info": {
   "codemirror_mode": {
    "name": "ipython",
    "version": 3
   },
   "file_extension": ".py",
   "mimetype": "text/x-python",
   "name": "python",
   "nbconvert_exporter": "python",
   "pygments_lexer": "ipython3",
   "version": "3.8.8"
  }
 },
 "nbformat": 4,
 "nbformat_minor": 4
}
